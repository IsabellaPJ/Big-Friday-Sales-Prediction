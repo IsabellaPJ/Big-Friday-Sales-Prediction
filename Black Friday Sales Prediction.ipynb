{
 "cells": [
  {
   "cell_type": "markdown",
   "id": "1b8d424a",
   "metadata": {},
   "source": [
    "# Black Friday Sales Prediction"
   ]
  },
  {
   "cell_type": "markdown",
   "id": "b31cccc4",
   "metadata": {},
   "source": [
    "## Problem Statement\n",
    "A retail company “ABC Private Limited” wants to understand the customer purchase behaviour (specifically, purchase amount) against various products of different categories. They have shared purchase summary of various customers for selected high volume products from last month.\n",
    "The data set also contains customer demographics (age, gender, marital status, city_type, stay_in_current_city), product details (product_id and product category) and Total purchase_amount from last month.\n",
    "\n",
    "Now, they want to build a model to predict the purchase amount of customer against various products which will help them to create personalized offer for customers against different products."
   ]
  },
  {
   "cell_type": "markdown",
   "id": "b7fd8ba1",
   "metadata": {},
   "source": [
    "## Data Description\n",
    "The data contained features like age, gender, marital status, categories of products purchased, city demographics, purchase amount etc. The data consists of 12 columns and 537577 records. Our model will be predicting the purchase amount of the products.\n"
   ]
  },
  {
   "cell_type": "markdown",
   "id": "b5dc6e24",
   "metadata": {},
   "source": [
    "## Importing Libraries"
   ]
  },
  {
   "cell_type": "code",
   "execution_count": 2,
   "id": "a5d0a51c",
   "metadata": {},
   "outputs": [],
   "source": [
    "import pandas as pd\n",
    "import numpy as np\n",
    "import matplotlib.pyplot as plt\n",
    "import seaborn as sns\n",
    "%matplotlib inline\n",
    "from sklearn.pipeline import Pipeline\n",
    "from sklearn.impute import SimpleImputer\n",
    "from sklearn.preprocessing import StandardScaler\n",
    "from sklearn.linear_model import LinearRegression\n",
    "from sklearn.tree import DecisionTreeRegressor\n",
    "from sklearn.ensemble import RandomForestRegressor\n",
    "from xgboost import XGBRegressor\n",
    "from sklearn import set_config"
   ]
  },
  {
   "cell_type": "markdown",
   "id": "5aa37a65",
   "metadata": {},
   "source": [
    "## Loading the training dataset"
   ]
  },
  {
   "cell_type": "code",
   "execution_count": 3,
   "id": "68d3b6aa",
   "metadata": {},
   "outputs": [
    {
     "data": {
      "text/html": [
       "<div>\n",
       "<style scoped>\n",
       "    .dataframe tbody tr th:only-of-type {\n",
       "        vertical-align: middle;\n",
       "    }\n",
       "\n",
       "    .dataframe tbody tr th {\n",
       "        vertical-align: top;\n",
       "    }\n",
       "\n",
       "    .dataframe thead th {\n",
       "        text-align: right;\n",
       "    }\n",
       "</style>\n",
       "<table border=\"1\" class=\"dataframe\">\n",
       "  <thead>\n",
       "    <tr style=\"text-align: right;\">\n",
       "      <th></th>\n",
       "      <th>User_ID</th>\n",
       "      <th>Product_ID</th>\n",
       "      <th>Gender</th>\n",
       "      <th>Age</th>\n",
       "      <th>Occupation</th>\n",
       "      <th>City_Category</th>\n",
       "      <th>Stay_In_Current_City_Years</th>\n",
       "      <th>Marital_Status</th>\n",
       "      <th>Product_Category_1</th>\n",
       "      <th>Product_Category_2</th>\n",
       "      <th>Product_Category_3</th>\n",
       "      <th>Purchase</th>\n",
       "    </tr>\n",
       "  </thead>\n",
       "  <tbody>\n",
       "    <tr>\n",
       "      <th>0</th>\n",
       "      <td>1000001</td>\n",
       "      <td>P00069042</td>\n",
       "      <td>F</td>\n",
       "      <td>0-17</td>\n",
       "      <td>10</td>\n",
       "      <td>A</td>\n",
       "      <td>2</td>\n",
       "      <td>0</td>\n",
       "      <td>3</td>\n",
       "      <td>NaN</td>\n",
       "      <td>NaN</td>\n",
       "      <td>8370</td>\n",
       "    </tr>\n",
       "    <tr>\n",
       "      <th>1</th>\n",
       "      <td>1000001</td>\n",
       "      <td>P00248942</td>\n",
       "      <td>F</td>\n",
       "      <td>0-17</td>\n",
       "      <td>10</td>\n",
       "      <td>A</td>\n",
       "      <td>2</td>\n",
       "      <td>0</td>\n",
       "      <td>1</td>\n",
       "      <td>6.0</td>\n",
       "      <td>14.0</td>\n",
       "      <td>15200</td>\n",
       "    </tr>\n",
       "    <tr>\n",
       "      <th>2</th>\n",
       "      <td>1000001</td>\n",
       "      <td>P00087842</td>\n",
       "      <td>F</td>\n",
       "      <td>0-17</td>\n",
       "      <td>10</td>\n",
       "      <td>A</td>\n",
       "      <td>2</td>\n",
       "      <td>0</td>\n",
       "      <td>12</td>\n",
       "      <td>NaN</td>\n",
       "      <td>NaN</td>\n",
       "      <td>1422</td>\n",
       "    </tr>\n",
       "    <tr>\n",
       "      <th>3</th>\n",
       "      <td>1000001</td>\n",
       "      <td>P00085442</td>\n",
       "      <td>F</td>\n",
       "      <td>0-17</td>\n",
       "      <td>10</td>\n",
       "      <td>A</td>\n",
       "      <td>2</td>\n",
       "      <td>0</td>\n",
       "      <td>12</td>\n",
       "      <td>14.0</td>\n",
       "      <td>NaN</td>\n",
       "      <td>1057</td>\n",
       "    </tr>\n",
       "    <tr>\n",
       "      <th>4</th>\n",
       "      <td>1000002</td>\n",
       "      <td>P00285442</td>\n",
       "      <td>M</td>\n",
       "      <td>55+</td>\n",
       "      <td>16</td>\n",
       "      <td>C</td>\n",
       "      <td>4+</td>\n",
       "      <td>0</td>\n",
       "      <td>8</td>\n",
       "      <td>NaN</td>\n",
       "      <td>NaN</td>\n",
       "      <td>7969</td>\n",
       "    </tr>\n",
       "  </tbody>\n",
       "</table>\n",
       "</div>"
      ],
      "text/plain": [
       "   User_ID Product_ID Gender   Age  Occupation City_Category  \\\n",
       "0  1000001  P00069042      F  0-17          10             A   \n",
       "1  1000001  P00248942      F  0-17          10             A   \n",
       "2  1000001  P00087842      F  0-17          10             A   \n",
       "3  1000001  P00085442      F  0-17          10             A   \n",
       "4  1000002  P00285442      M   55+          16             C   \n",
       "\n",
       "  Stay_In_Current_City_Years  Marital_Status  Product_Category_1  \\\n",
       "0                          2               0                   3   \n",
       "1                          2               0                   1   \n",
       "2                          2               0                  12   \n",
       "3                          2               0                  12   \n",
       "4                         4+               0                   8   \n",
       "\n",
       "   Product_Category_2  Product_Category_3  Purchase  \n",
       "0                 NaN                 NaN      8370  \n",
       "1                 6.0                14.0     15200  \n",
       "2                 NaN                 NaN      1422  \n",
       "3                14.0                 NaN      1057  \n",
       "4                 NaN                 NaN      7969  "
      ]
     },
     "execution_count": 3,
     "metadata": {},
     "output_type": "execute_result"
    }
   ],
   "source": [
    "df_train=pd.read_csv('train.csv')\n",
    "df_train.head()"
   ]
  },
  {
   "cell_type": "code",
   "execution_count": 4,
   "id": "23d2fd09",
   "metadata": {},
   "outputs": [
    {
     "data": {
      "text/plain": [
       "(550068, 12)"
      ]
     },
     "execution_count": 4,
     "metadata": {},
     "output_type": "execute_result"
    }
   ],
   "source": [
    "df_train.shape"
   ]
  },
  {
   "cell_type": "markdown",
   "id": "c6f67ea9",
   "metadata": {},
   "source": [
    "Observation:\n",
    "There are 550068 records and 12 attributes"
   ]
  },
  {
   "cell_type": "code",
   "execution_count": 5,
   "id": "6e79227a",
   "metadata": {},
   "outputs": [
    {
     "name": "stdout",
     "output_type": "stream",
     "text": [
      "<class 'pandas.core.frame.DataFrame'>\n",
      "RangeIndex: 550068 entries, 0 to 550067\n",
      "Data columns (total 12 columns):\n",
      " #   Column                      Non-Null Count   Dtype  \n",
      "---  ------                      --------------   -----  \n",
      " 0   User_ID                     550068 non-null  int64  \n",
      " 1   Product_ID                  550068 non-null  object \n",
      " 2   Gender                      550068 non-null  object \n",
      " 3   Age                         550068 non-null  object \n",
      " 4   Occupation                  550068 non-null  int64  \n",
      " 5   City_Category               550068 non-null  object \n",
      " 6   Stay_In_Current_City_Years  550068 non-null  object \n",
      " 7   Marital_Status              550068 non-null  int64  \n",
      " 8   Product_Category_1          550068 non-null  int64  \n",
      " 9   Product_Category_2          376430 non-null  float64\n",
      " 10  Product_Category_3          166821 non-null  float64\n",
      " 11  Purchase                    550068 non-null  int64  \n",
      "dtypes: float64(2), int64(5), object(5)\n",
      "memory usage: 50.4+ MB\n"
     ]
    }
   ],
   "source": [
    "df_train.info()"
   ]
  },
  {
   "cell_type": "markdown",
   "id": "f7fc7f33",
   "metadata": {},
   "source": [
    "Observation:\n",
    "1. Gender has two values and should be converted to binary values\n",
    "2. Age should be treated as numerical column\n",
    "3. City_category should be converted to numerical column and should look at the frequency of each city category\n",
    "4. Product_Category_2 and Product_Category_3 have null values"
   ]
  },
  {
   "cell_type": "markdown",
   "id": "f9019fe0",
   "metadata": {},
   "source": [
    "## Checking Null Values"
   ]
  },
  {
   "cell_type": "code",
   "execution_count": 6,
   "id": "1a72cc86",
   "metadata": {},
   "outputs": [
    {
     "data": {
      "text/plain": [
       "User_ID                            0\n",
       "Product_ID                         0\n",
       "Gender                             0\n",
       "Age                                0\n",
       "Occupation                         0\n",
       "City_Category                      0\n",
       "Stay_In_Current_City_Years         0\n",
       "Marital_Status                     0\n",
       "Product_Category_1                 0\n",
       "Product_Category_2            173638\n",
       "Product_Category_3            383247\n",
       "Purchase                           0\n",
       "dtype: int64"
      ]
     },
     "execution_count": 6,
     "metadata": {},
     "output_type": "execute_result"
    }
   ],
   "source": [
    "df_train.isnull().sum()"
   ]
  },
  {
   "cell_type": "markdown",
   "id": "91f3b48b",
   "metadata": {},
   "source": [
    "Observation:\n",
    "Product_Category_2 has 173638 null values and Product_Category_3 has 383247 null values"
   ]
  },
  {
   "cell_type": "markdown",
   "id": "a43bde98",
   "metadata": {},
   "source": [
    "## Unique Elements in each attributes"
   ]
  },
  {
   "cell_type": "code",
   "execution_count": 7,
   "id": "f0d888ad",
   "metadata": {},
   "outputs": [
    {
     "data": {
      "text/plain": [
       "User_ID                        5891\n",
       "Product_ID                     3631\n",
       "Gender                            2\n",
       "Age                               7\n",
       "Occupation                       21\n",
       "City_Category                     3\n",
       "Stay_In_Current_City_Years        5\n",
       "Marital_Status                    2\n",
       "Product_Category_1               20\n",
       "Product_Category_2               17\n",
       "Product_Category_3               15\n",
       "Purchase                      18105\n",
       "dtype: int64"
      ]
     },
     "execution_count": 7,
     "metadata": {},
     "output_type": "execute_result"
    }
   ],
   "source": [
    "df_train.nunique()"
   ]
  },
  {
   "cell_type": "markdown",
   "id": "fdd62aec",
   "metadata": {},
   "source": [
    "Observation:\n",
    "We can drop User_ID and Product_ID as it has more unique values"
   ]
  },
  {
   "cell_type": "markdown",
   "id": "bbdfaccb",
   "metadata": {},
   "source": [
    "## Exploratory Data Analysis"
   ]
  },
  {
   "cell_type": "markdown",
   "id": "9d6e953f",
   "metadata": {},
   "source": [
    "### Purchase"
   ]
  },
  {
   "cell_type": "code",
   "execution_count": 8,
   "id": "838bc31e",
   "metadata": {},
   "outputs": [
    {
     "name": "stderr",
     "output_type": "stream",
     "text": [
      "E:\\Anaconda\\lib\\site-packages\\seaborn\\_decorators.py:36: FutureWarning: Pass the following variable as a keyword arg: x. From version 0.12, the only valid positional argument will be `data`, and passing other arguments without an explicit keyword will result in an error or misinterpretation.\n",
      "  warnings.warn(\n"
     ]
    },
    {
     "data": {
      "text/plain": [
       "<AxesSubplot:xlabel='Purchase'>"
      ]
     },
     "execution_count": 8,
     "metadata": {},
     "output_type": "execute_result"
    },
    {
     "data": {
      "image/png": "[encoded data removed]",
      "text/plain": [
       "<Figure size 432x288 with 1 Axes>"
      ]
     },
     "metadata": {
      "needs_background": "light"
     },
     "output_type": "display_data"
    }
   ],
   "source": [
    "sns.boxplot(df_train['Purchase'])"
   ]
  },
  {
   "cell_type": "markdown",
   "id": "8d255fa3",
   "metadata": {},
   "source": [
    "In the boxplot, we can see that there are few values lying outside. But if we take a look at the z-score and check if they are above the usual threshold level (i.e.,3), we get no such values"
   ]
  },
  {
   "cell_type": "code",
   "execution_count": 9,
   "id": "59a62403",
   "metadata": {},
   "outputs": [
    {
     "name": "stdout",
     "output_type": "stream",
     "text": [
      "0\n"
     ]
    }
   ],
   "source": [
    "from scipy import stats\n",
    "z=np.abs(stats.zscore(df_train['Purchase']))\n",
    "print(len(np.where(z>=3)[0]))"
   ]
  },
  {
   "cell_type": "markdown",
   "id": "a2aeebef",
   "metadata": {},
   "source": [
    "There are no major outliers."
   ]
  },
  {
   "cell_type": "markdown",
   "id": "080c4430",
   "metadata": {},
   "source": [
    "### Gender"
   ]
  },
  {
   "cell_type": "code",
   "execution_count": 10,
   "id": "c476d640",
   "metadata": {},
   "outputs": [
    {
     "name": "stderr",
     "output_type": "stream",
     "text": [
      "E:\\Anaconda\\lib\\site-packages\\seaborn\\_decorators.py:36: FutureWarning: Pass the following variable as a keyword arg: x. From version 0.12, the only valid positional argument will be `data`, and passing other arguments without an explicit keyword will result in an error or misinterpretation.\n",
      "  warnings.warn(\n",
      "E:\\Anaconda\\lib\\site-packages\\seaborn\\_decorators.py:36: FutureWarning: Pass the following variables as keyword args: x, y. From version 0.12, the only valid positional argument will be `data`, and passing other arguments without an explicit keyword will result in an error or misinterpretation.\n",
      "  warnings.warn(\n"
     ]
    },
    {
     "data": {
      "text/plain": [
       "Text(0.5, 1.0, 'Gender Vs Purchase')"
      ]
     },
     "execution_count": 10,
     "metadata": {},
     "output_type": "execute_result"
    },
    {
     "data": {
      "image/png": "[encoded data removed]",
      "text/plain": [
       "<Figure size 720x288 with 2 Axes>"
      ]
     },
     "metadata": {
      "needs_background": "light"
     },
     "output_type": "display_data"
    }
   ],
   "source": [
    "fig, ax = plt.subplots(nrows=1, ncols=2, figsize=(10,4))\n",
    "sns.countplot(df_train['Gender'], ax=ax[0])\n",
    "ax[0].set_title(\"Gender wise Purchases\")\n",
    "sns.barplot('Gender', 'Purchase', data=df_train, ax=ax[1])\n",
    "ax[1].set_title(\"Gender Vs Purchase\")"
   ]
  },
  {
   "cell_type": "markdown",
   "id": "28079cf2",
   "metadata": {},
   "source": [
    "From the above plotting, we can infer that the male gender spends more money on purchase contrary to female"
   ]
  },
  {
   "cell_type": "markdown",
   "id": "7638e4de",
   "metadata": {},
   "source": [
    "### Age"
   ]
  },
  {
   "cell_type": "code",
   "execution_count": 11,
   "id": "1a325ced",
   "metadata": {},
   "outputs": [
    {
     "name": "stderr",
     "output_type": "stream",
     "text": [
      "E:\\Anaconda\\lib\\site-packages\\seaborn\\_decorators.py:36: FutureWarning: Pass the following variable as a keyword arg: x. From version 0.12, the only valid positional argument will be `data`, and passing other arguments without an explicit keyword will result in an error or misinterpretation.\n",
      "  warnings.warn(\n",
      "E:\\Anaconda\\lib\\site-packages\\seaborn\\_decorators.py:36: FutureWarning: Pass the following variables as keyword args: x, y. From version 0.12, the only valid positional argument will be `data`, and passing other arguments without an explicit keyword will result in an error or misinterpretation.\n",
      "  warnings.warn(\n"
     ]
    },
    {
     "data": {
      "text/plain": [
       "Text(0.5, 1.0, 'Age Vs Purchase')"
      ]
     },
     "execution_count": 11,
     "metadata": {},
     "output_type": "execute_result"
    },
    {
     "data": {
      "image/png": "[encoded data removed]",
      "text/plain": [
       "<Figure size 720x288 with 2 Axes>"
      ]
     },
     "metadata": {
      "needs_background": "light"
     },
     "output_type": "display_data"
    }
   ],
   "source": [
    "fig, ax = plt.subplots(nrows=1, ncols=2, figsize=(10,4))\n",
    "sns.countplot(df_train['Age'], ax=ax[0])\n",
    "ax[0].set_title(\"Age wise Purchases\")\n",
    "sns.barplot('Age', 'Purchase', hue='Gender', data=df_train, ax=ax[1])\n",
    "ax[1].set_title(\"Age Vs Purchase\")"
   ]
  },
  {
   "cell_type": "markdown",
   "id": "bad8b174",
   "metadata": {},
   "source": [
    "From the left plot, we can infer that age 26-35 group people makes the most number of purchases\n",
    "\n",
    "From the right plot, all the age group people purchase rate tends to be the same except that the 51 - 55 age group has a little higher purchase amount spent."
   ]
  },
  {
   "cell_type": "markdown",
   "id": "367b7ddf",
   "metadata": {},
   "source": [
    "### Occupation"
   ]
  },
  {
   "cell_type": "code",
   "execution_count": 12,
   "id": "ef52517d",
   "metadata": {},
   "outputs": [
    {
     "name": "stderr",
     "output_type": "stream",
     "text": [
      "E:\\Anaconda\\lib\\site-packages\\seaborn\\_decorators.py:36: FutureWarning: Pass the following variable as a keyword arg: x. From version 0.12, the only valid positional argument will be `data`, and passing other arguments without an explicit keyword will result in an error or misinterpretation.\n",
      "  warnings.warn(\n",
      "E:\\Anaconda\\lib\\site-packages\\seaborn\\_decorators.py:36: FutureWarning: Pass the following variables as keyword args: x, y. From version 0.12, the only valid positional argument will be `data`, and passing other arguments without an explicit keyword will result in an error or misinterpretation.\n",
      "  warnings.warn(\n"
     ]
    },
    {
     "data": {
      "text/plain": [
       "Text(0.5, 1.0, 'Occupation Vs Purchase')"
      ]
     },
     "execution_count": 12,
     "metadata": {},
     "output_type": "execute_result"
    },
    {
     "data": {
      "image/png": "[encoded data removed]",
      "text/plain": [
       "<Figure size 720x288 with 2 Axes>"
      ]
     },
     "metadata": {
      "needs_background": "light"
     },
     "output_type": "display_data"
    }
   ],
   "source": [
    "fig, ax = plt.subplots(nrows=1, ncols=2, figsize=(10,4))\n",
    "sns.countplot(df_train['Occupation'], ax=ax[0])\n",
    "ax[0].set_title(\"Occupation wise Purchases\")\n",
    "sns.barplot('Occupation', 'Purchase', hue='Gender', data=df_train, ax=ax[1])\n",
    "ax[1].set_title(\"Occupation Vs Purchase\")"
   ]
  },
  {
   "cell_type": "markdown",
   "id": "b8cd9581",
   "metadata": {},
   "source": [
    "Although there are some occupations which have higher representations, it seems that the amount each user spent is more or less the same for all occupations. Of course, in the end, occupations with the highest representations will have the highest amounts of purchases."
   ]
  },
  {
   "cell_type": "markdown",
   "id": "aa3820e7",
   "metadata": {},
   "source": [
    "### City_Category"
   ]
  },
  {
   "cell_type": "code",
   "execution_count": 13,
   "id": "a284e7db",
   "metadata": {},
   "outputs": [
    {
     "name": "stderr",
     "output_type": "stream",
     "text": [
      "E:\\Anaconda\\lib\\site-packages\\seaborn\\_decorators.py:36: FutureWarning: Pass the following variable as a keyword arg: x. From version 0.12, the only valid positional argument will be `data`, and passing other arguments without an explicit keyword will result in an error or misinterpretation.\n",
      "  warnings.warn(\n",
      "E:\\Anaconda\\lib\\site-packages\\seaborn\\_decorators.py:36: FutureWarning: Pass the following variables as keyword args: x, y. From version 0.12, the only valid positional argument will be `data`, and passing other arguments without an explicit keyword will result in an error or misinterpretation.\n",
      "  warnings.warn(\n"
     ]
    },
    {
     "data": {
      "text/plain": [
       "Text(0.5, 1.0, 'City_Category Vs Purchase')"
      ]
     },
     "execution_count": 13,
     "metadata": {},
     "output_type": "execute_result"
    },
    {
     "data": {
      "image/png": "[encoded data removed]",
      "text/plain": [
       "<Figure size 720x288 with 2 Axes>"
      ]
     },
     "metadata": {
      "needs_background": "light"
     },
     "output_type": "display_data"
    }
   ],
   "source": [
    "fig, ax = plt.subplots(nrows=1, ncols=2, figsize=(10,4))\n",
    "sns.countplot(df_train['City_Category'], ax=ax[0])\n",
    "ax[0].set_title(\"City category wise Purchases\")\n",
    "sns.barplot('City_Category', 'Purchase', hue='Gender', data=df_train, ax=ax[1])\n",
    "ax[1].set_title(\"City_Category Vs Purchase\")"
   ]
  },
  {
   "cell_type": "markdown",
   "id": "cd16ddc7",
   "metadata": {},
   "source": [
    "From the left plot, we can infer that City Category B has the most number of purchases\n",
    "\n",
    "From the right plot, we can infer that the city whose buyers spend the most is city type 'C'"
   ]
  },
  {
   "cell_type": "markdown",
   "id": "1c0e99e3",
   "metadata": {},
   "source": [
    "### Stay_In_Current_City_Years"
   ]
  },
  {
   "cell_type": "code",
   "execution_count": 14,
   "id": "74290ea0",
   "metadata": {},
   "outputs": [
    {
     "name": "stderr",
     "output_type": "stream",
     "text": [
      "E:\\Anaconda\\lib\\site-packages\\seaborn\\_decorators.py:36: FutureWarning: Pass the following variable as a keyword arg: x. From version 0.12, the only valid positional argument will be `data`, and passing other arguments without an explicit keyword will result in an error or misinterpretation.\n",
      "  warnings.warn(\n",
      "E:\\Anaconda\\lib\\site-packages\\seaborn\\_decorators.py:36: FutureWarning: Pass the following variables as keyword args: x, y. From version 0.12, the only valid positional argument will be `data`, and passing other arguments without an explicit keyword will result in an error or misinterpretation.\n",
      "  warnings.warn(\n"
     ]
    },
    {
     "data": {
      "text/plain": [
       "Text(0.5, 1.0, 'Stay_In_Current_City_Years Vs Purchase')"
      ]
     },
     "execution_count": 14,
     "metadata": {},
     "output_type": "execute_result"
    },
    {
     "data": {
      "image/png": "[encoded data removed]",
      "text/plain": [
       "<Figure size 720x288 with 2 Axes>"
      ]
     },
     "metadata": {
      "needs_background": "light"
     },
     "output_type": "display_data"
    }
   ],
   "source": [
    "fig, ax = plt.subplots(nrows=1, ncols=2, figsize=(10,4))\n",
    "sns.countplot(df_train['Stay_In_Current_City_Years'], ax=ax[0])\n",
    "ax[0].set_title(\"Stay_In_Current_City_Years Purchases\")\n",
    "sns.barplot('Stay_In_Current_City_Years', 'Purchase', hue='Gender', data=df_train,ax=ax[1])\n",
    "ax[1].set_title(\"Stay_In_Current_City_Years Vs Purchase\")"
   ]
  },
  {
   "cell_type": "markdown",
   "id": "b6d6c3fc",
   "metadata": {},
   "source": [
    "Inference of Left plot: It looks like the longest someone is living in that city the less prone they are to buy new things. Hence, if someone is new in town and needs a great number of new things for their house that they’ll take advantage of the low prices in Black Friday to purchase all the things needed.\n",
    "\n",
    "Inference of Right plot: We can see the same pattern. People who are new in city are responsible for the higher number of purchase, however looking at it individually they tend to spend the same amount independently of how many years they have lived in their current city."
   ]
  },
  {
   "cell_type": "markdown",
   "id": "5e65e876",
   "metadata": {},
   "source": [
    "### Marital_Status"
   ]
  },
  {
   "cell_type": "code",
   "execution_count": 15,
   "id": "eb1c2fd5",
   "metadata": {},
   "outputs": [
    {
     "name": "stderr",
     "output_type": "stream",
     "text": [
      "E:\\Anaconda\\lib\\site-packages\\seaborn\\_decorators.py:36: FutureWarning: Pass the following variable as a keyword arg: x. From version 0.12, the only valid positional argument will be `data`, and passing other arguments without an explicit keyword will result in an error or misinterpretation.\n",
      "  warnings.warn(\n",
      "E:\\Anaconda\\lib\\site-packages\\seaborn\\_decorators.py:36: FutureWarning: Pass the following variables as keyword args: x, y. From version 0.12, the only valid positional argument will be `data`, and passing other arguments without an explicit keyword will result in an error or misinterpretation.\n",
      "  warnings.warn(\n"
     ]
    },
    {
     "data": {
      "text/plain": [
       "Text(0.5, 1.0, 'Marital_Status Vs Purchase')"
      ]
     },
     "execution_count": 15,
     "metadata": {},
     "output_type": "execute_result"
    },
    {
     "data": {
      "image/png": "[encoded data removed]",
      "text/plain": [
       "<Figure size 720x288 with 2 Axes>"
      ]
     },
     "metadata": {
      "needs_background": "light"
     },
     "output_type": "display_data"
    }
   ],
   "source": [
    "fig, ax = plt.subplots(nrows=1, ncols=2, figsize=(10,4))\n",
    "sns.countplot(df_train['Marital_Status'],ax=ax[0])\n",
    "ax[0].set_title(\"Marital_Status Purchases\")\n",
    "sns.barplot('Marital_Status', 'Purchase', hue='Gender', data=df_train, ax=ax[1])\n",
    "ax[1].set_title(\"Marital_Status Vs Purchase\")"
   ]
  },
  {
   "cell_type": "markdown",
   "id": "8a323934",
   "metadata": {},
   "source": [
    "Inference of Left Plot: There are more unmarried people who purchases more.\n",
    "\n",
    "Inference of Right Plot: The purchase amount of married and unmarried people are the same."
   ]
  },
  {
   "cell_type": "markdown",
   "id": "beff0243",
   "metadata": {},
   "source": [
    "### Product_Category_1"
   ]
  },
  {
   "cell_type": "code",
   "execution_count": 16,
   "id": "a3b28649",
   "metadata": {},
   "outputs": [
    {
     "name": "stderr",
     "output_type": "stream",
     "text": [
      "E:\\Anaconda\\lib\\site-packages\\seaborn\\_decorators.py:36: FutureWarning: Pass the following variable as a keyword arg: x. From version 0.12, the only valid positional argument will be `data`, and passing other arguments without an explicit keyword will result in an error or misinterpretation.\n",
      "  warnings.warn(\n",
      "E:\\Anaconda\\lib\\site-packages\\seaborn\\_decorators.py:36: FutureWarning: Pass the following variables as keyword args: x, y. From version 0.12, the only valid positional argument will be `data`, and passing other arguments without an explicit keyword will result in an error or misinterpretation.\n",
      "  warnings.warn(\n"
     ]
    },
    {
     "data": {
      "text/plain": [
       "Text(0.5, 1.0, 'Product_Category_1 Vs Purchase')"
      ]
     },
     "execution_count": 16,
     "metadata": {},
     "output_type": "execute_result"
    },
    {
     "data": {
      "image/png": "[encoded data removed]",
      "text/plain": [
       "<Figure size 720x288 with 2 Axes>"
      ]
     },
     "metadata": {
      "needs_background": "light"
     },
     "output_type": "display_data"
    }
   ],
   "source": [
    "fig, ax = plt.subplots(nrows=1, ncols=2, figsize=(10,4))\n",
    "sns.countplot(df_train['Product_Category_1'], ax=ax[0])\n",
    "ax[0].set_title(\"Product_Category_1 Purchases\")\n",
    "sns.barplot('Product_Category_1', 'Purchase', hue='Gender', data=df_train, ax=ax[1])\n",
    "ax[1].set_title(\"Product_Category_1 Vs Purchase\")"
   ]
  },
  {
   "cell_type": "markdown",
   "id": "001a009b",
   "metadata": {},
   "source": [
    "Inference of Left Plot: Three products 1,5 and 8 were three most sold products\n",
    "\n",
    "Inference of Right Plot: Eventhough product 1,5 and 8 were three most sold products, the amount spent was not the highest. In Category 10, the amount was spent the highest."
   ]
  },
  {
   "cell_type": "markdown",
   "id": "ba271edc",
   "metadata": {},
   "source": [
    "### Product_Category_2"
   ]
  },
  {
   "cell_type": "code",
   "execution_count": 17,
   "id": "71c7f914",
   "metadata": {},
   "outputs": [
    {
     "name": "stderr",
     "output_type": "stream",
     "text": [
      "E:\\Anaconda\\lib\\site-packages\\seaborn\\_decorators.py:36: FutureWarning: Pass the following variable as a keyword arg: x. From version 0.12, the only valid positional argument will be `data`, and passing other arguments without an explicit keyword will result in an error or misinterpretation.\n",
      "  warnings.warn(\n",
      "E:\\Anaconda\\lib\\site-packages\\seaborn\\_decorators.py:36: FutureWarning: Pass the following variables as keyword args: x, y. From version 0.12, the only valid positional argument will be `data`, and passing other arguments without an explicit keyword will result in an error or misinterpretation.\n",
      "  warnings.warn(\n"
     ]
    },
    {
     "data": {
      "text/plain": [
       "Text(0.5, 1.0, 'Product_Category_2 Vs Purchase')"
      ]
     },
     "execution_count": 17,
     "metadata": {},
     "output_type": "execute_result"
    },
    {
     "data": {
      "image/png": "[encoded data removed]",
      "text/plain": [
       "<Figure size 720x288 with 2 Axes>"
      ]
     },
     "metadata": {
      "needs_background": "light"
     },
     "output_type": "display_data"
    }
   ],
   "source": [
    "fig, ax = plt.subplots(nrows=1, ncols=2, figsize=(10,4))\n",
    "sns.countplot(df_train['Product_Category_2'], ax=ax[0])\n",
    "ax[0].set_title(\"Product_Category_2 Purchases\")\n",
    "sns.barplot('Product_Category_2', 'Purchase', hue='Gender', data=df_train, ax=ax[1])\n",
    "ax[1].set_title(\"Product_Category_2 Vs Purchase\")"
   ]
  },
  {
   "cell_type": "markdown",
   "id": "aa2c18dc",
   "metadata": {},
   "source": [
    "Inference of Left Plot: Product 2,8 and 14 were the three most sold products\n",
    "\n",
    "Inference of Right Plot:\n",
    "Eventhough product 2,8 and 14 were three most sold products, the amount spent was not the highest. In Category 10, the amount was spent the highest."
   ]
  },
  {
   "cell_type": "markdown",
   "id": "12fab8ef",
   "metadata": {},
   "source": [
    "### Product_Category_3"
   ]
  },
  {
   "cell_type": "code",
   "execution_count": 18,
   "id": "e4a06288",
   "metadata": {},
   "outputs": [
    {
     "name": "stderr",
     "output_type": "stream",
     "text": [
      "E:\\Anaconda\\lib\\site-packages\\seaborn\\_decorators.py:36: FutureWarning: Pass the following variable as a keyword arg: x. From version 0.12, the only valid positional argument will be `data`, and passing other arguments without an explicit keyword will result in an error or misinterpretation.\n",
      "  warnings.warn(\n",
      "E:\\Anaconda\\lib\\site-packages\\seaborn\\_decorators.py:36: FutureWarning: Pass the following variables as keyword args: x, y. From version 0.12, the only valid positional argument will be `data`, and passing other arguments without an explicit keyword will result in an error or misinterpretation.\n",
      "  warnings.warn(\n"
     ]
    },
    {
     "data": {
      "text/plain": [
       "Text(0.5, 1.0, 'Product_Category_3 Vs Purchase')"
      ]
     },
     "execution_count": 18,
     "metadata": {},
     "output_type": "execute_result"
    },
    {
     "data": {
      "image/png": "[encoded data removed]",
      "text/plain": [
       "<Figure size 720x288 with 2 Axes>"
      ]
     },
     "metadata": {
      "needs_background": "light"
     },
     "output_type": "display_data"
    }
   ],
   "source": [
    "fig, ax = plt.subplots(nrows=1, ncols=2, figsize=(10,4))\n",
    "sns.countplot(df_train['Product_Category_3'],ax=ax[0])\n",
    "ax[0].set_title(\"Product_Category_3 Purchases\")\n",
    "sns.barplot('Product_Category_3', 'Purchase', hue='Gender', data=df_train, ax=ax[1])\n",
    "ax[1].set_title(\"Product_Category_3 Vs Purchase\")"
   ]
  },
  {
   "cell_type": "markdown",
   "id": "0586bc0e",
   "metadata": {},
   "source": [
    "Inference of Left Plot: 16, 15 and 14 were the most sold products\n",
    "\n",
    "Inference of Right Plot: Eventhough product 16, 15 and 14 were three most sold products, the amount spent was not the highest. In Category 1, the amount was spent the highest."
   ]
  },
  {
   "cell_type": "markdown",
   "id": "fe0f0d03",
   "metadata": {},
   "source": [
    "### Correlation"
   ]
  },
  {
   "cell_type": "code",
   "execution_count": 19,
   "id": "47f5d107",
   "metadata": {},
   "outputs": [
    {
     "data": {
      "text/html": [
       "<div>\n",
       "<style scoped>\n",
       "    .dataframe tbody tr th:only-of-type {\n",
       "        vertical-align: middle;\n",
       "    }\n",
       "\n",
       "    .dataframe tbody tr th {\n",
       "        vertical-align: top;\n",
       "    }\n",
       "\n",
       "    .dataframe thead th {\n",
       "        text-align: right;\n",
       "    }\n",
       "</style>\n",
       "<table border=\"1\" class=\"dataframe\">\n",
       "  <thead>\n",
       "    <tr style=\"text-align: right;\">\n",
       "      <th></th>\n",
       "      <th>User_ID</th>\n",
       "      <th>Occupation</th>\n",
       "      <th>Marital_Status</th>\n",
       "      <th>Product_Category_1</th>\n",
       "      <th>Product_Category_2</th>\n",
       "      <th>Product_Category_3</th>\n",
       "      <th>Purchase</th>\n",
       "    </tr>\n",
       "  </thead>\n",
       "  <tbody>\n",
       "    <tr>\n",
       "      <th>User_ID</th>\n",
       "      <td>1.000000</td>\n",
       "      <td>-0.023971</td>\n",
       "      <td>0.020443</td>\n",
       "      <td>0.003825</td>\n",
       "      <td>0.001529</td>\n",
       "      <td>0.003419</td>\n",
       "      <td>0.004716</td>\n",
       "    </tr>\n",
       "    <tr>\n",
       "      <th>Occupation</th>\n",
       "      <td>-0.023971</td>\n",
       "      <td>1.000000</td>\n",
       "      <td>0.024280</td>\n",
       "      <td>-0.007618</td>\n",
       "      <td>-0.000384</td>\n",
       "      <td>0.013263</td>\n",
       "      <td>0.020833</td>\n",
       "    </tr>\n",
       "    <tr>\n",
       "      <th>Marital_Status</th>\n",
       "      <td>0.020443</td>\n",
       "      <td>0.024280</td>\n",
       "      <td>1.000000</td>\n",
       "      <td>0.019888</td>\n",
       "      <td>0.015138</td>\n",
       "      <td>0.019473</td>\n",
       "      <td>-0.000463</td>\n",
       "    </tr>\n",
       "    <tr>\n",
       "      <th>Product_Category_1</th>\n",
       "      <td>0.003825</td>\n",
       "      <td>-0.007618</td>\n",
       "      <td>0.019888</td>\n",
       "      <td>1.000000</td>\n",
       "      <td>0.540583</td>\n",
       "      <td>0.229678</td>\n",
       "      <td>-0.343703</td>\n",
       "    </tr>\n",
       "    <tr>\n",
       "      <th>Product_Category_2</th>\n",
       "      <td>0.001529</td>\n",
       "      <td>-0.000384</td>\n",
       "      <td>0.015138</td>\n",
       "      <td>0.540583</td>\n",
       "      <td>1.000000</td>\n",
       "      <td>0.543649</td>\n",
       "      <td>-0.209918</td>\n",
       "    </tr>\n",
       "    <tr>\n",
       "      <th>Product_Category_3</th>\n",
       "      <td>0.003419</td>\n",
       "      <td>0.013263</td>\n",
       "      <td>0.019473</td>\n",
       "      <td>0.229678</td>\n",
       "      <td>0.543649</td>\n",
       "      <td>1.000000</td>\n",
       "      <td>-0.022006</td>\n",
       "    </tr>\n",
       "    <tr>\n",
       "      <th>Purchase</th>\n",
       "      <td>0.004716</td>\n",
       "      <td>0.020833</td>\n",
       "      <td>-0.000463</td>\n",
       "      <td>-0.343703</td>\n",
       "      <td>-0.209918</td>\n",
       "      <td>-0.022006</td>\n",
       "      <td>1.000000</td>\n",
       "    </tr>\n",
       "  </tbody>\n",
       "</table>\n",
       "</div>"
      ],
      "text/plain": [
       "                     User_ID  Occupation  Marital_Status  Product_Category_1  \\\n",
       "User_ID             1.000000   -0.023971        0.020443            0.003825   \n",
       "Occupation         -0.023971    1.000000        0.024280           -0.007618   \n",
       "Marital_Status      0.020443    0.024280        1.000000            0.019888   \n",
       "Product_Category_1  0.003825   -0.007618        0.019888            1.000000   \n",
       "Product_Category_2  0.001529   -0.000384        0.015138            0.540583   \n",
       "Product_Category_3  0.003419    0.013263        0.019473            0.229678   \n",
       "Purchase            0.004716    0.020833       -0.000463           -0.343703   \n",
       "\n",
       "                    Product_Category_2  Product_Category_3  Purchase  \n",
       "User_ID                       0.001529            0.003419  0.004716  \n",
       "Occupation                   -0.000384            0.013263  0.020833  \n",
       "Marital_Status                0.015138            0.019473 -0.000463  \n",
       "Product_Category_1            0.540583            0.229678 -0.343703  \n",
       "Product_Category_2            1.000000            0.543649 -0.209918  \n",
       "Product_Category_3            0.543649            1.000000 -0.022006  \n",
       "Purchase                     -0.209918           -0.022006  1.000000  "
      ]
     },
     "execution_count": 19,
     "metadata": {},
     "output_type": "execute_result"
    }
   ],
   "source": [
    "df_train.corr()"
   ]
  },
  {
   "cell_type": "code",
   "execution_count": 20,
   "id": "72572cfe",
   "metadata": {},
   "outputs": [
    {
     "data": {
      "text/plain": [
       "<AxesSubplot:>"
      ]
     },
     "execution_count": 20,
     "metadata": {},
     "output_type": "execute_result"
    },
    {
     "data": {
      "image/png": "[encoded data removed]",
      "text/plain": [
       "<Figure size 432x288 with 2 Axes>"
      ]
     },
     "metadata": {
      "needs_background": "light"
     },
     "output_type": "display_data"
    }
   ],
   "source": [
    "sns.heatmap(df_train.corr(), annot=True)"
   ]
  },
  {
   "cell_type": "markdown",
   "id": "056621aa",
   "metadata": {},
   "source": [
    "There is some correlation between the product category groups"
   ]
  },
  {
   "cell_type": "markdown",
   "id": "2272bba3",
   "metadata": {},
   "source": [
    "## Dropping Irrelevant Columns"
   ]
  },
  {
   "cell_type": "code",
   "execution_count": 21,
   "id": "dc00dd6b",
   "metadata": {},
   "outputs": [],
   "source": [
    "df=df_train.drop([\"User_ID\",\"Product_ID\"],axis=1)"
   ]
  },
  {
   "cell_type": "markdown",
   "id": "0df87d7f",
   "metadata": {},
   "source": [
    "## Pipelines"
   ]
  },
  {
   "cell_type": "markdown",
   "id": "ddf5584f",
   "metadata": {},
   "source": [
    "Using Pipelines for\n",
    "1. Numerical Data: Handling Missing Values --> Scaling\n",
    "2. Categorical Data: Handling Missing Values --> Encoding\n",
    "3. And training the model\n",
    "\n",
    "Stage of Pipeline: Preprocessor --> Model Training"
   ]
  },
  {
   "cell_type": "markdown",
   "id": "406f7597",
   "metadata": {},
   "source": [
    "### Spliting data into independent & dependent variables"
   ]
  },
  {
   "cell_type": "code",
   "execution_count": 22,
   "id": "091ed800",
   "metadata": {},
   "outputs": [
    {
     "data": {
      "text/html": [
       "<div>\n",
       "<style scoped>\n",
       "    .dataframe tbody tr th:only-of-type {\n",
       "        vertical-align: middle;\n",
       "    }\n",
       "\n",
       "    .dataframe tbody tr th {\n",
       "        vertical-align: top;\n",
       "    }\n",
       "\n",
       "    .dataframe thead th {\n",
       "        text-align: right;\n",
       "    }\n",
       "</style>\n",
       "<table border=\"1\" class=\"dataframe\">\n",
       "  <thead>\n",
       "    <tr style=\"text-align: right;\">\n",
       "      <th></th>\n",
       "      <th>Gender</th>\n",
       "      <th>Age</th>\n",
       "      <th>Occupation</th>\n",
       "      <th>City_Category</th>\n",
       "      <th>Stay_In_Current_City_Years</th>\n",
       "      <th>Marital_Status</th>\n",
       "      <th>Product_Category_1</th>\n",
       "      <th>Product_Category_2</th>\n",
       "      <th>Product_Category_3</th>\n",
       "    </tr>\n",
       "  </thead>\n",
       "  <tbody>\n",
       "    <tr>\n",
       "      <th>0</th>\n",
       "      <td>F</td>\n",
       "      <td>0-17</td>\n",
       "      <td>10</td>\n",
       "      <td>A</td>\n",
       "      <td>2</td>\n",
       "      <td>0</td>\n",
       "      <td>3</td>\n",
       "      <td>NaN</td>\n",
       "      <td>NaN</td>\n",
       "    </tr>\n",
       "    <tr>\n",
       "      <th>1</th>\n",
       "      <td>F</td>\n",
       "      <td>0-17</td>\n",
       "      <td>10</td>\n",
       "      <td>A</td>\n",
       "      <td>2</td>\n",
       "      <td>0</td>\n",
       "      <td>1</td>\n",
       "      <td>6.0</td>\n",
       "      <td>14.0</td>\n",
       "    </tr>\n",
       "    <tr>\n",
       "      <th>2</th>\n",
       "      <td>F</td>\n",
       "      <td>0-17</td>\n",
       "      <td>10</td>\n",
       "      <td>A</td>\n",
       "      <td>2</td>\n",
       "      <td>0</td>\n",
       "      <td>12</td>\n",
       "      <td>NaN</td>\n",
       "      <td>NaN</td>\n",
       "    </tr>\n",
       "    <tr>\n",
       "      <th>3</th>\n",
       "      <td>F</td>\n",
       "      <td>0-17</td>\n",
       "      <td>10</td>\n",
       "      <td>A</td>\n",
       "      <td>2</td>\n",
       "      <td>0</td>\n",
       "      <td>12</td>\n",
       "      <td>14.0</td>\n",
       "      <td>NaN</td>\n",
       "    </tr>\n",
       "    <tr>\n",
       "      <th>4</th>\n",
       "      <td>M</td>\n",
       "      <td>55+</td>\n",
       "      <td>16</td>\n",
       "      <td>C</td>\n",
       "      <td>4+</td>\n",
       "      <td>0</td>\n",
       "      <td>8</td>\n",
       "      <td>NaN</td>\n",
       "      <td>NaN</td>\n",
       "    </tr>\n",
       "  </tbody>\n",
       "</table>\n",
       "</div>"
      ],
      "text/plain": [
       "  Gender   Age  Occupation City_Category Stay_In_Current_City_Years  \\\n",
       "0      F  0-17          10             A                          2   \n",
       "1      F  0-17          10             A                          2   \n",
       "2      F  0-17          10             A                          2   \n",
       "3      F  0-17          10             A                          2   \n",
       "4      M   55+          16             C                         4+   \n",
       "\n",
       "   Marital_Status  Product_Category_1  Product_Category_2  Product_Category_3  \n",
       "0               0                   3                 NaN                 NaN  \n",
       "1               0                   1                 6.0                14.0  \n",
       "2               0                  12                 NaN                 NaN  \n",
       "3               0                  12                14.0                 NaN  \n",
       "4               0                   8                 NaN                 NaN  "
      ]
     },
     "execution_count": 22,
     "metadata": {},
     "output_type": "execute_result"
    }
   ],
   "source": [
    "X=df.drop(\"Purchase\",axis=1)\n",
    "X.head()"
   ]
  },
  {
   "cell_type": "code",
   "execution_count": 23,
   "id": "170b94c4",
   "metadata": {},
   "outputs": [
    {
     "data": {
      "text/plain": [
       "0     8370\n",
       "1    15200\n",
       "2     1422\n",
       "3     1057\n",
       "4     7969\n",
       "Name: Purchase, dtype: int64"
      ]
     },
     "execution_count": 23,
     "metadata": {},
     "output_type": "execute_result"
    }
   ],
   "source": [
    "y=df['Purchase']\n",
    "y.head()"
   ]
  },
  {
   "cell_type": "markdown",
   "id": "8b54ae11",
   "metadata": {},
   "source": [
    "### Splitting Data as Train and Test Set"
   ]
  },
  {
   "cell_type": "code",
   "execution_count": 24,
   "id": "f94362e5",
   "metadata": {},
   "outputs": [],
   "source": [
    "from sklearn.model_selection import train_test_split\n",
    "X_train, X_test, y_train, y_test = train_test_split(X, y, test_size=0.3, random_state=42)"
   ]
  },
  {
   "cell_type": "markdown",
   "id": "c45d25de",
   "metadata": {},
   "source": [
    "### Preprocessing and Model Training using Pipelines"
   ]
  },
  {
   "cell_type": "code",
   "execution_count": 25,
   "id": "a150faff",
   "metadata": {},
   "outputs": [],
   "source": [
    "numeric_columns= X.select_dtypes(include=['int','float']).columns"
   ]
  },
  {
   "cell_type": "code",
   "execution_count": 26,
   "id": "e6dd2ef6",
   "metadata": {},
   "outputs": [],
   "source": [
    "#Numerical\n",
    "numeric_processor=Pipeline(\n",
    "    steps=[(\"imputation_mode\", SimpleImputer(missing_values=np.NaN,strategy=\"most_frequent\")), \n",
    "            (\"standard_scaler\", StandardScaler())]\n",
    ")"
   ]
  },
  {
   "cell_type": "code",
   "execution_count": 27,
   "id": "0f78b93f",
   "metadata": {},
   "outputs": [],
   "source": [
    "category_columns=X.select_dtypes(include=['category', 'object']).columns"
   ]
  },
  {
   "cell_type": "code",
   "execution_count": 28,
   "id": "9c93126f",
   "metadata": {},
   "outputs": [],
   "source": [
    "#Categorical\n",
    "from sklearn.preprocessing import OneHotEncoder\n",
    "categorical_processor=Pipeline(\n",
    "    steps=[(\"imputation_mean\", SimpleImputer(fill_value=\"missing\", strategy=\"constant\")), \n",
    "            (\"onehot\", OneHotEncoder(handle_unknown=\"ignore\"))]\n",
    ") "
   ]
  },
  {
   "cell_type": "code",
   "execution_count": 29,
   "id": "aa3e56bb",
   "metadata": {},
   "outputs": [],
   "source": [
    "from sklearn.compose import ColumnTransformer\n",
    "preprocessor=ColumnTransformer(\n",
    "    transformers=[(\"categorical\", categorical_processor, category_columns),\n",
    "    (\"numerical\", numeric_processor, numeric_columns)]\n",
    ")"
   ]
  },
  {
   "cell_type": "code",
   "execution_count": 30,
   "id": "99b8e968",
   "metadata": {},
   "outputs": [],
   "source": [
    "set_config(display=\"diagram\")"
   ]
  },
  {
   "cell_type": "code",
   "execution_count": 31,
   "id": "2da4b10b",
   "metadata": {},
   "outputs": [
    {
     "data": {
      "text/html": [
       "<style>#sk-448e8835-fa4d-484c-bd39-1f77cb4492f1 {color: black;background-color: white;}#sk-448e8835-fa4d-484c-bd39-1f77cb4492f1 pre{padding: 0;}#sk-448e8835-fa4d-484c-bd39-1f77cb4492f1 div.sk-toggleable {background-color: white;}#sk-448e8835-fa4d-484c-bd39-1f77cb4492f1 label.sk-toggleable__label {cursor: pointer;display: block;width: 100%;margin-bottom: 0;padding: 0.3em;box-sizing: border-box;text-align: center;}#sk-448e8835-fa4d-484c-bd39-1f77cb4492f1 label.sk-toggleable__label-arrow:before {content: \"▸\";float: left;margin-right: 0.25em;color: #696969;}#sk-448e8835-fa4d-484c-bd39-1f77cb4492f1 label.sk-toggleable__label-arrow:hover:before {color: black;}#sk-448e8835-fa4d-484c-bd39-1f77cb4492f1 div.sk-estimator:hover label.sk-toggleable__label-arrow:before {color: black;}#sk-448e8835-fa4d-484c-bd39-1f77cb4492f1 div.sk-toggleable__content {max-height: 0;max-width: 0;overflow: hidden;text-align: left;background-color: #f0f8ff;}#sk-448e8835-fa4d-484c-bd39-1f77cb4492f1 div.sk-toggleable__content pre {margin: 0.2em;color: black;border-radius: 0.25em;background-color: #f0f8ff;}#sk-448e8835-fa4d-484c-bd39-1f77cb4492f1 input.sk-toggleable__control:checked~div.sk-toggleable__content {max-height: 200px;max-width: 100%;overflow: auto;}#sk-448e8835-fa4d-484c-bd39-1f77cb4492f1 input.sk-toggleable__control:checked~label.sk-toggleable__label-arrow:before {content: \"▾\";}#sk-448e8835-fa4d-484c-bd39-1f77cb4492f1 div.sk-estimator input.sk-toggleable__control:checked~label.sk-toggleable__label {background-color: #d4ebff;}#sk-448e8835-fa4d-484c-bd39-1f77cb4492f1 div.sk-label input.sk-toggleable__control:checked~label.sk-toggleable__label {background-color: #d4ebff;}#sk-448e8835-fa4d-484c-bd39-1f77cb4492f1 input.sk-hidden--visually {border: 0;clip: rect(1px 1px 1px 1px);clip: rect(1px, 1px, 1px, 1px);height: 1px;margin: -1px;overflow: hidden;padding: 0;position: absolute;width: 1px;}#sk-448e8835-fa4d-484c-bd39-1f77cb4492f1 div.sk-estimator {font-family: monospace;background-color: #f0f8ff;border: 1px dotted black;border-radius: 0.25em;box-sizing: border-box;margin-bottom: 0.5em;}#sk-448e8835-fa4d-484c-bd39-1f77cb4492f1 div.sk-estimator:hover {background-color: #d4ebff;}#sk-448e8835-fa4d-484c-bd39-1f77cb4492f1 div.sk-parallel-item::after {content: \"\";width: 100%;border-bottom: 1px solid gray;flex-grow: 1;}#sk-448e8835-fa4d-484c-bd39-1f77cb4492f1 div.sk-label:hover label.sk-toggleable__label {background-color: #d4ebff;}#sk-448e8835-fa4d-484c-bd39-1f77cb4492f1 div.sk-serial::before {content: \"\";position: absolute;border-left: 1px solid gray;box-sizing: border-box;top: 2em;bottom: 0;left: 50%;}#sk-448e8835-fa4d-484c-bd39-1f77cb4492f1 div.sk-serial {display: flex;flex-direction: column;align-items: center;background-color: white;padding-right: 0.2em;padding-left: 0.2em;}#sk-448e8835-fa4d-484c-bd39-1f77cb4492f1 div.sk-item {z-index: 1;}#sk-448e8835-fa4d-484c-bd39-1f77cb4492f1 div.sk-parallel {display: flex;align-items: stretch;justify-content: center;background-color: white;}#sk-448e8835-fa4d-484c-bd39-1f77cb4492f1 div.sk-parallel::before {content: \"\";position: absolute;border-left: 1px solid gray;box-sizing: border-box;top: 2em;bottom: 0;left: 50%;}#sk-448e8835-fa4d-484c-bd39-1f77cb4492f1 div.sk-parallel-item {display: flex;flex-direction: column;position: relative;background-color: white;}#sk-448e8835-fa4d-484c-bd39-1f77cb4492f1 div.sk-parallel-item:first-child::after {align-self: flex-end;width: 50%;}#sk-448e8835-fa4d-484c-bd39-1f77cb4492f1 div.sk-parallel-item:last-child::after {align-self: flex-start;width: 50%;}#sk-448e8835-fa4d-484c-bd39-1f77cb4492f1 div.sk-parallel-item:only-child::after {width: 0;}#sk-448e8835-fa4d-484c-bd39-1f77cb4492f1 div.sk-dashed-wrapped {border: 1px dashed gray;margin: 0 0.4em 0.5em 0.4em;box-sizing: border-box;padding-bottom: 0.4em;background-color: white;position: relative;}#sk-448e8835-fa4d-484c-bd39-1f77cb4492f1 div.sk-label label {font-family: monospace;font-weight: bold;background-color: white;display: inline-block;line-height: 1.2em;}#sk-448e8835-fa4d-484c-bd39-1f77cb4492f1 div.sk-label-container {position: relative;z-index: 2;text-align: center;}#sk-448e8835-fa4d-484c-bd39-1f77cb4492f1 div.sk-container {/* jupyter's `normalize.less` sets `[hidden] { display: none; }` but bootstrap.min.css set `[hidden] { display: none !important; }` so we also need the `!important` here to be able to override the default hidden behavior on the sphinx rendered scikit-learn.org. See: https://github.com/scikit-learn/scikit-learn/issues/21755 */display: inline-block !important;position: relative;}#sk-448e8835-fa4d-484c-bd39-1f77cb4492f1 div.sk-text-repr-fallback {display: none;}</style><div id=\"sk-448e8835-fa4d-484c-bd39-1f77cb4492f1\" class=\"sk-top-container\"><div class=\"sk-text-repr-fallback\"><pre>ColumnTransformer(transformers=[(&#x27;categorical&#x27;,\n",
       "                                 Pipeline(steps=[(&#x27;imputation_mean&#x27;,\n",
       "                                                  SimpleImputer(fill_value=&#x27;missing&#x27;,\n",
       "                                                                strategy=&#x27;constant&#x27;)),\n",
       "                                                 (&#x27;onehot&#x27;,\n",
       "                                                  OneHotEncoder(handle_unknown=&#x27;ignore&#x27;))]),\n",
       "                                 Index([&#x27;Gender&#x27;, &#x27;Age&#x27;, &#x27;City_Category&#x27;, &#x27;Stay_In_Current_City_Years&#x27;], dtype=&#x27;object&#x27;)),\n",
       "                                (&#x27;numerical&#x27;,\n",
       "                                 Pipeline(steps=[(&#x27;imputation_mode&#x27;,\n",
       "                                                  SimpleImputer(strategy=&#x27;most_frequent&#x27;)),\n",
       "                                                 (&#x27;standard_scaler&#x27;,\n",
       "                                                  StandardScaler())]),\n",
       "                                 Index([&#x27;Occupation&#x27;, &#x27;Marital_Status&#x27;, &#x27;Product_Category_1&#x27;,\n",
       "       &#x27;Product_Category_2&#x27;, &#x27;Product_Category_3&#x27;],\n",
       "      dtype=&#x27;object&#x27;))])</pre><b>Please rerun this cell to show the HTML repr or trust the notebook.</b></div><div class=\"sk-container\" hidden><div class=\"sk-item sk-dashed-wrapped\"><div class=\"sk-label-container\"><div class=\"sk-label sk-toggleable\"><input class=\"sk-toggleable__control sk-hidden--visually\" id=\"6a2f5730-6ea1-42fb-89d6-69e3f7352ccf\" type=\"checkbox\" ><label for=\"6a2f5730-6ea1-42fb-89d6-69e3f7352ccf\" class=\"sk-toggleable__label sk-toggleable__label-arrow\">ColumnTransformer</label><div class=\"sk-toggleable__content\"><pre>ColumnTransformer(transformers=[(&#x27;categorical&#x27;,\n",
       "                                 Pipeline(steps=[(&#x27;imputation_mean&#x27;,\n",
       "                                                  SimpleImputer(fill_value=&#x27;missing&#x27;,\n",
       "                                                                strategy=&#x27;constant&#x27;)),\n",
       "                                                 (&#x27;onehot&#x27;,\n",
       "                                                  OneHotEncoder(handle_unknown=&#x27;ignore&#x27;))]),\n",
       "                                 Index([&#x27;Gender&#x27;, &#x27;Age&#x27;, &#x27;City_Category&#x27;, &#x27;Stay_In_Current_City_Years&#x27;], dtype=&#x27;object&#x27;)),\n",
       "                                (&#x27;numerical&#x27;,\n",
       "                                 Pipeline(steps=[(&#x27;imputation_mode&#x27;,\n",
       "                                                  SimpleImputer(strategy=&#x27;most_frequent&#x27;)),\n",
       "                                                 (&#x27;standard_scaler&#x27;,\n",
       "                                                  StandardScaler())]),\n",
       "                                 Index([&#x27;Occupation&#x27;, &#x27;Marital_Status&#x27;, &#x27;Product_Category_1&#x27;,\n",
       "       &#x27;Product_Category_2&#x27;, &#x27;Product_Category_3&#x27;],\n",
       "      dtype=&#x27;object&#x27;))])</pre></div></div></div><div class=\"sk-parallel\"><div class=\"sk-parallel-item\"><div class=\"sk-item\"><div class=\"sk-label-container\"><div class=\"sk-label sk-toggleable\"><input class=\"sk-toggleable__control sk-hidden--visually\" id=\"83f6af35-1b95-4344-ab76-ecfe490c4f42\" type=\"checkbox\" ><label for=\"83f6af35-1b95-4344-ab76-ecfe490c4f42\" class=\"sk-toggleable__label sk-toggleable__label-arrow\">categorical</label><div class=\"sk-toggleable__content\"><pre>Index([&#x27;Gender&#x27;, &#x27;Age&#x27;, &#x27;City_Category&#x27;, &#x27;Stay_In_Current_City_Years&#x27;], dtype=&#x27;object&#x27;)</pre></div></div></div><div class=\"sk-serial\"><div class=\"sk-item\"><div class=\"sk-serial\"><div class=\"sk-item\"><div class=\"sk-estimator sk-toggleable\"><input class=\"sk-toggleable__control sk-hidden--visually\" id=\"85283baa-5d6a-422d-a805-bbb2ec2b6878\" type=\"checkbox\" ><label for=\"85283baa-5d6a-422d-a805-bbb2ec2b6878\" class=\"sk-toggleable__label sk-toggleable__label-arrow\">SimpleImputer</label><div class=\"sk-toggleable__content\"><pre>SimpleImputer(fill_value=&#x27;missing&#x27;, strategy=&#x27;constant&#x27;)</pre></div></div></div><div class=\"sk-item\"><div class=\"sk-estimator sk-toggleable\"><input class=\"sk-toggleable__control sk-hidden--visually\" id=\"30c8b3d2-f920-47d1-aa31-d670a2042a08\" type=\"checkbox\" ><label for=\"30c8b3d2-f920-47d1-aa31-d670a2042a08\" class=\"sk-toggleable__label sk-toggleable__label-arrow\">OneHotEncoder</label><div class=\"sk-toggleable__content\"><pre>OneHotEncoder(handle_unknown=&#x27;ignore&#x27;)</pre></div></div></div></div></div></div></div></div><div class=\"sk-parallel-item\"><div class=\"sk-item\"><div class=\"sk-label-container\"><div class=\"sk-label sk-toggleable\"><input class=\"sk-toggleable__control sk-hidden--visually\" id=\"aa340099-c2d4-40ee-9ede-854d83562632\" type=\"checkbox\" ><label for=\"aa340099-c2d4-40ee-9ede-854d83562632\" class=\"sk-toggleable__label sk-toggleable__label-arrow\">numerical</label><div class=\"sk-toggleable__content\"><pre>Index([&#x27;Occupation&#x27;, &#x27;Marital_Status&#x27;, &#x27;Product_Category_1&#x27;,\n",
       "       &#x27;Product_Category_2&#x27;, &#x27;Product_Category_3&#x27;],\n",
       "      dtype=&#x27;object&#x27;)</pre></div></div></div><div class=\"sk-serial\"><div class=\"sk-item\"><div class=\"sk-serial\"><div class=\"sk-item\"><div class=\"sk-estimator sk-toggleable\"><input class=\"sk-toggleable__control sk-hidden--visually\" id=\"b7b23781-8fd4-4871-874c-197d3014334e\" type=\"checkbox\" ><label for=\"b7b23781-8fd4-4871-874c-197d3014334e\" class=\"sk-toggleable__label sk-toggleable__label-arrow\">SimpleImputer</label><div class=\"sk-toggleable__content\"><pre>SimpleImputer(strategy=&#x27;most_frequent&#x27;)</pre></div></div></div><div class=\"sk-item\"><div class=\"sk-estimator sk-toggleable\"><input class=\"sk-toggleable__control sk-hidden--visually\" id=\"02935bd0-fba7-4421-ada1-cd60a295f077\" type=\"checkbox\" ><label for=\"02935bd0-fba7-4421-ada1-cd60a295f077\" class=\"sk-toggleable__label sk-toggleable__label-arrow\">StandardScaler</label><div class=\"sk-toggleable__content\"><pre>StandardScaler()</pre></div></div></div></div></div></div></div></div></div></div></div></div>"
      ],
      "text/plain": [
       "ColumnTransformer(transformers=[('categorical',\n",
       "                                 Pipeline(steps=[('imputation_mean',\n",
       "                                                  SimpleImputer(fill_value='missing',\n",
       "                                                                strategy='constant')),\n",
       "                                                 ('onehot',\n",
       "                                                  OneHotEncoder(handle_unknown='ignore'))]),\n",
       "                                 Index(['Gender', 'Age', 'City_Category', 'Stay_In_Current_City_Years'], dtype='object')),\n",
       "                                ('numerical',\n",
       "                                 Pipeline(steps=[('imputation_mode',\n",
       "                                                  SimpleImputer(strategy='most_frequent')),\n",
       "                                                 ('standard_scaler',\n",
       "                                                  StandardScaler())]),\n",
       "                                 Index(['Occupation', 'Marital_Status', 'Product_Category_1',\n",
       "       'Product_Category_2', 'Product_Category_3'],\n",
       "      dtype='object'))])"
      ]
     },
     "execution_count": 31,
     "metadata": {},
     "output_type": "execute_result"
    }
   ],
   "source": [
    "preprocessor"
   ]
  },
  {
   "cell_type": "markdown",
   "id": "40b9d0c6",
   "metadata": {},
   "source": [
    "### Linear Regression"
   ]
  },
  {
   "cell_type": "code",
   "execution_count": 32,
   "id": "d0fd1736",
   "metadata": {},
   "outputs": [
    {
     "data": {
      "text/html": [
       "<style>#sk-1a3ba135-2905-42a0-8c1f-7c8fd450fe0c {color: black;background-color: white;}#sk-1a3ba135-2905-42a0-8c1f-7c8fd450fe0c pre{padding: 0;}#sk-1a3ba135-2905-42a0-8c1f-7c8fd450fe0c div.sk-toggleable {background-color: white;}#sk-1a3ba135-2905-42a0-8c1f-7c8fd450fe0c label.sk-toggleable__label {cursor: pointer;display: block;width: 100%;margin-bottom: 0;padding: 0.3em;box-sizing: border-box;text-align: center;}#sk-1a3ba135-2905-42a0-8c1f-7c8fd450fe0c label.sk-toggleable__label-arrow:before {content: \"▸\";float: left;margin-right: 0.25em;color: #696969;}#sk-1a3ba135-2905-42a0-8c1f-7c8fd450fe0c label.sk-toggleable__label-arrow:hover:before {color: black;}#sk-1a3ba135-2905-42a0-8c1f-7c8fd450fe0c div.sk-estimator:hover label.sk-toggleable__label-arrow:before {color: black;}#sk-1a3ba135-2905-42a0-8c1f-7c8fd450fe0c div.sk-toggleable__content {max-height: 0;max-width: 0;overflow: hidden;text-align: left;background-color: #f0f8ff;}#sk-1a3ba135-2905-42a0-8c1f-7c8fd450fe0c div.sk-toggleable__content pre {margin: 0.2em;color: black;border-radius: 0.25em;background-color: #f0f8ff;}#sk-1a3ba135-2905-42a0-8c1f-7c8fd450fe0c input.sk-toggleable__control:checked~div.sk-toggleable__content {max-height: 200px;max-width: 100%;overflow: auto;}#sk-1a3ba135-2905-42a0-8c1f-7c8fd450fe0c input.sk-toggleable__control:checked~label.sk-toggleable__label-arrow:before {content: \"▾\";}#sk-1a3ba135-2905-42a0-8c1f-7c8fd450fe0c div.sk-estimator input.sk-toggleable__control:checked~label.sk-toggleable__label {background-color: #d4ebff;}#sk-1a3ba135-2905-42a0-8c1f-7c8fd450fe0c div.sk-label input.sk-toggleable__control:checked~label.sk-toggleable__label {background-color: #d4ebff;}#sk-1a3ba135-2905-42a0-8c1f-7c8fd450fe0c input.sk-hidden--visually {border: 0;clip: rect(1px 1px 1px 1px);clip: rect(1px, 1px, 1px, 1px);height: 1px;margin: -1px;overflow: hidden;padding: 0;position: absolute;width: 1px;}#sk-1a3ba135-2905-42a0-8c1f-7c8fd450fe0c div.sk-estimator {font-family: monospace;background-color: #f0f8ff;border: 1px dotted black;border-radius: 0.25em;box-sizing: border-box;margin-bottom: 0.5em;}#sk-1a3ba135-2905-42a0-8c1f-7c8fd450fe0c div.sk-estimator:hover {background-color: #d4ebff;}#sk-1a3ba135-2905-42a0-8c1f-7c8fd450fe0c div.sk-parallel-item::after {content: \"\";width: 100%;border-bottom: 1px solid gray;flex-grow: 1;}#sk-1a3ba135-2905-42a0-8c1f-7c8fd450fe0c div.sk-label:hover label.sk-toggleable__label {background-color: #d4ebff;}#sk-1a3ba135-2905-42a0-8c1f-7c8fd450fe0c div.sk-serial::before {content: \"\";position: absolute;border-left: 1px solid gray;box-sizing: border-box;top: 2em;bottom: 0;left: 50%;}#sk-1a3ba135-2905-42a0-8c1f-7c8fd450fe0c div.sk-serial {display: flex;flex-direction: column;align-items: center;background-color: white;padding-right: 0.2em;padding-left: 0.2em;}#sk-1a3ba135-2905-42a0-8c1f-7c8fd450fe0c div.sk-item {z-index: 1;}#sk-1a3ba135-2905-42a0-8c1f-7c8fd450fe0c div.sk-parallel {display: flex;align-items: stretch;justify-content: center;background-color: white;}#sk-1a3ba135-2905-42a0-8c1f-7c8fd450fe0c div.sk-parallel::before {content: \"\";position: absolute;border-left: 1px solid gray;box-sizing: border-box;top: 2em;bottom: 0;left: 50%;}#sk-1a3ba135-2905-42a0-8c1f-7c8fd450fe0c div.sk-parallel-item {display: flex;flex-direction: column;position: relative;background-color: white;}#sk-1a3ba135-2905-42a0-8c1f-7c8fd450fe0c div.sk-parallel-item:first-child::after {align-self: flex-end;width: 50%;}#sk-1a3ba135-2905-42a0-8c1f-7c8fd450fe0c div.sk-parallel-item:last-child::after {align-self: flex-start;width: 50%;}#sk-1a3ba135-2905-42a0-8c1f-7c8fd450fe0c div.sk-parallel-item:only-child::after {width: 0;}#sk-1a3ba135-2905-42a0-8c1f-7c8fd450fe0c div.sk-dashed-wrapped {border: 1px dashed gray;margin: 0 0.4em 0.5em 0.4em;box-sizing: border-box;padding-bottom: 0.4em;background-color: white;position: relative;}#sk-1a3ba135-2905-42a0-8c1f-7c8fd450fe0c div.sk-label label {font-family: monospace;font-weight: bold;background-color: white;display: inline-block;line-height: 1.2em;}#sk-1a3ba135-2905-42a0-8c1f-7c8fd450fe0c div.sk-label-container {position: relative;z-index: 2;text-align: center;}#sk-1a3ba135-2905-42a0-8c1f-7c8fd450fe0c div.sk-container {/* jupyter's `normalize.less` sets `[hidden] { display: none; }` but bootstrap.min.css set `[hidden] { display: none !important; }` so we also need the `!important` here to be able to override the default hidden behavior on the sphinx rendered scikit-learn.org. See: https://github.com/scikit-learn/scikit-learn/issues/21755 */display: inline-block !important;position: relative;}#sk-1a3ba135-2905-42a0-8c1f-7c8fd450fe0c div.sk-text-repr-fallback {display: none;}</style><div id=\"sk-1a3ba135-2905-42a0-8c1f-7c8fd450fe0c\" class=\"sk-top-container\"><div class=\"sk-text-repr-fallback\"><pre>Pipeline(steps=[(&#x27;columntransformer&#x27;,\n",
       "                 ColumnTransformer(transformers=[(&#x27;categorical&#x27;,\n",
       "                                                  Pipeline(steps=[(&#x27;imputation_mean&#x27;,\n",
       "                                                                   SimpleImputer(fill_value=&#x27;missing&#x27;,\n",
       "                                                                                 strategy=&#x27;constant&#x27;)),\n",
       "                                                                  (&#x27;onehot&#x27;,\n",
       "                                                                   OneHotEncoder(handle_unknown=&#x27;ignore&#x27;))]),\n",
       "                                                  Index([&#x27;Gender&#x27;, &#x27;Age&#x27;, &#x27;City_Category&#x27;, &#x27;Stay_In_Current_City_Years&#x27;], dtype=&#x27;object&#x27;)),\n",
       "                                                 (&#x27;numerical&#x27;,\n",
       "                                                  Pipeline(steps=[(&#x27;imputation_mode&#x27;,\n",
       "                                                                   SimpleImputer(strategy=&#x27;most_frequent&#x27;)),\n",
       "                                                                  (&#x27;standard_scaler&#x27;,\n",
       "                                                                   StandardScaler())]),\n",
       "                                                  Index([&#x27;Occupation&#x27;, &#x27;Marital_Status&#x27;, &#x27;Product_Category_1&#x27;,\n",
       "       &#x27;Product_Category_2&#x27;, &#x27;Product_Category_3&#x27;],\n",
       "      dtype=&#x27;object&#x27;))])),\n",
       "                (&#x27;linearregression&#x27;, LinearRegression())])</pre><b>Please rerun this cell to show the HTML repr or trust the notebook.</b></div><div class=\"sk-container\" hidden><div class=\"sk-item sk-dashed-wrapped\"><div class=\"sk-label-container\"><div class=\"sk-label sk-toggleable\"><input class=\"sk-toggleable__control sk-hidden--visually\" id=\"a45658f0-0ebc-4fe4-96df-e048e512d9b3\" type=\"checkbox\" ><label for=\"a45658f0-0ebc-4fe4-96df-e048e512d9b3\" class=\"sk-toggleable__label sk-toggleable__label-arrow\">Pipeline</label><div class=\"sk-toggleable__content\"><pre>Pipeline(steps=[(&#x27;columntransformer&#x27;,\n",
       "                 ColumnTransformer(transformers=[(&#x27;categorical&#x27;,\n",
       "                                                  Pipeline(steps=[(&#x27;imputation_mean&#x27;,\n",
       "                                                                   SimpleImputer(fill_value=&#x27;missing&#x27;,\n",
       "                                                                                 strategy=&#x27;constant&#x27;)),\n",
       "                                                                  (&#x27;onehot&#x27;,\n",
       "                                                                   OneHotEncoder(handle_unknown=&#x27;ignore&#x27;))]),\n",
       "                                                  Index([&#x27;Gender&#x27;, &#x27;Age&#x27;, &#x27;City_Category&#x27;, &#x27;Stay_In_Current_City_Years&#x27;], dtype=&#x27;object&#x27;)),\n",
       "                                                 (&#x27;numerical&#x27;,\n",
       "                                                  Pipeline(steps=[(&#x27;imputation_mode&#x27;,\n",
       "                                                                   SimpleImputer(strategy=&#x27;most_frequent&#x27;)),\n",
       "                                                                  (&#x27;standard_scaler&#x27;,\n",
       "                                                                   StandardScaler())]),\n",
       "                                                  Index([&#x27;Occupation&#x27;, &#x27;Marital_Status&#x27;, &#x27;Product_Category_1&#x27;,\n",
       "       &#x27;Product_Category_2&#x27;, &#x27;Product_Category_3&#x27;],\n",
       "      dtype=&#x27;object&#x27;))])),\n",
       "                (&#x27;linearregression&#x27;, LinearRegression())])</pre></div></div></div><div class=\"sk-serial\"><div class=\"sk-item sk-dashed-wrapped\"><div class=\"sk-label-container\"><div class=\"sk-label sk-toggleable\"><input class=\"sk-toggleable__control sk-hidden--visually\" id=\"b3b9b0b6-6421-4f03-97a6-754f1751255e\" type=\"checkbox\" ><label for=\"b3b9b0b6-6421-4f03-97a6-754f1751255e\" class=\"sk-toggleable__label sk-toggleable__label-arrow\">columntransformer: ColumnTransformer</label><div class=\"sk-toggleable__content\"><pre>ColumnTransformer(transformers=[(&#x27;categorical&#x27;,\n",
       "                                 Pipeline(steps=[(&#x27;imputation_mean&#x27;,\n",
       "                                                  SimpleImputer(fill_value=&#x27;missing&#x27;,\n",
       "                                                                strategy=&#x27;constant&#x27;)),\n",
       "                                                 (&#x27;onehot&#x27;,\n",
       "                                                  OneHotEncoder(handle_unknown=&#x27;ignore&#x27;))]),\n",
       "                                 Index([&#x27;Gender&#x27;, &#x27;Age&#x27;, &#x27;City_Category&#x27;, &#x27;Stay_In_Current_City_Years&#x27;], dtype=&#x27;object&#x27;)),\n",
       "                                (&#x27;numerical&#x27;,\n",
       "                                 Pipeline(steps=[(&#x27;imputation_mode&#x27;,\n",
       "                                                  SimpleImputer(strategy=&#x27;most_frequent&#x27;)),\n",
       "                                                 (&#x27;standard_scaler&#x27;,\n",
       "                                                  StandardScaler())]),\n",
       "                                 Index([&#x27;Occupation&#x27;, &#x27;Marital_Status&#x27;, &#x27;Product_Category_1&#x27;,\n",
       "       &#x27;Product_Category_2&#x27;, &#x27;Product_Category_3&#x27;],\n",
       "      dtype=&#x27;object&#x27;))])</pre></div></div></div><div class=\"sk-parallel\"><div class=\"sk-parallel-item\"><div class=\"sk-item\"><div class=\"sk-label-container\"><div class=\"sk-label sk-toggleable\"><input class=\"sk-toggleable__control sk-hidden--visually\" id=\"e4cdbfdc-1ae5-492b-8670-85b1c708fa18\" type=\"checkbox\" ><label for=\"e4cdbfdc-1ae5-492b-8670-85b1c708fa18\" class=\"sk-toggleable__label sk-toggleable__label-arrow\">categorical</label><div class=\"sk-toggleable__content\"><pre>Index([&#x27;Gender&#x27;, &#x27;Age&#x27;, &#x27;City_Category&#x27;, &#x27;Stay_In_Current_City_Years&#x27;], dtype=&#x27;object&#x27;)</pre></div></div></div><div class=\"sk-serial\"><div class=\"sk-item\"><div class=\"sk-serial\"><div class=\"sk-item\"><div class=\"sk-estimator sk-toggleable\"><input class=\"sk-toggleable__control sk-hidden--visually\" id=\"57ccc27a-af5e-4161-9ba3-29dc0576aba6\" type=\"checkbox\" ><label for=\"57ccc27a-af5e-4161-9ba3-29dc0576aba6\" class=\"sk-toggleable__label sk-toggleable__label-arrow\">SimpleImputer</label><div class=\"sk-toggleable__content\"><pre>SimpleImputer(fill_value=&#x27;missing&#x27;, strategy=&#x27;constant&#x27;)</pre></div></div></div><div class=\"sk-item\"><div class=\"sk-estimator sk-toggleable\"><input class=\"sk-toggleable__control sk-hidden--visually\" id=\"ba6ecdc3-b973-4754-b0e7-ca30ddada733\" type=\"checkbox\" ><label for=\"ba6ecdc3-b973-4754-b0e7-ca30ddada733\" class=\"sk-toggleable__label sk-toggleable__label-arrow\">OneHotEncoder</label><div class=\"sk-toggleable__content\"><pre>OneHotEncoder(handle_unknown=&#x27;ignore&#x27;)</pre></div></div></div></div></div></div></div></div><div class=\"sk-parallel-item\"><div class=\"sk-item\"><div class=\"sk-label-container\"><div class=\"sk-label sk-toggleable\"><input class=\"sk-toggleable__control sk-hidden--visually\" id=\"1ea67425-550e-46be-83e7-aa2334b8a7a4\" type=\"checkbox\" ><label for=\"1ea67425-550e-46be-83e7-aa2334b8a7a4\" class=\"sk-toggleable__label sk-toggleable__label-arrow\">numerical</label><div class=\"sk-toggleable__content\"><pre>Index([&#x27;Occupation&#x27;, &#x27;Marital_Status&#x27;, &#x27;Product_Category_1&#x27;,\n",
       "       &#x27;Product_Category_2&#x27;, &#x27;Product_Category_3&#x27;],\n",
       "      dtype=&#x27;object&#x27;)</pre></div></div></div><div class=\"sk-serial\"><div class=\"sk-item\"><div class=\"sk-serial\"><div class=\"sk-item\"><div class=\"sk-estimator sk-toggleable\"><input class=\"sk-toggleable__control sk-hidden--visually\" id=\"dbcba58b-cbf6-41d8-8c9d-7019bc58f7ad\" type=\"checkbox\" ><label for=\"dbcba58b-cbf6-41d8-8c9d-7019bc58f7ad\" class=\"sk-toggleable__label sk-toggleable__label-arrow\">SimpleImputer</label><div class=\"sk-toggleable__content\"><pre>SimpleImputer(strategy=&#x27;most_frequent&#x27;)</pre></div></div></div><div class=\"sk-item\"><div class=\"sk-estimator sk-toggleable\"><input class=\"sk-toggleable__control sk-hidden--visually\" id=\"45e4901b-f268-439a-b6f7-f2cb1f3d2429\" type=\"checkbox\" ><label for=\"45e4901b-f268-439a-b6f7-f2cb1f3d2429\" class=\"sk-toggleable__label sk-toggleable__label-arrow\">StandardScaler</label><div class=\"sk-toggleable__content\"><pre>StandardScaler()</pre></div></div></div></div></div></div></div></div></div></div><div class=\"sk-item\"><div class=\"sk-estimator sk-toggleable\"><input class=\"sk-toggleable__control sk-hidden--visually\" id=\"0d22c809-e9a0-464a-9ab3-7b70c905fec1\" type=\"checkbox\" ><label for=\"0d22c809-e9a0-464a-9ab3-7b70c905fec1\" class=\"sk-toggleable__label sk-toggleable__label-arrow\">LinearRegression</label><div class=\"sk-toggleable__content\"><pre>LinearRegression()</pre></div></div></div></div></div></div></div>"
      ],
      "text/plain": [
       "Pipeline(steps=[('columntransformer',\n",
       "                 ColumnTransformer(transformers=[('categorical',\n",
       "                                                  Pipeline(steps=[('imputation_mean',\n",
       "                                                                   SimpleImputer(fill_value='missing',\n",
       "                                                                                 strategy='constant')),\n",
       "                                                                  ('onehot',\n",
       "                                                                   OneHotEncoder(handle_unknown='ignore'))]),\n",
       "                                                  Index(['Gender', 'Age', 'City_Category', 'Stay_In_Current_City_Years'], dtype='object')),\n",
       "                                                 ('numerical',\n",
       "                                                  Pipeline(steps=[('imputation_mode',\n",
       "                                                                   SimpleImputer(strategy='most_frequent')),\n",
       "                                                                  ('standard_scaler',\n",
       "                                                                   StandardScaler())]),\n",
       "                                                  Index(['Occupation', 'Marital_Status', 'Product_Category_1',\n",
       "       'Product_Category_2', 'Product_Category_3'],\n",
       "      dtype='object'))])),\n",
       "                ('linearregression', LinearRegression())])"
      ]
     },
     "execution_count": 32,
     "metadata": {},
     "output_type": "execute_result"
    }
   ],
   "source": [
    "from sklearn.pipeline import make_pipeline\n",
    "lr=make_pipeline(preprocessor, LinearRegression())\n",
    "lr"
   ]
  },
  {
   "cell_type": "code",
   "execution_count": 33,
   "id": "ddf297e0",
   "metadata": {},
   "outputs": [
    {
     "data": {
      "text/html": [
       "<style>#sk-97718a3e-484b-4e06-ab43-ebc05f995b4d {color: black;background-color: white;}#sk-97718a3e-484b-4e06-ab43-ebc05f995b4d pre{padding: 0;}#sk-97718a3e-484b-4e06-ab43-ebc05f995b4d div.sk-toggleable {background-color: white;}#sk-97718a3e-484b-4e06-ab43-ebc05f995b4d label.sk-toggleable__label {cursor: pointer;display: block;width: 100%;margin-bottom: 0;padding: 0.3em;box-sizing: border-box;text-align: center;}#sk-97718a3e-484b-4e06-ab43-ebc05f995b4d label.sk-toggleable__label-arrow:before {content: \"▸\";float: left;margin-right: 0.25em;color: #696969;}#sk-97718a3e-484b-4e06-ab43-ebc05f995b4d label.sk-toggleable__label-arrow:hover:before {color: black;}#sk-97718a3e-484b-4e06-ab43-ebc05f995b4d div.sk-estimator:hover label.sk-toggleable__label-arrow:before {color: black;}#sk-97718a3e-484b-4e06-ab43-ebc05f995b4d div.sk-toggleable__content {max-height: 0;max-width: 0;overflow: hidden;text-align: left;background-color: #f0f8ff;}#sk-97718a3e-484b-4e06-ab43-ebc05f995b4d div.sk-toggleable__content pre {margin: 0.2em;color: black;border-radius: 0.25em;background-color: #f0f8ff;}#sk-97718a3e-484b-4e06-ab43-ebc05f995b4d input.sk-toggleable__control:checked~div.sk-toggleable__content {max-height: 200px;max-width: 100%;overflow: auto;}#sk-97718a3e-484b-4e06-ab43-ebc05f995b4d input.sk-toggleable__control:checked~label.sk-toggleable__label-arrow:before {content: \"▾\";}#sk-97718a3e-484b-4e06-ab43-ebc05f995b4d div.sk-estimator input.sk-toggleable__control:checked~label.sk-toggleable__label {background-color: #d4ebff;}#sk-97718a3e-484b-4e06-ab43-ebc05f995b4d div.sk-label input.sk-toggleable__control:checked~label.sk-toggleable__label {background-color: #d4ebff;}#sk-97718a3e-484b-4e06-ab43-ebc05f995b4d input.sk-hidden--visually {border: 0;clip: rect(1px 1px 1px 1px);clip: rect(1px, 1px, 1px, 1px);height: 1px;margin: -1px;overflow: hidden;padding: 0;position: absolute;width: 1px;}#sk-97718a3e-484b-4e06-ab43-ebc05f995b4d div.sk-estimator {font-family: monospace;background-color: #f0f8ff;border: 1px dotted black;border-radius: 0.25em;box-sizing: border-box;margin-bottom: 0.5em;}#sk-97718a3e-484b-4e06-ab43-ebc05f995b4d div.sk-estimator:hover {background-color: #d4ebff;}#sk-97718a3e-484b-4e06-ab43-ebc05f995b4d div.sk-parallel-item::after {content: \"\";width: 100%;border-bottom: 1px solid gray;flex-grow: 1;}#sk-97718a3e-484b-4e06-ab43-ebc05f995b4d div.sk-label:hover label.sk-toggleable__label {background-color: #d4ebff;}#sk-97718a3e-484b-4e06-ab43-ebc05f995b4d div.sk-serial::before {content: \"\";position: absolute;border-left: 1px solid gray;box-sizing: border-box;top: 2em;bottom: 0;left: 50%;}#sk-97718a3e-484b-4e06-ab43-ebc05f995b4d div.sk-serial {display: flex;flex-direction: column;align-items: center;background-color: white;padding-right: 0.2em;padding-left: 0.2em;}#sk-97718a3e-484b-4e06-ab43-ebc05f995b4d div.sk-item {z-index: 1;}#sk-97718a3e-484b-4e06-ab43-ebc05f995b4d div.sk-parallel {display: flex;align-items: stretch;justify-content: center;background-color: white;}#sk-97718a3e-484b-4e06-ab43-ebc05f995b4d div.sk-parallel::before {content: \"\";position: absolute;border-left: 1px solid gray;box-sizing: border-box;top: 2em;bottom: 0;left: 50%;}#sk-97718a3e-484b-4e06-ab43-ebc05f995b4d div.sk-parallel-item {display: flex;flex-direction: column;position: relative;background-color: white;}#sk-97718a3e-484b-4e06-ab43-ebc05f995b4d div.sk-parallel-item:first-child::after {align-self: flex-end;width: 50%;}#sk-97718a3e-484b-4e06-ab43-ebc05f995b4d div.sk-parallel-item:last-child::after {align-self: flex-start;width: 50%;}#sk-97718a3e-484b-4e06-ab43-ebc05f995b4d div.sk-parallel-item:only-child::after {width: 0;}#sk-97718a3e-484b-4e06-ab43-ebc05f995b4d div.sk-dashed-wrapped {border: 1px dashed gray;margin: 0 0.4em 0.5em 0.4em;box-sizing: border-box;padding-bottom: 0.4em;background-color: white;position: relative;}#sk-97718a3e-484b-4e06-ab43-ebc05f995b4d div.sk-label label {font-family: monospace;font-weight: bold;background-color: white;display: inline-block;line-height: 1.2em;}#sk-97718a3e-484b-4e06-ab43-ebc05f995b4d div.sk-label-container {position: relative;z-index: 2;text-align: center;}#sk-97718a3e-484b-4e06-ab43-ebc05f995b4d div.sk-container {/* jupyter's `normalize.less` sets `[hidden] { display: none; }` but bootstrap.min.css set `[hidden] { display: none !important; }` so we also need the `!important` here to be able to override the default hidden behavior on the sphinx rendered scikit-learn.org. See: https://github.com/scikit-learn/scikit-learn/issues/21755 */display: inline-block !important;position: relative;}#sk-97718a3e-484b-4e06-ab43-ebc05f995b4d div.sk-text-repr-fallback {display: none;}</style><div id=\"sk-97718a3e-484b-4e06-ab43-ebc05f995b4d\" class=\"sk-top-container\"><div class=\"sk-text-repr-fallback\"><pre>Pipeline(steps=[(&#x27;columntransformer&#x27;,\n",
       "                 ColumnTransformer(transformers=[(&#x27;categorical&#x27;,\n",
       "                                                  Pipeline(steps=[(&#x27;imputation_mean&#x27;,\n",
       "                                                                   SimpleImputer(fill_value=&#x27;missing&#x27;,\n",
       "                                                                                 strategy=&#x27;constant&#x27;)),\n",
       "                                                                  (&#x27;onehot&#x27;,\n",
       "                                                                   OneHotEncoder(handle_unknown=&#x27;ignore&#x27;))]),\n",
       "                                                  Index([&#x27;Gender&#x27;, &#x27;Age&#x27;, &#x27;City_Category&#x27;, &#x27;Stay_In_Current_City_Years&#x27;], dtype=&#x27;object&#x27;)),\n",
       "                                                 (&#x27;numerical&#x27;,\n",
       "                                                  Pipeline(steps=[(&#x27;imputation_mode&#x27;,\n",
       "                                                                   SimpleImputer(strategy=&#x27;most_frequent&#x27;)),\n",
       "                                                                  (&#x27;standard_scaler&#x27;,\n",
       "                                                                   StandardScaler())]),\n",
       "                                                  Index([&#x27;Occupation&#x27;, &#x27;Marital_Status&#x27;, &#x27;Product_Category_1&#x27;,\n",
       "       &#x27;Product_Category_2&#x27;, &#x27;Product_Category_3&#x27;],\n",
       "      dtype=&#x27;object&#x27;))])),\n",
       "                (&#x27;linearregression&#x27;, LinearRegression())])</pre><b>Please rerun this cell to show the HTML repr or trust the notebook.</b></div><div class=\"sk-container\" hidden><div class=\"sk-item sk-dashed-wrapped\"><div class=\"sk-label-container\"><div class=\"sk-label sk-toggleable\"><input class=\"sk-toggleable__control sk-hidden--visually\" id=\"5925afc1-9810-4229-99b9-c1d4e94cb0ed\" type=\"checkbox\" ><label for=\"5925afc1-9810-4229-99b9-c1d4e94cb0ed\" class=\"sk-toggleable__label sk-toggleable__label-arrow\">Pipeline</label><div class=\"sk-toggleable__content\"><pre>Pipeline(steps=[(&#x27;columntransformer&#x27;,\n",
       "                 ColumnTransformer(transformers=[(&#x27;categorical&#x27;,\n",
       "                                                  Pipeline(steps=[(&#x27;imputation_mean&#x27;,\n",
       "                                                                   SimpleImputer(fill_value=&#x27;missing&#x27;,\n",
       "                                                                                 strategy=&#x27;constant&#x27;)),\n",
       "                                                                  (&#x27;onehot&#x27;,\n",
       "                                                                   OneHotEncoder(handle_unknown=&#x27;ignore&#x27;))]),\n",
       "                                                  Index([&#x27;Gender&#x27;, &#x27;Age&#x27;, &#x27;City_Category&#x27;, &#x27;Stay_In_Current_City_Years&#x27;], dtype=&#x27;object&#x27;)),\n",
       "                                                 (&#x27;numerical&#x27;,\n",
       "                                                  Pipeline(steps=[(&#x27;imputation_mode&#x27;,\n",
       "                                                                   SimpleImputer(strategy=&#x27;most_frequent&#x27;)),\n",
       "                                                                  (&#x27;standard_scaler&#x27;,\n",
       "                                                                   StandardScaler())]),\n",
       "                                                  Index([&#x27;Occupation&#x27;, &#x27;Marital_Status&#x27;, &#x27;Product_Category_1&#x27;,\n",
       "       &#x27;Product_Category_2&#x27;, &#x27;Product_Category_3&#x27;],\n",
       "      dtype=&#x27;object&#x27;))])),\n",
       "                (&#x27;linearregression&#x27;, LinearRegression())])</pre></div></div></div><div class=\"sk-serial\"><div class=\"sk-item sk-dashed-wrapped\"><div class=\"sk-label-container\"><div class=\"sk-label sk-toggleable\"><input class=\"sk-toggleable__control sk-hidden--visually\" id=\"6d1847d6-77bb-437f-a4e8-7a47f3f86b8d\" type=\"checkbox\" ><label for=\"6d1847d6-77bb-437f-a4e8-7a47f3f86b8d\" class=\"sk-toggleable__label sk-toggleable__label-arrow\">columntransformer: ColumnTransformer</label><div class=\"sk-toggleable__content\"><pre>ColumnTransformer(transformers=[(&#x27;categorical&#x27;,\n",
       "                                 Pipeline(steps=[(&#x27;imputation_mean&#x27;,\n",
       "                                                  SimpleImputer(fill_value=&#x27;missing&#x27;,\n",
       "                                                                strategy=&#x27;constant&#x27;)),\n",
       "                                                 (&#x27;onehot&#x27;,\n",
       "                                                  OneHotEncoder(handle_unknown=&#x27;ignore&#x27;))]),\n",
       "                                 Index([&#x27;Gender&#x27;, &#x27;Age&#x27;, &#x27;City_Category&#x27;, &#x27;Stay_In_Current_City_Years&#x27;], dtype=&#x27;object&#x27;)),\n",
       "                                (&#x27;numerical&#x27;,\n",
       "                                 Pipeline(steps=[(&#x27;imputation_mode&#x27;,\n",
       "                                                  SimpleImputer(strategy=&#x27;most_frequent&#x27;)),\n",
       "                                                 (&#x27;standard_scaler&#x27;,\n",
       "                                                  StandardScaler())]),\n",
       "                                 Index([&#x27;Occupation&#x27;, &#x27;Marital_Status&#x27;, &#x27;Product_Category_1&#x27;,\n",
       "       &#x27;Product_Category_2&#x27;, &#x27;Product_Category_3&#x27;],\n",
       "      dtype=&#x27;object&#x27;))])</pre></div></div></div><div class=\"sk-parallel\"><div class=\"sk-parallel-item\"><div class=\"sk-item\"><div class=\"sk-label-container\"><div class=\"sk-label sk-toggleable\"><input class=\"sk-toggleable__control sk-hidden--visually\" id=\"c79240c8-df3a-4af1-87b0-658404a7aeb3\" type=\"checkbox\" ><label for=\"c79240c8-df3a-4af1-87b0-658404a7aeb3\" class=\"sk-toggleable__label sk-toggleable__label-arrow\">categorical</label><div class=\"sk-toggleable__content\"><pre>Index([&#x27;Gender&#x27;, &#x27;Age&#x27;, &#x27;City_Category&#x27;, &#x27;Stay_In_Current_City_Years&#x27;], dtype=&#x27;object&#x27;)</pre></div></div></div><div class=\"sk-serial\"><div class=\"sk-item\"><div class=\"sk-serial\"><div class=\"sk-item\"><div class=\"sk-estimator sk-toggleable\"><input class=\"sk-toggleable__control sk-hidden--visually\" id=\"5142b6c4-c4a0-47a3-b610-cc56910e6de1\" type=\"checkbox\" ><label for=\"5142b6c4-c4a0-47a3-b610-cc56910e6de1\" class=\"sk-toggleable__label sk-toggleable__label-arrow\">SimpleImputer</label><div class=\"sk-toggleable__content\"><pre>SimpleImputer(fill_value=&#x27;missing&#x27;, strategy=&#x27;constant&#x27;)</pre></div></div></div><div class=\"sk-item\"><div class=\"sk-estimator sk-toggleable\"><input class=\"sk-toggleable__control sk-hidden--visually\" id=\"81457767-714c-4fc9-beef-3a5993dfe42c\" type=\"checkbox\" ><label for=\"81457767-714c-4fc9-beef-3a5993dfe42c\" class=\"sk-toggleable__label sk-toggleable__label-arrow\">OneHotEncoder</label><div class=\"sk-toggleable__content\"><pre>OneHotEncoder(handle_unknown=&#x27;ignore&#x27;)</pre></div></div></div></div></div></div></div></div><div class=\"sk-parallel-item\"><div class=\"sk-item\"><div class=\"sk-label-container\"><div class=\"sk-label sk-toggleable\"><input class=\"sk-toggleable__control sk-hidden--visually\" id=\"543eada5-50ee-4e27-b00c-22cf80a65677\" type=\"checkbox\" ><label for=\"543eada5-50ee-4e27-b00c-22cf80a65677\" class=\"sk-toggleable__label sk-toggleable__label-arrow\">numerical</label><div class=\"sk-toggleable__content\"><pre>Index([&#x27;Occupation&#x27;, &#x27;Marital_Status&#x27;, &#x27;Product_Category_1&#x27;,\n",
       "       &#x27;Product_Category_2&#x27;, &#x27;Product_Category_3&#x27;],\n",
       "      dtype=&#x27;object&#x27;)</pre></div></div></div><div class=\"sk-serial\"><div class=\"sk-item\"><div class=\"sk-serial\"><div class=\"sk-item\"><div class=\"sk-estimator sk-toggleable\"><input class=\"sk-toggleable__control sk-hidden--visually\" id=\"4f129a12-90c2-4b50-96b4-be5c7d6c8059\" type=\"checkbox\" ><label for=\"4f129a12-90c2-4b50-96b4-be5c7d6c8059\" class=\"sk-toggleable__label sk-toggleable__label-arrow\">SimpleImputer</label><div class=\"sk-toggleable__content\"><pre>SimpleImputer(strategy=&#x27;most_frequent&#x27;)</pre></div></div></div><div class=\"sk-item\"><div class=\"sk-estimator sk-toggleable\"><input class=\"sk-toggleable__control sk-hidden--visually\" id=\"0e8fbecb-c8f0-42e4-83be-37eb6590280e\" type=\"checkbox\" ><label for=\"0e8fbecb-c8f0-42e4-83be-37eb6590280e\" class=\"sk-toggleable__label sk-toggleable__label-arrow\">StandardScaler</label><div class=\"sk-toggleable__content\"><pre>StandardScaler()</pre></div></div></div></div></div></div></div></div></div></div><div class=\"sk-item\"><div class=\"sk-estimator sk-toggleable\"><input class=\"sk-toggleable__control sk-hidden--visually\" id=\"97c35924-02ee-40f0-b0b6-a8a34262059e\" type=\"checkbox\" ><label for=\"97c35924-02ee-40f0-b0b6-a8a34262059e\" class=\"sk-toggleable__label sk-toggleable__label-arrow\">LinearRegression</label><div class=\"sk-toggleable__content\"><pre>LinearRegression()</pre></div></div></div></div></div></div></div>"
      ],
      "text/plain": [
       "Pipeline(steps=[('columntransformer',\n",
       "                 ColumnTransformer(transformers=[('categorical',\n",
       "                                                  Pipeline(steps=[('imputation_mean',\n",
       "                                                                   SimpleImputer(fill_value='missing',\n",
       "                                                                                 strategy='constant')),\n",
       "                                                                  ('onehot',\n",
       "                                                                   OneHotEncoder(handle_unknown='ignore'))]),\n",
       "                                                  Index(['Gender', 'Age', 'City_Category', 'Stay_In_Current_City_Years'], dtype='object')),\n",
       "                                                 ('numerical',\n",
       "                                                  Pipeline(steps=[('imputation_mode',\n",
       "                                                                   SimpleImputer(strategy='most_frequent')),\n",
       "                                                                  ('standard_scaler',\n",
       "                                                                   StandardScaler())]),\n",
       "                                                  Index(['Occupation', 'Marital_Status', 'Product_Category_1',\n",
       "       'Product_Category_2', 'Product_Category_3'],\n",
       "      dtype='object'))])),\n",
       "                ('linearregression', LinearRegression())])"
      ]
     },
     "execution_count": 33,
     "metadata": {},
     "output_type": "execute_result"
    }
   ],
   "source": [
    "lr.fit(X_train, y_train)"
   ]
  },
  {
   "cell_type": "code",
   "execution_count": 34,
   "id": "ed0b129f",
   "metadata": {},
   "outputs": [],
   "source": [
    "y_pred_lr=lr.predict(X_test)"
   ]
  },
  {
   "cell_type": "code",
   "execution_count": 35,
   "id": "acb8b2f2",
   "metadata": {},
   "outputs": [
    {
     "data": {
      "text/plain": [
       "3577.500398090906"
      ]
     },
     "execution_count": 35,
     "metadata": {},
     "output_type": "execute_result"
    }
   ],
   "source": [
    "from sklearn.metrics import mean_absolute_error,mean_squared_error, r2_score\n",
    "mean_absolute_error(y_test, y_pred_lr)"
   ]
  },
  {
   "cell_type": "code",
   "execution_count": 36,
   "id": "ddfcd40c",
   "metadata": {},
   "outputs": [
    {
     "data": {
      "text/plain": [
       "21939368.400408037"
      ]
     },
     "execution_count": 36,
     "metadata": {},
     "output_type": "execute_result"
    }
   ],
   "source": [
    "mean_squared_error(y_test, y_pred_lr)"
   ]
  },
  {
   "cell_type": "code",
   "execution_count": 37,
   "id": "bd7ff6a6",
   "metadata": {},
   "outputs": [
    {
     "data": {
      "text/plain": [
       "0.1294687391897228"
      ]
     },
     "execution_count": 37,
     "metadata": {},
     "output_type": "execute_result"
    }
   ],
   "source": [
    "r2_score(y_test, y_pred_lr)"
   ]
  },
  {
   "cell_type": "code",
   "execution_count": 38,
   "id": "51b02795",
   "metadata": {},
   "outputs": [
    {
     "name": "stdout",
     "output_type": "stream",
     "text": [
      "RMSE of Linear Regression Model is  4683.947950224046\n"
     ]
    }
   ],
   "source": [
    "from math import sqrt\n",
    "print(\"RMSE of Linear Regression Model is \",sqrt(mean_squared_error(y_test, y_pred_lr)))"
   ]
  },
  {
   "cell_type": "markdown",
   "id": "191554ad",
   "metadata": {},
   "source": [
    "### Decision Tree Regressor"
   ]
  },
  {
   "cell_type": "code",
   "execution_count": 39,
   "id": "69b85b07",
   "metadata": {},
   "outputs": [
    {
     "data": {
      "text/html": [
       "<style>#sk-bf916e64-cbd8-493a-9b90-d2e3632950b6 {color: black;background-color: white;}#sk-bf916e64-cbd8-493a-9b90-d2e3632950b6 pre{padding: 0;}#sk-bf916e64-cbd8-493a-9b90-d2e3632950b6 div.sk-toggleable {background-color: white;}#sk-bf916e64-cbd8-493a-9b90-d2e3632950b6 label.sk-toggleable__label {cursor: pointer;display: block;width: 100%;margin-bottom: 0;padding: 0.3em;box-sizing: border-box;text-align: center;}#sk-bf916e64-cbd8-493a-9b90-d2e3632950b6 label.sk-toggleable__label-arrow:before {content: \"▸\";float: left;margin-right: 0.25em;color: #696969;}#sk-bf916e64-cbd8-493a-9b90-d2e3632950b6 label.sk-toggleable__label-arrow:hover:before {color: black;}#sk-bf916e64-cbd8-493a-9b90-d2e3632950b6 div.sk-estimator:hover label.sk-toggleable__label-arrow:before {color: black;}#sk-bf916e64-cbd8-493a-9b90-d2e3632950b6 div.sk-toggleable__content {max-height: 0;max-width: 0;overflow: hidden;text-align: left;background-color: #f0f8ff;}#sk-bf916e64-cbd8-493a-9b90-d2e3632950b6 div.sk-toggleable__content pre {margin: 0.2em;color: black;border-radius: 0.25em;background-color: #f0f8ff;}#sk-bf916e64-cbd8-493a-9b90-d2e3632950b6 input.sk-toggleable__control:checked~div.sk-toggleable__content {max-height: 200px;max-width: 100%;overflow: auto;}#sk-bf916e64-cbd8-493a-9b90-d2e3632950b6 input.sk-toggleable__control:checked~label.sk-toggleable__label-arrow:before {content: \"▾\";}#sk-bf916e64-cbd8-493a-9b90-d2e3632950b6 div.sk-estimator input.sk-toggleable__control:checked~label.sk-toggleable__label {background-color: #d4ebff;}#sk-bf916e64-cbd8-493a-9b90-d2e3632950b6 div.sk-label input.sk-toggleable__control:checked~label.sk-toggleable__label {background-color: #d4ebff;}#sk-bf916e64-cbd8-493a-9b90-d2e3632950b6 input.sk-hidden--visually {border: 0;clip: rect(1px 1px 1px 1px);clip: rect(1px, 1px, 1px, 1px);height: 1px;margin: -1px;overflow: hidden;padding: 0;position: absolute;width: 1px;}#sk-bf916e64-cbd8-493a-9b90-d2e3632950b6 div.sk-estimator {font-family: monospace;background-color: #f0f8ff;border: 1px dotted black;border-radius: 0.25em;box-sizing: border-box;margin-bottom: 0.5em;}#sk-bf916e64-cbd8-493a-9b90-d2e3632950b6 div.sk-estimator:hover {background-color: #d4ebff;}#sk-bf916e64-cbd8-493a-9b90-d2e3632950b6 div.sk-parallel-item::after {content: \"\";width: 100%;border-bottom: 1px solid gray;flex-grow: 1;}#sk-bf916e64-cbd8-493a-9b90-d2e3632950b6 div.sk-label:hover label.sk-toggleable__label {background-color: #d4ebff;}#sk-bf916e64-cbd8-493a-9b90-d2e3632950b6 div.sk-serial::before {content: \"\";position: absolute;border-left: 1px solid gray;box-sizing: border-box;top: 2em;bottom: 0;left: 50%;}#sk-bf916e64-cbd8-493a-9b90-d2e3632950b6 div.sk-serial {display: flex;flex-direction: column;align-items: center;background-color: white;padding-right: 0.2em;padding-left: 0.2em;}#sk-bf916e64-cbd8-493a-9b90-d2e3632950b6 div.sk-item {z-index: 1;}#sk-bf916e64-cbd8-493a-9b90-d2e3632950b6 div.sk-parallel {display: flex;align-items: stretch;justify-content: center;background-color: white;}#sk-bf916e64-cbd8-493a-9b90-d2e3632950b6 div.sk-parallel::before {content: \"\";position: absolute;border-left: 1px solid gray;box-sizing: border-box;top: 2em;bottom: 0;left: 50%;}#sk-bf916e64-cbd8-493a-9b90-d2e3632950b6 div.sk-parallel-item {display: flex;flex-direction: column;position: relative;background-color: white;}#sk-bf916e64-cbd8-493a-9b90-d2e3632950b6 div.sk-parallel-item:first-child::after {align-self: flex-end;width: 50%;}#sk-bf916e64-cbd8-493a-9b90-d2e3632950b6 div.sk-parallel-item:last-child::after {align-self: flex-start;width: 50%;}#sk-bf916e64-cbd8-493a-9b90-d2e3632950b6 div.sk-parallel-item:only-child::after {width: 0;}#sk-bf916e64-cbd8-493a-9b90-d2e3632950b6 div.sk-dashed-wrapped {border: 1px dashed gray;margin: 0 0.4em 0.5em 0.4em;box-sizing: border-box;padding-bottom: 0.4em;background-color: white;position: relative;}#sk-bf916e64-cbd8-493a-9b90-d2e3632950b6 div.sk-label label {font-family: monospace;font-weight: bold;background-color: white;display: inline-block;line-height: 1.2em;}#sk-bf916e64-cbd8-493a-9b90-d2e3632950b6 div.sk-label-container {position: relative;z-index: 2;text-align: center;}#sk-bf916e64-cbd8-493a-9b90-d2e3632950b6 div.sk-container {/* jupyter's `normalize.less` sets `[hidden] { display: none; }` but bootstrap.min.css set `[hidden] { display: none !important; }` so we also need the `!important` here to be able to override the default hidden behavior on the sphinx rendered scikit-learn.org. See: https://github.com/scikit-learn/scikit-learn/issues/21755 */display: inline-block !important;position: relative;}#sk-bf916e64-cbd8-493a-9b90-d2e3632950b6 div.sk-text-repr-fallback {display: none;}</style><div id=\"sk-bf916e64-cbd8-493a-9b90-d2e3632950b6\" class=\"sk-top-container\"><div class=\"sk-text-repr-fallback\"><pre>Pipeline(steps=[(&#x27;columntransformer&#x27;,\n",
       "                 ColumnTransformer(transformers=[(&#x27;categorical&#x27;,\n",
       "                                                  Pipeline(steps=[(&#x27;imputation_mean&#x27;,\n",
       "                                                                   SimpleImputer(fill_value=&#x27;missing&#x27;,\n",
       "                                                                                 strategy=&#x27;constant&#x27;)),\n",
       "                                                                  (&#x27;onehot&#x27;,\n",
       "                                                                   OneHotEncoder(handle_unknown=&#x27;ignore&#x27;))]),\n",
       "                                                  Index([&#x27;Gender&#x27;, &#x27;Age&#x27;, &#x27;City_Category&#x27;, &#x27;Stay_In_Current_City_Years&#x27;], dtype=&#x27;object&#x27;)),\n",
       "                                                 (&#x27;numerical&#x27;,\n",
       "                                                  Pipeline(steps=[(&#x27;imputation_mode&#x27;,\n",
       "                                                                   SimpleImputer(strategy=&#x27;most_frequent&#x27;)),\n",
       "                                                                  (&#x27;standard_scaler&#x27;,\n",
       "                                                                   StandardScaler())]),\n",
       "                                                  Index([&#x27;Occupation&#x27;, &#x27;Marital_Status&#x27;, &#x27;Product_Category_1&#x27;,\n",
       "       &#x27;Product_Category_2&#x27;, &#x27;Product_Category_3&#x27;],\n",
       "      dtype=&#x27;object&#x27;))])),\n",
       "                (&#x27;decisiontreeregressor&#x27;,\n",
       "                 DecisionTreeRegressor(random_state=0))])</pre><b>Please rerun this cell to show the HTML repr or trust the notebook.</b></div><div class=\"sk-container\" hidden><div class=\"sk-item sk-dashed-wrapped\"><div class=\"sk-label-container\"><div class=\"sk-label sk-toggleable\"><input class=\"sk-toggleable__control sk-hidden--visually\" id=\"98ad3dec-2f05-446a-b5ca-c066f486bf52\" type=\"checkbox\" ><label for=\"98ad3dec-2f05-446a-b5ca-c066f486bf52\" class=\"sk-toggleable__label sk-toggleable__label-arrow\">Pipeline</label><div class=\"sk-toggleable__content\"><pre>Pipeline(steps=[(&#x27;columntransformer&#x27;,\n",
       "                 ColumnTransformer(transformers=[(&#x27;categorical&#x27;,\n",
       "                                                  Pipeline(steps=[(&#x27;imputation_mean&#x27;,\n",
       "                                                                   SimpleImputer(fill_value=&#x27;missing&#x27;,\n",
       "                                                                                 strategy=&#x27;constant&#x27;)),\n",
       "                                                                  (&#x27;onehot&#x27;,\n",
       "                                                                   OneHotEncoder(handle_unknown=&#x27;ignore&#x27;))]),\n",
       "                                                  Index([&#x27;Gender&#x27;, &#x27;Age&#x27;, &#x27;City_Category&#x27;, &#x27;Stay_In_Current_City_Years&#x27;], dtype=&#x27;object&#x27;)),\n",
       "                                                 (&#x27;numerical&#x27;,\n",
       "                                                  Pipeline(steps=[(&#x27;imputation_mode&#x27;,\n",
       "                                                                   SimpleImputer(strategy=&#x27;most_frequent&#x27;)),\n",
       "                                                                  (&#x27;standard_scaler&#x27;,\n",
       "                                                                   StandardScaler())]),\n",
       "                                                  Index([&#x27;Occupation&#x27;, &#x27;Marital_Status&#x27;, &#x27;Product_Category_1&#x27;,\n",
       "       &#x27;Product_Category_2&#x27;, &#x27;Product_Category_3&#x27;],\n",
       "      dtype=&#x27;object&#x27;))])),\n",
       "                (&#x27;decisiontreeregressor&#x27;,\n",
       "                 DecisionTreeRegressor(random_state=0))])</pre></div></div></div><div class=\"sk-serial\"><div class=\"sk-item sk-dashed-wrapped\"><div class=\"sk-label-container\"><div class=\"sk-label sk-toggleable\"><input class=\"sk-toggleable__control sk-hidden--visually\" id=\"d7911919-205e-45ec-b8fd-110d919fb8c2\" type=\"checkbox\" ><label for=\"d7911919-205e-45ec-b8fd-110d919fb8c2\" class=\"sk-toggleable__label sk-toggleable__label-arrow\">columntransformer: ColumnTransformer</label><div class=\"sk-toggleable__content\"><pre>ColumnTransformer(transformers=[(&#x27;categorical&#x27;,\n",
       "                                 Pipeline(steps=[(&#x27;imputation_mean&#x27;,\n",
       "                                                  SimpleImputer(fill_value=&#x27;missing&#x27;,\n",
       "                                                                strategy=&#x27;constant&#x27;)),\n",
       "                                                 (&#x27;onehot&#x27;,\n",
       "                                                  OneHotEncoder(handle_unknown=&#x27;ignore&#x27;))]),\n",
       "                                 Index([&#x27;Gender&#x27;, &#x27;Age&#x27;, &#x27;City_Category&#x27;, &#x27;Stay_In_Current_City_Years&#x27;], dtype=&#x27;object&#x27;)),\n",
       "                                (&#x27;numerical&#x27;,\n",
       "                                 Pipeline(steps=[(&#x27;imputation_mode&#x27;,\n",
       "                                                  SimpleImputer(strategy=&#x27;most_frequent&#x27;)),\n",
       "                                                 (&#x27;standard_scaler&#x27;,\n",
       "                                                  StandardScaler())]),\n",
       "                                 Index([&#x27;Occupation&#x27;, &#x27;Marital_Status&#x27;, &#x27;Product_Category_1&#x27;,\n",
       "       &#x27;Product_Category_2&#x27;, &#x27;Product_Category_3&#x27;],\n",
       "      dtype=&#x27;object&#x27;))])</pre></div></div></div><div class=\"sk-parallel\"><div class=\"sk-parallel-item\"><div class=\"sk-item\"><div class=\"sk-label-container\"><div class=\"sk-label sk-toggleable\"><input class=\"sk-toggleable__control sk-hidden--visually\" id=\"dcf3c320-ec57-463d-8d02-807abc17c168\" type=\"checkbox\" ><label for=\"dcf3c320-ec57-463d-8d02-807abc17c168\" class=\"sk-toggleable__label sk-toggleable__label-arrow\">categorical</label><div class=\"sk-toggleable__content\"><pre>Index([&#x27;Gender&#x27;, &#x27;Age&#x27;, &#x27;City_Category&#x27;, &#x27;Stay_In_Current_City_Years&#x27;], dtype=&#x27;object&#x27;)</pre></div></div></div><div class=\"sk-serial\"><div class=\"sk-item\"><div class=\"sk-serial\"><div class=\"sk-item\"><div class=\"sk-estimator sk-toggleable\"><input class=\"sk-toggleable__control sk-hidden--visually\" id=\"59db6a3b-fd9f-42eb-9a62-35c587bd0c72\" type=\"checkbox\" ><label for=\"59db6a3b-fd9f-42eb-9a62-35c587bd0c72\" class=\"sk-toggleable__label sk-toggleable__label-arrow\">SimpleImputer</label><div class=\"sk-toggleable__content\"><pre>SimpleImputer(fill_value=&#x27;missing&#x27;, strategy=&#x27;constant&#x27;)</pre></div></div></div><div class=\"sk-item\"><div class=\"sk-estimator sk-toggleable\"><input class=\"sk-toggleable__control sk-hidden--visually\" id=\"fd3add8c-5620-459d-833a-eadb1810297d\" type=\"checkbox\" ><label for=\"fd3add8c-5620-459d-833a-eadb1810297d\" class=\"sk-toggleable__label sk-toggleable__label-arrow\">OneHotEncoder</label><div class=\"sk-toggleable__content\"><pre>OneHotEncoder(handle_unknown=&#x27;ignore&#x27;)</pre></div></div></div></div></div></div></div></div><div class=\"sk-parallel-item\"><div class=\"sk-item\"><div class=\"sk-label-container\"><div class=\"sk-label sk-toggleable\"><input class=\"sk-toggleable__control sk-hidden--visually\" id=\"24dccb84-b039-49fe-a9bd-ab76d6a4be3d\" type=\"checkbox\" ><label for=\"24dccb84-b039-49fe-a9bd-ab76d6a4be3d\" class=\"sk-toggleable__label sk-toggleable__label-arrow\">numerical</label><div class=\"sk-toggleable__content\"><pre>Index([&#x27;Occupation&#x27;, &#x27;Marital_Status&#x27;, &#x27;Product_Category_1&#x27;,\n",
       "       &#x27;Product_Category_2&#x27;, &#x27;Product_Category_3&#x27;],\n",
       "      dtype=&#x27;object&#x27;)</pre></div></div></div><div class=\"sk-serial\"><div class=\"sk-item\"><div class=\"sk-serial\"><div class=\"sk-item\"><div class=\"sk-estimator sk-toggleable\"><input class=\"sk-toggleable__control sk-hidden--visually\" id=\"06189095-519c-4e1c-9873-982e57a4d2aa\" type=\"checkbox\" ><label for=\"06189095-519c-4e1c-9873-982e57a4d2aa\" class=\"sk-toggleable__label sk-toggleable__label-arrow\">SimpleImputer</label><div class=\"sk-toggleable__content\"><pre>SimpleImputer(strategy=&#x27;most_frequent&#x27;)</pre></div></div></div><div class=\"sk-item\"><div class=\"sk-estimator sk-toggleable\"><input class=\"sk-toggleable__control sk-hidden--visually\" id=\"d0fb16d1-83d8-46c2-88b4-8e5107b75d35\" type=\"checkbox\" ><label for=\"d0fb16d1-83d8-46c2-88b4-8e5107b75d35\" class=\"sk-toggleable__label sk-toggleable__label-arrow\">StandardScaler</label><div class=\"sk-toggleable__content\"><pre>StandardScaler()</pre></div></div></div></div></div></div></div></div></div></div><div class=\"sk-item\"><div class=\"sk-estimator sk-toggleable\"><input class=\"sk-toggleable__control sk-hidden--visually\" id=\"a3c6d3aa-99ef-4084-9986-78b6aaaab819\" type=\"checkbox\" ><label for=\"a3c6d3aa-99ef-4084-9986-78b6aaaab819\" class=\"sk-toggleable__label sk-toggleable__label-arrow\">DecisionTreeRegressor</label><div class=\"sk-toggleable__content\"><pre>DecisionTreeRegressor(random_state=0)</pre></div></div></div></div></div></div></div>"
      ],
      "text/plain": [
       "Pipeline(steps=[('columntransformer',\n",
       "                 ColumnTransformer(transformers=[('categorical',\n",
       "                                                  Pipeline(steps=[('imputation_mean',\n",
       "                                                                   SimpleImputer(fill_value='missing',\n",
       "                                                                                 strategy='constant')),\n",
       "                                                                  ('onehot',\n",
       "                                                                   OneHotEncoder(handle_unknown='ignore'))]),\n",
       "                                                  Index(['Gender', 'Age', 'City_Category', 'Stay_In_Current_City_Years'], dtype='object')),\n",
       "                                                 ('numerical',\n",
       "                                                  Pipeline(steps=[('imputation_mode',\n",
       "                                                                   SimpleImputer(strategy='most_frequent')),\n",
       "                                                                  ('standard_scaler',\n",
       "                                                                   StandardScaler())]),\n",
       "                                                  Index(['Occupation', 'Marital_Status', 'Product_Category_1',\n",
       "       'Product_Category_2', 'Product_Category_3'],\n",
       "      dtype='object'))])),\n",
       "                ('decisiontreeregressor',\n",
       "                 DecisionTreeRegressor(random_state=0))])"
      ]
     },
     "execution_count": 39,
     "metadata": {},
     "output_type": "execute_result"
    }
   ],
   "source": [
    "dt=make_pipeline(preprocessor, DecisionTreeRegressor(random_state=0))\n",
    "dt"
   ]
  },
  {
   "cell_type": "code",
   "execution_count": 40,
   "id": "14e60c95",
   "metadata": {},
   "outputs": [
    {
     "data": {
      "text/html": [
       "<style>#sk-b4b477f8-4eb2-4374-b245-20a5ef2b6472 {color: black;background-color: white;}#sk-b4b477f8-4eb2-4374-b245-20a5ef2b6472 pre{padding: 0;}#sk-b4b477f8-4eb2-4374-b245-20a5ef2b6472 div.sk-toggleable {background-color: white;}#sk-b4b477f8-4eb2-4374-b245-20a5ef2b6472 label.sk-toggleable__label {cursor: pointer;display: block;width: 100%;margin-bottom: 0;padding: 0.3em;box-sizing: border-box;text-align: center;}#sk-b4b477f8-4eb2-4374-b245-20a5ef2b6472 label.sk-toggleable__label-arrow:before {content: \"▸\";float: left;margin-right: 0.25em;color: #696969;}#sk-b4b477f8-4eb2-4374-b245-20a5ef2b6472 label.sk-toggleable__label-arrow:hover:before {color: black;}#sk-b4b477f8-4eb2-4374-b245-20a5ef2b6472 div.sk-estimator:hover label.sk-toggleable__label-arrow:before {color: black;}#sk-b4b477f8-4eb2-4374-b245-20a5ef2b6472 div.sk-toggleable__content {max-height: 0;max-width: 0;overflow: hidden;text-align: left;background-color: #f0f8ff;}#sk-b4b477f8-4eb2-4374-b245-20a5ef2b6472 div.sk-toggleable__content pre {margin: 0.2em;color: black;border-radius: 0.25em;background-color: #f0f8ff;}#sk-b4b477f8-4eb2-4374-b245-20a5ef2b6472 input.sk-toggleable__control:checked~div.sk-toggleable__content {max-height: 200px;max-width: 100%;overflow: auto;}#sk-b4b477f8-4eb2-4374-b245-20a5ef2b6472 input.sk-toggleable__control:checked~label.sk-toggleable__label-arrow:before {content: \"▾\";}#sk-b4b477f8-4eb2-4374-b245-20a5ef2b6472 div.sk-estimator input.sk-toggleable__control:checked~label.sk-toggleable__label {background-color: #d4ebff;}#sk-b4b477f8-4eb2-4374-b245-20a5ef2b6472 div.sk-label input.sk-toggleable__control:checked~label.sk-toggleable__label {background-color: #d4ebff;}#sk-b4b477f8-4eb2-4374-b245-20a5ef2b6472 input.sk-hidden--visually {border: 0;clip: rect(1px 1px 1px 1px);clip: rect(1px, 1px, 1px, 1px);height: 1px;margin: -1px;overflow: hidden;padding: 0;position: absolute;width: 1px;}#sk-b4b477f8-4eb2-4374-b245-20a5ef2b6472 div.sk-estimator {font-family: monospace;background-color: #f0f8ff;border: 1px dotted black;border-radius: 0.25em;box-sizing: border-box;margin-bottom: 0.5em;}#sk-b4b477f8-4eb2-4374-b245-20a5ef2b6472 div.sk-estimator:hover {background-color: #d4ebff;}#sk-b4b477f8-4eb2-4374-b245-20a5ef2b6472 div.sk-parallel-item::after {content: \"\";width: 100%;border-bottom: 1px solid gray;flex-grow: 1;}#sk-b4b477f8-4eb2-4374-b245-20a5ef2b6472 div.sk-label:hover label.sk-toggleable__label {background-color: #d4ebff;}#sk-b4b477f8-4eb2-4374-b245-20a5ef2b6472 div.sk-serial::before {content: \"\";position: absolute;border-left: 1px solid gray;box-sizing: border-box;top: 2em;bottom: 0;left: 50%;}#sk-b4b477f8-4eb2-4374-b245-20a5ef2b6472 div.sk-serial {display: flex;flex-direction: column;align-items: center;background-color: white;padding-right: 0.2em;padding-left: 0.2em;}#sk-b4b477f8-4eb2-4374-b245-20a5ef2b6472 div.sk-item {z-index: 1;}#sk-b4b477f8-4eb2-4374-b245-20a5ef2b6472 div.sk-parallel {display: flex;align-items: stretch;justify-content: center;background-color: white;}#sk-b4b477f8-4eb2-4374-b245-20a5ef2b6472 div.sk-parallel::before {content: \"\";position: absolute;border-left: 1px solid gray;box-sizing: border-box;top: 2em;bottom: 0;left: 50%;}#sk-b4b477f8-4eb2-4374-b245-20a5ef2b6472 div.sk-parallel-item {display: flex;flex-direction: column;position: relative;background-color: white;}#sk-b4b477f8-4eb2-4374-b245-20a5ef2b6472 div.sk-parallel-item:first-child::after {align-self: flex-end;width: 50%;}#sk-b4b477f8-4eb2-4374-b245-20a5ef2b6472 div.sk-parallel-item:last-child::after {align-self: flex-start;width: 50%;}#sk-b4b477f8-4eb2-4374-b245-20a5ef2b6472 div.sk-parallel-item:only-child::after {width: 0;}#sk-b4b477f8-4eb2-4374-b245-20a5ef2b6472 div.sk-dashed-wrapped {border: 1px dashed gray;margin: 0 0.4em 0.5em 0.4em;box-sizing: border-box;padding-bottom: 0.4em;background-color: white;position: relative;}#sk-b4b477f8-4eb2-4374-b245-20a5ef2b6472 div.sk-label label {font-family: monospace;font-weight: bold;background-color: white;display: inline-block;line-height: 1.2em;}#sk-b4b477f8-4eb2-4374-b245-20a5ef2b6472 div.sk-label-container {position: relative;z-index: 2;text-align: center;}#sk-b4b477f8-4eb2-4374-b245-20a5ef2b6472 div.sk-container {/* jupyter's `normalize.less` sets `[hidden] { display: none; }` but bootstrap.min.css set `[hidden] { display: none !important; }` so we also need the `!important` here to be able to override the default hidden behavior on the sphinx rendered scikit-learn.org. See: https://github.com/scikit-learn/scikit-learn/issues/21755 */display: inline-block !important;position: relative;}#sk-b4b477f8-4eb2-4374-b245-20a5ef2b6472 div.sk-text-repr-fallback {display: none;}</style><div id=\"sk-b4b477f8-4eb2-4374-b245-20a5ef2b6472\" class=\"sk-top-container\"><div class=\"sk-text-repr-fallback\"><pre>Pipeline(steps=[(&#x27;columntransformer&#x27;,\n",
       "                 ColumnTransformer(transformers=[(&#x27;categorical&#x27;,\n",
       "                                                  Pipeline(steps=[(&#x27;imputation_mean&#x27;,\n",
       "                                                                   SimpleImputer(fill_value=&#x27;missing&#x27;,\n",
       "                                                                                 strategy=&#x27;constant&#x27;)),\n",
       "                                                                  (&#x27;onehot&#x27;,\n",
       "                                                                   OneHotEncoder(handle_unknown=&#x27;ignore&#x27;))]),\n",
       "                                                  Index([&#x27;Gender&#x27;, &#x27;Age&#x27;, &#x27;City_Category&#x27;, &#x27;Stay_In_Current_City_Years&#x27;], dtype=&#x27;object&#x27;)),\n",
       "                                                 (&#x27;numerical&#x27;,\n",
       "                                                  Pipeline(steps=[(&#x27;imputation_mode&#x27;,\n",
       "                                                                   SimpleImputer(strategy=&#x27;most_frequent&#x27;)),\n",
       "                                                                  (&#x27;standard_scaler&#x27;,\n",
       "                                                                   StandardScaler())]),\n",
       "                                                  Index([&#x27;Occupation&#x27;, &#x27;Marital_Status&#x27;, &#x27;Product_Category_1&#x27;,\n",
       "       &#x27;Product_Category_2&#x27;, &#x27;Product_Category_3&#x27;],\n",
       "      dtype=&#x27;object&#x27;))])),\n",
       "                (&#x27;decisiontreeregressor&#x27;,\n",
       "                 DecisionTreeRegressor(random_state=0))])</pre><b>Please rerun this cell to show the HTML repr or trust the notebook.</b></div><div class=\"sk-container\" hidden><div class=\"sk-item sk-dashed-wrapped\"><div class=\"sk-label-container\"><div class=\"sk-label sk-toggleable\"><input class=\"sk-toggleable__control sk-hidden--visually\" id=\"248300fc-8671-41f1-b590-ac530c79f17d\" type=\"checkbox\" ><label for=\"248300fc-8671-41f1-b590-ac530c79f17d\" class=\"sk-toggleable__label sk-toggleable__label-arrow\">Pipeline</label><div class=\"sk-toggleable__content\"><pre>Pipeline(steps=[(&#x27;columntransformer&#x27;,\n",
       "                 ColumnTransformer(transformers=[(&#x27;categorical&#x27;,\n",
       "                                                  Pipeline(steps=[(&#x27;imputation_mean&#x27;,\n",
       "                                                                   SimpleImputer(fill_value=&#x27;missing&#x27;,\n",
       "                                                                                 strategy=&#x27;constant&#x27;)),\n",
       "                                                                  (&#x27;onehot&#x27;,\n",
       "                                                                   OneHotEncoder(handle_unknown=&#x27;ignore&#x27;))]),\n",
       "                                                  Index([&#x27;Gender&#x27;, &#x27;Age&#x27;, &#x27;City_Category&#x27;, &#x27;Stay_In_Current_City_Years&#x27;], dtype=&#x27;object&#x27;)),\n",
       "                                                 (&#x27;numerical&#x27;,\n",
       "                                                  Pipeline(steps=[(&#x27;imputation_mode&#x27;,\n",
       "                                                                   SimpleImputer(strategy=&#x27;most_frequent&#x27;)),\n",
       "                                                                  (&#x27;standard_scaler&#x27;,\n",
       "                                                                   StandardScaler())]),\n",
       "                                                  Index([&#x27;Occupation&#x27;, &#x27;Marital_Status&#x27;, &#x27;Product_Category_1&#x27;,\n",
       "       &#x27;Product_Category_2&#x27;, &#x27;Product_Category_3&#x27;],\n",
       "      dtype=&#x27;object&#x27;))])),\n",
       "                (&#x27;decisiontreeregressor&#x27;,\n",
       "                 DecisionTreeRegressor(random_state=0))])</pre></div></div></div><div class=\"sk-serial\"><div class=\"sk-item sk-dashed-wrapped\"><div class=\"sk-label-container\"><div class=\"sk-label sk-toggleable\"><input class=\"sk-toggleable__control sk-hidden--visually\" id=\"f2e885fa-b1c2-48ba-834f-1f813bbe736f\" type=\"checkbox\" ><label for=\"f2e885fa-b1c2-48ba-834f-1f813bbe736f\" class=\"sk-toggleable__label sk-toggleable__label-arrow\">columntransformer: ColumnTransformer</label><div class=\"sk-toggleable__content\"><pre>ColumnTransformer(transformers=[(&#x27;categorical&#x27;,\n",
       "                                 Pipeline(steps=[(&#x27;imputation_mean&#x27;,\n",
       "                                                  SimpleImputer(fill_value=&#x27;missing&#x27;,\n",
       "                                                                strategy=&#x27;constant&#x27;)),\n",
       "                                                 (&#x27;onehot&#x27;,\n",
       "                                                  OneHotEncoder(handle_unknown=&#x27;ignore&#x27;))]),\n",
       "                                 Index([&#x27;Gender&#x27;, &#x27;Age&#x27;, &#x27;City_Category&#x27;, &#x27;Stay_In_Current_City_Years&#x27;], dtype=&#x27;object&#x27;)),\n",
       "                                (&#x27;numerical&#x27;,\n",
       "                                 Pipeline(steps=[(&#x27;imputation_mode&#x27;,\n",
       "                                                  SimpleImputer(strategy=&#x27;most_frequent&#x27;)),\n",
       "                                                 (&#x27;standard_scaler&#x27;,\n",
       "                                                  StandardScaler())]),\n",
       "                                 Index([&#x27;Occupation&#x27;, &#x27;Marital_Status&#x27;, &#x27;Product_Category_1&#x27;,\n",
       "       &#x27;Product_Category_2&#x27;, &#x27;Product_Category_3&#x27;],\n",
       "      dtype=&#x27;object&#x27;))])</pre></div></div></div><div class=\"sk-parallel\"><div class=\"sk-parallel-item\"><div class=\"sk-item\"><div class=\"sk-label-container\"><div class=\"sk-label sk-toggleable\"><input class=\"sk-toggleable__control sk-hidden--visually\" id=\"58ddb94b-280b-4265-872b-50670120a93c\" type=\"checkbox\" ><label for=\"58ddb94b-280b-4265-872b-50670120a93c\" class=\"sk-toggleable__label sk-toggleable__label-arrow\">categorical</label><div class=\"sk-toggleable__content\"><pre>Index([&#x27;Gender&#x27;, &#x27;Age&#x27;, &#x27;City_Category&#x27;, &#x27;Stay_In_Current_City_Years&#x27;], dtype=&#x27;object&#x27;)</pre></div></div></div><div class=\"sk-serial\"><div class=\"sk-item\"><div class=\"sk-serial\"><div class=\"sk-item\"><div class=\"sk-estimator sk-toggleable\"><input class=\"sk-toggleable__control sk-hidden--visually\" id=\"7cfa1639-766a-4cda-b12a-225e476eeecd\" type=\"checkbox\" ><label for=\"7cfa1639-766a-4cda-b12a-225e476eeecd\" class=\"sk-toggleable__label sk-toggleable__label-arrow\">SimpleImputer</label><div class=\"sk-toggleable__content\"><pre>SimpleImputer(fill_value=&#x27;missing&#x27;, strategy=&#x27;constant&#x27;)</pre></div></div></div><div class=\"sk-item\"><div class=\"sk-estimator sk-toggleable\"><input class=\"sk-toggleable__control sk-hidden--visually\" id=\"27cfaad6-a1e4-4856-ac4a-a95c4ef857b3\" type=\"checkbox\" ><label for=\"27cfaad6-a1e4-4856-ac4a-a95c4ef857b3\" class=\"sk-toggleable__label sk-toggleable__label-arrow\">OneHotEncoder</label><div class=\"sk-toggleable__content\"><pre>OneHotEncoder(handle_unknown=&#x27;ignore&#x27;)</pre></div></div></div></div></div></div></div></div><div class=\"sk-parallel-item\"><div class=\"sk-item\"><div class=\"sk-label-container\"><div class=\"sk-label sk-toggleable\"><input class=\"sk-toggleable__control sk-hidden--visually\" id=\"dcbaf2ba-1fba-4717-a7e6-6c41330c57f0\" type=\"checkbox\" ><label for=\"dcbaf2ba-1fba-4717-a7e6-6c41330c57f0\" class=\"sk-toggleable__label sk-toggleable__label-arrow\">numerical</label><div class=\"sk-toggleable__content\"><pre>Index([&#x27;Occupation&#x27;, &#x27;Marital_Status&#x27;, &#x27;Product_Category_1&#x27;,\n",
       "       &#x27;Product_Category_2&#x27;, &#x27;Product_Category_3&#x27;],\n",
       "      dtype=&#x27;object&#x27;)</pre></div></div></div><div class=\"sk-serial\"><div class=\"sk-item\"><div class=\"sk-serial\"><div class=\"sk-item\"><div class=\"sk-estimator sk-toggleable\"><input class=\"sk-toggleable__control sk-hidden--visually\" id=\"3b71154b-a896-426c-a9f9-306888b418a1\" type=\"checkbox\" ><label for=\"3b71154b-a896-426c-a9f9-306888b418a1\" class=\"sk-toggleable__label sk-toggleable__label-arrow\">SimpleImputer</label><div class=\"sk-toggleable__content\"><pre>SimpleImputer(strategy=&#x27;most_frequent&#x27;)</pre></div></div></div><div class=\"sk-item\"><div class=\"sk-estimator sk-toggleable\"><input class=\"sk-toggleable__control sk-hidden--visually\" id=\"4c7a49da-2c8a-4876-a47f-f7e9e537b516\" type=\"checkbox\" ><label for=\"4c7a49da-2c8a-4876-a47f-f7e9e537b516\" class=\"sk-toggleable__label sk-toggleable__label-arrow\">StandardScaler</label><div class=\"sk-toggleable__content\"><pre>StandardScaler()</pre></div></div></div></div></div></div></div></div></div></div><div class=\"sk-item\"><div class=\"sk-estimator sk-toggleable\"><input class=\"sk-toggleable__control sk-hidden--visually\" id=\"d0f261fd-b33e-43d5-81a2-cbe7b339a366\" type=\"checkbox\" ><label for=\"d0f261fd-b33e-43d5-81a2-cbe7b339a366\" class=\"sk-toggleable__label sk-toggleable__label-arrow\">DecisionTreeRegressor</label><div class=\"sk-toggleable__content\"><pre>DecisionTreeRegressor(random_state=0)</pre></div></div></div></div></div></div></div>"
      ],
      "text/plain": [
       "Pipeline(steps=[('columntransformer',\n",
       "                 ColumnTransformer(transformers=[('categorical',\n",
       "                                                  Pipeline(steps=[('imputation_mean',\n",
       "                                                                   SimpleImputer(fill_value='missing',\n",
       "                                                                                 strategy='constant')),\n",
       "                                                                  ('onehot',\n",
       "                                                                   OneHotEncoder(handle_unknown='ignore'))]),\n",
       "                                                  Index(['Gender', 'Age', 'City_Category', 'Stay_In_Current_City_Years'], dtype='object')),\n",
       "                                                 ('numerical',\n",
       "                                                  Pipeline(steps=[('imputation_mode',\n",
       "                                                                   SimpleImputer(strategy='most_frequent')),\n",
       "                                                                  ('standard_scaler',\n",
       "                                                                   StandardScaler())]),\n",
       "                                                  Index(['Occupation', 'Marital_Status', 'Product_Category_1',\n",
       "       'Product_Category_2', 'Product_Category_3'],\n",
       "      dtype='object'))])),\n",
       "                ('decisiontreeregressor',\n",
       "                 DecisionTreeRegressor(random_state=0))])"
      ]
     },
     "execution_count": 40,
     "metadata": {},
     "output_type": "execute_result"
    }
   ],
   "source": [
    "dt.fit(X_train, y_train)"
   ]
  },
  {
   "cell_type": "code",
   "execution_count": 41,
   "id": "76dc5b74",
   "metadata": {},
   "outputs": [],
   "source": [
    "y_pred_dt=dt.predict(X_test)"
   ]
  },
  {
   "cell_type": "code",
   "execution_count": 42,
   "id": "5243d5d1",
   "metadata": {},
   "outputs": [
    {
     "data": {
      "text/plain": [
       "2353.8488848596558"
      ]
     },
     "execution_count": 42,
     "metadata": {},
     "output_type": "execute_result"
    }
   ],
   "source": [
    "mean_absolute_error(y_test, y_pred_dt)"
   ]
  },
  {
   "cell_type": "code",
   "execution_count": 43,
   "id": "028bc25d",
   "metadata": {},
   "outputs": [
    {
     "data": {
      "text/plain": [
       "11068710.60804262"
      ]
     },
     "execution_count": 43,
     "metadata": {},
     "output_type": "execute_result"
    }
   ],
   "source": [
    "mean_squared_error(y_test, y_pred_dt)"
   ]
  },
  {
   "cell_type": "code",
   "execution_count": 44,
   "id": "cb64bb0e",
   "metadata": {},
   "outputs": [
    {
     "data": {
      "text/plain": [
       "0.5608051049917998"
      ]
     },
     "execution_count": 44,
     "metadata": {},
     "output_type": "execute_result"
    }
   ],
   "source": [
    "r2_score(y_test, y_pred_dt)"
   ]
  },
  {
   "cell_type": "code",
   "execution_count": 45,
   "id": "9ae0920f",
   "metadata": {},
   "outputs": [
    {
     "name": "stdout",
     "output_type": "stream",
     "text": [
      "RMSE of Decision Tree Regressor model is  3326.9671786843073\n"
     ]
    }
   ],
   "source": [
    "from math import sqrt\n",
    "print(\"RMSE of Decision Tree Regressor model is \",sqrt(mean_squared_error(y_test, y_pred_dt)))"
   ]
  },
  {
   "cell_type": "markdown",
   "id": "335925aa",
   "metadata": {},
   "source": [
    "### Random Forest Regressor"
   ]
  },
  {
   "cell_type": "code",
   "execution_count": 46,
   "id": "ab5aa424",
   "metadata": {},
   "outputs": [
    {
     "data": {
      "text/html": [
       "<style>#sk-076b3a17-cc18-4e0d-b68e-3147ca0ebe19 {color: black;background-color: white;}#sk-076b3a17-cc18-4e0d-b68e-3147ca0ebe19 pre{padding: 0;}#sk-076b3a17-cc18-4e0d-b68e-3147ca0ebe19 div.sk-toggleable {background-color: white;}#sk-076b3a17-cc18-4e0d-b68e-3147ca0ebe19 label.sk-toggleable__label {cursor: pointer;display: block;width: 100%;margin-bottom: 0;padding: 0.3em;box-sizing: border-box;text-align: center;}#sk-076b3a17-cc18-4e0d-b68e-3147ca0ebe19 label.sk-toggleable__label-arrow:before {content: \"▸\";float: left;margin-right: 0.25em;color: #696969;}#sk-076b3a17-cc18-4e0d-b68e-3147ca0ebe19 label.sk-toggleable__label-arrow:hover:before {color: black;}#sk-076b3a17-cc18-4e0d-b68e-3147ca0ebe19 div.sk-estimator:hover label.sk-toggleable__label-arrow:before {color: black;}#sk-076b3a17-cc18-4e0d-b68e-3147ca0ebe19 div.sk-toggleable__content {max-height: 0;max-width: 0;overflow: hidden;text-align: left;background-color: #f0f8ff;}#sk-076b3a17-cc18-4e0d-b68e-3147ca0ebe19 div.sk-toggleable__content pre {margin: 0.2em;color: black;border-radius: 0.25em;background-color: #f0f8ff;}#sk-076b3a17-cc18-4e0d-b68e-3147ca0ebe19 input.sk-toggleable__control:checked~div.sk-toggleable__content {max-height: 200px;max-width: 100%;overflow: auto;}#sk-076b3a17-cc18-4e0d-b68e-3147ca0ebe19 input.sk-toggleable__control:checked~label.sk-toggleable__label-arrow:before {content: \"▾\";}#sk-076b3a17-cc18-4e0d-b68e-3147ca0ebe19 div.sk-estimator input.sk-toggleable__control:checked~label.sk-toggleable__label {background-color: #d4ebff;}#sk-076b3a17-cc18-4e0d-b68e-3147ca0ebe19 div.sk-label input.sk-toggleable__control:checked~label.sk-toggleable__label {background-color: #d4ebff;}#sk-076b3a17-cc18-4e0d-b68e-3147ca0ebe19 input.sk-hidden--visually {border: 0;clip: rect(1px 1px 1px 1px);clip: rect(1px, 1px, 1px, 1px);height: 1px;margin: -1px;overflow: hidden;padding: 0;position: absolute;width: 1px;}#sk-076b3a17-cc18-4e0d-b68e-3147ca0ebe19 div.sk-estimator {font-family: monospace;background-color: #f0f8ff;border: 1px dotted black;border-radius: 0.25em;box-sizing: border-box;margin-bottom: 0.5em;}#sk-076b3a17-cc18-4e0d-b68e-3147ca0ebe19 div.sk-estimator:hover {background-color: #d4ebff;}#sk-076b3a17-cc18-4e0d-b68e-3147ca0ebe19 div.sk-parallel-item::after {content: \"\";width: 100%;border-bottom: 1px solid gray;flex-grow: 1;}#sk-076b3a17-cc18-4e0d-b68e-3147ca0ebe19 div.sk-label:hover label.sk-toggleable__label {background-color: #d4ebff;}#sk-076b3a17-cc18-4e0d-b68e-3147ca0ebe19 div.sk-serial::before {content: \"\";position: absolute;border-left: 1px solid gray;box-sizing: border-box;top: 2em;bottom: 0;left: 50%;}#sk-076b3a17-cc18-4e0d-b68e-3147ca0ebe19 div.sk-serial {display: flex;flex-direction: column;align-items: center;background-color: white;padding-right: 0.2em;padding-left: 0.2em;}#sk-076b3a17-cc18-4e0d-b68e-3147ca0ebe19 div.sk-item {z-index: 1;}#sk-076b3a17-cc18-4e0d-b68e-3147ca0ebe19 div.sk-parallel {display: flex;align-items: stretch;justify-content: center;background-color: white;}#sk-076b3a17-cc18-4e0d-b68e-3147ca0ebe19 div.sk-parallel::before {content: \"\";position: absolute;border-left: 1px solid gray;box-sizing: border-box;top: 2em;bottom: 0;left: 50%;}#sk-076b3a17-cc18-4e0d-b68e-3147ca0ebe19 div.sk-parallel-item {display: flex;flex-direction: column;position: relative;background-color: white;}#sk-076b3a17-cc18-4e0d-b68e-3147ca0ebe19 div.sk-parallel-item:first-child::after {align-self: flex-end;width: 50%;}#sk-076b3a17-cc18-4e0d-b68e-3147ca0ebe19 div.sk-parallel-item:last-child::after {align-self: flex-start;width: 50%;}#sk-076b3a17-cc18-4e0d-b68e-3147ca0ebe19 div.sk-parallel-item:only-child::after {width: 0;}#sk-076b3a17-cc18-4e0d-b68e-3147ca0ebe19 div.sk-dashed-wrapped {border: 1px dashed gray;margin: 0 0.4em 0.5em 0.4em;box-sizing: border-box;padding-bottom: 0.4em;background-color: white;position: relative;}#sk-076b3a17-cc18-4e0d-b68e-3147ca0ebe19 div.sk-label label {font-family: monospace;font-weight: bold;background-color: white;display: inline-block;line-height: 1.2em;}#sk-076b3a17-cc18-4e0d-b68e-3147ca0ebe19 div.sk-label-container {position: relative;z-index: 2;text-align: center;}#sk-076b3a17-cc18-4e0d-b68e-3147ca0ebe19 div.sk-container {/* jupyter's `normalize.less` sets `[hidden] { display: none; }` but bootstrap.min.css set `[hidden] { display: none !important; }` so we also need the `!important` here to be able to override the default hidden behavior on the sphinx rendered scikit-learn.org. See: https://github.com/scikit-learn/scikit-learn/issues/21755 */display: inline-block !important;position: relative;}#sk-076b3a17-cc18-4e0d-b68e-3147ca0ebe19 div.sk-text-repr-fallback {display: none;}</style><div id=\"sk-076b3a17-cc18-4e0d-b68e-3147ca0ebe19\" class=\"sk-top-container\"><div class=\"sk-text-repr-fallback\"><pre>Pipeline(steps=[(&#x27;columntransformer&#x27;,\n",
       "                 ColumnTransformer(transformers=[(&#x27;categorical&#x27;,\n",
       "                                                  Pipeline(steps=[(&#x27;imputation_mean&#x27;,\n",
       "                                                                   SimpleImputer(fill_value=&#x27;missing&#x27;,\n",
       "                                                                                 strategy=&#x27;constant&#x27;)),\n",
       "                                                                  (&#x27;onehot&#x27;,\n",
       "                                                                   OneHotEncoder(handle_unknown=&#x27;ignore&#x27;))]),\n",
       "                                                  Index([&#x27;Gender&#x27;, &#x27;Age&#x27;, &#x27;City_Category&#x27;, &#x27;Stay_In_Current_City_Years&#x27;], dtype=&#x27;object&#x27;)),\n",
       "                                                 (&#x27;numerical&#x27;,\n",
       "                                                  Pipeline(steps=[(&#x27;imputation_mode&#x27;,\n",
       "                                                                   SimpleImputer(strategy=&#x27;most_frequent&#x27;)),\n",
       "                                                                  (&#x27;standard_scaler&#x27;,\n",
       "                                                                   StandardScaler())]),\n",
       "                                                  Index([&#x27;Occupation&#x27;, &#x27;Marital_Status&#x27;, &#x27;Product_Category_1&#x27;,\n",
       "       &#x27;Product_Category_2&#x27;, &#x27;Product_Category_3&#x27;],\n",
       "      dtype=&#x27;object&#x27;))])),\n",
       "                (&#x27;randomforestregressor&#x27;,\n",
       "                 RandomForestRegressor(random_state=0))])</pre><b>Please rerun this cell to show the HTML repr or trust the notebook.</b></div><div class=\"sk-container\" hidden><div class=\"sk-item sk-dashed-wrapped\"><div class=\"sk-label-container\"><div class=\"sk-label sk-toggleable\"><input class=\"sk-toggleable__control sk-hidden--visually\" id=\"bfbe857e-f15f-4210-a6c1-bb19d2976018\" type=\"checkbox\" ><label for=\"bfbe857e-f15f-4210-a6c1-bb19d2976018\" class=\"sk-toggleable__label sk-toggleable__label-arrow\">Pipeline</label><div class=\"sk-toggleable__content\"><pre>Pipeline(steps=[(&#x27;columntransformer&#x27;,\n",
       "                 ColumnTransformer(transformers=[(&#x27;categorical&#x27;,\n",
       "                                                  Pipeline(steps=[(&#x27;imputation_mean&#x27;,\n",
       "                                                                   SimpleImputer(fill_value=&#x27;missing&#x27;,\n",
       "                                                                                 strategy=&#x27;constant&#x27;)),\n",
       "                                                                  (&#x27;onehot&#x27;,\n",
       "                                                                   OneHotEncoder(handle_unknown=&#x27;ignore&#x27;))]),\n",
       "                                                  Index([&#x27;Gender&#x27;, &#x27;Age&#x27;, &#x27;City_Category&#x27;, &#x27;Stay_In_Current_City_Years&#x27;], dtype=&#x27;object&#x27;)),\n",
       "                                                 (&#x27;numerical&#x27;,\n",
       "                                                  Pipeline(steps=[(&#x27;imputation_mode&#x27;,\n",
       "                                                                   SimpleImputer(strategy=&#x27;most_frequent&#x27;)),\n",
       "                                                                  (&#x27;standard_scaler&#x27;,\n",
       "                                                                   StandardScaler())]),\n",
       "                                                  Index([&#x27;Occupation&#x27;, &#x27;Marital_Status&#x27;, &#x27;Product_Category_1&#x27;,\n",
       "       &#x27;Product_Category_2&#x27;, &#x27;Product_Category_3&#x27;],\n",
       "      dtype=&#x27;object&#x27;))])),\n",
       "                (&#x27;randomforestregressor&#x27;,\n",
       "                 RandomForestRegressor(random_state=0))])</pre></div></div></div><div class=\"sk-serial\"><div class=\"sk-item sk-dashed-wrapped\"><div class=\"sk-label-container\"><div class=\"sk-label sk-toggleable\"><input class=\"sk-toggleable__control sk-hidden--visually\" id=\"55762a2b-c8e2-48f7-8806-8b20eac9c92d\" type=\"checkbox\" ><label for=\"55762a2b-c8e2-48f7-8806-8b20eac9c92d\" class=\"sk-toggleable__label sk-toggleable__label-arrow\">columntransformer: ColumnTransformer</label><div class=\"sk-toggleable__content\"><pre>ColumnTransformer(transformers=[(&#x27;categorical&#x27;,\n",
       "                                 Pipeline(steps=[(&#x27;imputation_mean&#x27;,\n",
       "                                                  SimpleImputer(fill_value=&#x27;missing&#x27;,\n",
       "                                                                strategy=&#x27;constant&#x27;)),\n",
       "                                                 (&#x27;onehot&#x27;,\n",
       "                                                  OneHotEncoder(handle_unknown=&#x27;ignore&#x27;))]),\n",
       "                                 Index([&#x27;Gender&#x27;, &#x27;Age&#x27;, &#x27;City_Category&#x27;, &#x27;Stay_In_Current_City_Years&#x27;], dtype=&#x27;object&#x27;)),\n",
       "                                (&#x27;numerical&#x27;,\n",
       "                                 Pipeline(steps=[(&#x27;imputation_mode&#x27;,\n",
       "                                                  SimpleImputer(strategy=&#x27;most_frequent&#x27;)),\n",
       "                                                 (&#x27;standard_scaler&#x27;,\n",
       "                                                  StandardScaler())]),\n",
       "                                 Index([&#x27;Occupation&#x27;, &#x27;Marital_Status&#x27;, &#x27;Product_Category_1&#x27;,\n",
       "       &#x27;Product_Category_2&#x27;, &#x27;Product_Category_3&#x27;],\n",
       "      dtype=&#x27;object&#x27;))])</pre></div></div></div><div class=\"sk-parallel\"><div class=\"sk-parallel-item\"><div class=\"sk-item\"><div class=\"sk-label-container\"><div class=\"sk-label sk-toggleable\"><input class=\"sk-toggleable__control sk-hidden--visually\" id=\"f4dfc311-b50c-4b28-9715-d05989f0e00f\" type=\"checkbox\" ><label for=\"f4dfc311-b50c-4b28-9715-d05989f0e00f\" class=\"sk-toggleable__label sk-toggleable__label-arrow\">categorical</label><div class=\"sk-toggleable__content\"><pre>Index([&#x27;Gender&#x27;, &#x27;Age&#x27;, &#x27;City_Category&#x27;, &#x27;Stay_In_Current_City_Years&#x27;], dtype=&#x27;object&#x27;)</pre></div></div></div><div class=\"sk-serial\"><div class=\"sk-item\"><div class=\"sk-serial\"><div class=\"sk-item\"><div class=\"sk-estimator sk-toggleable\"><input class=\"sk-toggleable__control sk-hidden--visually\" id=\"a8dc1d35-7e2f-4b1f-a1f2-66b9cddf4272\" type=\"checkbox\" ><label for=\"a8dc1d35-7e2f-4b1f-a1f2-66b9cddf4272\" class=\"sk-toggleable__label sk-toggleable__label-arrow\">SimpleImputer</label><div class=\"sk-toggleable__content\"><pre>SimpleImputer(fill_value=&#x27;missing&#x27;, strategy=&#x27;constant&#x27;)</pre></div></div></div><div class=\"sk-item\"><div class=\"sk-estimator sk-toggleable\"><input class=\"sk-toggleable__control sk-hidden--visually\" id=\"17e4e406-1f92-4f20-a481-b97930f0a8ef\" type=\"checkbox\" ><label for=\"17e4e406-1f92-4f20-a481-b97930f0a8ef\" class=\"sk-toggleable__label sk-toggleable__label-arrow\">OneHotEncoder</label><div class=\"sk-toggleable__content\"><pre>OneHotEncoder(handle_unknown=&#x27;ignore&#x27;)</pre></div></div></div></div></div></div></div></div><div class=\"sk-parallel-item\"><div class=\"sk-item\"><div class=\"sk-label-container\"><div class=\"sk-label sk-toggleable\"><input class=\"sk-toggleable__control sk-hidden--visually\" id=\"522bfd87-d09d-40c7-b5df-f35400cdbc44\" type=\"checkbox\" ><label for=\"522bfd87-d09d-40c7-b5df-f35400cdbc44\" class=\"sk-toggleable__label sk-toggleable__label-arrow\">numerical</label><div class=\"sk-toggleable__content\"><pre>Index([&#x27;Occupation&#x27;, &#x27;Marital_Status&#x27;, &#x27;Product_Category_1&#x27;,\n",
       "       &#x27;Product_Category_2&#x27;, &#x27;Product_Category_3&#x27;],\n",
       "      dtype=&#x27;object&#x27;)</pre></div></div></div><div class=\"sk-serial\"><div class=\"sk-item\"><div class=\"sk-serial\"><div class=\"sk-item\"><div class=\"sk-estimator sk-toggleable\"><input class=\"sk-toggleable__control sk-hidden--visually\" id=\"26111a33-ae2e-42c3-a1cf-715b6b3ea3d7\" type=\"checkbox\" ><label for=\"26111a33-ae2e-42c3-a1cf-715b6b3ea3d7\" class=\"sk-toggleable__label sk-toggleable__label-arrow\">SimpleImputer</label><div class=\"sk-toggleable__content\"><pre>SimpleImputer(strategy=&#x27;most_frequent&#x27;)</pre></div></div></div><div class=\"sk-item\"><div class=\"sk-estimator sk-toggleable\"><input class=\"sk-toggleable__control sk-hidden--visually\" id=\"430e210a-ce5b-4ef8-a81b-3a61de5df790\" type=\"checkbox\" ><label for=\"430e210a-ce5b-4ef8-a81b-3a61de5df790\" class=\"sk-toggleable__label sk-toggleable__label-arrow\">StandardScaler</label><div class=\"sk-toggleable__content\"><pre>StandardScaler()</pre></div></div></div></div></div></div></div></div></div></div><div class=\"sk-item\"><div class=\"sk-estimator sk-toggleable\"><input class=\"sk-toggleable__control sk-hidden--visually\" id=\"eaba9444-dcd5-4d9f-98ee-513f0f4dd51c\" type=\"checkbox\" ><label for=\"eaba9444-dcd5-4d9f-98ee-513f0f4dd51c\" class=\"sk-toggleable__label sk-toggleable__label-arrow\">RandomForestRegressor</label><div class=\"sk-toggleable__content\"><pre>RandomForestRegressor(random_state=0)</pre></div></div></div></div></div></div></div>"
      ],
      "text/plain": [
       "Pipeline(steps=[('columntransformer',\n",
       "                 ColumnTransformer(transformers=[('categorical',\n",
       "                                                  Pipeline(steps=[('imputation_mean',\n",
       "                                                                   SimpleImputer(fill_value='missing',\n",
       "                                                                                 strategy='constant')),\n",
       "                                                                  ('onehot',\n",
       "                                                                   OneHotEncoder(handle_unknown='ignore'))]),\n",
       "                                                  Index(['Gender', 'Age', 'City_Category', 'Stay_In_Current_City_Years'], dtype='object')),\n",
       "                                                 ('numerical',\n",
       "                                                  Pipeline(steps=[('imputation_mode',\n",
       "                                                                   SimpleImputer(strategy='most_frequent')),\n",
       "                                                                  ('standard_scaler',\n",
       "                                                                   StandardScaler())]),\n",
       "                                                  Index(['Occupation', 'Marital_Status', 'Product_Category_1',\n",
       "       'Product_Category_2', 'Product_Category_3'],\n",
       "      dtype='object'))])),\n",
       "                ('randomforestregressor',\n",
       "                 RandomForestRegressor(random_state=0))])"
      ]
     },
     "execution_count": 46,
     "metadata": {},
     "output_type": "execute_result"
    }
   ],
   "source": [
    "rf=make_pipeline(preprocessor, RandomForestRegressor(random_state=0))\n",
    "rf"
   ]
  },
  {
   "cell_type": "code",
   "execution_count": 47,
   "id": "a491ef61",
   "metadata": {},
   "outputs": [
    {
     "data": {
      "text/html": [
       "<style>#sk-603a230d-9ab4-43e9-a760-a1db4f9ac71b {color: black;background-color: white;}#sk-603a230d-9ab4-43e9-a760-a1db4f9ac71b pre{padding: 0;}#sk-603a230d-9ab4-43e9-a760-a1db4f9ac71b div.sk-toggleable {background-color: white;}#sk-603a230d-9ab4-43e9-a760-a1db4f9ac71b label.sk-toggleable__label {cursor: pointer;display: block;width: 100%;margin-bottom: 0;padding: 0.3em;box-sizing: border-box;text-align: center;}#sk-603a230d-9ab4-43e9-a760-a1db4f9ac71b label.sk-toggleable__label-arrow:before {content: \"▸\";float: left;margin-right: 0.25em;color: #696969;}#sk-603a230d-9ab4-43e9-a760-a1db4f9ac71b label.sk-toggleable__label-arrow:hover:before {color: black;}#sk-603a230d-9ab4-43e9-a760-a1db4f9ac71b div.sk-estimator:hover label.sk-toggleable__label-arrow:before {color: black;}#sk-603a230d-9ab4-43e9-a760-a1db4f9ac71b div.sk-toggleable__content {max-height: 0;max-width: 0;overflow: hidden;text-align: left;background-color: #f0f8ff;}#sk-603a230d-9ab4-43e9-a760-a1db4f9ac71b div.sk-toggleable__content pre {margin: 0.2em;color: black;border-radius: 0.25em;background-color: #f0f8ff;}#sk-603a230d-9ab4-43e9-a760-a1db4f9ac71b input.sk-toggleable__control:checked~div.sk-toggleable__content {max-height: 200px;max-width: 100%;overflow: auto;}#sk-603a230d-9ab4-43e9-a760-a1db4f9ac71b input.sk-toggleable__control:checked~label.sk-toggleable__label-arrow:before {content: \"▾\";}#sk-603a230d-9ab4-43e9-a760-a1db4f9ac71b div.sk-estimator input.sk-toggleable__control:checked~label.sk-toggleable__label {background-color: #d4ebff;}#sk-603a230d-9ab4-43e9-a760-a1db4f9ac71b div.sk-label input.sk-toggleable__control:checked~label.sk-toggleable__label {background-color: #d4ebff;}#sk-603a230d-9ab4-43e9-a760-a1db4f9ac71b input.sk-hidden--visually {border: 0;clip: rect(1px 1px 1px 1px);clip: rect(1px, 1px, 1px, 1px);height: 1px;margin: -1px;overflow: hidden;padding: 0;position: absolute;width: 1px;}#sk-603a230d-9ab4-43e9-a760-a1db4f9ac71b div.sk-estimator {font-family: monospace;background-color: #f0f8ff;border: 1px dotted black;border-radius: 0.25em;box-sizing: border-box;margin-bottom: 0.5em;}#sk-603a230d-9ab4-43e9-a760-a1db4f9ac71b div.sk-estimator:hover {background-color: #d4ebff;}#sk-603a230d-9ab4-43e9-a760-a1db4f9ac71b div.sk-parallel-item::after {content: \"\";width: 100%;border-bottom: 1px solid gray;flex-grow: 1;}#sk-603a230d-9ab4-43e9-a760-a1db4f9ac71b div.sk-label:hover label.sk-toggleable__label {background-color: #d4ebff;}#sk-603a230d-9ab4-43e9-a760-a1db4f9ac71b div.sk-serial::before {content: \"\";position: absolute;border-left: 1px solid gray;box-sizing: border-box;top: 2em;bottom: 0;left: 50%;}#sk-603a230d-9ab4-43e9-a760-a1db4f9ac71b div.sk-serial {display: flex;flex-direction: column;align-items: center;background-color: white;padding-right: 0.2em;padding-left: 0.2em;}#sk-603a230d-9ab4-43e9-a760-a1db4f9ac71b div.sk-item {z-index: 1;}#sk-603a230d-9ab4-43e9-a760-a1db4f9ac71b div.sk-parallel {display: flex;align-items: stretch;justify-content: center;background-color: white;}#sk-603a230d-9ab4-43e9-a760-a1db4f9ac71b div.sk-parallel::before {content: \"\";position: absolute;border-left: 1px solid gray;box-sizing: border-box;top: 2em;bottom: 0;left: 50%;}#sk-603a230d-9ab4-43e9-a760-a1db4f9ac71b div.sk-parallel-item {display: flex;flex-direction: column;position: relative;background-color: white;}#sk-603a230d-9ab4-43e9-a760-a1db4f9ac71b div.sk-parallel-item:first-child::after {align-self: flex-end;width: 50%;}#sk-603a230d-9ab4-43e9-a760-a1db4f9ac71b div.sk-parallel-item:last-child::after {align-self: flex-start;width: 50%;}#sk-603a230d-9ab4-43e9-a760-a1db4f9ac71b div.sk-parallel-item:only-child::after {width: 0;}#sk-603a230d-9ab4-43e9-a760-a1db4f9ac71b div.sk-dashed-wrapped {border: 1px dashed gray;margin: 0 0.4em 0.5em 0.4em;box-sizing: border-box;padding-bottom: 0.4em;background-color: white;position: relative;}#sk-603a230d-9ab4-43e9-a760-a1db4f9ac71b div.sk-label label {font-family: monospace;font-weight: bold;background-color: white;display: inline-block;line-height: 1.2em;}#sk-603a230d-9ab4-43e9-a760-a1db4f9ac71b div.sk-label-container {position: relative;z-index: 2;text-align: center;}#sk-603a230d-9ab4-43e9-a760-a1db4f9ac71b div.sk-container {/* jupyter's `normalize.less` sets `[hidden] { display: none; }` but bootstrap.min.css set `[hidden] { display: none !important; }` so we also need the `!important` here to be able to override the default hidden behavior on the sphinx rendered scikit-learn.org. See: https://github.com/scikit-learn/scikit-learn/issues/21755 */display: inline-block !important;position: relative;}#sk-603a230d-9ab4-43e9-a760-a1db4f9ac71b div.sk-text-repr-fallback {display: none;}</style><div id=\"sk-603a230d-9ab4-43e9-a760-a1db4f9ac71b\" class=\"sk-top-container\"><div class=\"sk-text-repr-fallback\"><pre>Pipeline(steps=[(&#x27;columntransformer&#x27;,\n",
       "                 ColumnTransformer(transformers=[(&#x27;categorical&#x27;,\n",
       "                                                  Pipeline(steps=[(&#x27;imputation_mean&#x27;,\n",
       "                                                                   SimpleImputer(fill_value=&#x27;missing&#x27;,\n",
       "                                                                                 strategy=&#x27;constant&#x27;)),\n",
       "                                                                  (&#x27;onehot&#x27;,\n",
       "                                                                   OneHotEncoder(handle_unknown=&#x27;ignore&#x27;))]),\n",
       "                                                  Index([&#x27;Gender&#x27;, &#x27;Age&#x27;, &#x27;City_Category&#x27;, &#x27;Stay_In_Current_City_Years&#x27;], dtype=&#x27;object&#x27;)),\n",
       "                                                 (&#x27;numerical&#x27;,\n",
       "                                                  Pipeline(steps=[(&#x27;imputation_mode&#x27;,\n",
       "                                                                   SimpleImputer(strategy=&#x27;most_frequent&#x27;)),\n",
       "                                                                  (&#x27;standard_scaler&#x27;,\n",
       "                                                                   StandardScaler())]),\n",
       "                                                  Index([&#x27;Occupation&#x27;, &#x27;Marital_Status&#x27;, &#x27;Product_Category_1&#x27;,\n",
       "       &#x27;Product_Category_2&#x27;, &#x27;Product_Category_3&#x27;],\n",
       "      dtype=&#x27;object&#x27;))])),\n",
       "                (&#x27;randomforestregressor&#x27;,\n",
       "                 RandomForestRegressor(random_state=0))])</pre><b>Please rerun this cell to show the HTML repr or trust the notebook.</b></div><div class=\"sk-container\" hidden><div class=\"sk-item sk-dashed-wrapped\"><div class=\"sk-label-container\"><div class=\"sk-label sk-toggleable\"><input class=\"sk-toggleable__control sk-hidden--visually\" id=\"96e840ad-d305-4cfd-a0a3-c0a6e8bf89a6\" type=\"checkbox\" ><label for=\"96e840ad-d305-4cfd-a0a3-c0a6e8bf89a6\" class=\"sk-toggleable__label sk-toggleable__label-arrow\">Pipeline</label><div class=\"sk-toggleable__content\"><pre>Pipeline(steps=[(&#x27;columntransformer&#x27;,\n",
       "                 ColumnTransformer(transformers=[(&#x27;categorical&#x27;,\n",
       "                                                  Pipeline(steps=[(&#x27;imputation_mean&#x27;,\n",
       "                                                                   SimpleImputer(fill_value=&#x27;missing&#x27;,\n",
       "                                                                                 strategy=&#x27;constant&#x27;)),\n",
       "                                                                  (&#x27;onehot&#x27;,\n",
       "                                                                   OneHotEncoder(handle_unknown=&#x27;ignore&#x27;))]),\n",
       "                                                  Index([&#x27;Gender&#x27;, &#x27;Age&#x27;, &#x27;City_Category&#x27;, &#x27;Stay_In_Current_City_Years&#x27;], dtype=&#x27;object&#x27;)),\n",
       "                                                 (&#x27;numerical&#x27;,\n",
       "                                                  Pipeline(steps=[(&#x27;imputation_mode&#x27;,\n",
       "                                                                   SimpleImputer(strategy=&#x27;most_frequent&#x27;)),\n",
       "                                                                  (&#x27;standard_scaler&#x27;,\n",
       "                                                                   StandardScaler())]),\n",
       "                                                  Index([&#x27;Occupation&#x27;, &#x27;Marital_Status&#x27;, &#x27;Product_Category_1&#x27;,\n",
       "       &#x27;Product_Category_2&#x27;, &#x27;Product_Category_3&#x27;],\n",
       "      dtype=&#x27;object&#x27;))])),\n",
       "                (&#x27;randomforestregressor&#x27;,\n",
       "                 RandomForestRegressor(random_state=0))])</pre></div></div></div><div class=\"sk-serial\"><div class=\"sk-item sk-dashed-wrapped\"><div class=\"sk-label-container\"><div class=\"sk-label sk-toggleable\"><input class=\"sk-toggleable__control sk-hidden--visually\" id=\"103d27cc-1a87-4740-b489-872baeae2c9e\" type=\"checkbox\" ><label for=\"103d27cc-1a87-4740-b489-872baeae2c9e\" class=\"sk-toggleable__label sk-toggleable__label-arrow\">columntransformer: ColumnTransformer</label><div class=\"sk-toggleable__content\"><pre>ColumnTransformer(transformers=[(&#x27;categorical&#x27;,\n",
       "                                 Pipeline(steps=[(&#x27;imputation_mean&#x27;,\n",
       "                                                  SimpleImputer(fill_value=&#x27;missing&#x27;,\n",
       "                                                                strategy=&#x27;constant&#x27;)),\n",
       "                                                 (&#x27;onehot&#x27;,\n",
       "                                                  OneHotEncoder(handle_unknown=&#x27;ignore&#x27;))]),\n",
       "                                 Index([&#x27;Gender&#x27;, &#x27;Age&#x27;, &#x27;City_Category&#x27;, &#x27;Stay_In_Current_City_Years&#x27;], dtype=&#x27;object&#x27;)),\n",
       "                                (&#x27;numerical&#x27;,\n",
       "                                 Pipeline(steps=[(&#x27;imputation_mode&#x27;,\n",
       "                                                  SimpleImputer(strategy=&#x27;most_frequent&#x27;)),\n",
       "                                                 (&#x27;standard_scaler&#x27;,\n",
       "                                                  StandardScaler())]),\n",
       "                                 Index([&#x27;Occupation&#x27;, &#x27;Marital_Status&#x27;, &#x27;Product_Category_1&#x27;,\n",
       "       &#x27;Product_Category_2&#x27;, &#x27;Product_Category_3&#x27;],\n",
       "      dtype=&#x27;object&#x27;))])</pre></div></div></div><div class=\"sk-parallel\"><div class=\"sk-parallel-item\"><div class=\"sk-item\"><div class=\"sk-label-container\"><div class=\"sk-label sk-toggleable\"><input class=\"sk-toggleable__control sk-hidden--visually\" id=\"f4927934-6280-4889-8827-d48752744433\" type=\"checkbox\" ><label for=\"f4927934-6280-4889-8827-d48752744433\" class=\"sk-toggleable__label sk-toggleable__label-arrow\">categorical</label><div class=\"sk-toggleable__content\"><pre>Index([&#x27;Gender&#x27;, &#x27;Age&#x27;, &#x27;City_Category&#x27;, &#x27;Stay_In_Current_City_Years&#x27;], dtype=&#x27;object&#x27;)</pre></div></div></div><div class=\"sk-serial\"><div class=\"sk-item\"><div class=\"sk-serial\"><div class=\"sk-item\"><div class=\"sk-estimator sk-toggleable\"><input class=\"sk-toggleable__control sk-hidden--visually\" id=\"d1f2c6d1-af3a-469d-b6ef-0b1c745b49d2\" type=\"checkbox\" ><label for=\"d1f2c6d1-af3a-469d-b6ef-0b1c745b49d2\" class=\"sk-toggleable__label sk-toggleable__label-arrow\">SimpleImputer</label><div class=\"sk-toggleable__content\"><pre>SimpleImputer(fill_value=&#x27;missing&#x27;, strategy=&#x27;constant&#x27;)</pre></div></div></div><div class=\"sk-item\"><div class=\"sk-estimator sk-toggleable\"><input class=\"sk-toggleable__control sk-hidden--visually\" id=\"2d0c3363-02b8-4770-9652-80937dd7000d\" type=\"checkbox\" ><label for=\"2d0c3363-02b8-4770-9652-80937dd7000d\" class=\"sk-toggleable__label sk-toggleable__label-arrow\">OneHotEncoder</label><div class=\"sk-toggleable__content\"><pre>OneHotEncoder(handle_unknown=&#x27;ignore&#x27;)</pre></div></div></div></div></div></div></div></div><div class=\"sk-parallel-item\"><div class=\"sk-item\"><div class=\"sk-label-container\"><div class=\"sk-label sk-toggleable\"><input class=\"sk-toggleable__control sk-hidden--visually\" id=\"a7be7ac7-1d77-45a8-9141-c997f7baecc7\" type=\"checkbox\" ><label for=\"a7be7ac7-1d77-45a8-9141-c997f7baecc7\" class=\"sk-toggleable__label sk-toggleable__label-arrow\">numerical</label><div class=\"sk-toggleable__content\"><pre>Index([&#x27;Occupation&#x27;, &#x27;Marital_Status&#x27;, &#x27;Product_Category_1&#x27;,\n",
       "       &#x27;Product_Category_2&#x27;, &#x27;Product_Category_3&#x27;],\n",
       "      dtype=&#x27;object&#x27;)</pre></div></div></div><div class=\"sk-serial\"><div class=\"sk-item\"><div class=\"sk-serial\"><div class=\"sk-item\"><div class=\"sk-estimator sk-toggleable\"><input class=\"sk-toggleable__control sk-hidden--visually\" id=\"3a2987be-50eb-4e31-9e81-b34d0189f66c\" type=\"checkbox\" ><label for=\"3a2987be-50eb-4e31-9e81-b34d0189f66c\" class=\"sk-toggleable__label sk-toggleable__label-arrow\">SimpleImputer</label><div class=\"sk-toggleable__content\"><pre>SimpleImputer(strategy=&#x27;most_frequent&#x27;)</pre></div></div></div><div class=\"sk-item\"><div class=\"sk-estimator sk-toggleable\"><input class=\"sk-toggleable__control sk-hidden--visually\" id=\"d2459b97-6533-45f9-ba89-4203a4cc4835\" type=\"checkbox\" ><label for=\"d2459b97-6533-45f9-ba89-4203a4cc4835\" class=\"sk-toggleable__label sk-toggleable__label-arrow\">StandardScaler</label><div class=\"sk-toggleable__content\"><pre>StandardScaler()</pre></div></div></div></div></div></div></div></div></div></div><div class=\"sk-item\"><div class=\"sk-estimator sk-toggleable\"><input class=\"sk-toggleable__control sk-hidden--visually\" id=\"611384c0-2858-4882-abb0-37e81d4ca6b2\" type=\"checkbox\" ><label for=\"611384c0-2858-4882-abb0-37e81d4ca6b2\" class=\"sk-toggleable__label sk-toggleable__label-arrow\">RandomForestRegressor</label><div class=\"sk-toggleable__content\"><pre>RandomForestRegressor(random_state=0)</pre></div></div></div></div></div></div></div>"
      ],
      "text/plain": [
       "Pipeline(steps=[('columntransformer',\n",
       "                 ColumnTransformer(transformers=[('categorical',\n",
       "                                                  Pipeline(steps=[('imputation_mean',\n",
       "                                                                   SimpleImputer(fill_value='missing',\n",
       "                                                                                 strategy='constant')),\n",
       "                                                                  ('onehot',\n",
       "                                                                   OneHotEncoder(handle_unknown='ignore'))]),\n",
       "                                                  Index(['Gender', 'Age', 'City_Category', 'Stay_In_Current_City_Years'], dtype='object')),\n",
       "                                                 ('numerical',\n",
       "                                                  Pipeline(steps=[('imputation_mode',\n",
       "                                                                   SimpleImputer(strategy='most_frequent')),\n",
       "                                                                  ('standard_scaler',\n",
       "                                                                   StandardScaler())]),\n",
       "                                                  Index(['Occupation', 'Marital_Status', 'Product_Category_1',\n",
       "       'Product_Category_2', 'Product_Category_3'],\n",
       "      dtype='object'))])),\n",
       "                ('randomforestregressor',\n",
       "                 RandomForestRegressor(random_state=0))])"
      ]
     },
     "execution_count": 47,
     "metadata": {},
     "output_type": "execute_result"
    }
   ],
   "source": [
    "rf.fit(X_train,y_train)"
   ]
  },
  {
   "cell_type": "code",
   "execution_count": 48,
   "id": "7e763819",
   "metadata": {},
   "outputs": [],
   "source": [
    "y_pred_rf=rf.predict(X_test)"
   ]
  },
  {
   "cell_type": "code",
   "execution_count": 49,
   "id": "111e32d4",
   "metadata": {},
   "outputs": [
    {
     "data": {
      "text/plain": [
       "2222.0603014689486"
      ]
     },
     "execution_count": 49,
     "metadata": {},
     "output_type": "execute_result"
    }
   ],
   "source": [
    "mean_absolute_error(y_test, y_pred_rf)"
   ]
  },
  {
   "cell_type": "code",
   "execution_count": 50,
   "id": "50136e90",
   "metadata": {},
   "outputs": [
    {
     "data": {
      "text/plain": [
       "9313181.371922247"
      ]
     },
     "execution_count": 50,
     "metadata": {},
     "output_type": "execute_result"
    }
   ],
   "source": [
    "mean_squared_error(y_test, y_pred_rf)"
   ]
  },
  {
   "cell_type": "code",
   "execution_count": 51,
   "id": "3e3e562e",
   "metadata": {},
   "outputs": [
    {
     "data": {
      "text/plain": [
       "0.6304626744996233"
      ]
     },
     "execution_count": 51,
     "metadata": {},
     "output_type": "execute_result"
    }
   ],
   "source": [
    "r2_score(y_test, y_pred_rf)"
   ]
  },
  {
   "cell_type": "code",
   "execution_count": 52,
   "id": "16300327",
   "metadata": {},
   "outputs": [
    {
     "name": "stdout",
     "output_type": "stream",
     "text": [
      "RMSE of Random Forest Regressor Model is  3051.7505422170807\n"
     ]
    }
   ],
   "source": [
    "from math import sqrt\n",
    "print(\"RMSE of Random Forest Regressor Model is \",sqrt(mean_squared_error(y_test, y_pred_rf)))"
   ]
  },
  {
   "cell_type": "markdown",
   "id": "563187eb",
   "metadata": {},
   "source": [
    "### XGBoost Regressor"
   ]
  },
  {
   "cell_type": "code",
   "execution_count": 53,
   "id": "229bbf56",
   "metadata": {},
   "outputs": [
    {
     "data": {
      "text/html": [
       "<style>#sk-3aedffc0-12db-47bb-8715-bd39770fb0c2 {color: black;background-color: white;}#sk-3aedffc0-12db-47bb-8715-bd39770fb0c2 pre{padding: 0;}#sk-3aedffc0-12db-47bb-8715-bd39770fb0c2 div.sk-toggleable {background-color: white;}#sk-3aedffc0-12db-47bb-8715-bd39770fb0c2 label.sk-toggleable__label {cursor: pointer;display: block;width: 100%;margin-bottom: 0;padding: 0.3em;box-sizing: border-box;text-align: center;}#sk-3aedffc0-12db-47bb-8715-bd39770fb0c2 label.sk-toggleable__label-arrow:before {content: \"▸\";float: left;margin-right: 0.25em;color: #696969;}#sk-3aedffc0-12db-47bb-8715-bd39770fb0c2 label.sk-toggleable__label-arrow:hover:before {color: black;}#sk-3aedffc0-12db-47bb-8715-bd39770fb0c2 div.sk-estimator:hover label.sk-toggleable__label-arrow:before {color: black;}#sk-3aedffc0-12db-47bb-8715-bd39770fb0c2 div.sk-toggleable__content {max-height: 0;max-width: 0;overflow: hidden;text-align: left;background-color: #f0f8ff;}#sk-3aedffc0-12db-47bb-8715-bd39770fb0c2 div.sk-toggleable__content pre {margin: 0.2em;color: black;border-radius: 0.25em;background-color: #f0f8ff;}#sk-3aedffc0-12db-47bb-8715-bd39770fb0c2 input.sk-toggleable__control:checked~div.sk-toggleable__content {max-height: 200px;max-width: 100%;overflow: auto;}#sk-3aedffc0-12db-47bb-8715-bd39770fb0c2 input.sk-toggleable__control:checked~label.sk-toggleable__label-arrow:before {content: \"▾\";}#sk-3aedffc0-12db-47bb-8715-bd39770fb0c2 div.sk-estimator input.sk-toggleable__control:checked~label.sk-toggleable__label {background-color: #d4ebff;}#sk-3aedffc0-12db-47bb-8715-bd39770fb0c2 div.sk-label input.sk-toggleable__control:checked~label.sk-toggleable__label {background-color: #d4ebff;}#sk-3aedffc0-12db-47bb-8715-bd39770fb0c2 input.sk-hidden--visually {border: 0;clip: rect(1px 1px 1px 1px);clip: rect(1px, 1px, 1px, 1px);height: 1px;margin: -1px;overflow: hidden;padding: 0;position: absolute;width: 1px;}#sk-3aedffc0-12db-47bb-8715-bd39770fb0c2 div.sk-estimator {font-family: monospace;background-color: #f0f8ff;border: 1px dotted black;border-radius: 0.25em;box-sizing: border-box;margin-bottom: 0.5em;}#sk-3aedffc0-12db-47bb-8715-bd39770fb0c2 div.sk-estimator:hover {background-color: #d4ebff;}#sk-3aedffc0-12db-47bb-8715-bd39770fb0c2 div.sk-parallel-item::after {content: \"\";width: 100%;border-bottom: 1px solid gray;flex-grow: 1;}#sk-3aedffc0-12db-47bb-8715-bd39770fb0c2 div.sk-label:hover label.sk-toggleable__label {background-color: #d4ebff;}#sk-3aedffc0-12db-47bb-8715-bd39770fb0c2 div.sk-serial::before {content: \"\";position: absolute;border-left: 1px solid gray;box-sizing: border-box;top: 2em;bottom: 0;left: 50%;}#sk-3aedffc0-12db-47bb-8715-bd39770fb0c2 div.sk-serial {display: flex;flex-direction: column;align-items: center;background-color: white;padding-right: 0.2em;padding-left: 0.2em;}#sk-3aedffc0-12db-47bb-8715-bd39770fb0c2 div.sk-item {z-index: 1;}#sk-3aedffc0-12db-47bb-8715-bd39770fb0c2 div.sk-parallel {display: flex;align-items: stretch;justify-content: center;background-color: white;}#sk-3aedffc0-12db-47bb-8715-bd39770fb0c2 div.sk-parallel::before {content: \"\";position: absolute;border-left: 1px solid gray;box-sizing: border-box;top: 2em;bottom: 0;left: 50%;}#sk-3aedffc0-12db-47bb-8715-bd39770fb0c2 div.sk-parallel-item {display: flex;flex-direction: column;position: relative;background-color: white;}#sk-3aedffc0-12db-47bb-8715-bd39770fb0c2 div.sk-parallel-item:first-child::after {align-self: flex-end;width: 50%;}#sk-3aedffc0-12db-47bb-8715-bd39770fb0c2 div.sk-parallel-item:last-child::after {align-self: flex-start;width: 50%;}#sk-3aedffc0-12db-47bb-8715-bd39770fb0c2 div.sk-parallel-item:only-child::after {width: 0;}#sk-3aedffc0-12db-47bb-8715-bd39770fb0c2 div.sk-dashed-wrapped {border: 1px dashed gray;margin: 0 0.4em 0.5em 0.4em;box-sizing: border-box;padding-bottom: 0.4em;background-color: white;position: relative;}#sk-3aedffc0-12db-47bb-8715-bd39770fb0c2 div.sk-label label {font-family: monospace;font-weight: bold;background-color: white;display: inline-block;line-height: 1.2em;}#sk-3aedffc0-12db-47bb-8715-bd39770fb0c2 div.sk-label-container {position: relative;z-index: 2;text-align: center;}#sk-3aedffc0-12db-47bb-8715-bd39770fb0c2 div.sk-container {/* jupyter's `normalize.less` sets `[hidden] { display: none; }` but bootstrap.min.css set `[hidden] { display: none !important; }` so we also need the `!important` here to be able to override the default hidden behavior on the sphinx rendered scikit-learn.org. See: https://github.com/scikit-learn/scikit-learn/issues/21755 */display: inline-block !important;position: relative;}#sk-3aedffc0-12db-47bb-8715-bd39770fb0c2 div.sk-text-repr-fallback {display: none;}</style><div id=\"sk-3aedffc0-12db-47bb-8715-bd39770fb0c2\" class=\"sk-top-container\"><div class=\"sk-text-repr-fallback\"><pre>Pipeline(steps=[(&#x27;columntransformer&#x27;,\n",
       "                 ColumnTransformer(transformers=[(&#x27;categorical&#x27;,\n",
       "                                                  Pipeline(steps=[(&#x27;imputation_mean&#x27;,\n",
       "                                                                   SimpleImputer(fill_value=&#x27;missing&#x27;,\n",
       "                                                                                 strategy=&#x27;constant&#x27;)),\n",
       "                                                                  (&#x27;onehot&#x27;,\n",
       "                                                                   OneHotEncoder(handle_unknown=&#x27;ignore&#x27;))]),\n",
       "                                                  Index([&#x27;Gender&#x27;, &#x27;Age&#x27;, &#x27;City_Category&#x27;, &#x27;Stay_In_Current_City_Years&#x27;], dtype=&#x27;object&#x27;)),\n",
       "                                                 (&#x27;numerical&#x27;,\n",
       "                                                  Pipeline(steps=[(&#x27;imputa...\n",
       "                              feature_types=None, gamma=None, gpu_id=None,\n",
       "                              grow_policy=None, importance_type=None,\n",
       "                              interaction_constraints=None, learning_rate=1.0,\n",
       "                              max_bin=None, max_cat_threshold=None,\n",
       "                              max_cat_to_onehot=None, max_delta_step=None,\n",
       "                              max_depth=6, max_leaves=None, min_child_weight=40,\n",
       "                              missing=nan, monotone_constraints=None,\n",
       "                              n_estimators=100, n_jobs=None,\n",
       "                              num_parallel_tree=None, predictor=None,\n",
       "                              random_state=None, ...))])</pre><b>Please rerun this cell to show the HTML repr or trust the notebook.</b></div><div class=\"sk-container\" hidden><div class=\"sk-item sk-dashed-wrapped\"><div class=\"sk-label-container\"><div class=\"sk-label sk-toggleable\"><input class=\"sk-toggleable__control sk-hidden--visually\" id=\"427bb305-2829-4966-a738-af45cf4eed77\" type=\"checkbox\" ><label for=\"427bb305-2829-4966-a738-af45cf4eed77\" class=\"sk-toggleable__label sk-toggleable__label-arrow\">Pipeline</label><div class=\"sk-toggleable__content\"><pre>Pipeline(steps=[(&#x27;columntransformer&#x27;,\n",
       "                 ColumnTransformer(transformers=[(&#x27;categorical&#x27;,\n",
       "                                                  Pipeline(steps=[(&#x27;imputation_mean&#x27;,\n",
       "                                                                   SimpleImputer(fill_value=&#x27;missing&#x27;,\n",
       "                                                                                 strategy=&#x27;constant&#x27;)),\n",
       "                                                                  (&#x27;onehot&#x27;,\n",
       "                                                                   OneHotEncoder(handle_unknown=&#x27;ignore&#x27;))]),\n",
       "                                                  Index([&#x27;Gender&#x27;, &#x27;Age&#x27;, &#x27;City_Category&#x27;, &#x27;Stay_In_Current_City_Years&#x27;], dtype=&#x27;object&#x27;)),\n",
       "                                                 (&#x27;numerical&#x27;,\n",
       "                                                  Pipeline(steps=[(&#x27;imputa...\n",
       "                              feature_types=None, gamma=None, gpu_id=None,\n",
       "                              grow_policy=None, importance_type=None,\n",
       "                              interaction_constraints=None, learning_rate=1.0,\n",
       "                              max_bin=None, max_cat_threshold=None,\n",
       "                              max_cat_to_onehot=None, max_delta_step=None,\n",
       "                              max_depth=6, max_leaves=None, min_child_weight=40,\n",
       "                              missing=nan, monotone_constraints=None,\n",
       "                              n_estimators=100, n_jobs=None,\n",
       "                              num_parallel_tree=None, predictor=None,\n",
       "                              random_state=None, ...))])</pre></div></div></div><div class=\"sk-serial\"><div class=\"sk-item sk-dashed-wrapped\"><div class=\"sk-label-container\"><div class=\"sk-label sk-toggleable\"><input class=\"sk-toggleable__control sk-hidden--visually\" id=\"dd55bbcd-947a-4412-9f8b-427ddfde522b\" type=\"checkbox\" ><label for=\"dd55bbcd-947a-4412-9f8b-427ddfde522b\" class=\"sk-toggleable__label sk-toggleable__label-arrow\">columntransformer: ColumnTransformer</label><div class=\"sk-toggleable__content\"><pre>ColumnTransformer(transformers=[(&#x27;categorical&#x27;,\n",
       "                                 Pipeline(steps=[(&#x27;imputation_mean&#x27;,\n",
       "                                                  SimpleImputer(fill_value=&#x27;missing&#x27;,\n",
       "                                                                strategy=&#x27;constant&#x27;)),\n",
       "                                                 (&#x27;onehot&#x27;,\n",
       "                                                  OneHotEncoder(handle_unknown=&#x27;ignore&#x27;))]),\n",
       "                                 Index([&#x27;Gender&#x27;, &#x27;Age&#x27;, &#x27;City_Category&#x27;, &#x27;Stay_In_Current_City_Years&#x27;], dtype=&#x27;object&#x27;)),\n",
       "                                (&#x27;numerical&#x27;,\n",
       "                                 Pipeline(steps=[(&#x27;imputation_mode&#x27;,\n",
       "                                                  SimpleImputer(strategy=&#x27;most_frequent&#x27;)),\n",
       "                                                 (&#x27;standard_scaler&#x27;,\n",
       "                                                  StandardScaler())]),\n",
       "                                 Index([&#x27;Occupation&#x27;, &#x27;Marital_Status&#x27;, &#x27;Product_Category_1&#x27;,\n",
       "       &#x27;Product_Category_2&#x27;, &#x27;Product_Category_3&#x27;],\n",
       "      dtype=&#x27;object&#x27;))])</pre></div></div></div><div class=\"sk-parallel\"><div class=\"sk-parallel-item\"><div class=\"sk-item\"><div class=\"sk-label-container\"><div class=\"sk-label sk-toggleable\"><input class=\"sk-toggleable__control sk-hidden--visually\" id=\"c279a710-2072-4443-8348-0763e9d5754d\" type=\"checkbox\" ><label for=\"c279a710-2072-4443-8348-0763e9d5754d\" class=\"sk-toggleable__label sk-toggleable__label-arrow\">categorical</label><div class=\"sk-toggleable__content\"><pre>Index([&#x27;Gender&#x27;, &#x27;Age&#x27;, &#x27;City_Category&#x27;, &#x27;Stay_In_Current_City_Years&#x27;], dtype=&#x27;object&#x27;)</pre></div></div></div><div class=\"sk-serial\"><div class=\"sk-item\"><div class=\"sk-serial\"><div class=\"sk-item\"><div class=\"sk-estimator sk-toggleable\"><input class=\"sk-toggleable__control sk-hidden--visually\" id=\"c6e56730-30dc-40cc-a5b6-7805999c7b49\" type=\"checkbox\" ><label for=\"c6e56730-30dc-40cc-a5b6-7805999c7b49\" class=\"sk-toggleable__label sk-toggleable__label-arrow\">SimpleImputer</label><div class=\"sk-toggleable__content\"><pre>SimpleImputer(fill_value=&#x27;missing&#x27;, strategy=&#x27;constant&#x27;)</pre></div></div></div><div class=\"sk-item\"><div class=\"sk-estimator sk-toggleable\"><input class=\"sk-toggleable__control sk-hidden--visually\" id=\"87c8ef03-1335-45a5-87d4-7e864334000a\" type=\"checkbox\" ><label for=\"87c8ef03-1335-45a5-87d4-7e864334000a\" class=\"sk-toggleable__label sk-toggleable__label-arrow\">OneHotEncoder</label><div class=\"sk-toggleable__content\"><pre>OneHotEncoder(handle_unknown=&#x27;ignore&#x27;)</pre></div></div></div></div></div></div></div></div><div class=\"sk-parallel-item\"><div class=\"sk-item\"><div class=\"sk-label-container\"><div class=\"sk-label sk-toggleable\"><input class=\"sk-toggleable__control sk-hidden--visually\" id=\"dce9904d-0863-4faa-b879-f06fd322047c\" type=\"checkbox\" ><label for=\"dce9904d-0863-4faa-b879-f06fd322047c\" class=\"sk-toggleable__label sk-toggleable__label-arrow\">numerical</label><div class=\"sk-toggleable__content\"><pre>Index([&#x27;Occupation&#x27;, &#x27;Marital_Status&#x27;, &#x27;Product_Category_1&#x27;,\n",
       "       &#x27;Product_Category_2&#x27;, &#x27;Product_Category_3&#x27;],\n",
       "      dtype=&#x27;object&#x27;)</pre></div></div></div><div class=\"sk-serial\"><div class=\"sk-item\"><div class=\"sk-serial\"><div class=\"sk-item\"><div class=\"sk-estimator sk-toggleable\"><input class=\"sk-toggleable__control sk-hidden--visually\" id=\"ab565d9f-1285-45f7-a946-beaeda6c45e3\" type=\"checkbox\" ><label for=\"ab565d9f-1285-45f7-a946-beaeda6c45e3\" class=\"sk-toggleable__label sk-toggleable__label-arrow\">SimpleImputer</label><div class=\"sk-toggleable__content\"><pre>SimpleImputer(strategy=&#x27;most_frequent&#x27;)</pre></div></div></div><div class=\"sk-item\"><div class=\"sk-estimator sk-toggleable\"><input class=\"sk-toggleable__control sk-hidden--visually\" id=\"0dc62e4f-7a41-4bc0-a5c8-a27af0fcdc21\" type=\"checkbox\" ><label for=\"0dc62e4f-7a41-4bc0-a5c8-a27af0fcdc21\" class=\"sk-toggleable__label sk-toggleable__label-arrow\">StandardScaler</label><div class=\"sk-toggleable__content\"><pre>StandardScaler()</pre></div></div></div></div></div></div></div></div></div></div><div class=\"sk-item\"><div class=\"sk-estimator sk-toggleable\"><input class=\"sk-toggleable__control sk-hidden--visually\" id=\"e7ead135-ac37-4a2b-9d96-6e8dadf8321f\" type=\"checkbox\" ><label for=\"e7ead135-ac37-4a2b-9d96-6e8dadf8321f\" class=\"sk-toggleable__label sk-toggleable__label-arrow\">XGBRegressor</label><div class=\"sk-toggleable__content\"><pre>XGBRegressor(base_score=None, booster=None, callbacks=None,\n",
       "             colsample_bylevel=None, colsample_bynode=None,\n",
       "             colsample_bytree=None, early_stopping_rounds=None,\n",
       "             enable_categorical=False, eval_metric=None, feature_types=None,\n",
       "             gamma=None, gpu_id=None, grow_policy=None, importance_type=None,\n",
       "             interaction_constraints=None, learning_rate=1.0, max_bin=None,\n",
       "             max_cat_threshold=None, max_cat_to_onehot=None,\n",
       "             max_delta_step=None, max_depth=6, max_leaves=None,\n",
       "             min_child_weight=40, missing=nan, monotone_constraints=None,\n",
       "             n_estimators=100, n_jobs=None, num_parallel_tree=None,\n",
       "             predictor=None, random_state=None, ...)</pre></div></div></div></div></div></div></div>"
      ],
      "text/plain": [
       "Pipeline(steps=[('columntransformer',\n",
       "                 ColumnTransformer(transformers=[('categorical',\n",
       "                                                  Pipeline(steps=[('imputation_mean',\n",
       "                                                                   SimpleImputer(fill_value='missing',\n",
       "                                                                                 strategy='constant')),\n",
       "                                                                  ('onehot',\n",
       "                                                                   OneHotEncoder(handle_unknown='ignore'))]),\n",
       "                                                  Index(['Gender', 'Age', 'City_Category', 'Stay_In_Current_City_Years'], dtype='object')),\n",
       "                                                 ('numerical',\n",
       "                                                  Pipeline(steps=[('imputa...\n",
       "                              feature_types=None, gamma=None, gpu_id=None,\n",
       "                              grow_policy=None, importance_type=None,\n",
       "                              interaction_constraints=None, learning_rate=1.0,\n",
       "                              max_bin=None, max_cat_threshold=None,\n",
       "                              max_cat_to_onehot=None, max_delta_step=None,\n",
       "                              max_depth=6, max_leaves=None, min_child_weight=40,\n",
       "                              missing=nan, monotone_constraints=None,\n",
       "                              n_estimators=100, n_jobs=None,\n",
       "                              num_parallel_tree=None, predictor=None,\n",
       "                              random_state=None, ...))])"
      ]
     },
     "execution_count": 53,
     "metadata": {},
     "output_type": "execute_result"
    }
   ],
   "source": [
    "xgb=make_pipeline(preprocessor, XGBRegressor(learning_rate=1.0, max_depth=6, min_child_weight=40, seed=0))\n",
    "xgb"
   ]
  },
  {
   "cell_type": "code",
   "execution_count": 62,
   "id": "966851ed",
   "metadata": {},
   "outputs": [],
   "source": [
    "model=xgb.fit(X_train, y_train)"
   ]
  },
  {
   "cell_type": "code",
   "execution_count": 63,
   "id": "cb7b19c4",
   "metadata": {},
   "outputs": [],
   "source": [
    "y_pred_xgb=model.predict(X_test)"
   ]
  },
  {
   "cell_type": "code",
   "execution_count": 64,
   "id": "ff4fef90",
   "metadata": {},
   "outputs": [
    {
     "data": {
      "text/plain": [
       "2154.36370884106"
      ]
     },
     "execution_count": 64,
     "metadata": {},
     "output_type": "execute_result"
    }
   ],
   "source": [
    "mean_absolute_error(y_test, y_pred_xgb)"
   ]
  },
  {
   "cell_type": "code",
   "execution_count": 65,
   "id": "f97a2b25",
   "metadata": {},
   "outputs": [
    {
     "data": {
      "text/plain": [
       "8352447.859165689"
      ]
     },
     "execution_count": 65,
     "metadata": {},
     "output_type": "execute_result"
    }
   ],
   "source": [
    "mean_squared_error(y_test, y_pred_xgb)"
   ]
  },
  {
   "cell_type": "code",
   "execution_count": 66,
   "id": "c757f9d0",
   "metadata": {},
   "outputs": [
    {
     "data": {
      "text/plain": [
       "0.6685835784791153"
      ]
     },
     "execution_count": 66,
     "metadata": {},
     "output_type": "execute_result"
    }
   ],
   "source": [
    "r2_score(y_test, y_pred_xgb)"
   ]
  },
  {
   "cell_type": "code",
   "execution_count": 67,
   "id": "427cddf1",
   "metadata": {},
   "outputs": [
    {
     "name": "stdout",
     "output_type": "stream",
     "text": [
      "RMSE of XGBoost Regressor Model is  2890.0601826200245\n"
     ]
    }
   ],
   "source": [
    "from math import sqrt\n",
    "print(\"RMSE of XGBoost Regressor Model is \",sqrt(mean_squared_error(y_test, y_pred_xgb)))"
   ]
  },
  {
   "cell_type": "markdown",
   "id": "b9fe9f63",
   "metadata": {},
   "source": [
    "The ML algorithm that perform the best was XGBoost Regressor Model with RMSE = 2890"
   ]
  },
  {
   "cell_type": "markdown",
   "id": "c0509c35",
   "metadata": {},
   "source": [
    "## Importing the Test Dataset"
   ]
  },
  {
   "cell_type": "code",
   "execution_count": 72,
   "id": "4cf3b311",
   "metadata": {},
   "outputs": [
    {
     "data": {
      "text/html": [
       "<div>\n",
       "<style scoped>\n",
       "    .dataframe tbody tr th:only-of-type {\n",
       "        vertical-align: middle;\n",
       "    }\n",
       "\n",
       "    .dataframe tbody tr th {\n",
       "        vertical-align: top;\n",
       "    }\n",
       "\n",
       "    .dataframe thead th {\n",
       "        text-align: right;\n",
       "    }\n",
       "</style>\n",
       "<table border=\"1\" class=\"dataframe\">\n",
       "  <thead>\n",
       "    <tr style=\"text-align: right;\">\n",
       "      <th></th>\n",
       "      <th>User_ID</th>\n",
       "      <th>Product_ID</th>\n",
       "      <th>Gender</th>\n",
       "      <th>Age</th>\n",
       "      <th>Occupation</th>\n",
       "      <th>City_Category</th>\n",
       "      <th>Stay_In_Current_City_Years</th>\n",
       "      <th>Marital_Status</th>\n",
       "      <th>Product_Category_1</th>\n",
       "      <th>Product_Category_2</th>\n",
       "      <th>Product_Category_3</th>\n",
       "    </tr>\n",
       "  </thead>\n",
       "  <tbody>\n",
       "    <tr>\n",
       "      <th>0</th>\n",
       "      <td>1000004</td>\n",
       "      <td>P00128942</td>\n",
       "      <td>M</td>\n",
       "      <td>46-50</td>\n",
       "      <td>7</td>\n",
       "      <td>B</td>\n",
       "      <td>2</td>\n",
       "      <td>1</td>\n",
       "      <td>1</td>\n",
       "      <td>11.0</td>\n",
       "      <td>NaN</td>\n",
       "    </tr>\n",
       "    <tr>\n",
       "      <th>1</th>\n",
       "      <td>1000009</td>\n",
       "      <td>P00113442</td>\n",
       "      <td>M</td>\n",
       "      <td>26-35</td>\n",
       "      <td>17</td>\n",
       "      <td>C</td>\n",
       "      <td>0</td>\n",
       "      <td>0</td>\n",
       "      <td>3</td>\n",
       "      <td>5.0</td>\n",
       "      <td>NaN</td>\n",
       "    </tr>\n",
       "    <tr>\n",
       "      <th>2</th>\n",
       "      <td>1000010</td>\n",
       "      <td>P00288442</td>\n",
       "      <td>F</td>\n",
       "      <td>36-45</td>\n",
       "      <td>1</td>\n",
       "      <td>B</td>\n",
       "      <td>4+</td>\n",
       "      <td>1</td>\n",
       "      <td>5</td>\n",
       "      <td>14.0</td>\n",
       "      <td>NaN</td>\n",
       "    </tr>\n",
       "    <tr>\n",
       "      <th>3</th>\n",
       "      <td>1000010</td>\n",
       "      <td>P00145342</td>\n",
       "      <td>F</td>\n",
       "      <td>36-45</td>\n",
       "      <td>1</td>\n",
       "      <td>B</td>\n",
       "      <td>4+</td>\n",
       "      <td>1</td>\n",
       "      <td>4</td>\n",
       "      <td>9.0</td>\n",
       "      <td>NaN</td>\n",
       "    </tr>\n",
       "    <tr>\n",
       "      <th>4</th>\n",
       "      <td>1000011</td>\n",
       "      <td>P00053842</td>\n",
       "      <td>F</td>\n",
       "      <td>26-35</td>\n",
       "      <td>1</td>\n",
       "      <td>C</td>\n",
       "      <td>1</td>\n",
       "      <td>0</td>\n",
       "      <td>4</td>\n",
       "      <td>5.0</td>\n",
       "      <td>12.0</td>\n",
       "    </tr>\n",
       "    <tr>\n",
       "      <th>...</th>\n",
       "      <td>...</td>\n",
       "      <td>...</td>\n",
       "      <td>...</td>\n",
       "      <td>...</td>\n",
       "      <td>...</td>\n",
       "      <td>...</td>\n",
       "      <td>...</td>\n",
       "      <td>...</td>\n",
       "      <td>...</td>\n",
       "      <td>...</td>\n",
       "      <td>...</td>\n",
       "    </tr>\n",
       "    <tr>\n",
       "      <th>233594</th>\n",
       "      <td>1006036</td>\n",
       "      <td>P00118942</td>\n",
       "      <td>F</td>\n",
       "      <td>26-35</td>\n",
       "      <td>15</td>\n",
       "      <td>B</td>\n",
       "      <td>4+</td>\n",
       "      <td>1</td>\n",
       "      <td>8</td>\n",
       "      <td>NaN</td>\n",
       "      <td>NaN</td>\n",
       "    </tr>\n",
       "    <tr>\n",
       "      <th>233595</th>\n",
       "      <td>1006036</td>\n",
       "      <td>P00254642</td>\n",
       "      <td>F</td>\n",
       "      <td>26-35</td>\n",
       "      <td>15</td>\n",
       "      <td>B</td>\n",
       "      <td>4+</td>\n",
       "      <td>1</td>\n",
       "      <td>5</td>\n",
       "      <td>8.0</td>\n",
       "      <td>NaN</td>\n",
       "    </tr>\n",
       "    <tr>\n",
       "      <th>233596</th>\n",
       "      <td>1006036</td>\n",
       "      <td>P00031842</td>\n",
       "      <td>F</td>\n",
       "      <td>26-35</td>\n",
       "      <td>15</td>\n",
       "      <td>B</td>\n",
       "      <td>4+</td>\n",
       "      <td>1</td>\n",
       "      <td>1</td>\n",
       "      <td>5.0</td>\n",
       "      <td>12.0</td>\n",
       "    </tr>\n",
       "    <tr>\n",
       "      <th>233597</th>\n",
       "      <td>1006037</td>\n",
       "      <td>P00124742</td>\n",
       "      <td>F</td>\n",
       "      <td>46-50</td>\n",
       "      <td>1</td>\n",
       "      <td>C</td>\n",
       "      <td>4+</td>\n",
       "      <td>0</td>\n",
       "      <td>10</td>\n",
       "      <td>16.0</td>\n",
       "      <td>NaN</td>\n",
       "    </tr>\n",
       "    <tr>\n",
       "      <th>233598</th>\n",
       "      <td>1006039</td>\n",
       "      <td>P00316642</td>\n",
       "      <td>F</td>\n",
       "      <td>46-50</td>\n",
       "      <td>0</td>\n",
       "      <td>B</td>\n",
       "      <td>4+</td>\n",
       "      <td>1</td>\n",
       "      <td>4</td>\n",
       "      <td>5.0</td>\n",
       "      <td>NaN</td>\n",
       "    </tr>\n",
       "  </tbody>\n",
       "</table>\n",
       "<p>233599 rows × 11 columns</p>\n",
       "</div>"
      ],
      "text/plain": [
       "        User_ID Product_ID Gender    Age  Occupation City_Category  \\\n",
       "0       1000004  P00128942      M  46-50           7             B   \n",
       "1       1000009  P00113442      M  26-35          17             C   \n",
       "2       1000010  P00288442      F  36-45           1             B   \n",
       "3       1000010  P00145342      F  36-45           1             B   \n",
       "4       1000011  P00053842      F  26-35           1             C   \n",
       "...         ...        ...    ...    ...         ...           ...   \n",
       "233594  1006036  P00118942      F  26-35          15             B   \n",
       "233595  1006036  P00254642      F  26-35          15             B   \n",
       "233596  1006036  P00031842      F  26-35          15             B   \n",
       "233597  1006037  P00124742      F  46-50           1             C   \n",
       "233598  1006039  P00316642      F  46-50           0             B   \n",
       "\n",
       "       Stay_In_Current_City_Years  Marital_Status  Product_Category_1  \\\n",
       "0                               2               1                   1   \n",
       "1                               0               0                   3   \n",
       "2                              4+               1                   5   \n",
       "3                              4+               1                   4   \n",
       "4                               1               0                   4   \n",
       "...                           ...             ...                 ...   \n",
       "233594                         4+               1                   8   \n",
       "233595                         4+               1                   5   \n",
       "233596                         4+               1                   1   \n",
       "233597                         4+               0                  10   \n",
       "233598                         4+               1                   4   \n",
       "\n",
       "        Product_Category_2  Product_Category_3  \n",
       "0                     11.0                 NaN  \n",
       "1                      5.0                 NaN  \n",
       "2                     14.0                 NaN  \n",
       "3                      9.0                 NaN  \n",
       "4                      5.0                12.0  \n",
       "...                    ...                 ...  \n",
       "233594                 NaN                 NaN  \n",
       "233595                 8.0                 NaN  \n",
       "233596                 5.0                12.0  \n",
       "233597                16.0                 NaN  \n",
       "233598                 5.0                 NaN  \n",
       "\n",
       "[233599 rows x 11 columns]"
      ]
     },
     "execution_count": 72,
     "metadata": {},
     "output_type": "execute_result"
    }
   ],
   "source": [
    "df_test=pd.read_csv(\"test.csv\")\n",
    "df_test"
   ]
  },
  {
   "cell_type": "code",
   "execution_count": 71,
   "id": "83ea8c6f",
   "metadata": {},
   "outputs": [
    {
     "data": {
      "text/plain": [
       "array([15166.357 , 11198.14  ,  7366.1855, ..., 12855.954 , 20992.107 ,\n",
       "        1308.834 ], dtype=float32)"
      ]
     },
     "execution_count": 71,
     "metadata": {},
     "output_type": "execute_result"
    }
   ],
   "source": [
    "model.predict(df_test)"
   ]
  }
 ],
 "metadata": {
  "kernelspec": {
   "display_name": "Python 3 (ipykernel)",
   "language": "python",
   "name": "python3"
  },
  "language_info": {
   "codemirror_mode": {
    "name": "ipython",
    "version": 3
   },
   "file_extension": ".py",
   "mimetype": "text/x-python",
   "name": "python",
   "nbconvert_exporter": "python",
   "pygments_lexer": "ipython3",
   "version": "3.9.12"
  }
 },
 "nbformat": 4,
 "nbformat_minor": 5
}
