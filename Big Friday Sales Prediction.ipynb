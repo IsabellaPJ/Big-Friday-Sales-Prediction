{
 "cells": [
  {
   "cell_type": "markdown",
   "id": "1b8d424a",
   "metadata": {},
   "source": [
    "# Big Friday Sales Prediction"
   ]
  },
  {
   "cell_type": "markdown",
   "id": "b31cccc4",
   "metadata": {},
   "source": [
    "## Problem Statement\n",
    "Big Friday is otherwise called as Black Friday. A retail company “ABC Private Limited” wants to understand the customer purchase behaviour (specifically, purchase amount) against various products of different categories. They have shared purchase summary of various customers for selected high volume products from last month.\n",
    "The data set also contains customer demographics (age, gender, marital status, city_type, stay_in_current_city), product details (product_id and product category) and Total purchase_amount from last month.\n",
    "\n",
    "Now, they want to build a model to predict the purchase amount of customer against various products which will help them to create personalized offer for customers against different products."
   ]
  },
  {
   "cell_type": "markdown",
   "id": "b7fd8ba1",
   "metadata": {},
   "source": [
    "## Data Description\n",
    "The data contained features like age, gender, marital status, categories of products purchased, city demographics, purchase amount etc. The data consists of 12 columns and 537577 records. Our model will be predicting the purchase amount of the products.\n"
   ]
  },
  {
   "cell_type": "markdown",
   "id": "b5dc6e24",
   "metadata": {},
   "source": [
    "## Importing Libraries"
   ]
  },
  {
   "cell_type": "code",
   "execution_count": 73,
   "id": "a5d0a51c",
   "metadata": {},
   "outputs": [],
   "source": [
    "import pandas as pd\n",
    "import numpy as np\n",
    "import matplotlib.pyplot as plt\n",
    "import seaborn as sns\n",
    "%matplotlib inline\n",
    "from sklearn.pipeline import Pipeline\n",
    "from sklearn.impute import SimpleImputer\n",
    "from sklearn.preprocessing import StandardScaler\n",
    "from sklearn.linear_model import LinearRegression\n",
    "from sklearn.tree import DecisionTreeRegressor\n",
    "from sklearn.ensemble import RandomForestRegressor\n",
    "from xgboost import XGBRegressor\n",
    "from sklearn import set_config"
   ]
  },
  {
   "cell_type": "markdown",
   "id": "5aa37a65",
   "metadata": {},
   "source": [
    "## Loading the training dataset"
   ]
  },
  {
   "cell_type": "code",
   "execution_count": 74,
   "id": "68d3b6aa",
   "metadata": {},
   "outputs": [
    {
     "data": {
      "text/html": [
       "<div>\n",
       "<style scoped>\n",
       "    .dataframe tbody tr th:only-of-type {\n",
       "        vertical-align: middle;\n",
       "    }\n",
       "\n",
       "    .dataframe tbody tr th {\n",
       "        vertical-align: top;\n",
       "    }\n",
       "\n",
       "    .dataframe thead th {\n",
       "        text-align: right;\n",
       "    }\n",
       "</style>\n",
       "<table border=\"1\" class=\"dataframe\">\n",
       "  <thead>\n",
       "    <tr style=\"text-align: right;\">\n",
       "      <th></th>\n",
       "      <th>User_ID</th>\n",
       "      <th>Product_ID</th>\n",
       "      <th>Gender</th>\n",
       "      <th>Age</th>\n",
       "      <th>Occupation</th>\n",
       "      <th>City_Category</th>\n",
       "      <th>Stay_In_Current_City_Years</th>\n",
       "      <th>Marital_Status</th>\n",
       "      <th>Product_Category_1</th>\n",
       "      <th>Product_Category_2</th>\n",
       "      <th>Product_Category_3</th>\n",
       "      <th>Purchase</th>\n",
       "    </tr>\n",
       "  </thead>\n",
       "  <tbody>\n",
       "    <tr>\n",
       "      <th>0</th>\n",
       "      <td>1000001</td>\n",
       "      <td>P00069042</td>\n",
       "      <td>F</td>\n",
       "      <td>0-17</td>\n",
       "      <td>10</td>\n",
       "      <td>A</td>\n",
       "      <td>2</td>\n",
       "      <td>0</td>\n",
       "      <td>3</td>\n",
       "      <td>NaN</td>\n",
       "      <td>NaN</td>\n",
       "      <td>8370</td>\n",
       "    </tr>\n",
       "    <tr>\n",
       "      <th>1</th>\n",
       "      <td>1000001</td>\n",
       "      <td>P00248942</td>\n",
       "      <td>F</td>\n",
       "      <td>0-17</td>\n",
       "      <td>10</td>\n",
       "      <td>A</td>\n",
       "      <td>2</td>\n",
       "      <td>0</td>\n",
       "      <td>1</td>\n",
       "      <td>6.0</td>\n",
       "      <td>14.0</td>\n",
       "      <td>15200</td>\n",
       "    </tr>\n",
       "    <tr>\n",
       "      <th>2</th>\n",
       "      <td>1000001</td>\n",
       "      <td>P00087842</td>\n",
       "      <td>F</td>\n",
       "      <td>0-17</td>\n",
       "      <td>10</td>\n",
       "      <td>A</td>\n",
       "      <td>2</td>\n",
       "      <td>0</td>\n",
       "      <td>12</td>\n",
       "      <td>NaN</td>\n",
       "      <td>NaN</td>\n",
       "      <td>1422</td>\n",
       "    </tr>\n",
       "    <tr>\n",
       "      <th>3</th>\n",
       "      <td>1000001</td>\n",
       "      <td>P00085442</td>\n",
       "      <td>F</td>\n",
       "      <td>0-17</td>\n",
       "      <td>10</td>\n",
       "      <td>A</td>\n",
       "      <td>2</td>\n",
       "      <td>0</td>\n",
       "      <td>12</td>\n",
       "      <td>14.0</td>\n",
       "      <td>NaN</td>\n",
       "      <td>1057</td>\n",
       "    </tr>\n",
       "    <tr>\n",
       "      <th>4</th>\n",
       "      <td>1000002</td>\n",
       "      <td>P00285442</td>\n",
       "      <td>M</td>\n",
       "      <td>55+</td>\n",
       "      <td>16</td>\n",
       "      <td>C</td>\n",
       "      <td>4+</td>\n",
       "      <td>0</td>\n",
       "      <td>8</td>\n",
       "      <td>NaN</td>\n",
       "      <td>NaN</td>\n",
       "      <td>7969</td>\n",
       "    </tr>\n",
       "  </tbody>\n",
       "</table>\n",
       "</div>"
      ],
      "text/plain": [
       "   User_ID Product_ID Gender   Age  Occupation City_Category  \\\n",
       "0  1000001  P00069042      F  0-17          10             A   \n",
       "1  1000001  P00248942      F  0-17          10             A   \n",
       "2  1000001  P00087842      F  0-17          10             A   \n",
       "3  1000001  P00085442      F  0-17          10             A   \n",
       "4  1000002  P00285442      M   55+          16             C   \n",
       "\n",
       "  Stay_In_Current_City_Years  Marital_Status  Product_Category_1  \\\n",
       "0                          2               0                   3   \n",
       "1                          2               0                   1   \n",
       "2                          2               0                  12   \n",
       "3                          2               0                  12   \n",
       "4                         4+               0                   8   \n",
       "\n",
       "   Product_Category_2  Product_Category_3  Purchase  \n",
       "0                 NaN                 NaN      8370  \n",
       "1                 6.0                14.0     15200  \n",
       "2                 NaN                 NaN      1422  \n",
       "3                14.0                 NaN      1057  \n",
       "4                 NaN                 NaN      7969  "
      ]
     },
     "execution_count": 74,
     "metadata": {},
     "output_type": "execute_result"
    }
   ],
   "source": [
    "df_train=pd.read_csv('train.csv')\n",
    "df_train.head()"
   ]
  },
  {
   "cell_type": "code",
   "execution_count": 75,
   "id": "23d2fd09",
   "metadata": {},
   "outputs": [
    {
     "data": {
      "text/plain": [
       "(550068, 12)"
      ]
     },
     "execution_count": 75,
     "metadata": {},
     "output_type": "execute_result"
    }
   ],
   "source": [
    "df_train.shape"
   ]
  },
  {
   "cell_type": "markdown",
   "id": "c6f67ea9",
   "metadata": {},
   "source": [
    "Observation:\n",
    "There are 550068 records and 12 attributes"
   ]
  },
  {
   "cell_type": "code",
   "execution_count": 76,
   "id": "6e79227a",
   "metadata": {},
   "outputs": [
    {
     "name": "stdout",
     "output_type": "stream",
     "text": [
      "<class 'pandas.core.frame.DataFrame'>\n",
      "RangeIndex: 550068 entries, 0 to 550067\n",
      "Data columns (total 12 columns):\n",
      " #   Column                      Non-Null Count   Dtype  \n",
      "---  ------                      --------------   -----  \n",
      " 0   User_ID                     550068 non-null  int64  \n",
      " 1   Product_ID                  550068 non-null  object \n",
      " 2   Gender                      550068 non-null  object \n",
      " 3   Age                         550068 non-null  object \n",
      " 4   Occupation                  550068 non-null  int64  \n",
      " 5   City_Category               550068 non-null  object \n",
      " 6   Stay_In_Current_City_Years  550068 non-null  object \n",
      " 7   Marital_Status              550068 non-null  int64  \n",
      " 8   Product_Category_1          550068 non-null  int64  \n",
      " 9   Product_Category_2          376430 non-null  float64\n",
      " 10  Product_Category_3          166821 non-null  float64\n",
      " 11  Purchase                    550068 non-null  int64  \n",
      "dtypes: float64(2), int64(5), object(5)\n",
      "memory usage: 50.4+ MB\n"
     ]
    }
   ],
   "source": [
    "df_train.info()"
   ]
  },
  {
   "cell_type": "markdown",
   "id": "f7fc7f33",
   "metadata": {},
   "source": [
    "Observation:\n",
    "1. Gender has two values and should be converted to binary values\n",
    "2. Age should be treated as numerical column\n",
    "3. City_category should be converted to numerical column and should look at the frequency of each city category\n",
    "4. Product_Category_2 and Product_Category_3 have null values"
   ]
  },
  {
   "cell_type": "markdown",
   "id": "f9019fe0",
   "metadata": {},
   "source": [
    "## Checking Null Values"
   ]
  },
  {
   "cell_type": "code",
   "execution_count": 77,
   "id": "1a72cc86",
   "metadata": {},
   "outputs": [
    {
     "data": {
      "text/plain": [
       "User_ID                            0\n",
       "Product_ID                         0\n",
       "Gender                             0\n",
       "Age                                0\n",
       "Occupation                         0\n",
       "City_Category                      0\n",
       "Stay_In_Current_City_Years         0\n",
       "Marital_Status                     0\n",
       "Product_Category_1                 0\n",
       "Product_Category_2            173638\n",
       "Product_Category_3            383247\n",
       "Purchase                           0\n",
       "dtype: int64"
      ]
     },
     "execution_count": 77,
     "metadata": {},
     "output_type": "execute_result"
    }
   ],
   "source": [
    "df_train.isnull().sum()"
   ]
  },
  {
   "cell_type": "markdown",
   "id": "91f3b48b",
   "metadata": {},
   "source": [
    "Observation:\n",
    "Product_Category_2 has 173638 null values and Product_Category_3 has 383247 null values"
   ]
  },
  {
   "cell_type": "markdown",
   "id": "a43bde98",
   "metadata": {},
   "source": [
    "## Unique Elements in each attributes"
   ]
  },
  {
   "cell_type": "code",
   "execution_count": 78,
   "id": "f0d888ad",
   "metadata": {},
   "outputs": [
    {
     "data": {
      "text/plain": [
       "User_ID                        5891\n",
       "Product_ID                     3631\n",
       "Gender                            2\n",
       "Age                               7\n",
       "Occupation                       21\n",
       "City_Category                     3\n",
       "Stay_In_Current_City_Years        5\n",
       "Marital_Status                    2\n",
       "Product_Category_1               20\n",
       "Product_Category_2               17\n",
       "Product_Category_3               15\n",
       "Purchase                      18105\n",
       "dtype: int64"
      ]
     },
     "execution_count": 78,
     "metadata": {},
     "output_type": "execute_result"
    }
   ],
   "source": [
    "df_train.nunique()"
   ]
  },
  {
   "cell_type": "markdown",
   "id": "fdd62aec",
   "metadata": {},
   "source": [
    "Observation:\n",
    "We can drop User_ID and Product_ID as it has more unique values"
   ]
  },
  {
   "cell_type": "markdown",
   "id": "bbdfaccb",
   "metadata": {},
   "source": [
    "## Exploratory Data Analysis"
   ]
  },
  {
   "cell_type": "markdown",
   "id": "9d6e953f",
   "metadata": {},
   "source": [
    "### Purchase"
   ]
  },
  {
   "cell_type": "code",
   "execution_count": 79,
   "id": "838bc31e",
   "metadata": {},
   "outputs": [
    {
     "name": "stderr",
     "output_type": "stream",
     "text": [
      "E:\\Anaconda\\lib\\site-packages\\seaborn\\_decorators.py:36: FutureWarning: Pass the following variable as a keyword arg: x. From version 0.12, the only valid positional argument will be `data`, and passing other arguments without an explicit keyword will result in an error or misinterpretation.\n",
      "  warnings.warn(\n"
     ]
    },
    {
     "data": {
      "text/plain": [
       "<AxesSubplot:xlabel='Purchase'>"
      ]
     },
     "execution_count": 79,
     "metadata": {},
     "output_type": "execute_result"
    },
    {
     "data": {
      "image/png": "[encoded data removed]",
      "text/plain": [
       "<Figure size 432x288 with 1 Axes>"
      ]
     },
     "metadata": {
      "needs_background": "light"
     },
     "output_type": "display_data"
    }
   ],
   "source": [
    "sns.boxplot(df_train['Purchase'])"
   ]
  },
  {
   "cell_type": "markdown",
   "id": "8d255fa3",
   "metadata": {},
   "source": [
    "In the boxplot, we can see that there are few values lying outside. But if we take a look at the z-score and check if they are above the usual threshold level (i.e.,3), we get no such values"
   ]
  },
  {
   "cell_type": "code",
   "execution_count": 80,
   "id": "59a62403",
   "metadata": {},
   "outputs": [
    {
     "name": "stdout",
     "output_type": "stream",
     "text": [
      "0\n"
     ]
    }
   ],
   "source": [
    "from scipy import stats\n",
    "z=np.abs(stats.zscore(df_train['Purchase']))\n",
    "print(len(np.where(z>=3)[0]))"
   ]
  },
  {
   "cell_type": "markdown",
   "id": "a2aeebef",
   "metadata": {},
   "source": [
    "There are no major outliers."
   ]
  },
  {
   "cell_type": "markdown",
   "id": "080c4430",
   "metadata": {},
   "source": [
    "### Gender"
   ]
  },
  {
   "cell_type": "code",
   "execution_count": 81,
   "id": "c476d640",
   "metadata": {},
   "outputs": [
    {
     "name": "stderr",
     "output_type": "stream",
     "text": [
      "E:\\Anaconda\\lib\\site-packages\\seaborn\\_decorators.py:36: FutureWarning: Pass the following variable as a keyword arg: x. From version 0.12, the only valid positional argument will be `data`, and passing other arguments without an explicit keyword will result in an error or misinterpretation.\n",
      "  warnings.warn(\n",
      "E:\\Anaconda\\lib\\site-packages\\seaborn\\_decorators.py:36: FutureWarning: Pass the following variables as keyword args: x, y. From version 0.12, the only valid positional argument will be `data`, and passing other arguments without an explicit keyword will result in an error or misinterpretation.\n",
      "  warnings.warn(\n"
     ]
    },
    {
     "data": {
      "text/plain": [
       "Text(0.5, 1.0, 'Gender Vs Purchase')"
      ]
     },
     "execution_count": 81,
     "metadata": {},
     "output_type": "execute_result"
    },
    {
     "data": {
      "image/png": "[encoded data removed]",
      "text/plain": [
       "<Figure size 720x288 with 2 Axes>"
      ]
     },
     "metadata": {
      "needs_background": "light"
     },
     "output_type": "display_data"
    }
   ],
   "source": [
    "fig, ax = plt.subplots(nrows=1, ncols=2, figsize=(10,4))\n",
    "sns.countplot(df_train['Gender'], ax=ax[0])\n",
    "ax[0].set_title(\"Gender wise Purchases\")\n",
    "sns.barplot('Gender', 'Purchase', data=df_train, ax=ax[1])\n",
    "ax[1].set_title(\"Gender Vs Purchase\")"
   ]
  },
  {
   "cell_type": "markdown",
   "id": "28079cf2",
   "metadata": {},
   "source": [
    "From the above plotting, we can infer that the male gender spends more money on purchase contrary to female"
   ]
  },
  {
   "cell_type": "markdown",
   "id": "7638e4de",
   "metadata": {},
   "source": [
    "### Age"
   ]
  },
  {
   "cell_type": "code",
   "execution_count": 82,
   "id": "1a325ced",
   "metadata": {},
   "outputs": [
    {
     "name": "stderr",
     "output_type": "stream",
     "text": [
      "E:\\Anaconda\\lib\\site-packages\\seaborn\\_decorators.py:36: FutureWarning: Pass the following variable as a keyword arg: x. From version 0.12, the only valid positional argument will be `data`, and passing other arguments without an explicit keyword will result in an error or misinterpretation.\n",
      "  warnings.warn(\n",
      "E:\\Anaconda\\lib\\site-packages\\seaborn\\_decorators.py:36: FutureWarning: Pass the following variables as keyword args: x, y. From version 0.12, the only valid positional argument will be `data`, and passing other arguments without an explicit keyword will result in an error or misinterpretation.\n",
      "  warnings.warn(\n"
     ]
    },
    {
     "data": {
      "text/plain": [
       "Text(0.5, 1.0, 'Age Vs Purchase')"
      ]
     },
     "execution_count": 82,
     "metadata": {},
     "output_type": "execute_result"
    },
    {
     "data": {
      "image/png": "[encoded data removed]",
      "text/plain": [
       "<Figure size 720x288 with 2 Axes>"
      ]
     },
     "metadata": {
      "needs_background": "light"
     },
     "output_type": "display_data"
    }
   ],
   "source": [
    "fig, ax = plt.subplots(nrows=1, ncols=2, figsize=(10,4))\n",
    "sns.countplot(df_train['Age'], ax=ax[0])\n",
    "ax[0].set_title(\"Age wise Purchases\")\n",
    "sns.barplot('Age', 'Purchase', hue='Gender', data=df_train, ax=ax[1])\n",
    "ax[1].set_title(\"Age Vs Purchase\")"
   ]
  },
  {
   "cell_type": "markdown",
   "id": "bad8b174",
   "metadata": {},
   "source": [
    "From the left plot, we can infer that age 26-35 group people makes the most number of purchases\n",
    "\n",
    "From the right plot, all the age group people purchase rate tends to be the same except that the 51 - 55 age group has a little higher purchase amount spent."
   ]
  },
  {
   "cell_type": "markdown",
   "id": "367b7ddf",
   "metadata": {},
   "source": [
    "### Occupation"
   ]
  },
  {
   "cell_type": "code",
   "execution_count": 83,
   "id": "ef52517d",
   "metadata": {},
   "outputs": [
    {
     "name": "stderr",
     "output_type": "stream",
     "text": [
      "E:\\Anaconda\\lib\\site-packages\\seaborn\\_decorators.py:36: FutureWarning: Pass the following variable as a keyword arg: x. From version 0.12, the only valid positional argument will be `data`, and passing other arguments without an explicit keyword will result in an error or misinterpretation.\n",
      "  warnings.warn(\n",
      "E:\\Anaconda\\lib\\site-packages\\seaborn\\_decorators.py:36: FutureWarning: Pass the following variables as keyword args: x, y. From version 0.12, the only valid positional argument will be `data`, and passing other arguments without an explicit keyword will result in an error or misinterpretation.\n",
      "  warnings.warn(\n"
     ]
    },
    {
     "data": {
      "text/plain": [
       "Text(0.5, 1.0, 'Occupation Vs Purchase')"
      ]
     },
     "execution_count": 83,
     "metadata": {},
     "output_type": "execute_result"
    },
    {
     "data": {
      "image/png": "[encoded data removed]",
      "text/plain": [
       "<Figure size 720x288 with 2 Axes>"
      ]
     },
     "metadata": {
      "needs_background": "light"
     },
     "output_type": "display_data"
    }
   ],
   "source": [
    "fig, ax = plt.subplots(nrows=1, ncols=2, figsize=(10,4))\n",
    "sns.countplot(df_train['Occupation'], ax=ax[0])\n",
    "ax[0].set_title(\"Occupation wise Purchases\")\n",
    "sns.barplot('Occupation', 'Purchase', hue='Gender', data=df_train, ax=ax[1])\n",
    "ax[1].set_title(\"Occupation Vs Purchase\")"
   ]
  },
  {
   "cell_type": "markdown",
   "id": "b8cd9581",
   "metadata": {},
   "source": [
    "Although there are some occupations which have higher representations, it seems that the amount each user spent is more or less the same for all occupations. Of course, in the end, occupations with the highest representations will have the highest amounts of purchases."
   ]
  },
  {
   "cell_type": "markdown",
   "id": "aa3820e7",
   "metadata": {},
   "source": [
    "### City_Category"
   ]
  },
  {
   "cell_type": "code",
   "execution_count": 84,
   "id": "a284e7db",
   "metadata": {},
   "outputs": [
    {
     "name": "stderr",
     "output_type": "stream",
     "text": [
      "E:\\Anaconda\\lib\\site-packages\\seaborn\\_decorators.py:36: FutureWarning: Pass the following variable as a keyword arg: x. From version 0.12, the only valid positional argument will be `data`, and passing other arguments without an explicit keyword will result in an error or misinterpretation.\n",
      "  warnings.warn(\n",
      "E:\\Anaconda\\lib\\site-packages\\seaborn\\_decorators.py:36: FutureWarning: Pass the following variables as keyword args: x, y. From version 0.12, the only valid positional argument will be `data`, and passing other arguments without an explicit keyword will result in an error or misinterpretation.\n",
      "  warnings.warn(\n"
     ]
    },
    {
     "data": {
      "text/plain": [
       "Text(0.5, 1.0, 'City_Category Vs Purchase')"
      ]
     },
     "execution_count": 84,
     "metadata": {},
     "output_type": "execute_result"
    },
    {
     "data": {
      "image/png": "[encoded data removed]",
      "text/plain": [
       "<Figure size 720x288 with 2 Axes>"
      ]
     },
     "metadata": {
      "needs_background": "light"
     },
     "output_type": "display_data"
    }
   ],
   "source": [
    "fig, ax = plt.subplots(nrows=1, ncols=2, figsize=(10,4))\n",
    "sns.countplot(df_train['City_Category'], ax=ax[0])\n",
    "ax[0].set_title(\"City category wise Purchases\")\n",
    "sns.barplot('City_Category', 'Purchase', hue='Gender', data=df_train, ax=ax[1])\n",
    "ax[1].set_title(\"City_Category Vs Purchase\")"
   ]
  },
  {
   "cell_type": "markdown",
   "id": "cd16ddc7",
   "metadata": {},
   "source": [
    "From the left plot, we can infer that City Category B has the most number of purchases\n",
    "\n",
    "From the right plot, we can infer that the city whose buyers spend the most is city type 'C'"
   ]
  },
  {
   "cell_type": "markdown",
   "id": "1c0e99e3",
   "metadata": {},
   "source": [
    "### Stay_In_Current_City_Years"
   ]
  },
  {
   "cell_type": "code",
   "execution_count": 85,
   "id": "74290ea0",
   "metadata": {},
   "outputs": [
    {
     "name": "stderr",
     "output_type": "stream",
     "text": [
      "E:\\Anaconda\\lib\\site-packages\\seaborn\\_decorators.py:36: FutureWarning: Pass the following variable as a keyword arg: x. From version 0.12, the only valid positional argument will be `data`, and passing other arguments without an explicit keyword will result in an error or misinterpretation.\n",
      "  warnings.warn(\n",
      "E:\\Anaconda\\lib\\site-packages\\seaborn\\_decorators.py:36: FutureWarning: Pass the following variables as keyword args: x, y. From version 0.12, the only valid positional argument will be `data`, and passing other arguments without an explicit keyword will result in an error or misinterpretation.\n",
      "  warnings.warn(\n"
     ]
    },
    {
     "data": {
      "text/plain": [
       "Text(0.5, 1.0, 'Stay_In_Current_City_Years Vs Purchase')"
      ]
     },
     "execution_count": 85,
     "metadata": {},
     "output_type": "execute_result"
    },
    {
     "data": {
      "image/png": "[encoded data removed]",
      "text/plain": [
       "<Figure size 720x288 with 2 Axes>"
      ]
     },
     "metadata": {
      "needs_background": "light"
     },
     "output_type": "display_data"
    }
   ],
   "source": [
    "fig, ax = plt.subplots(nrows=1, ncols=2, figsize=(10,4))\n",
    "sns.countplot(df_train['Stay_In_Current_City_Years'], ax=ax[0])\n",
    "ax[0].set_title(\"Stay_In_Current_City_Years Purchases\")\n",
    "sns.barplot('Stay_In_Current_City_Years', 'Purchase', hue='Gender', data=df_train,ax=ax[1])\n",
    "ax[1].set_title(\"Stay_In_Current_City_Years Vs Purchase\")"
   ]
  },
  {
   "cell_type": "markdown",
   "id": "b6d6c3fc",
   "metadata": {},
   "source": [
    "Inference of Left plot: It looks like the longest someone is living in that city the less prone they are to buy new things. Hence, if someone is new in town and needs a great number of new things for their house that they’ll take advantage of the low prices in Black Friday to purchase all the things needed.\n",
    "\n",
    "Inference of Right plot: We can see the same pattern. People who are new in city are responsible for the higher number of purchase, however looking at it individually they tend to spend the same amount independently of how many years they have lived in their current city."
   ]
  },
  {
   "cell_type": "markdown",
   "id": "5e65e876",
   "metadata": {},
   "source": [
    "### Marital_Status"
   ]
  },
  {
   "cell_type": "code",
   "execution_count": 86,
   "id": "eb1c2fd5",
   "metadata": {},
   "outputs": [
    {
     "name": "stderr",
     "output_type": "stream",
     "text": [
      "E:\\Anaconda\\lib\\site-packages\\seaborn\\_decorators.py:36: FutureWarning: Pass the following variable as a keyword arg: x. From version 0.12, the only valid positional argument will be `data`, and passing other arguments without an explicit keyword will result in an error or misinterpretation.\n",
      "  warnings.warn(\n",
      "E:\\Anaconda\\lib\\site-packages\\seaborn\\_decorators.py:36: FutureWarning: Pass the following variables as keyword args: x, y. From version 0.12, the only valid positional argument will be `data`, and passing other arguments without an explicit keyword will result in an error or misinterpretation.\n",
      "  warnings.warn(\n"
     ]
    },
    {
     "data": {
      "text/plain": [
       "Text(0.5, 1.0, 'Marital_Status Vs Purchase')"
      ]
     },
     "execution_count": 86,
     "metadata": {},
     "output_type": "execute_result"
    },
    {
     "data": {
      "image/png": "[encoded data removed]",
      "text/plain": [
       "<Figure size 720x288 with 2 Axes>"
      ]
     },
     "metadata": {
      "needs_background": "light"
     },
     "output_type": "display_data"
    }
   ],
   "source": [
    "fig, ax = plt.subplots(nrows=1, ncols=2, figsize=(10,4))\n",
    "sns.countplot(df_train['Marital_Status'],ax=ax[0])\n",
    "ax[0].set_title(\"Marital_Status Purchases\")\n",
    "sns.barplot('Marital_Status', 'Purchase', hue='Gender', data=df_train, ax=ax[1])\n",
    "ax[1].set_title(\"Marital_Status Vs Purchase\")"
   ]
  },
  {
   "cell_type": "markdown",
   "id": "8a323934",
   "metadata": {},
   "source": [
    "Inference of Left Plot: There are more unmarried people who purchases more.\n",
    "\n",
    "Inference of Right Plot: The purchase amount of married and unmarried people are the same."
   ]
  },
  {
   "cell_type": "markdown",
   "id": "beff0243",
   "metadata": {},
   "source": [
    "### Product_Category_1"
   ]
  },
  {
   "cell_type": "code",
   "execution_count": 87,
   "id": "a3b28649",
   "metadata": {},
   "outputs": [
    {
     "name": "stderr",
     "output_type": "stream",
     "text": [
      "E:\\Anaconda\\lib\\site-packages\\seaborn\\_decorators.py:36: FutureWarning: Pass the following variable as a keyword arg: x. From version 0.12, the only valid positional argument will be `data`, and passing other arguments without an explicit keyword will result in an error or misinterpretation.\n",
      "  warnings.warn(\n",
      "E:\\Anaconda\\lib\\site-packages\\seaborn\\_decorators.py:36: FutureWarning: Pass the following variables as keyword args: x, y. From version 0.12, the only valid positional argument will be `data`, and passing other arguments without an explicit keyword will result in an error or misinterpretation.\n",
      "  warnings.warn(\n"
     ]
    },
    {
     "data": {
      "text/plain": [
       "Text(0.5, 1.0, 'Product_Category_1 Vs Purchase')"
      ]
     },
     "execution_count": 87,
     "metadata": {},
     "output_type": "execute_result"
    },
    {
     "data": {
      "image/png": "[encoded data removed]",
      "text/plain": [
       "<Figure size 720x288 with 2 Axes>"
      ]
     },
     "metadata": {
      "needs_background": "light"
     },
     "output_type": "display_data"
    }
   ],
   "source": [
    "fig, ax = plt.subplots(nrows=1, ncols=2, figsize=(10,4))\n",
    "sns.countplot(df_train['Product_Category_1'], ax=ax[0])\n",
    "ax[0].set_title(\"Product_Category_1 Purchases\")\n",
    "sns.barplot('Product_Category_1', 'Purchase', hue='Gender', data=df_train, ax=ax[1])\n",
    "ax[1].set_title(\"Product_Category_1 Vs Purchase\")"
   ]
  },
  {
   "cell_type": "markdown",
   "id": "001a009b",
   "metadata": {},
   "source": [
    "Inference of Left Plot: Three products 1,5 and 8 were three most sold products\n",
    "\n",
    "Inference of Right Plot: Eventhough product 1,5 and 8 were three most sold products, the amount spent was not the highest. In Category 10, the amount was spent the highest."
   ]
  },
  {
   "cell_type": "markdown",
   "id": "ba271edc",
   "metadata": {},
   "source": [
    "### Product_Category_2"
   ]
  },
  {
   "cell_type": "code",
   "execution_count": 88,
   "id": "71c7f914",
   "metadata": {},
   "outputs": [
    {
     "name": "stderr",
     "output_type": "stream",
     "text": [
      "E:\\Anaconda\\lib\\site-packages\\seaborn\\_decorators.py:36: FutureWarning: Pass the following variable as a keyword arg: x. From version 0.12, the only valid positional argument will be `data`, and passing other arguments without an explicit keyword will result in an error or misinterpretation.\n",
      "  warnings.warn(\n",
      "E:\\Anaconda\\lib\\site-packages\\seaborn\\_decorators.py:36: FutureWarning: Pass the following variables as keyword args: x, y. From version 0.12, the only valid positional argument will be `data`, and passing other arguments without an explicit keyword will result in an error or misinterpretation.\n",
      "  warnings.warn(\n"
     ]
    },
    {
     "data": {
      "text/plain": [
       "Text(0.5, 1.0, 'Product_Category_2 Vs Purchase')"
      ]
     },
     "execution_count": 88,
     "metadata": {},
     "output_type": "execute_result"
    },
    {
     "data": {
      "image/png": "[encoded data removed]",
      "text/plain": [
       "<Figure size 720x288 with 2 Axes>"
      ]
     },
     "metadata": {
      "needs_background": "light"
     },
     "output_type": "display_data"
    }
   ],
   "source": [
    "fig, ax = plt.subplots(nrows=1, ncols=2, figsize=(10,4))\n",
    "sns.countplot(df_train['Product_Category_2'], ax=ax[0])\n",
    "ax[0].set_title(\"Product_Category_2 Purchases\")\n",
    "sns.barplot('Product_Category_2', 'Purchase', hue='Gender', data=df_train, ax=ax[1])\n",
    "ax[1].set_title(\"Product_Category_2 Vs Purchase\")"
   ]
  },
  {
   "cell_type": "markdown",
   "id": "aa2c18dc",
   "metadata": {},
   "source": [
    "Inference of Left Plot: Product 2,8 and 14 were the three most sold products\n",
    "\n",
    "Inference of Right Plot:\n",
    "Eventhough product 2,8 and 14 were three most sold products, the amount spent was not the highest. In Category 10, the amount was spent the highest."
   ]
  },
  {
   "cell_type": "markdown",
   "id": "12fab8ef",
   "metadata": {},
   "source": [
    "### Product_Category_3"
   ]
  },
  {
   "cell_type": "code",
   "execution_count": 89,
   "id": "e4a06288",
   "metadata": {},
   "outputs": [
    {
     "name": "stderr",
     "output_type": "stream",
     "text": [
      "E:\\Anaconda\\lib\\site-packages\\seaborn\\_decorators.py:36: FutureWarning: Pass the following variable as a keyword arg: x. From version 0.12, the only valid positional argument will be `data`, and passing other arguments without an explicit keyword will result in an error or misinterpretation.\n",
      "  warnings.warn(\n",
      "E:\\Anaconda\\lib\\site-packages\\seaborn\\_decorators.py:36: FutureWarning: Pass the following variables as keyword args: x, y. From version 0.12, the only valid positional argument will be `data`, and passing other arguments without an explicit keyword will result in an error or misinterpretation.\n",
      "  warnings.warn(\n"
     ]
    },
    {
     "data": {
      "text/plain": [
       "Text(0.5, 1.0, 'Product_Category_3 Vs Purchase')"
      ]
     },
     "execution_count": 89,
     "metadata": {},
     "output_type": "execute_result"
    },
    {
     "data": {
      "image/png": "[encoded data removed]",
      "text/plain": [
       "<Figure size 720x288 with 2 Axes>"
      ]
     },
     "metadata": {
      "needs_background": "light"
     },
     "output_type": "display_data"
    }
   ],
   "source": [
    "fig, ax = plt.subplots(nrows=1, ncols=2, figsize=(10,4))\n",
    "sns.countplot(df_train['Product_Category_3'],ax=ax[0])\n",
    "ax[0].set_title(\"Product_Category_3 Purchases\")\n",
    "sns.barplot('Product_Category_3', 'Purchase', hue='Gender', data=df_train, ax=ax[1])\n",
    "ax[1].set_title(\"Product_Category_3 Vs Purchase\")"
   ]
  },
  {
   "cell_type": "markdown",
   "id": "0586bc0e",
   "metadata": {},
   "source": [
    "Inference of Left Plot: 16, 15 and 14 were the most sold products\n",
    "\n",
    "Inference of Right Plot: Eventhough product 16, 15 and 14 were three most sold products, the amount spent was not the highest. In Category 1, the amount was spent the highest."
   ]
  },
  {
   "cell_type": "markdown",
   "id": "fe0f0d03",
   "metadata": {},
   "source": [
    "### Correlation"
   ]
  },
  {
   "cell_type": "code",
   "execution_count": 90,
   "id": "47f5d107",
   "metadata": {},
   "outputs": [
    {
     "data": {
      "text/html": [
       "<div>\n",
       "<style scoped>\n",
       "    .dataframe tbody tr th:only-of-type {\n",
       "        vertical-align: middle;\n",
       "    }\n",
       "\n",
       "    .dataframe tbody tr th {\n",
       "        vertical-align: top;\n",
       "    }\n",
       "\n",
       "    .dataframe thead th {\n",
       "        text-align: right;\n",
       "    }\n",
       "</style>\n",
       "<table border=\"1\" class=\"dataframe\">\n",
       "  <thead>\n",
       "    <tr style=\"text-align: right;\">\n",
       "      <th></th>\n",
       "      <th>User_ID</th>\n",
       "      <th>Occupation</th>\n",
       "      <th>Marital_Status</th>\n",
       "      <th>Product_Category_1</th>\n",
       "      <th>Product_Category_2</th>\n",
       "      <th>Product_Category_3</th>\n",
       "      <th>Purchase</th>\n",
       "    </tr>\n",
       "  </thead>\n",
       "  <tbody>\n",
       "    <tr>\n",
       "      <th>User_ID</th>\n",
       "      <td>1.000000</td>\n",
       "      <td>-0.023971</td>\n",
       "      <td>0.020443</td>\n",
       "      <td>0.003825</td>\n",
       "      <td>0.001529</td>\n",
       "      <td>0.003419</td>\n",
       "      <td>0.004716</td>\n",
       "    </tr>\n",
       "    <tr>\n",
       "      <th>Occupation</th>\n",
       "      <td>-0.023971</td>\n",
       "      <td>1.000000</td>\n",
       "      <td>0.024280</td>\n",
       "      <td>-0.007618</td>\n",
       "      <td>-0.000384</td>\n",
       "      <td>0.013263</td>\n",
       "      <td>0.020833</td>\n",
       "    </tr>\n",
       "    <tr>\n",
       "      <th>Marital_Status</th>\n",
       "      <td>0.020443</td>\n",
       "      <td>0.024280</td>\n",
       "      <td>1.000000</td>\n",
       "      <td>0.019888</td>\n",
       "      <td>0.015138</td>\n",
       "      <td>0.019473</td>\n",
       "      <td>-0.000463</td>\n",
       "    </tr>\n",
       "    <tr>\n",
       "      <th>Product_Category_1</th>\n",
       "      <td>0.003825</td>\n",
       "      <td>-0.007618</td>\n",
       "      <td>0.019888</td>\n",
       "      <td>1.000000</td>\n",
       "      <td>0.540583</td>\n",
       "      <td>0.229678</td>\n",
       "      <td>-0.343703</td>\n",
       "    </tr>\n",
       "    <tr>\n",
       "      <th>Product_Category_2</th>\n",
       "      <td>0.001529</td>\n",
       "      <td>-0.000384</td>\n",
       "      <td>0.015138</td>\n",
       "      <td>0.540583</td>\n",
       "      <td>1.000000</td>\n",
       "      <td>0.543649</td>\n",
       "      <td>-0.209918</td>\n",
       "    </tr>\n",
       "    <tr>\n",
       "      <th>Product_Category_3</th>\n",
       "      <td>0.003419</td>\n",
       "      <td>0.013263</td>\n",
       "      <td>0.019473</td>\n",
       "      <td>0.229678</td>\n",
       "      <td>0.543649</td>\n",
       "      <td>1.000000</td>\n",
       "      <td>-0.022006</td>\n",
       "    </tr>\n",
       "    <tr>\n",
       "      <th>Purchase</th>\n",
       "      <td>0.004716</td>\n",
       "      <td>0.020833</td>\n",
       "      <td>-0.000463</td>\n",
       "      <td>-0.343703</td>\n",
       "      <td>-0.209918</td>\n",
       "      <td>-0.022006</td>\n",
       "      <td>1.000000</td>\n",
       "    </tr>\n",
       "  </tbody>\n",
       "</table>\n",
       "</div>"
      ],
      "text/plain": [
       "                     User_ID  Occupation  Marital_Status  Product_Category_1  \\\n",
       "User_ID             1.000000   -0.023971        0.020443            0.003825   \n",
       "Occupation         -0.023971    1.000000        0.024280           -0.007618   \n",
       "Marital_Status      0.020443    0.024280        1.000000            0.019888   \n",
       "Product_Category_1  0.003825   -0.007618        0.019888            1.000000   \n",
       "Product_Category_2  0.001529   -0.000384        0.015138            0.540583   \n",
       "Product_Category_3  0.003419    0.013263        0.019473            0.229678   \n",
       "Purchase            0.004716    0.020833       -0.000463           -0.343703   \n",
       "\n",
       "                    Product_Category_2  Product_Category_3  Purchase  \n",
       "User_ID                       0.001529            0.003419  0.004716  \n",
       "Occupation                   -0.000384            0.013263  0.020833  \n",
       "Marital_Status                0.015138            0.019473 -0.000463  \n",
       "Product_Category_1            0.540583            0.229678 -0.343703  \n",
       "Product_Category_2            1.000000            0.543649 -0.209918  \n",
       "Product_Category_3            0.543649            1.000000 -0.022006  \n",
       "Purchase                     -0.209918           -0.022006  1.000000  "
      ]
     },
     "execution_count": 90,
     "metadata": {},
     "output_type": "execute_result"
    }
   ],
   "source": [
    "df_train.corr()"
   ]
  },
  {
   "cell_type": "code",
   "execution_count": 91,
   "id": "72572cfe",
   "metadata": {},
   "outputs": [
    {
     "data": {
      "text/plain": [
       "<AxesSubplot:>"
      ]
     },
     "execution_count": 91,
     "metadata": {},
     "output_type": "execute_result"
    },
    {
     "data": {
      "image/png": "[encoded data removed]",
      "text/plain": [
       "<Figure size 432x288 with 2 Axes>"
      ]
     },
     "metadata": {
      "needs_background": "light"
     },
     "output_type": "display_data"
    }
   ],
   "source": [
    "sns.heatmap(df_train.corr(), annot=True)"
   ]
  },
  {
   "cell_type": "markdown",
   "id": "056621aa",
   "metadata": {},
   "source": [
    "There is some correlation between the product category groups"
   ]
  },
  {
   "cell_type": "markdown",
   "id": "2272bba3",
   "metadata": {},
   "source": [
    "## Dropping Irrelevant Columns"
   ]
  },
  {
   "cell_type": "code",
   "execution_count": 92,
   "id": "dc00dd6b",
   "metadata": {},
   "outputs": [],
   "source": [
    "df=df_train.drop([\"User_ID\",\"Product_ID\"],axis=1)"
   ]
  },
  {
   "cell_type": "markdown",
   "id": "0df87d7f",
   "metadata": {},
   "source": [
    "## Pipelines"
   ]
  },
  {
   "cell_type": "markdown",
   "id": "ddf5584f",
   "metadata": {},
   "source": [
    "Using Pipelines for\n",
    "1. Numerical Data: \\\n",
    "    a.Handling Missing Values\\\n",
    "    b.Scaling\n",
    "2. Categorical Data:<br /> \n",
    "    a.Handling Missing Values<br /> \n",
    "    b.Encoding\n",
    "3. Training the model\n",
    "\n",
    "Stages of Pipeline:<br /> \n",
    "    &nbsp;&nbsp;&nbsp;&nbsp;&nbsp;&nbsp; Stage 1 - Preprocessing <br /> \n",
    "    &nbsp;&nbsp;&nbsp;&nbsp;&nbsp;&nbsp; Stage 2 - Model Training"
   ]
  },
  {
   "cell_type": "markdown",
   "id": "406f7597",
   "metadata": {},
   "source": [
    "### Spliting data into independent & dependent variables"
   ]
  },
  {
   "cell_type": "code",
   "execution_count": 93,
   "id": "091ed800",
   "metadata": {},
   "outputs": [
    {
     "data": {
      "text/html": [
       "<div>\n",
       "<style scoped>\n",
       "    .dataframe tbody tr th:only-of-type {\n",
       "        vertical-align: middle;\n",
       "    }\n",
       "\n",
       "    .dataframe tbody tr th {\n",
       "        vertical-align: top;\n",
       "    }\n",
       "\n",
       "    .dataframe thead th {\n",
       "        text-align: right;\n",
       "    }\n",
       "</style>\n",
       "<table border=\"1\" class=\"dataframe\">\n",
       "  <thead>\n",
       "    <tr style=\"text-align: right;\">\n",
       "      <th></th>\n",
       "      <th>Gender</th>\n",
       "      <th>Age</th>\n",
       "      <th>Occupation</th>\n",
       "      <th>City_Category</th>\n",
       "      <th>Stay_In_Current_City_Years</th>\n",
       "      <th>Marital_Status</th>\n",
       "      <th>Product_Category_1</th>\n",
       "      <th>Product_Category_2</th>\n",
       "      <th>Product_Category_3</th>\n",
       "    </tr>\n",
       "  </thead>\n",
       "  <tbody>\n",
       "    <tr>\n",
       "      <th>0</th>\n",
       "      <td>F</td>\n",
       "      <td>0-17</td>\n",
       "      <td>10</td>\n",
       "      <td>A</td>\n",
       "      <td>2</td>\n",
       "      <td>0</td>\n",
       "      <td>3</td>\n",
       "      <td>NaN</td>\n",
       "      <td>NaN</td>\n",
       "    </tr>\n",
       "    <tr>\n",
       "      <th>1</th>\n",
       "      <td>F</td>\n",
       "      <td>0-17</td>\n",
       "      <td>10</td>\n",
       "      <td>A</td>\n",
       "      <td>2</td>\n",
       "      <td>0</td>\n",
       "      <td>1</td>\n",
       "      <td>6.0</td>\n",
       "      <td>14.0</td>\n",
       "    </tr>\n",
       "    <tr>\n",
       "      <th>2</th>\n",
       "      <td>F</td>\n",
       "      <td>0-17</td>\n",
       "      <td>10</td>\n",
       "      <td>A</td>\n",
       "      <td>2</td>\n",
       "      <td>0</td>\n",
       "      <td>12</td>\n",
       "      <td>NaN</td>\n",
       "      <td>NaN</td>\n",
       "    </tr>\n",
       "    <tr>\n",
       "      <th>3</th>\n",
       "      <td>F</td>\n",
       "      <td>0-17</td>\n",
       "      <td>10</td>\n",
       "      <td>A</td>\n",
       "      <td>2</td>\n",
       "      <td>0</td>\n",
       "      <td>12</td>\n",
       "      <td>14.0</td>\n",
       "      <td>NaN</td>\n",
       "    </tr>\n",
       "    <tr>\n",
       "      <th>4</th>\n",
       "      <td>M</td>\n",
       "      <td>55+</td>\n",
       "      <td>16</td>\n",
       "      <td>C</td>\n",
       "      <td>4+</td>\n",
       "      <td>0</td>\n",
       "      <td>8</td>\n",
       "      <td>NaN</td>\n",
       "      <td>NaN</td>\n",
       "    </tr>\n",
       "  </tbody>\n",
       "</table>\n",
       "</div>"
      ],
      "text/plain": [
       "  Gender   Age  Occupation City_Category Stay_In_Current_City_Years  \\\n",
       "0      F  0-17          10             A                          2   \n",
       "1      F  0-17          10             A                          2   \n",
       "2      F  0-17          10             A                          2   \n",
       "3      F  0-17          10             A                          2   \n",
       "4      M   55+          16             C                         4+   \n",
       "\n",
       "   Marital_Status  Product_Category_1  Product_Category_2  Product_Category_3  \n",
       "0               0                   3                 NaN                 NaN  \n",
       "1               0                   1                 6.0                14.0  \n",
       "2               0                  12                 NaN                 NaN  \n",
       "3               0                  12                14.0                 NaN  \n",
       "4               0                   8                 NaN                 NaN  "
      ]
     },
     "execution_count": 93,
     "metadata": {},
     "output_type": "execute_result"
    }
   ],
   "source": [
    "X=df.drop(\"Purchase\",axis=1)\n",
    "X.head()"
   ]
  },
  {
   "cell_type": "code",
   "execution_count": 94,
   "id": "170b94c4",
   "metadata": {},
   "outputs": [
    {
     "data": {
      "text/plain": [
       "0     8370\n",
       "1    15200\n",
       "2     1422\n",
       "3     1057\n",
       "4     7969\n",
       "Name: Purchase, dtype: int64"
      ]
     },
     "execution_count": 94,
     "metadata": {},
     "output_type": "execute_result"
    }
   ],
   "source": [
    "y=df['Purchase']\n",
    "y.head()"
   ]
  },
  {
   "cell_type": "markdown",
   "id": "8b54ae11",
   "metadata": {},
   "source": [
    "### Splitting Data as Train and Test Set"
   ]
  },
  {
   "cell_type": "code",
   "execution_count": 95,
   "id": "f94362e5",
   "metadata": {},
   "outputs": [],
   "source": [
    "from sklearn.model_selection import train_test_split\n",
    "X_train, X_test, y_train, y_test = train_test_split(X, y, test_size=0.3, random_state=42)"
   ]
  },
  {
   "cell_type": "markdown",
   "id": "c45d25de",
   "metadata": {},
   "source": [
    "### Preprocessing and Model Training using Pipelines"
   ]
  },
  {
   "cell_type": "code",
   "execution_count": 96,
   "id": "a150faff",
   "metadata": {},
   "outputs": [],
   "source": [
    "numeric_columns= X.select_dtypes(include=['int','float']).columns"
   ]
  },
  {
   "cell_type": "code",
   "execution_count": 97,
   "id": "e6dd2ef6",
   "metadata": {},
   "outputs": [],
   "source": [
    "#Numerical\n",
    "numeric_processor=Pipeline(\n",
    "    steps=[(\"imputation_mode\", SimpleImputer(missing_values=np.NaN,strategy=\"most_frequent\")), \n",
    "            (\"standard_scaler\", StandardScaler())]\n",
    ")"
   ]
  },
  {
   "cell_type": "code",
   "execution_count": 98,
   "id": "0f78b93f",
   "metadata": {},
   "outputs": [],
   "source": [
    "category_columns=X.select_dtypes(include=['category', 'object']).columns"
   ]
  },
  {
   "cell_type": "code",
   "execution_count": 99,
   "id": "9c93126f",
   "metadata": {},
   "outputs": [],
   "source": [
    "#Categorical\n",
    "from sklearn.preprocessing import OneHotEncoder\n",
    "categorical_processor=Pipeline(\n",
    "    steps=[(\"imputation_mean\", SimpleImputer(fill_value=\"missing\", strategy=\"constant\")), \n",
    "            (\"onehot\", OneHotEncoder(handle_unknown=\"ignore\"))]\n",
    ") "
   ]
  },
  {
   "cell_type": "code",
   "execution_count": 100,
   "id": "aa3e56bb",
   "metadata": {},
   "outputs": [],
   "source": [
    "from sklearn.compose import ColumnTransformer\n",
    "preprocessor=ColumnTransformer(\n",
    "    transformers=[(\"categorical\", categorical_processor, category_columns),\n",
    "    (\"numerical\", numeric_processor, numeric_columns)]\n",
    ")"
   ]
  },
  {
   "cell_type": "code",
   "execution_count": 101,
   "id": "99b8e968",
   "metadata": {},
   "outputs": [],
   "source": [
    "set_config(display=\"diagram\")"
   ]
  },
  {
   "cell_type": "code",
   "execution_count": 102,
   "id": "2da4b10b",
   "metadata": {},
   "outputs": [
    {
     "data": {
      "text/html": [
       "<style>#sk-787d9e11-1afa-449f-a19a-41abe4bcdf33 {color: black;background-color: white;}#sk-787d9e11-1afa-449f-a19a-41abe4bcdf33 pre{padding: 0;}#sk-787d9e11-1afa-449f-a19a-41abe4bcdf33 div.sk-toggleable {background-color: white;}#sk-787d9e11-1afa-449f-a19a-41abe4bcdf33 label.sk-toggleable__label {cursor: pointer;display: block;width: 100%;margin-bottom: 0;padding: 0.3em;box-sizing: border-box;text-align: center;}#sk-787d9e11-1afa-449f-a19a-41abe4bcdf33 label.sk-toggleable__label-arrow:before {content: \"▸\";float: left;margin-right: 0.25em;color: #696969;}#sk-787d9e11-1afa-449f-a19a-41abe4bcdf33 label.sk-toggleable__label-arrow:hover:before {color: black;}#sk-787d9e11-1afa-449f-a19a-41abe4bcdf33 div.sk-estimator:hover label.sk-toggleable__label-arrow:before {color: black;}#sk-787d9e11-1afa-449f-a19a-41abe4bcdf33 div.sk-toggleable__content {max-height: 0;max-width: 0;overflow: hidden;text-align: left;background-color: #f0f8ff;}#sk-787d9e11-1afa-449f-a19a-41abe4bcdf33 div.sk-toggleable__content pre {margin: 0.2em;color: black;border-radius: 0.25em;background-color: #f0f8ff;}#sk-787d9e11-1afa-449f-a19a-41abe4bcdf33 input.sk-toggleable__control:checked~div.sk-toggleable__content {max-height: 200px;max-width: 100%;overflow: auto;}#sk-787d9e11-1afa-449f-a19a-41abe4bcdf33 input.sk-toggleable__control:checked~label.sk-toggleable__label-arrow:before {content: \"▾\";}#sk-787d9e11-1afa-449f-a19a-41abe4bcdf33 div.sk-estimator input.sk-toggleable__control:checked~label.sk-toggleable__label {background-color: #d4ebff;}#sk-787d9e11-1afa-449f-a19a-41abe4bcdf33 div.sk-label input.sk-toggleable__control:checked~label.sk-toggleable__label {background-color: #d4ebff;}#sk-787d9e11-1afa-449f-a19a-41abe4bcdf33 input.sk-hidden--visually {border: 0;clip: rect(1px 1px 1px 1px);clip: rect(1px, 1px, 1px, 1px);height: 1px;margin: -1px;overflow: hidden;padding: 0;position: absolute;width: 1px;}#sk-787d9e11-1afa-449f-a19a-41abe4bcdf33 div.sk-estimator {font-family: monospace;background-color: #f0f8ff;border: 1px dotted black;border-radius: 0.25em;box-sizing: border-box;margin-bottom: 0.5em;}#sk-787d9e11-1afa-449f-a19a-41abe4bcdf33 div.sk-estimator:hover {background-color: #d4ebff;}#sk-787d9e11-1afa-449f-a19a-41abe4bcdf33 div.sk-parallel-item::after {content: \"\";width: 100%;border-bottom: 1px solid gray;flex-grow: 1;}#sk-787d9e11-1afa-449f-a19a-41abe4bcdf33 div.sk-label:hover label.sk-toggleable__label {background-color: #d4ebff;}#sk-787d9e11-1afa-449f-a19a-41abe4bcdf33 div.sk-serial::before {content: \"\";position: absolute;border-left: 1px solid gray;box-sizing: border-box;top: 2em;bottom: 0;left: 50%;}#sk-787d9e11-1afa-449f-a19a-41abe4bcdf33 div.sk-serial {display: flex;flex-direction: column;align-items: center;background-color: white;padding-right: 0.2em;padding-left: 0.2em;}#sk-787d9e11-1afa-449f-a19a-41abe4bcdf33 div.sk-item {z-index: 1;}#sk-787d9e11-1afa-449f-a19a-41abe4bcdf33 div.sk-parallel {display: flex;align-items: stretch;justify-content: center;background-color: white;}#sk-787d9e11-1afa-449f-a19a-41abe4bcdf33 div.sk-parallel::before {content: \"\";position: absolute;border-left: 1px solid gray;box-sizing: border-box;top: 2em;bottom: 0;left: 50%;}#sk-787d9e11-1afa-449f-a19a-41abe4bcdf33 div.sk-parallel-item {display: flex;flex-direction: column;position: relative;background-color: white;}#sk-787d9e11-1afa-449f-a19a-41abe4bcdf33 div.sk-parallel-item:first-child::after {align-self: flex-end;width: 50%;}#sk-787d9e11-1afa-449f-a19a-41abe4bcdf33 div.sk-parallel-item:last-child::after {align-self: flex-start;width: 50%;}#sk-787d9e11-1afa-449f-a19a-41abe4bcdf33 div.sk-parallel-item:only-child::after {width: 0;}#sk-787d9e11-1afa-449f-a19a-41abe4bcdf33 div.sk-dashed-wrapped {border: 1px dashed gray;margin: 0 0.4em 0.5em 0.4em;box-sizing: border-box;padding-bottom: 0.4em;background-color: white;position: relative;}#sk-787d9e11-1afa-449f-a19a-41abe4bcdf33 div.sk-label label {font-family: monospace;font-weight: bold;background-color: white;display: inline-block;line-height: 1.2em;}#sk-787d9e11-1afa-449f-a19a-41abe4bcdf33 div.sk-label-container {position: relative;z-index: 2;text-align: center;}#sk-787d9e11-1afa-449f-a19a-41abe4bcdf33 div.sk-container {/* jupyter's `normalize.less` sets `[hidden] { display: none; }` but bootstrap.min.css set `[hidden] { display: none !important; }` so we also need the `!important` here to be able to override the default hidden behavior on the sphinx rendered scikit-learn.org. See: https://github.com/scikit-learn/scikit-learn/issues/21755 */display: inline-block !important;position: relative;}#sk-787d9e11-1afa-449f-a19a-41abe4bcdf33 div.sk-text-repr-fallback {display: none;}</style><div id=\"sk-787d9e11-1afa-449f-a19a-41abe4bcdf33\" class=\"sk-top-container\"><div class=\"sk-text-repr-fallback\"><pre>ColumnTransformer(transformers=[(&#x27;categorical&#x27;,\n",
       "                                 Pipeline(steps=[(&#x27;imputation_mean&#x27;,\n",
       "                                                  SimpleImputer(fill_value=&#x27;missing&#x27;,\n",
       "                                                                strategy=&#x27;constant&#x27;)),\n",
       "                                                 (&#x27;onehot&#x27;,\n",
       "                                                  OneHotEncoder(handle_unknown=&#x27;ignore&#x27;))]),\n",
       "                                 Index([&#x27;Gender&#x27;, &#x27;Age&#x27;, &#x27;City_Category&#x27;, &#x27;Stay_In_Current_City_Years&#x27;], dtype=&#x27;object&#x27;)),\n",
       "                                (&#x27;numerical&#x27;,\n",
       "                                 Pipeline(steps=[(&#x27;imputation_mode&#x27;,\n",
       "                                                  SimpleImputer(strategy=&#x27;most_frequent&#x27;)),\n",
       "                                                 (&#x27;standard_scaler&#x27;,\n",
       "                                                  StandardScaler())]),\n",
       "                                 Index([&#x27;Occupation&#x27;, &#x27;Marital_Status&#x27;, &#x27;Product_Category_1&#x27;,\n",
       "       &#x27;Product_Category_2&#x27;, &#x27;Product_Category_3&#x27;],\n",
       "      dtype=&#x27;object&#x27;))])</pre><b>Please rerun this cell to show the HTML repr or trust the notebook.</b></div><div class=\"sk-container\" hidden><div class=\"sk-item sk-dashed-wrapped\"><div class=\"sk-label-container\"><div class=\"sk-label sk-toggleable\"><input class=\"sk-toggleable__control sk-hidden--visually\" id=\"b6014c49-0615-4163-a7df-e6b645103ee9\" type=\"checkbox\" ><label for=\"b6014c49-0615-4163-a7df-e6b645103ee9\" class=\"sk-toggleable__label sk-toggleable__label-arrow\">ColumnTransformer</label><div class=\"sk-toggleable__content\"><pre>ColumnTransformer(transformers=[(&#x27;categorical&#x27;,\n",
       "                                 Pipeline(steps=[(&#x27;imputation_mean&#x27;,\n",
       "                                                  SimpleImputer(fill_value=&#x27;missing&#x27;,\n",
       "                                                                strategy=&#x27;constant&#x27;)),\n",
       "                                                 (&#x27;onehot&#x27;,\n",
       "                                                  OneHotEncoder(handle_unknown=&#x27;ignore&#x27;))]),\n",
       "                                 Index([&#x27;Gender&#x27;, &#x27;Age&#x27;, &#x27;City_Category&#x27;, &#x27;Stay_In_Current_City_Years&#x27;], dtype=&#x27;object&#x27;)),\n",
       "                                (&#x27;numerical&#x27;,\n",
       "                                 Pipeline(steps=[(&#x27;imputation_mode&#x27;,\n",
       "                                                  SimpleImputer(strategy=&#x27;most_frequent&#x27;)),\n",
       "                                                 (&#x27;standard_scaler&#x27;,\n",
       "                                                  StandardScaler())]),\n",
       "                                 Index([&#x27;Occupation&#x27;, &#x27;Marital_Status&#x27;, &#x27;Product_Category_1&#x27;,\n",
       "       &#x27;Product_Category_2&#x27;, &#x27;Product_Category_3&#x27;],\n",
       "      dtype=&#x27;object&#x27;))])</pre></div></div></div><div class=\"sk-parallel\"><div class=\"sk-parallel-item\"><div class=\"sk-item\"><div class=\"sk-label-container\"><div class=\"sk-label sk-toggleable\"><input class=\"sk-toggleable__control sk-hidden--visually\" id=\"37fac961-29c6-4f84-baed-34a7a0911fec\" type=\"checkbox\" ><label for=\"37fac961-29c6-4f84-baed-34a7a0911fec\" class=\"sk-toggleable__label sk-toggleable__label-arrow\">categorical</label><div class=\"sk-toggleable__content\"><pre>Index([&#x27;Gender&#x27;, &#x27;Age&#x27;, &#x27;City_Category&#x27;, &#x27;Stay_In_Current_City_Years&#x27;], dtype=&#x27;object&#x27;)</pre></div></div></div><div class=\"sk-serial\"><div class=\"sk-item\"><div class=\"sk-serial\"><div class=\"sk-item\"><div class=\"sk-estimator sk-toggleable\"><input class=\"sk-toggleable__control sk-hidden--visually\" id=\"87854742-9279-4121-8b65-239d8d71552a\" type=\"checkbox\" ><label for=\"87854742-9279-4121-8b65-239d8d71552a\" class=\"sk-toggleable__label sk-toggleable__label-arrow\">SimpleImputer</label><div class=\"sk-toggleable__content\"><pre>SimpleImputer(fill_value=&#x27;missing&#x27;, strategy=&#x27;constant&#x27;)</pre></div></div></div><div class=\"sk-item\"><div class=\"sk-estimator sk-toggleable\"><input class=\"sk-toggleable__control sk-hidden--visually\" id=\"76ebc8ed-9d9f-4e26-ad0f-85f2579a1234\" type=\"checkbox\" ><label for=\"76ebc8ed-9d9f-4e26-ad0f-85f2579a1234\" class=\"sk-toggleable__label sk-toggleable__label-arrow\">OneHotEncoder</label><div class=\"sk-toggleable__content\"><pre>OneHotEncoder(handle_unknown=&#x27;ignore&#x27;)</pre></div></div></div></div></div></div></div></div><div class=\"sk-parallel-item\"><div class=\"sk-item\"><div class=\"sk-label-container\"><div class=\"sk-label sk-toggleable\"><input class=\"sk-toggleable__control sk-hidden--visually\" id=\"c2fef8d8-9caa-4fe0-948d-4c6f7b07d840\" type=\"checkbox\" ><label for=\"c2fef8d8-9caa-4fe0-948d-4c6f7b07d840\" class=\"sk-toggleable__label sk-toggleable__label-arrow\">numerical</label><div class=\"sk-toggleable__content\"><pre>Index([&#x27;Occupation&#x27;, &#x27;Marital_Status&#x27;, &#x27;Product_Category_1&#x27;,\n",
       "       &#x27;Product_Category_2&#x27;, &#x27;Product_Category_3&#x27;],\n",
       "      dtype=&#x27;object&#x27;)</pre></div></div></div><div class=\"sk-serial\"><div class=\"sk-item\"><div class=\"sk-serial\"><div class=\"sk-item\"><div class=\"sk-estimator sk-toggleable\"><input class=\"sk-toggleable__control sk-hidden--visually\" id=\"9362bf53-4b4f-424e-8f0f-bc2ca913faaf\" type=\"checkbox\" ><label for=\"9362bf53-4b4f-424e-8f0f-bc2ca913faaf\" class=\"sk-toggleable__label sk-toggleable__label-arrow\">SimpleImputer</label><div class=\"sk-toggleable__content\"><pre>SimpleImputer(strategy=&#x27;most_frequent&#x27;)</pre></div></div></div><div class=\"sk-item\"><div class=\"sk-estimator sk-toggleable\"><input class=\"sk-toggleable__control sk-hidden--visually\" id=\"a97bdd19-74df-4d1d-9c36-81ffd262ae73\" type=\"checkbox\" ><label for=\"a97bdd19-74df-4d1d-9c36-81ffd262ae73\" class=\"sk-toggleable__label sk-toggleable__label-arrow\">StandardScaler</label><div class=\"sk-toggleable__content\"><pre>StandardScaler()</pre></div></div></div></div></div></div></div></div></div></div></div></div>"
      ],
      "text/plain": [
       "ColumnTransformer(transformers=[('categorical',\n",
       "                                 Pipeline(steps=[('imputation_mean',\n",
       "                                                  SimpleImputer(fill_value='missing',\n",
       "                                                                strategy='constant')),\n",
       "                                                 ('onehot',\n",
       "                                                  OneHotEncoder(handle_unknown='ignore'))]),\n",
       "                                 Index(['Gender', 'Age', 'City_Category', 'Stay_In_Current_City_Years'], dtype='object')),\n",
       "                                ('numerical',\n",
       "                                 Pipeline(steps=[('imputation_mode',\n",
       "                                                  SimpleImputer(strategy='most_frequent')),\n",
       "                                                 ('standard_scaler',\n",
       "                                                  StandardScaler())]),\n",
       "                                 Index(['Occupation', 'Marital_Status', 'Product_Category_1',\n",
       "       'Product_Category_2', 'Product_Category_3'],\n",
       "      dtype='object'))])"
      ]
     },
     "execution_count": 102,
     "metadata": {},
     "output_type": "execute_result"
    }
   ],
   "source": [
    "preprocessor"
   ]
  },
  {
   "cell_type": "markdown",
   "id": "40b9d0c6",
   "metadata": {},
   "source": [
    "### Linear Regression"
   ]
  },
  {
   "cell_type": "code",
   "execution_count": 103,
   "id": "d0fd1736",
   "metadata": {},
   "outputs": [
    {
     "data": {
      "text/html": [
       "<style>#sk-4a007d30-dd93-4105-bf82-2c8fde6b6142 {color: black;background-color: white;}#sk-4a007d30-dd93-4105-bf82-2c8fde6b6142 pre{padding: 0;}#sk-4a007d30-dd93-4105-bf82-2c8fde6b6142 div.sk-toggleable {background-color: white;}#sk-4a007d30-dd93-4105-bf82-2c8fde6b6142 label.sk-toggleable__label {cursor: pointer;display: block;width: 100%;margin-bottom: 0;padding: 0.3em;box-sizing: border-box;text-align: center;}#sk-4a007d30-dd93-4105-bf82-2c8fde6b6142 label.sk-toggleable__label-arrow:before {content: \"▸\";float: left;margin-right: 0.25em;color: #696969;}#sk-4a007d30-dd93-4105-bf82-2c8fde6b6142 label.sk-toggleable__label-arrow:hover:before {color: black;}#sk-4a007d30-dd93-4105-bf82-2c8fde6b6142 div.sk-estimator:hover label.sk-toggleable__label-arrow:before {color: black;}#sk-4a007d30-dd93-4105-bf82-2c8fde6b6142 div.sk-toggleable__content {max-height: 0;max-width: 0;overflow: hidden;text-align: left;background-color: #f0f8ff;}#sk-4a007d30-dd93-4105-bf82-2c8fde6b6142 div.sk-toggleable__content pre {margin: 0.2em;color: black;border-radius: 0.25em;background-color: #f0f8ff;}#sk-4a007d30-dd93-4105-bf82-2c8fde6b6142 input.sk-toggleable__control:checked~div.sk-toggleable__content {max-height: 200px;max-width: 100%;overflow: auto;}#sk-4a007d30-dd93-4105-bf82-2c8fde6b6142 input.sk-toggleable__control:checked~label.sk-toggleable__label-arrow:before {content: \"▾\";}#sk-4a007d30-dd93-4105-bf82-2c8fde6b6142 div.sk-estimator input.sk-toggleable__control:checked~label.sk-toggleable__label {background-color: #d4ebff;}#sk-4a007d30-dd93-4105-bf82-2c8fde6b6142 div.sk-label input.sk-toggleable__control:checked~label.sk-toggleable__label {background-color: #d4ebff;}#sk-4a007d30-dd93-4105-bf82-2c8fde6b6142 input.sk-hidden--visually {border: 0;clip: rect(1px 1px 1px 1px);clip: rect(1px, 1px, 1px, 1px);height: 1px;margin: -1px;overflow: hidden;padding: 0;position: absolute;width: 1px;}#sk-4a007d30-dd93-4105-bf82-2c8fde6b6142 div.sk-estimator {font-family: monospace;background-color: #f0f8ff;border: 1px dotted black;border-radius: 0.25em;box-sizing: border-box;margin-bottom: 0.5em;}#sk-4a007d30-dd93-4105-bf82-2c8fde6b6142 div.sk-estimator:hover {background-color: #d4ebff;}#sk-4a007d30-dd93-4105-bf82-2c8fde6b6142 div.sk-parallel-item::after {content: \"\";width: 100%;border-bottom: 1px solid gray;flex-grow: 1;}#sk-4a007d30-dd93-4105-bf82-2c8fde6b6142 div.sk-label:hover label.sk-toggleable__label {background-color: #d4ebff;}#sk-4a007d30-dd93-4105-bf82-2c8fde6b6142 div.sk-serial::before {content: \"\";position: absolute;border-left: 1px solid gray;box-sizing: border-box;top: 2em;bottom: 0;left: 50%;}#sk-4a007d30-dd93-4105-bf82-2c8fde6b6142 div.sk-serial {display: flex;flex-direction: column;align-items: center;background-color: white;padding-right: 0.2em;padding-left: 0.2em;}#sk-4a007d30-dd93-4105-bf82-2c8fde6b6142 div.sk-item {z-index: 1;}#sk-4a007d30-dd93-4105-bf82-2c8fde6b6142 div.sk-parallel {display: flex;align-items: stretch;justify-content: center;background-color: white;}#sk-4a007d30-dd93-4105-bf82-2c8fde6b6142 div.sk-parallel::before {content: \"\";position: absolute;border-left: 1px solid gray;box-sizing: border-box;top: 2em;bottom: 0;left: 50%;}#sk-4a007d30-dd93-4105-bf82-2c8fde6b6142 div.sk-parallel-item {display: flex;flex-direction: column;position: relative;background-color: white;}#sk-4a007d30-dd93-4105-bf82-2c8fde6b6142 div.sk-parallel-item:first-child::after {align-self: flex-end;width: 50%;}#sk-4a007d30-dd93-4105-bf82-2c8fde6b6142 div.sk-parallel-item:last-child::after {align-self: flex-start;width: 50%;}#sk-4a007d30-dd93-4105-bf82-2c8fde6b6142 div.sk-parallel-item:only-child::after {width: 0;}#sk-4a007d30-dd93-4105-bf82-2c8fde6b6142 div.sk-dashed-wrapped {border: 1px dashed gray;margin: 0 0.4em 0.5em 0.4em;box-sizing: border-box;padding-bottom: 0.4em;background-color: white;position: relative;}#sk-4a007d30-dd93-4105-bf82-2c8fde6b6142 div.sk-label label {font-family: monospace;font-weight: bold;background-color: white;display: inline-block;line-height: 1.2em;}#sk-4a007d30-dd93-4105-bf82-2c8fde6b6142 div.sk-label-container {position: relative;z-index: 2;text-align: center;}#sk-4a007d30-dd93-4105-bf82-2c8fde6b6142 div.sk-container {/* jupyter's `normalize.less` sets `[hidden] { display: none; }` but bootstrap.min.css set `[hidden] { display: none !important; }` so we also need the `!important` here to be able to override the default hidden behavior on the sphinx rendered scikit-learn.org. See: https://github.com/scikit-learn/scikit-learn/issues/21755 */display: inline-block !important;position: relative;}#sk-4a007d30-dd93-4105-bf82-2c8fde6b6142 div.sk-text-repr-fallback {display: none;}</style><div id=\"sk-4a007d30-dd93-4105-bf82-2c8fde6b6142\" class=\"sk-top-container\"><div class=\"sk-text-repr-fallback\"><pre>Pipeline(steps=[(&#x27;columntransformer&#x27;,\n",
       "                 ColumnTransformer(transformers=[(&#x27;categorical&#x27;,\n",
       "                                                  Pipeline(steps=[(&#x27;imputation_mean&#x27;,\n",
       "                                                                   SimpleImputer(fill_value=&#x27;missing&#x27;,\n",
       "                                                                                 strategy=&#x27;constant&#x27;)),\n",
       "                                                                  (&#x27;onehot&#x27;,\n",
       "                                                                   OneHotEncoder(handle_unknown=&#x27;ignore&#x27;))]),\n",
       "                                                  Index([&#x27;Gender&#x27;, &#x27;Age&#x27;, &#x27;City_Category&#x27;, &#x27;Stay_In_Current_City_Years&#x27;], dtype=&#x27;object&#x27;)),\n",
       "                                                 (&#x27;numerical&#x27;,\n",
       "                                                  Pipeline(steps=[(&#x27;imputation_mode&#x27;,\n",
       "                                                                   SimpleImputer(strategy=&#x27;most_frequent&#x27;)),\n",
       "                                                                  (&#x27;standard_scaler&#x27;,\n",
       "                                                                   StandardScaler())]),\n",
       "                                                  Index([&#x27;Occupation&#x27;, &#x27;Marital_Status&#x27;, &#x27;Product_Category_1&#x27;,\n",
       "       &#x27;Product_Category_2&#x27;, &#x27;Product_Category_3&#x27;],\n",
       "      dtype=&#x27;object&#x27;))])),\n",
       "                (&#x27;linearregression&#x27;, LinearRegression())])</pre><b>Please rerun this cell to show the HTML repr or trust the notebook.</b></div><div class=\"sk-container\" hidden><div class=\"sk-item sk-dashed-wrapped\"><div class=\"sk-label-container\"><div class=\"sk-label sk-toggleable\"><input class=\"sk-toggleable__control sk-hidden--visually\" id=\"56eee631-114f-4f08-8a12-8e8b71b8a6ec\" type=\"checkbox\" ><label for=\"56eee631-114f-4f08-8a12-8e8b71b8a6ec\" class=\"sk-toggleable__label sk-toggleable__label-arrow\">Pipeline</label><div class=\"sk-toggleable__content\"><pre>Pipeline(steps=[(&#x27;columntransformer&#x27;,\n",
       "                 ColumnTransformer(transformers=[(&#x27;categorical&#x27;,\n",
       "                                                  Pipeline(steps=[(&#x27;imputation_mean&#x27;,\n",
       "                                                                   SimpleImputer(fill_value=&#x27;missing&#x27;,\n",
       "                                                                                 strategy=&#x27;constant&#x27;)),\n",
       "                                                                  (&#x27;onehot&#x27;,\n",
       "                                                                   OneHotEncoder(handle_unknown=&#x27;ignore&#x27;))]),\n",
       "                                                  Index([&#x27;Gender&#x27;, &#x27;Age&#x27;, &#x27;City_Category&#x27;, &#x27;Stay_In_Current_City_Years&#x27;], dtype=&#x27;object&#x27;)),\n",
       "                                                 (&#x27;numerical&#x27;,\n",
       "                                                  Pipeline(steps=[(&#x27;imputation_mode&#x27;,\n",
       "                                                                   SimpleImputer(strategy=&#x27;most_frequent&#x27;)),\n",
       "                                                                  (&#x27;standard_scaler&#x27;,\n",
       "                                                                   StandardScaler())]),\n",
       "                                                  Index([&#x27;Occupation&#x27;, &#x27;Marital_Status&#x27;, &#x27;Product_Category_1&#x27;,\n",
       "       &#x27;Product_Category_2&#x27;, &#x27;Product_Category_3&#x27;],\n",
       "      dtype=&#x27;object&#x27;))])),\n",
       "                (&#x27;linearregression&#x27;, LinearRegression())])</pre></div></div></div><div class=\"sk-serial\"><div class=\"sk-item sk-dashed-wrapped\"><div class=\"sk-label-container\"><div class=\"sk-label sk-toggleable\"><input class=\"sk-toggleable__control sk-hidden--visually\" id=\"64ece1db-3a10-43f0-be7c-7b9e696d9873\" type=\"checkbox\" ><label for=\"64ece1db-3a10-43f0-be7c-7b9e696d9873\" class=\"sk-toggleable__label sk-toggleable__label-arrow\">columntransformer: ColumnTransformer</label><div class=\"sk-toggleable__content\"><pre>ColumnTransformer(transformers=[(&#x27;categorical&#x27;,\n",
       "                                 Pipeline(steps=[(&#x27;imputation_mean&#x27;,\n",
       "                                                  SimpleImputer(fill_value=&#x27;missing&#x27;,\n",
       "                                                                strategy=&#x27;constant&#x27;)),\n",
       "                                                 (&#x27;onehot&#x27;,\n",
       "                                                  OneHotEncoder(handle_unknown=&#x27;ignore&#x27;))]),\n",
       "                                 Index([&#x27;Gender&#x27;, &#x27;Age&#x27;, &#x27;City_Category&#x27;, &#x27;Stay_In_Current_City_Years&#x27;], dtype=&#x27;object&#x27;)),\n",
       "                                (&#x27;numerical&#x27;,\n",
       "                                 Pipeline(steps=[(&#x27;imputation_mode&#x27;,\n",
       "                                                  SimpleImputer(strategy=&#x27;most_frequent&#x27;)),\n",
       "                                                 (&#x27;standard_scaler&#x27;,\n",
       "                                                  StandardScaler())]),\n",
       "                                 Index([&#x27;Occupation&#x27;, &#x27;Marital_Status&#x27;, &#x27;Product_Category_1&#x27;,\n",
       "       &#x27;Product_Category_2&#x27;, &#x27;Product_Category_3&#x27;],\n",
       "      dtype=&#x27;object&#x27;))])</pre></div></div></div><div class=\"sk-parallel\"><div class=\"sk-parallel-item\"><div class=\"sk-item\"><div class=\"sk-label-container\"><div class=\"sk-label sk-toggleable\"><input class=\"sk-toggleable__control sk-hidden--visually\" id=\"03706e64-3098-481f-bb32-92ce234bdfe4\" type=\"checkbox\" ><label for=\"03706e64-3098-481f-bb32-92ce234bdfe4\" class=\"sk-toggleable__label sk-toggleable__label-arrow\">categorical</label><div class=\"sk-toggleable__content\"><pre>Index([&#x27;Gender&#x27;, &#x27;Age&#x27;, &#x27;City_Category&#x27;, &#x27;Stay_In_Current_City_Years&#x27;], dtype=&#x27;object&#x27;)</pre></div></div></div><div class=\"sk-serial\"><div class=\"sk-item\"><div class=\"sk-serial\"><div class=\"sk-item\"><div class=\"sk-estimator sk-toggleable\"><input class=\"sk-toggleable__control sk-hidden--visually\" id=\"09b7871c-84fa-4613-b6dd-e97cbbb4990e\" type=\"checkbox\" ><label for=\"09b7871c-84fa-4613-b6dd-e97cbbb4990e\" class=\"sk-toggleable__label sk-toggleable__label-arrow\">SimpleImputer</label><div class=\"sk-toggleable__content\"><pre>SimpleImputer(fill_value=&#x27;missing&#x27;, strategy=&#x27;constant&#x27;)</pre></div></div></div><div class=\"sk-item\"><div class=\"sk-estimator sk-toggleable\"><input class=\"sk-toggleable__control sk-hidden--visually\" id=\"16c2e507-8a78-4bf2-946e-0da36d9f7091\" type=\"checkbox\" ><label for=\"16c2e507-8a78-4bf2-946e-0da36d9f7091\" class=\"sk-toggleable__label sk-toggleable__label-arrow\">OneHotEncoder</label><div class=\"sk-toggleable__content\"><pre>OneHotEncoder(handle_unknown=&#x27;ignore&#x27;)</pre></div></div></div></div></div></div></div></div><div class=\"sk-parallel-item\"><div class=\"sk-item\"><div class=\"sk-label-container\"><div class=\"sk-label sk-toggleable\"><input class=\"sk-toggleable__control sk-hidden--visually\" id=\"01ad2829-e319-401b-9cb5-e69589d50b0e\" type=\"checkbox\" ><label for=\"01ad2829-e319-401b-9cb5-e69589d50b0e\" class=\"sk-toggleable__label sk-toggleable__label-arrow\">numerical</label><div class=\"sk-toggleable__content\"><pre>Index([&#x27;Occupation&#x27;, &#x27;Marital_Status&#x27;, &#x27;Product_Category_1&#x27;,\n",
       "       &#x27;Product_Category_2&#x27;, &#x27;Product_Category_3&#x27;],\n",
       "      dtype=&#x27;object&#x27;)</pre></div></div></div><div class=\"sk-serial\"><div class=\"sk-item\"><div class=\"sk-serial\"><div class=\"sk-item\"><div class=\"sk-estimator sk-toggleable\"><input class=\"sk-toggleable__control sk-hidden--visually\" id=\"3e842321-de69-4305-8ceb-2e4451ecad2e\" type=\"checkbox\" ><label for=\"3e842321-de69-4305-8ceb-2e4451ecad2e\" class=\"sk-toggleable__label sk-toggleable__label-arrow\">SimpleImputer</label><div class=\"sk-toggleable__content\"><pre>SimpleImputer(strategy=&#x27;most_frequent&#x27;)</pre></div></div></div><div class=\"sk-item\"><div class=\"sk-estimator sk-toggleable\"><input class=\"sk-toggleable__control sk-hidden--visually\" id=\"92d161ab-e57b-4bed-b7d5-47d1cc427516\" type=\"checkbox\" ><label for=\"92d161ab-e57b-4bed-b7d5-47d1cc427516\" class=\"sk-toggleable__label sk-toggleable__label-arrow\">StandardScaler</label><div class=\"sk-toggleable__content\"><pre>StandardScaler()</pre></div></div></div></div></div></div></div></div></div></div><div class=\"sk-item\"><div class=\"sk-estimator sk-toggleable\"><input class=\"sk-toggleable__control sk-hidden--visually\" id=\"7eb6c62f-b652-4371-985b-218a2abdb97e\" type=\"checkbox\" ><label for=\"7eb6c62f-b652-4371-985b-218a2abdb97e\" class=\"sk-toggleable__label sk-toggleable__label-arrow\">LinearRegression</label><div class=\"sk-toggleable__content\"><pre>LinearRegression()</pre></div></div></div></div></div></div></div>"
      ],
      "text/plain": [
       "Pipeline(steps=[('columntransformer',\n",
       "                 ColumnTransformer(transformers=[('categorical',\n",
       "                                                  Pipeline(steps=[('imputation_mean',\n",
       "                                                                   SimpleImputer(fill_value='missing',\n",
       "                                                                                 strategy='constant')),\n",
       "                                                                  ('onehot',\n",
       "                                                                   OneHotEncoder(handle_unknown='ignore'))]),\n",
       "                                                  Index(['Gender', 'Age', 'City_Category', 'Stay_In_Current_City_Years'], dtype='object')),\n",
       "                                                 ('numerical',\n",
       "                                                  Pipeline(steps=[('imputation_mode',\n",
       "                                                                   SimpleImputer(strategy='most_frequent')),\n",
       "                                                                  ('standard_scaler',\n",
       "                                                                   StandardScaler())]),\n",
       "                                                  Index(['Occupation', 'Marital_Status', 'Product_Category_1',\n",
       "       'Product_Category_2', 'Product_Category_3'],\n",
       "      dtype='object'))])),\n",
       "                ('linearregression', LinearRegression())])"
      ]
     },
     "execution_count": 103,
     "metadata": {},
     "output_type": "execute_result"
    }
   ],
   "source": [
    "from sklearn.pipeline import make_pipeline\n",
    "lr=make_pipeline(preprocessor, LinearRegression())\n",
    "lr"
   ]
  },
  {
   "cell_type": "code",
   "execution_count": 104,
   "id": "ddf297e0",
   "metadata": {},
   "outputs": [
    {
     "data": {
      "text/html": [
       "<style>#sk-1f386485-07e3-4a10-b5b1-4ebf5cb4239c {color: black;background-color: white;}#sk-1f386485-07e3-4a10-b5b1-4ebf5cb4239c pre{padding: 0;}#sk-1f386485-07e3-4a10-b5b1-4ebf5cb4239c div.sk-toggleable {background-color: white;}#sk-1f386485-07e3-4a10-b5b1-4ebf5cb4239c label.sk-toggleable__label {cursor: pointer;display: block;width: 100%;margin-bottom: 0;padding: 0.3em;box-sizing: border-box;text-align: center;}#sk-1f386485-07e3-4a10-b5b1-4ebf5cb4239c label.sk-toggleable__label-arrow:before {content: \"▸\";float: left;margin-right: 0.25em;color: #696969;}#sk-1f386485-07e3-4a10-b5b1-4ebf5cb4239c label.sk-toggleable__label-arrow:hover:before {color: black;}#sk-1f386485-07e3-4a10-b5b1-4ebf5cb4239c div.sk-estimator:hover label.sk-toggleable__label-arrow:before {color: black;}#sk-1f386485-07e3-4a10-b5b1-4ebf5cb4239c div.sk-toggleable__content {max-height: 0;max-width: 0;overflow: hidden;text-align: left;background-color: #f0f8ff;}#sk-1f386485-07e3-4a10-b5b1-4ebf5cb4239c div.sk-toggleable__content pre {margin: 0.2em;color: black;border-radius: 0.25em;background-color: #f0f8ff;}#sk-1f386485-07e3-4a10-b5b1-4ebf5cb4239c input.sk-toggleable__control:checked~div.sk-toggleable__content {max-height: 200px;max-width: 100%;overflow: auto;}#sk-1f386485-07e3-4a10-b5b1-4ebf5cb4239c input.sk-toggleable__control:checked~label.sk-toggleable__label-arrow:before {content: \"▾\";}#sk-1f386485-07e3-4a10-b5b1-4ebf5cb4239c div.sk-estimator input.sk-toggleable__control:checked~label.sk-toggleable__label {background-color: #d4ebff;}#sk-1f386485-07e3-4a10-b5b1-4ebf5cb4239c div.sk-label input.sk-toggleable__control:checked~label.sk-toggleable__label {background-color: #d4ebff;}#sk-1f386485-07e3-4a10-b5b1-4ebf5cb4239c input.sk-hidden--visually {border: 0;clip: rect(1px 1px 1px 1px);clip: rect(1px, 1px, 1px, 1px);height: 1px;margin: -1px;overflow: hidden;padding: 0;position: absolute;width: 1px;}#sk-1f386485-07e3-4a10-b5b1-4ebf5cb4239c div.sk-estimator {font-family: monospace;background-color: #f0f8ff;border: 1px dotted black;border-radius: 0.25em;box-sizing: border-box;margin-bottom: 0.5em;}#sk-1f386485-07e3-4a10-b5b1-4ebf5cb4239c div.sk-estimator:hover {background-color: #d4ebff;}#sk-1f386485-07e3-4a10-b5b1-4ebf5cb4239c div.sk-parallel-item::after {content: \"\";width: 100%;border-bottom: 1px solid gray;flex-grow: 1;}#sk-1f386485-07e3-4a10-b5b1-4ebf5cb4239c div.sk-label:hover label.sk-toggleable__label {background-color: #d4ebff;}#sk-1f386485-07e3-4a10-b5b1-4ebf5cb4239c div.sk-serial::before {content: \"\";position: absolute;border-left: 1px solid gray;box-sizing: border-box;top: 2em;bottom: 0;left: 50%;}#sk-1f386485-07e3-4a10-b5b1-4ebf5cb4239c div.sk-serial {display: flex;flex-direction: column;align-items: center;background-color: white;padding-right: 0.2em;padding-left: 0.2em;}#sk-1f386485-07e3-4a10-b5b1-4ebf5cb4239c div.sk-item {z-index: 1;}#sk-1f386485-07e3-4a10-b5b1-4ebf5cb4239c div.sk-parallel {display: flex;align-items: stretch;justify-content: center;background-color: white;}#sk-1f386485-07e3-4a10-b5b1-4ebf5cb4239c div.sk-parallel::before {content: \"\";position: absolute;border-left: 1px solid gray;box-sizing: border-box;top: 2em;bottom: 0;left: 50%;}#sk-1f386485-07e3-4a10-b5b1-4ebf5cb4239c div.sk-parallel-item {display: flex;flex-direction: column;position: relative;background-color: white;}#sk-1f386485-07e3-4a10-b5b1-4ebf5cb4239c div.sk-parallel-item:first-child::after {align-self: flex-end;width: 50%;}#sk-1f386485-07e3-4a10-b5b1-4ebf5cb4239c div.sk-parallel-item:last-child::after {align-self: flex-start;width: 50%;}#sk-1f386485-07e3-4a10-b5b1-4ebf5cb4239c div.sk-parallel-item:only-child::after {width: 0;}#sk-1f386485-07e3-4a10-b5b1-4ebf5cb4239c div.sk-dashed-wrapped {border: 1px dashed gray;margin: 0 0.4em 0.5em 0.4em;box-sizing: border-box;padding-bottom: 0.4em;background-color: white;position: relative;}#sk-1f386485-07e3-4a10-b5b1-4ebf5cb4239c div.sk-label label {font-family: monospace;font-weight: bold;background-color: white;display: inline-block;line-height: 1.2em;}#sk-1f386485-07e3-4a10-b5b1-4ebf5cb4239c div.sk-label-container {position: relative;z-index: 2;text-align: center;}#sk-1f386485-07e3-4a10-b5b1-4ebf5cb4239c div.sk-container {/* jupyter's `normalize.less` sets `[hidden] { display: none; }` but bootstrap.min.css set `[hidden] { display: none !important; }` so we also need the `!important` here to be able to override the default hidden behavior on the sphinx rendered scikit-learn.org. See: https://github.com/scikit-learn/scikit-learn/issues/21755 */display: inline-block !important;position: relative;}#sk-1f386485-07e3-4a10-b5b1-4ebf5cb4239c div.sk-text-repr-fallback {display: none;}</style><div id=\"sk-1f386485-07e3-4a10-b5b1-4ebf5cb4239c\" class=\"sk-top-container\"><div class=\"sk-text-repr-fallback\"><pre>Pipeline(steps=[(&#x27;columntransformer&#x27;,\n",
       "                 ColumnTransformer(transformers=[(&#x27;categorical&#x27;,\n",
       "                                                  Pipeline(steps=[(&#x27;imputation_mean&#x27;,\n",
       "                                                                   SimpleImputer(fill_value=&#x27;missing&#x27;,\n",
       "                                                                                 strategy=&#x27;constant&#x27;)),\n",
       "                                                                  (&#x27;onehot&#x27;,\n",
       "                                                                   OneHotEncoder(handle_unknown=&#x27;ignore&#x27;))]),\n",
       "                                                  Index([&#x27;Gender&#x27;, &#x27;Age&#x27;, &#x27;City_Category&#x27;, &#x27;Stay_In_Current_City_Years&#x27;], dtype=&#x27;object&#x27;)),\n",
       "                                                 (&#x27;numerical&#x27;,\n",
       "                                                  Pipeline(steps=[(&#x27;imputation_mode&#x27;,\n",
       "                                                                   SimpleImputer(strategy=&#x27;most_frequent&#x27;)),\n",
       "                                                                  (&#x27;standard_scaler&#x27;,\n",
       "                                                                   StandardScaler())]),\n",
       "                                                  Index([&#x27;Occupation&#x27;, &#x27;Marital_Status&#x27;, &#x27;Product_Category_1&#x27;,\n",
       "       &#x27;Product_Category_2&#x27;, &#x27;Product_Category_3&#x27;],\n",
       "      dtype=&#x27;object&#x27;))])),\n",
       "                (&#x27;linearregression&#x27;, LinearRegression())])</pre><b>Please rerun this cell to show the HTML repr or trust the notebook.</b></div><div class=\"sk-container\" hidden><div class=\"sk-item sk-dashed-wrapped\"><div class=\"sk-label-container\"><div class=\"sk-label sk-toggleable\"><input class=\"sk-toggleable__control sk-hidden--visually\" id=\"84a701d4-0222-4faf-a730-ce92d77522d2\" type=\"checkbox\" ><label for=\"84a701d4-0222-4faf-a730-ce92d77522d2\" class=\"sk-toggleable__label sk-toggleable__label-arrow\">Pipeline</label><div class=\"sk-toggleable__content\"><pre>Pipeline(steps=[(&#x27;columntransformer&#x27;,\n",
       "                 ColumnTransformer(transformers=[(&#x27;categorical&#x27;,\n",
       "                                                  Pipeline(steps=[(&#x27;imputation_mean&#x27;,\n",
       "                                                                   SimpleImputer(fill_value=&#x27;missing&#x27;,\n",
       "                                                                                 strategy=&#x27;constant&#x27;)),\n",
       "                                                                  (&#x27;onehot&#x27;,\n",
       "                                                                   OneHotEncoder(handle_unknown=&#x27;ignore&#x27;))]),\n",
       "                                                  Index([&#x27;Gender&#x27;, &#x27;Age&#x27;, &#x27;City_Category&#x27;, &#x27;Stay_In_Current_City_Years&#x27;], dtype=&#x27;object&#x27;)),\n",
       "                                                 (&#x27;numerical&#x27;,\n",
       "                                                  Pipeline(steps=[(&#x27;imputation_mode&#x27;,\n",
       "                                                                   SimpleImputer(strategy=&#x27;most_frequent&#x27;)),\n",
       "                                                                  (&#x27;standard_scaler&#x27;,\n",
       "                                                                   StandardScaler())]),\n",
       "                                                  Index([&#x27;Occupation&#x27;, &#x27;Marital_Status&#x27;, &#x27;Product_Category_1&#x27;,\n",
       "       &#x27;Product_Category_2&#x27;, &#x27;Product_Category_3&#x27;],\n",
       "      dtype=&#x27;object&#x27;))])),\n",
       "                (&#x27;linearregression&#x27;, LinearRegression())])</pre></div></div></div><div class=\"sk-serial\"><div class=\"sk-item sk-dashed-wrapped\"><div class=\"sk-label-container\"><div class=\"sk-label sk-toggleable\"><input class=\"sk-toggleable__control sk-hidden--visually\" id=\"5a07937c-6345-44a9-a208-b6a0c664d8c3\" type=\"checkbox\" ><label for=\"5a07937c-6345-44a9-a208-b6a0c664d8c3\" class=\"sk-toggleable__label sk-toggleable__label-arrow\">columntransformer: ColumnTransformer</label><div class=\"sk-toggleable__content\"><pre>ColumnTransformer(transformers=[(&#x27;categorical&#x27;,\n",
       "                                 Pipeline(steps=[(&#x27;imputation_mean&#x27;,\n",
       "                                                  SimpleImputer(fill_value=&#x27;missing&#x27;,\n",
       "                                                                strategy=&#x27;constant&#x27;)),\n",
       "                                                 (&#x27;onehot&#x27;,\n",
       "                                                  OneHotEncoder(handle_unknown=&#x27;ignore&#x27;))]),\n",
       "                                 Index([&#x27;Gender&#x27;, &#x27;Age&#x27;, &#x27;City_Category&#x27;, &#x27;Stay_In_Current_City_Years&#x27;], dtype=&#x27;object&#x27;)),\n",
       "                                (&#x27;numerical&#x27;,\n",
       "                                 Pipeline(steps=[(&#x27;imputation_mode&#x27;,\n",
       "                                                  SimpleImputer(strategy=&#x27;most_frequent&#x27;)),\n",
       "                                                 (&#x27;standard_scaler&#x27;,\n",
       "                                                  StandardScaler())]),\n",
       "                                 Index([&#x27;Occupation&#x27;, &#x27;Marital_Status&#x27;, &#x27;Product_Category_1&#x27;,\n",
       "       &#x27;Product_Category_2&#x27;, &#x27;Product_Category_3&#x27;],\n",
       "      dtype=&#x27;object&#x27;))])</pre></div></div></div><div class=\"sk-parallel\"><div class=\"sk-parallel-item\"><div class=\"sk-item\"><div class=\"sk-label-container\"><div class=\"sk-label sk-toggleable\"><input class=\"sk-toggleable__control sk-hidden--visually\" id=\"e3adf324-444a-4bdc-bc64-572d20ff23b6\" type=\"checkbox\" ><label for=\"e3adf324-444a-4bdc-bc64-572d20ff23b6\" class=\"sk-toggleable__label sk-toggleable__label-arrow\">categorical</label><div class=\"sk-toggleable__content\"><pre>Index([&#x27;Gender&#x27;, &#x27;Age&#x27;, &#x27;City_Category&#x27;, &#x27;Stay_In_Current_City_Years&#x27;], dtype=&#x27;object&#x27;)</pre></div></div></div><div class=\"sk-serial\"><div class=\"sk-item\"><div class=\"sk-serial\"><div class=\"sk-item\"><div class=\"sk-estimator sk-toggleable\"><input class=\"sk-toggleable__control sk-hidden--visually\" id=\"a6a16d0c-3cb5-45ef-af3d-797d52a573fa\" type=\"checkbox\" ><label for=\"a6a16d0c-3cb5-45ef-af3d-797d52a573fa\" class=\"sk-toggleable__label sk-toggleable__label-arrow\">SimpleImputer</label><div class=\"sk-toggleable__content\"><pre>SimpleImputer(fill_value=&#x27;missing&#x27;, strategy=&#x27;constant&#x27;)</pre></div></div></div><div class=\"sk-item\"><div class=\"sk-estimator sk-toggleable\"><input class=\"sk-toggleable__control sk-hidden--visually\" id=\"a82c422c-b83f-4136-abcf-75cfa344e455\" type=\"checkbox\" ><label for=\"a82c422c-b83f-4136-abcf-75cfa344e455\" class=\"sk-toggleable__label sk-toggleable__label-arrow\">OneHotEncoder</label><div class=\"sk-toggleable__content\"><pre>OneHotEncoder(handle_unknown=&#x27;ignore&#x27;)</pre></div></div></div></div></div></div></div></div><div class=\"sk-parallel-item\"><div class=\"sk-item\"><div class=\"sk-label-container\"><div class=\"sk-label sk-toggleable\"><input class=\"sk-toggleable__control sk-hidden--visually\" id=\"bda75a29-1ee6-4987-be98-4279c9d1dbda\" type=\"checkbox\" ><label for=\"bda75a29-1ee6-4987-be98-4279c9d1dbda\" class=\"sk-toggleable__label sk-toggleable__label-arrow\">numerical</label><div class=\"sk-toggleable__content\"><pre>Index([&#x27;Occupation&#x27;, &#x27;Marital_Status&#x27;, &#x27;Product_Category_1&#x27;,\n",
       "       &#x27;Product_Category_2&#x27;, &#x27;Product_Category_3&#x27;],\n",
       "      dtype=&#x27;object&#x27;)</pre></div></div></div><div class=\"sk-serial\"><div class=\"sk-item\"><div class=\"sk-serial\"><div class=\"sk-item\"><div class=\"sk-estimator sk-toggleable\"><input class=\"sk-toggleable__control sk-hidden--visually\" id=\"070920d6-b967-451b-b994-921650f61bca\" type=\"checkbox\" ><label for=\"070920d6-b967-451b-b994-921650f61bca\" class=\"sk-toggleable__label sk-toggleable__label-arrow\">SimpleImputer</label><div class=\"sk-toggleable__content\"><pre>SimpleImputer(strategy=&#x27;most_frequent&#x27;)</pre></div></div></div><div class=\"sk-item\"><div class=\"sk-estimator sk-toggleable\"><input class=\"sk-toggleable__control sk-hidden--visually\" id=\"cb115644-d85e-4dc6-a3f6-52ada85351de\" type=\"checkbox\" ><label for=\"cb115644-d85e-4dc6-a3f6-52ada85351de\" class=\"sk-toggleable__label sk-toggleable__label-arrow\">StandardScaler</label><div class=\"sk-toggleable__content\"><pre>StandardScaler()</pre></div></div></div></div></div></div></div></div></div></div><div class=\"sk-item\"><div class=\"sk-estimator sk-toggleable\"><input class=\"sk-toggleable__control sk-hidden--visually\" id=\"a71fef3d-8e21-4f3d-92b4-487cc9a4f419\" type=\"checkbox\" ><label for=\"a71fef3d-8e21-4f3d-92b4-487cc9a4f419\" class=\"sk-toggleable__label sk-toggleable__label-arrow\">LinearRegression</label><div class=\"sk-toggleable__content\"><pre>LinearRegression()</pre></div></div></div></div></div></div></div>"
      ],
      "text/plain": [
       "Pipeline(steps=[('columntransformer',\n",
       "                 ColumnTransformer(transformers=[('categorical',\n",
       "                                                  Pipeline(steps=[('imputation_mean',\n",
       "                                                                   SimpleImputer(fill_value='missing',\n",
       "                                                                                 strategy='constant')),\n",
       "                                                                  ('onehot',\n",
       "                                                                   OneHotEncoder(handle_unknown='ignore'))]),\n",
       "                                                  Index(['Gender', 'Age', 'City_Category', 'Stay_In_Current_City_Years'], dtype='object')),\n",
       "                                                 ('numerical',\n",
       "                                                  Pipeline(steps=[('imputation_mode',\n",
       "                                                                   SimpleImputer(strategy='most_frequent')),\n",
       "                                                                  ('standard_scaler',\n",
       "                                                                   StandardScaler())]),\n",
       "                                                  Index(['Occupation', 'Marital_Status', 'Product_Category_1',\n",
       "       'Product_Category_2', 'Product_Category_3'],\n",
       "      dtype='object'))])),\n",
       "                ('linearregression', LinearRegression())])"
      ]
     },
     "execution_count": 104,
     "metadata": {},
     "output_type": "execute_result"
    }
   ],
   "source": [
    "lr.fit(X_train, y_train)"
   ]
  },
  {
   "cell_type": "code",
   "execution_count": 105,
   "id": "ed0b129f",
   "metadata": {},
   "outputs": [],
   "source": [
    "y_pred_lr=lr.predict(X_test)"
   ]
  },
  {
   "cell_type": "code",
   "execution_count": 106,
   "id": "acb8b2f2",
   "metadata": {},
   "outputs": [
    {
     "data": {
      "text/plain": [
       "3577.500398090906"
      ]
     },
     "execution_count": 106,
     "metadata": {},
     "output_type": "execute_result"
    }
   ],
   "source": [
    "from sklearn.metrics import mean_absolute_error,mean_squared_error, r2_score\n",
    "mean_absolute_error(y_test, y_pred_lr)"
   ]
  },
  {
   "cell_type": "code",
   "execution_count": 107,
   "id": "ddfcd40c",
   "metadata": {},
   "outputs": [
    {
     "data": {
      "text/plain": [
       "21939368.400408037"
      ]
     },
     "execution_count": 107,
     "metadata": {},
     "output_type": "execute_result"
    }
   ],
   "source": [
    "mean_squared_error(y_test, y_pred_lr)"
   ]
  },
  {
   "cell_type": "code",
   "execution_count": 108,
   "id": "bd7ff6a6",
   "metadata": {},
   "outputs": [
    {
     "data": {
      "text/plain": [
       "0.1294687391897228"
      ]
     },
     "execution_count": 108,
     "metadata": {},
     "output_type": "execute_result"
    }
   ],
   "source": [
    "r2_score(y_test, y_pred_lr)"
   ]
  },
  {
   "cell_type": "code",
   "execution_count": 109,
   "id": "51b02795",
   "metadata": {},
   "outputs": [
    {
     "name": "stdout",
     "output_type": "stream",
     "text": [
      "RMSE of Linear Regression Model is  4683.947950224046\n"
     ]
    }
   ],
   "source": [
    "from math import sqrt\n",
    "print(\"RMSE of Linear Regression Model is \",sqrt(mean_squared_error(y_test, y_pred_lr)))"
   ]
  },
  {
   "cell_type": "markdown",
   "id": "191554ad",
   "metadata": {},
   "source": [
    "### Decision Tree Regressor"
   ]
  },
  {
   "cell_type": "code",
   "execution_count": 110,
   "id": "69b85b07",
   "metadata": {},
   "outputs": [
    {
     "data": {
      "text/html": [
       "<style>#sk-5cebceed-f0aa-41aa-8593-a2296b794fa8 {color: black;background-color: white;}#sk-5cebceed-f0aa-41aa-8593-a2296b794fa8 pre{padding: 0;}#sk-5cebceed-f0aa-41aa-8593-a2296b794fa8 div.sk-toggleable {background-color: white;}#sk-5cebceed-f0aa-41aa-8593-a2296b794fa8 label.sk-toggleable__label {cursor: pointer;display: block;width: 100%;margin-bottom: 0;padding: 0.3em;box-sizing: border-box;text-align: center;}#sk-5cebceed-f0aa-41aa-8593-a2296b794fa8 label.sk-toggleable__label-arrow:before {content: \"▸\";float: left;margin-right: 0.25em;color: #696969;}#sk-5cebceed-f0aa-41aa-8593-a2296b794fa8 label.sk-toggleable__label-arrow:hover:before {color: black;}#sk-5cebceed-f0aa-41aa-8593-a2296b794fa8 div.sk-estimator:hover label.sk-toggleable__label-arrow:before {color: black;}#sk-5cebceed-f0aa-41aa-8593-a2296b794fa8 div.sk-toggleable__content {max-height: 0;max-width: 0;overflow: hidden;text-align: left;background-color: #f0f8ff;}#sk-5cebceed-f0aa-41aa-8593-a2296b794fa8 div.sk-toggleable__content pre {margin: 0.2em;color: black;border-radius: 0.25em;background-color: #f0f8ff;}#sk-5cebceed-f0aa-41aa-8593-a2296b794fa8 input.sk-toggleable__control:checked~div.sk-toggleable__content {max-height: 200px;max-width: 100%;overflow: auto;}#sk-5cebceed-f0aa-41aa-8593-a2296b794fa8 input.sk-toggleable__control:checked~label.sk-toggleable__label-arrow:before {content: \"▾\";}#sk-5cebceed-f0aa-41aa-8593-a2296b794fa8 div.sk-estimator input.sk-toggleable__control:checked~label.sk-toggleable__label {background-color: #d4ebff;}#sk-5cebceed-f0aa-41aa-8593-a2296b794fa8 div.sk-label input.sk-toggleable__control:checked~label.sk-toggleable__label {background-color: #d4ebff;}#sk-5cebceed-f0aa-41aa-8593-a2296b794fa8 input.sk-hidden--visually {border: 0;clip: rect(1px 1px 1px 1px);clip: rect(1px, 1px, 1px, 1px);height: 1px;margin: -1px;overflow: hidden;padding: 0;position: absolute;width: 1px;}#sk-5cebceed-f0aa-41aa-8593-a2296b794fa8 div.sk-estimator {font-family: monospace;background-color: #f0f8ff;border: 1px dotted black;border-radius: 0.25em;box-sizing: border-box;margin-bottom: 0.5em;}#sk-5cebceed-f0aa-41aa-8593-a2296b794fa8 div.sk-estimator:hover {background-color: #d4ebff;}#sk-5cebceed-f0aa-41aa-8593-a2296b794fa8 div.sk-parallel-item::after {content: \"\";width: 100%;border-bottom: 1px solid gray;flex-grow: 1;}#sk-5cebceed-f0aa-41aa-8593-a2296b794fa8 div.sk-label:hover label.sk-toggleable__label {background-color: #d4ebff;}#sk-5cebceed-f0aa-41aa-8593-a2296b794fa8 div.sk-serial::before {content: \"\";position: absolute;border-left: 1px solid gray;box-sizing: border-box;top: 2em;bottom: 0;left: 50%;}#sk-5cebceed-f0aa-41aa-8593-a2296b794fa8 div.sk-serial {display: flex;flex-direction: column;align-items: center;background-color: white;padding-right: 0.2em;padding-left: 0.2em;}#sk-5cebceed-f0aa-41aa-8593-a2296b794fa8 div.sk-item {z-index: 1;}#sk-5cebceed-f0aa-41aa-8593-a2296b794fa8 div.sk-parallel {display: flex;align-items: stretch;justify-content: center;background-color: white;}#sk-5cebceed-f0aa-41aa-8593-a2296b794fa8 div.sk-parallel::before {content: \"\";position: absolute;border-left: 1px solid gray;box-sizing: border-box;top: 2em;bottom: 0;left: 50%;}#sk-5cebceed-f0aa-41aa-8593-a2296b794fa8 div.sk-parallel-item {display: flex;flex-direction: column;position: relative;background-color: white;}#sk-5cebceed-f0aa-41aa-8593-a2296b794fa8 div.sk-parallel-item:first-child::after {align-self: flex-end;width: 50%;}#sk-5cebceed-f0aa-41aa-8593-a2296b794fa8 div.sk-parallel-item:last-child::after {align-self: flex-start;width: 50%;}#sk-5cebceed-f0aa-41aa-8593-a2296b794fa8 div.sk-parallel-item:only-child::after {width: 0;}#sk-5cebceed-f0aa-41aa-8593-a2296b794fa8 div.sk-dashed-wrapped {border: 1px dashed gray;margin: 0 0.4em 0.5em 0.4em;box-sizing: border-box;padding-bottom: 0.4em;background-color: white;position: relative;}#sk-5cebceed-f0aa-41aa-8593-a2296b794fa8 div.sk-label label {font-family: monospace;font-weight: bold;background-color: white;display: inline-block;line-height: 1.2em;}#sk-5cebceed-f0aa-41aa-8593-a2296b794fa8 div.sk-label-container {position: relative;z-index: 2;text-align: center;}#sk-5cebceed-f0aa-41aa-8593-a2296b794fa8 div.sk-container {/* jupyter's `normalize.less` sets `[hidden] { display: none; }` but bootstrap.min.css set `[hidden] { display: none !important; }` so we also need the `!important` here to be able to override the default hidden behavior on the sphinx rendered scikit-learn.org. See: https://github.com/scikit-learn/scikit-learn/issues/21755 */display: inline-block !important;position: relative;}#sk-5cebceed-f0aa-41aa-8593-a2296b794fa8 div.sk-text-repr-fallback {display: none;}</style><div id=\"sk-5cebceed-f0aa-41aa-8593-a2296b794fa8\" class=\"sk-top-container\"><div class=\"sk-text-repr-fallback\"><pre>Pipeline(steps=[(&#x27;columntransformer&#x27;,\n",
       "                 ColumnTransformer(transformers=[(&#x27;categorical&#x27;,\n",
       "                                                  Pipeline(steps=[(&#x27;imputation_mean&#x27;,\n",
       "                                                                   SimpleImputer(fill_value=&#x27;missing&#x27;,\n",
       "                                                                                 strategy=&#x27;constant&#x27;)),\n",
       "                                                                  (&#x27;onehot&#x27;,\n",
       "                                                                   OneHotEncoder(handle_unknown=&#x27;ignore&#x27;))]),\n",
       "                                                  Index([&#x27;Gender&#x27;, &#x27;Age&#x27;, &#x27;City_Category&#x27;, &#x27;Stay_In_Current_City_Years&#x27;], dtype=&#x27;object&#x27;)),\n",
       "                                                 (&#x27;numerical&#x27;,\n",
       "                                                  Pipeline(steps=[(&#x27;imputation_mode&#x27;,\n",
       "                                                                   SimpleImputer(strategy=&#x27;most_frequent&#x27;)),\n",
       "                                                                  (&#x27;standard_scaler&#x27;,\n",
       "                                                                   StandardScaler())]),\n",
       "                                                  Index([&#x27;Occupation&#x27;, &#x27;Marital_Status&#x27;, &#x27;Product_Category_1&#x27;,\n",
       "       &#x27;Product_Category_2&#x27;, &#x27;Product_Category_3&#x27;],\n",
       "      dtype=&#x27;object&#x27;))])),\n",
       "                (&#x27;decisiontreeregressor&#x27;,\n",
       "                 DecisionTreeRegressor(random_state=0))])</pre><b>Please rerun this cell to show the HTML repr or trust the notebook.</b></div><div class=\"sk-container\" hidden><div class=\"sk-item sk-dashed-wrapped\"><div class=\"sk-label-container\"><div class=\"sk-label sk-toggleable\"><input class=\"sk-toggleable__control sk-hidden--visually\" id=\"41f3b501-d40e-4fe2-9c86-1a030b75d965\" type=\"checkbox\" ><label for=\"41f3b501-d40e-4fe2-9c86-1a030b75d965\" class=\"sk-toggleable__label sk-toggleable__label-arrow\">Pipeline</label><div class=\"sk-toggleable__content\"><pre>Pipeline(steps=[(&#x27;columntransformer&#x27;,\n",
       "                 ColumnTransformer(transformers=[(&#x27;categorical&#x27;,\n",
       "                                                  Pipeline(steps=[(&#x27;imputation_mean&#x27;,\n",
       "                                                                   SimpleImputer(fill_value=&#x27;missing&#x27;,\n",
       "                                                                                 strategy=&#x27;constant&#x27;)),\n",
       "                                                                  (&#x27;onehot&#x27;,\n",
       "                                                                   OneHotEncoder(handle_unknown=&#x27;ignore&#x27;))]),\n",
       "                                                  Index([&#x27;Gender&#x27;, &#x27;Age&#x27;, &#x27;City_Category&#x27;, &#x27;Stay_In_Current_City_Years&#x27;], dtype=&#x27;object&#x27;)),\n",
       "                                                 (&#x27;numerical&#x27;,\n",
       "                                                  Pipeline(steps=[(&#x27;imputation_mode&#x27;,\n",
       "                                                                   SimpleImputer(strategy=&#x27;most_frequent&#x27;)),\n",
       "                                                                  (&#x27;standard_scaler&#x27;,\n",
       "                                                                   StandardScaler())]),\n",
       "                                                  Index([&#x27;Occupation&#x27;, &#x27;Marital_Status&#x27;, &#x27;Product_Category_1&#x27;,\n",
       "       &#x27;Product_Category_2&#x27;, &#x27;Product_Category_3&#x27;],\n",
       "      dtype=&#x27;object&#x27;))])),\n",
       "                (&#x27;decisiontreeregressor&#x27;,\n",
       "                 DecisionTreeRegressor(random_state=0))])</pre></div></div></div><div class=\"sk-serial\"><div class=\"sk-item sk-dashed-wrapped\"><div class=\"sk-label-container\"><div class=\"sk-label sk-toggleable\"><input class=\"sk-toggleable__control sk-hidden--visually\" id=\"8ee0a44b-f724-4532-83b1-c36c1bfff326\" type=\"checkbox\" ><label for=\"8ee0a44b-f724-4532-83b1-c36c1bfff326\" class=\"sk-toggleable__label sk-toggleable__label-arrow\">columntransformer: ColumnTransformer</label><div class=\"sk-toggleable__content\"><pre>ColumnTransformer(transformers=[(&#x27;categorical&#x27;,\n",
       "                                 Pipeline(steps=[(&#x27;imputation_mean&#x27;,\n",
       "                                                  SimpleImputer(fill_value=&#x27;missing&#x27;,\n",
       "                                                                strategy=&#x27;constant&#x27;)),\n",
       "                                                 (&#x27;onehot&#x27;,\n",
       "                                                  OneHotEncoder(handle_unknown=&#x27;ignore&#x27;))]),\n",
       "                                 Index([&#x27;Gender&#x27;, &#x27;Age&#x27;, &#x27;City_Category&#x27;, &#x27;Stay_In_Current_City_Years&#x27;], dtype=&#x27;object&#x27;)),\n",
       "                                (&#x27;numerical&#x27;,\n",
       "                                 Pipeline(steps=[(&#x27;imputation_mode&#x27;,\n",
       "                                                  SimpleImputer(strategy=&#x27;most_frequent&#x27;)),\n",
       "                                                 (&#x27;standard_scaler&#x27;,\n",
       "                                                  StandardScaler())]),\n",
       "                                 Index([&#x27;Occupation&#x27;, &#x27;Marital_Status&#x27;, &#x27;Product_Category_1&#x27;,\n",
       "       &#x27;Product_Category_2&#x27;, &#x27;Product_Category_3&#x27;],\n",
       "      dtype=&#x27;object&#x27;))])</pre></div></div></div><div class=\"sk-parallel\"><div class=\"sk-parallel-item\"><div class=\"sk-item\"><div class=\"sk-label-container\"><div class=\"sk-label sk-toggleable\"><input class=\"sk-toggleable__control sk-hidden--visually\" id=\"fbd4101c-b538-43bd-928e-c2d3b9564bb3\" type=\"checkbox\" ><label for=\"fbd4101c-b538-43bd-928e-c2d3b9564bb3\" class=\"sk-toggleable__label sk-toggleable__label-arrow\">categorical</label><div class=\"sk-toggleable__content\"><pre>Index([&#x27;Gender&#x27;, &#x27;Age&#x27;, &#x27;City_Category&#x27;, &#x27;Stay_In_Current_City_Years&#x27;], dtype=&#x27;object&#x27;)</pre></div></div></div><div class=\"sk-serial\"><div class=\"sk-item\"><div class=\"sk-serial\"><div class=\"sk-item\"><div class=\"sk-estimator sk-toggleable\"><input class=\"sk-toggleable__control sk-hidden--visually\" id=\"3b60aeca-b7b5-451e-841c-4102d20c282b\" type=\"checkbox\" ><label for=\"3b60aeca-b7b5-451e-841c-4102d20c282b\" class=\"sk-toggleable__label sk-toggleable__label-arrow\">SimpleImputer</label><div class=\"sk-toggleable__content\"><pre>SimpleImputer(fill_value=&#x27;missing&#x27;, strategy=&#x27;constant&#x27;)</pre></div></div></div><div class=\"sk-item\"><div class=\"sk-estimator sk-toggleable\"><input class=\"sk-toggleable__control sk-hidden--visually\" id=\"f29d5835-19ae-45e0-a93f-fe2bf63a3534\" type=\"checkbox\" ><label for=\"f29d5835-19ae-45e0-a93f-fe2bf63a3534\" class=\"sk-toggleable__label sk-toggleable__label-arrow\">OneHotEncoder</label><div class=\"sk-toggleable__content\"><pre>OneHotEncoder(handle_unknown=&#x27;ignore&#x27;)</pre></div></div></div></div></div></div></div></div><div class=\"sk-parallel-item\"><div class=\"sk-item\"><div class=\"sk-label-container\"><div class=\"sk-label sk-toggleable\"><input class=\"sk-toggleable__control sk-hidden--visually\" id=\"837fe3f9-5fe9-41f2-8404-0722b06105c9\" type=\"checkbox\" ><label for=\"837fe3f9-5fe9-41f2-8404-0722b06105c9\" class=\"sk-toggleable__label sk-toggleable__label-arrow\">numerical</label><div class=\"sk-toggleable__content\"><pre>Index([&#x27;Occupation&#x27;, &#x27;Marital_Status&#x27;, &#x27;Product_Category_1&#x27;,\n",
       "       &#x27;Product_Category_2&#x27;, &#x27;Product_Category_3&#x27;],\n",
       "      dtype=&#x27;object&#x27;)</pre></div></div></div><div class=\"sk-serial\"><div class=\"sk-item\"><div class=\"sk-serial\"><div class=\"sk-item\"><div class=\"sk-estimator sk-toggleable\"><input class=\"sk-toggleable__control sk-hidden--visually\" id=\"8f869736-3655-41d7-8706-4a35037af7e2\" type=\"checkbox\" ><label for=\"8f869736-3655-41d7-8706-4a35037af7e2\" class=\"sk-toggleable__label sk-toggleable__label-arrow\">SimpleImputer</label><div class=\"sk-toggleable__content\"><pre>SimpleImputer(strategy=&#x27;most_frequent&#x27;)</pre></div></div></div><div class=\"sk-item\"><div class=\"sk-estimator sk-toggleable\"><input class=\"sk-toggleable__control sk-hidden--visually\" id=\"855ac5f4-f117-4dcb-a6ca-12cb4e53e5ec\" type=\"checkbox\" ><label for=\"855ac5f4-f117-4dcb-a6ca-12cb4e53e5ec\" class=\"sk-toggleable__label sk-toggleable__label-arrow\">StandardScaler</label><div class=\"sk-toggleable__content\"><pre>StandardScaler()</pre></div></div></div></div></div></div></div></div></div></div><div class=\"sk-item\"><div class=\"sk-estimator sk-toggleable\"><input class=\"sk-toggleable__control sk-hidden--visually\" id=\"5a248196-a2f5-4f33-aa66-bf60d726bbc5\" type=\"checkbox\" ><label for=\"5a248196-a2f5-4f33-aa66-bf60d726bbc5\" class=\"sk-toggleable__label sk-toggleable__label-arrow\">DecisionTreeRegressor</label><div class=\"sk-toggleable__content\"><pre>DecisionTreeRegressor(random_state=0)</pre></div></div></div></div></div></div></div>"
      ],
      "text/plain": [
       "Pipeline(steps=[('columntransformer',\n",
       "                 ColumnTransformer(transformers=[('categorical',\n",
       "                                                  Pipeline(steps=[('imputation_mean',\n",
       "                                                                   SimpleImputer(fill_value='missing',\n",
       "                                                                                 strategy='constant')),\n",
       "                                                                  ('onehot',\n",
       "                                                                   OneHotEncoder(handle_unknown='ignore'))]),\n",
       "                                                  Index(['Gender', 'Age', 'City_Category', 'Stay_In_Current_City_Years'], dtype='object')),\n",
       "                                                 ('numerical',\n",
       "                                                  Pipeline(steps=[('imputation_mode',\n",
       "                                                                   SimpleImputer(strategy='most_frequent')),\n",
       "                                                                  ('standard_scaler',\n",
       "                                                                   StandardScaler())]),\n",
       "                                                  Index(['Occupation', 'Marital_Status', 'Product_Category_1',\n",
       "       'Product_Category_2', 'Product_Category_3'],\n",
       "      dtype='object'))])),\n",
       "                ('decisiontreeregressor',\n",
       "                 DecisionTreeRegressor(random_state=0))])"
      ]
     },
     "execution_count": 110,
     "metadata": {},
     "output_type": "execute_result"
    }
   ],
   "source": [
    "dt=make_pipeline(preprocessor, DecisionTreeRegressor(random_state=0))\n",
    "dt"
   ]
  },
  {
   "cell_type": "code",
   "execution_count": 111,
   "id": "14e60c95",
   "metadata": {},
   "outputs": [
    {
     "data": {
      "text/html": [
       "<style>#sk-fd2238aa-c6e9-4913-a003-f58eeaf8655e {color: black;background-color: white;}#sk-fd2238aa-c6e9-4913-a003-f58eeaf8655e pre{padding: 0;}#sk-fd2238aa-c6e9-4913-a003-f58eeaf8655e div.sk-toggleable {background-color: white;}#sk-fd2238aa-c6e9-4913-a003-f58eeaf8655e label.sk-toggleable__label {cursor: pointer;display: block;width: 100%;margin-bottom: 0;padding: 0.3em;box-sizing: border-box;text-align: center;}#sk-fd2238aa-c6e9-4913-a003-f58eeaf8655e label.sk-toggleable__label-arrow:before {content: \"▸\";float: left;margin-right: 0.25em;color: #696969;}#sk-fd2238aa-c6e9-4913-a003-f58eeaf8655e label.sk-toggleable__label-arrow:hover:before {color: black;}#sk-fd2238aa-c6e9-4913-a003-f58eeaf8655e div.sk-estimator:hover label.sk-toggleable__label-arrow:before {color: black;}#sk-fd2238aa-c6e9-4913-a003-f58eeaf8655e div.sk-toggleable__content {max-height: 0;max-width: 0;overflow: hidden;text-align: left;background-color: #f0f8ff;}#sk-fd2238aa-c6e9-4913-a003-f58eeaf8655e div.sk-toggleable__content pre {margin: 0.2em;color: black;border-radius: 0.25em;background-color: #f0f8ff;}#sk-fd2238aa-c6e9-4913-a003-f58eeaf8655e input.sk-toggleable__control:checked~div.sk-toggleable__content {max-height: 200px;max-width: 100%;overflow: auto;}#sk-fd2238aa-c6e9-4913-a003-f58eeaf8655e input.sk-toggleable__control:checked~label.sk-toggleable__label-arrow:before {content: \"▾\";}#sk-fd2238aa-c6e9-4913-a003-f58eeaf8655e div.sk-estimator input.sk-toggleable__control:checked~label.sk-toggleable__label {background-color: #d4ebff;}#sk-fd2238aa-c6e9-4913-a003-f58eeaf8655e div.sk-label input.sk-toggleable__control:checked~label.sk-toggleable__label {background-color: #d4ebff;}#sk-fd2238aa-c6e9-4913-a003-f58eeaf8655e input.sk-hidden--visually {border: 0;clip: rect(1px 1px 1px 1px);clip: rect(1px, 1px, 1px, 1px);height: 1px;margin: -1px;overflow: hidden;padding: 0;position: absolute;width: 1px;}#sk-fd2238aa-c6e9-4913-a003-f58eeaf8655e div.sk-estimator {font-family: monospace;background-color: #f0f8ff;border: 1px dotted black;border-radius: 0.25em;box-sizing: border-box;margin-bottom: 0.5em;}#sk-fd2238aa-c6e9-4913-a003-f58eeaf8655e div.sk-estimator:hover {background-color: #d4ebff;}#sk-fd2238aa-c6e9-4913-a003-f58eeaf8655e div.sk-parallel-item::after {content: \"\";width: 100%;border-bottom: 1px solid gray;flex-grow: 1;}#sk-fd2238aa-c6e9-4913-a003-f58eeaf8655e div.sk-label:hover label.sk-toggleable__label {background-color: #d4ebff;}#sk-fd2238aa-c6e9-4913-a003-f58eeaf8655e div.sk-serial::before {content: \"\";position: absolute;border-left: 1px solid gray;box-sizing: border-box;top: 2em;bottom: 0;left: 50%;}#sk-fd2238aa-c6e9-4913-a003-f58eeaf8655e div.sk-serial {display: flex;flex-direction: column;align-items: center;background-color: white;padding-right: 0.2em;padding-left: 0.2em;}#sk-fd2238aa-c6e9-4913-a003-f58eeaf8655e div.sk-item {z-index: 1;}#sk-fd2238aa-c6e9-4913-a003-f58eeaf8655e div.sk-parallel {display: flex;align-items: stretch;justify-content: center;background-color: white;}#sk-fd2238aa-c6e9-4913-a003-f58eeaf8655e div.sk-parallel::before {content: \"\";position: absolute;border-left: 1px solid gray;box-sizing: border-box;top: 2em;bottom: 0;left: 50%;}#sk-fd2238aa-c6e9-4913-a003-f58eeaf8655e div.sk-parallel-item {display: flex;flex-direction: column;position: relative;background-color: white;}#sk-fd2238aa-c6e9-4913-a003-f58eeaf8655e div.sk-parallel-item:first-child::after {align-self: flex-end;width: 50%;}#sk-fd2238aa-c6e9-4913-a003-f58eeaf8655e div.sk-parallel-item:last-child::after {align-self: flex-start;width: 50%;}#sk-fd2238aa-c6e9-4913-a003-f58eeaf8655e div.sk-parallel-item:only-child::after {width: 0;}#sk-fd2238aa-c6e9-4913-a003-f58eeaf8655e div.sk-dashed-wrapped {border: 1px dashed gray;margin: 0 0.4em 0.5em 0.4em;box-sizing: border-box;padding-bottom: 0.4em;background-color: white;position: relative;}#sk-fd2238aa-c6e9-4913-a003-f58eeaf8655e div.sk-label label {font-family: monospace;font-weight: bold;background-color: white;display: inline-block;line-height: 1.2em;}#sk-fd2238aa-c6e9-4913-a003-f58eeaf8655e div.sk-label-container {position: relative;z-index: 2;text-align: center;}#sk-fd2238aa-c6e9-4913-a003-f58eeaf8655e div.sk-container {/* jupyter's `normalize.less` sets `[hidden] { display: none; }` but bootstrap.min.css set `[hidden] { display: none !important; }` so we also need the `!important` here to be able to override the default hidden behavior on the sphinx rendered scikit-learn.org. See: https://github.com/scikit-learn/scikit-learn/issues/21755 */display: inline-block !important;position: relative;}#sk-fd2238aa-c6e9-4913-a003-f58eeaf8655e div.sk-text-repr-fallback {display: none;}</style><div id=\"sk-fd2238aa-c6e9-4913-a003-f58eeaf8655e\" class=\"sk-top-container\"><div class=\"sk-text-repr-fallback\"><pre>Pipeline(steps=[(&#x27;columntransformer&#x27;,\n",
       "                 ColumnTransformer(transformers=[(&#x27;categorical&#x27;,\n",
       "                                                  Pipeline(steps=[(&#x27;imputation_mean&#x27;,\n",
       "                                                                   SimpleImputer(fill_value=&#x27;missing&#x27;,\n",
       "                                                                                 strategy=&#x27;constant&#x27;)),\n",
       "                                                                  (&#x27;onehot&#x27;,\n",
       "                                                                   OneHotEncoder(handle_unknown=&#x27;ignore&#x27;))]),\n",
       "                                                  Index([&#x27;Gender&#x27;, &#x27;Age&#x27;, &#x27;City_Category&#x27;, &#x27;Stay_In_Current_City_Years&#x27;], dtype=&#x27;object&#x27;)),\n",
       "                                                 (&#x27;numerical&#x27;,\n",
       "                                                  Pipeline(steps=[(&#x27;imputation_mode&#x27;,\n",
       "                                                                   SimpleImputer(strategy=&#x27;most_frequent&#x27;)),\n",
       "                                                                  (&#x27;standard_scaler&#x27;,\n",
       "                                                                   StandardScaler())]),\n",
       "                                                  Index([&#x27;Occupation&#x27;, &#x27;Marital_Status&#x27;, &#x27;Product_Category_1&#x27;,\n",
       "       &#x27;Product_Category_2&#x27;, &#x27;Product_Category_3&#x27;],\n",
       "      dtype=&#x27;object&#x27;))])),\n",
       "                (&#x27;decisiontreeregressor&#x27;,\n",
       "                 DecisionTreeRegressor(random_state=0))])</pre><b>Please rerun this cell to show the HTML repr or trust the notebook.</b></div><div class=\"sk-container\" hidden><div class=\"sk-item sk-dashed-wrapped\"><div class=\"sk-label-container\"><div class=\"sk-label sk-toggleable\"><input class=\"sk-toggleable__control sk-hidden--visually\" id=\"2f119e36-c4cc-4dbb-92bf-ee5217626984\" type=\"checkbox\" ><label for=\"2f119e36-c4cc-4dbb-92bf-ee5217626984\" class=\"sk-toggleable__label sk-toggleable__label-arrow\">Pipeline</label><div class=\"sk-toggleable__content\"><pre>Pipeline(steps=[(&#x27;columntransformer&#x27;,\n",
       "                 ColumnTransformer(transformers=[(&#x27;categorical&#x27;,\n",
       "                                                  Pipeline(steps=[(&#x27;imputation_mean&#x27;,\n",
       "                                                                   SimpleImputer(fill_value=&#x27;missing&#x27;,\n",
       "                                                                                 strategy=&#x27;constant&#x27;)),\n",
       "                                                                  (&#x27;onehot&#x27;,\n",
       "                                                                   OneHotEncoder(handle_unknown=&#x27;ignore&#x27;))]),\n",
       "                                                  Index([&#x27;Gender&#x27;, &#x27;Age&#x27;, &#x27;City_Category&#x27;, &#x27;Stay_In_Current_City_Years&#x27;], dtype=&#x27;object&#x27;)),\n",
       "                                                 (&#x27;numerical&#x27;,\n",
       "                                                  Pipeline(steps=[(&#x27;imputation_mode&#x27;,\n",
       "                                                                   SimpleImputer(strategy=&#x27;most_frequent&#x27;)),\n",
       "                                                                  (&#x27;standard_scaler&#x27;,\n",
       "                                                                   StandardScaler())]),\n",
       "                                                  Index([&#x27;Occupation&#x27;, &#x27;Marital_Status&#x27;, &#x27;Product_Category_1&#x27;,\n",
       "       &#x27;Product_Category_2&#x27;, &#x27;Product_Category_3&#x27;],\n",
       "      dtype=&#x27;object&#x27;))])),\n",
       "                (&#x27;decisiontreeregressor&#x27;,\n",
       "                 DecisionTreeRegressor(random_state=0))])</pre></div></div></div><div class=\"sk-serial\"><div class=\"sk-item sk-dashed-wrapped\"><div class=\"sk-label-container\"><div class=\"sk-label sk-toggleable\"><input class=\"sk-toggleable__control sk-hidden--visually\" id=\"1794a3d6-74d5-49e5-b84e-4390a65124c1\" type=\"checkbox\" ><label for=\"1794a3d6-74d5-49e5-b84e-4390a65124c1\" class=\"sk-toggleable__label sk-toggleable__label-arrow\">columntransformer: ColumnTransformer</label><div class=\"sk-toggleable__content\"><pre>ColumnTransformer(transformers=[(&#x27;categorical&#x27;,\n",
       "                                 Pipeline(steps=[(&#x27;imputation_mean&#x27;,\n",
       "                                                  SimpleImputer(fill_value=&#x27;missing&#x27;,\n",
       "                                                                strategy=&#x27;constant&#x27;)),\n",
       "                                                 (&#x27;onehot&#x27;,\n",
       "                                                  OneHotEncoder(handle_unknown=&#x27;ignore&#x27;))]),\n",
       "                                 Index([&#x27;Gender&#x27;, &#x27;Age&#x27;, &#x27;City_Category&#x27;, &#x27;Stay_In_Current_City_Years&#x27;], dtype=&#x27;object&#x27;)),\n",
       "                                (&#x27;numerical&#x27;,\n",
       "                                 Pipeline(steps=[(&#x27;imputation_mode&#x27;,\n",
       "                                                  SimpleImputer(strategy=&#x27;most_frequent&#x27;)),\n",
       "                                                 (&#x27;standard_scaler&#x27;,\n",
       "                                                  StandardScaler())]),\n",
       "                                 Index([&#x27;Occupation&#x27;, &#x27;Marital_Status&#x27;, &#x27;Product_Category_1&#x27;,\n",
       "       &#x27;Product_Category_2&#x27;, &#x27;Product_Category_3&#x27;],\n",
       "      dtype=&#x27;object&#x27;))])</pre></div></div></div><div class=\"sk-parallel\"><div class=\"sk-parallel-item\"><div class=\"sk-item\"><div class=\"sk-label-container\"><div class=\"sk-label sk-toggleable\"><input class=\"sk-toggleable__control sk-hidden--visually\" id=\"60770d88-3039-48c0-99d2-a0b22cf2233c\" type=\"checkbox\" ><label for=\"60770d88-3039-48c0-99d2-a0b22cf2233c\" class=\"sk-toggleable__label sk-toggleable__label-arrow\">categorical</label><div class=\"sk-toggleable__content\"><pre>Index([&#x27;Gender&#x27;, &#x27;Age&#x27;, &#x27;City_Category&#x27;, &#x27;Stay_In_Current_City_Years&#x27;], dtype=&#x27;object&#x27;)</pre></div></div></div><div class=\"sk-serial\"><div class=\"sk-item\"><div class=\"sk-serial\"><div class=\"sk-item\"><div class=\"sk-estimator sk-toggleable\"><input class=\"sk-toggleable__control sk-hidden--visually\" id=\"e194ef7c-b97c-4ce0-885e-6678fe612b85\" type=\"checkbox\" ><label for=\"e194ef7c-b97c-4ce0-885e-6678fe612b85\" class=\"sk-toggleable__label sk-toggleable__label-arrow\">SimpleImputer</label><div class=\"sk-toggleable__content\"><pre>SimpleImputer(fill_value=&#x27;missing&#x27;, strategy=&#x27;constant&#x27;)</pre></div></div></div><div class=\"sk-item\"><div class=\"sk-estimator sk-toggleable\"><input class=\"sk-toggleable__control sk-hidden--visually\" id=\"f70a888b-0d27-4b87-b8cf-2e6abb478d54\" type=\"checkbox\" ><label for=\"f70a888b-0d27-4b87-b8cf-2e6abb478d54\" class=\"sk-toggleable__label sk-toggleable__label-arrow\">OneHotEncoder</label><div class=\"sk-toggleable__content\"><pre>OneHotEncoder(handle_unknown=&#x27;ignore&#x27;)</pre></div></div></div></div></div></div></div></div><div class=\"sk-parallel-item\"><div class=\"sk-item\"><div class=\"sk-label-container\"><div class=\"sk-label sk-toggleable\"><input class=\"sk-toggleable__control sk-hidden--visually\" id=\"f34ab733-29f5-4642-bdd4-beb58ee96bde\" type=\"checkbox\" ><label for=\"f34ab733-29f5-4642-bdd4-beb58ee96bde\" class=\"sk-toggleable__label sk-toggleable__label-arrow\">numerical</label><div class=\"sk-toggleable__content\"><pre>Index([&#x27;Occupation&#x27;, &#x27;Marital_Status&#x27;, &#x27;Product_Category_1&#x27;,\n",
       "       &#x27;Product_Category_2&#x27;, &#x27;Product_Category_3&#x27;],\n",
       "      dtype=&#x27;object&#x27;)</pre></div></div></div><div class=\"sk-serial\"><div class=\"sk-item\"><div class=\"sk-serial\"><div class=\"sk-item\"><div class=\"sk-estimator sk-toggleable\"><input class=\"sk-toggleable__control sk-hidden--visually\" id=\"50d9eb0c-7ba6-46c1-8cd2-0d75e756d696\" type=\"checkbox\" ><label for=\"50d9eb0c-7ba6-46c1-8cd2-0d75e756d696\" class=\"sk-toggleable__label sk-toggleable__label-arrow\">SimpleImputer</label><div class=\"sk-toggleable__content\"><pre>SimpleImputer(strategy=&#x27;most_frequent&#x27;)</pre></div></div></div><div class=\"sk-item\"><div class=\"sk-estimator sk-toggleable\"><input class=\"sk-toggleable__control sk-hidden--visually\" id=\"902f88ba-1b4a-4941-b6f6-d4f33f2d8836\" type=\"checkbox\" ><label for=\"902f88ba-1b4a-4941-b6f6-d4f33f2d8836\" class=\"sk-toggleable__label sk-toggleable__label-arrow\">StandardScaler</label><div class=\"sk-toggleable__content\"><pre>StandardScaler()</pre></div></div></div></div></div></div></div></div></div></div><div class=\"sk-item\"><div class=\"sk-estimator sk-toggleable\"><input class=\"sk-toggleable__control sk-hidden--visually\" id=\"aafe5489-2157-40a4-8ebe-31a7a5f45384\" type=\"checkbox\" ><label for=\"aafe5489-2157-40a4-8ebe-31a7a5f45384\" class=\"sk-toggleable__label sk-toggleable__label-arrow\">DecisionTreeRegressor</label><div class=\"sk-toggleable__content\"><pre>DecisionTreeRegressor(random_state=0)</pre></div></div></div></div></div></div></div>"
      ],
      "text/plain": [
       "Pipeline(steps=[('columntransformer',\n",
       "                 ColumnTransformer(transformers=[('categorical',\n",
       "                                                  Pipeline(steps=[('imputation_mean',\n",
       "                                                                   SimpleImputer(fill_value='missing',\n",
       "                                                                                 strategy='constant')),\n",
       "                                                                  ('onehot',\n",
       "                                                                   OneHotEncoder(handle_unknown='ignore'))]),\n",
       "                                                  Index(['Gender', 'Age', 'City_Category', 'Stay_In_Current_City_Years'], dtype='object')),\n",
       "                                                 ('numerical',\n",
       "                                                  Pipeline(steps=[('imputation_mode',\n",
       "                                                                   SimpleImputer(strategy='most_frequent')),\n",
       "                                                                  ('standard_scaler',\n",
       "                                                                   StandardScaler())]),\n",
       "                                                  Index(['Occupation', 'Marital_Status', 'Product_Category_1',\n",
       "       'Product_Category_2', 'Product_Category_3'],\n",
       "      dtype='object'))])),\n",
       "                ('decisiontreeregressor',\n",
       "                 DecisionTreeRegressor(random_state=0))])"
      ]
     },
     "execution_count": 111,
     "metadata": {},
     "output_type": "execute_result"
    }
   ],
   "source": [
    "dt.fit(X_train, y_train)"
   ]
  },
  {
   "cell_type": "code",
   "execution_count": 112,
   "id": "76dc5b74",
   "metadata": {},
   "outputs": [],
   "source": [
    "y_pred_dt=dt.predict(X_test)"
   ]
  },
  {
   "cell_type": "code",
   "execution_count": 113,
   "id": "5243d5d1",
   "metadata": {},
   "outputs": [
    {
     "data": {
      "text/plain": [
       "2353.8488848596558"
      ]
     },
     "execution_count": 113,
     "metadata": {},
     "output_type": "execute_result"
    }
   ],
   "source": [
    "mean_absolute_error(y_test, y_pred_dt)"
   ]
  },
  {
   "cell_type": "code",
   "execution_count": 114,
   "id": "028bc25d",
   "metadata": {},
   "outputs": [
    {
     "data": {
      "text/plain": [
       "11068710.60804262"
      ]
     },
     "execution_count": 114,
     "metadata": {},
     "output_type": "execute_result"
    }
   ],
   "source": [
    "mean_squared_error(y_test, y_pred_dt)"
   ]
  },
  {
   "cell_type": "code",
   "execution_count": 115,
   "id": "cb64bb0e",
   "metadata": {},
   "outputs": [
    {
     "data": {
      "text/plain": [
       "0.5608051049917998"
      ]
     },
     "execution_count": 115,
     "metadata": {},
     "output_type": "execute_result"
    }
   ],
   "source": [
    "r2_score(y_test, y_pred_dt)"
   ]
  },
  {
   "cell_type": "code",
   "execution_count": 116,
   "id": "9ae0920f",
   "metadata": {},
   "outputs": [
    {
     "name": "stdout",
     "output_type": "stream",
     "text": [
      "RMSE of Decision Tree Regressor model is  3326.9671786843073\n"
     ]
    }
   ],
   "source": [
    "from math import sqrt\n",
    "print(\"RMSE of Decision Tree Regressor model is \",sqrt(mean_squared_error(y_test, y_pred_dt)))"
   ]
  },
  {
   "cell_type": "markdown",
   "id": "335925aa",
   "metadata": {},
   "source": [
    "### Random Forest Regressor"
   ]
  },
  {
   "cell_type": "code",
   "execution_count": 117,
   "id": "ab5aa424",
   "metadata": {},
   "outputs": [
    {
     "data": {
      "text/html": [
       "<style>#sk-b7984baf-474d-4ded-9be5-3317a657d6e2 {color: black;background-color: white;}#sk-b7984baf-474d-4ded-9be5-3317a657d6e2 pre{padding: 0;}#sk-b7984baf-474d-4ded-9be5-3317a657d6e2 div.sk-toggleable {background-color: white;}#sk-b7984baf-474d-4ded-9be5-3317a657d6e2 label.sk-toggleable__label {cursor: pointer;display: block;width: 100%;margin-bottom: 0;padding: 0.3em;box-sizing: border-box;text-align: center;}#sk-b7984baf-474d-4ded-9be5-3317a657d6e2 label.sk-toggleable__label-arrow:before {content: \"▸\";float: left;margin-right: 0.25em;color: #696969;}#sk-b7984baf-474d-4ded-9be5-3317a657d6e2 label.sk-toggleable__label-arrow:hover:before {color: black;}#sk-b7984baf-474d-4ded-9be5-3317a657d6e2 div.sk-estimator:hover label.sk-toggleable__label-arrow:before {color: black;}#sk-b7984baf-474d-4ded-9be5-3317a657d6e2 div.sk-toggleable__content {max-height: 0;max-width: 0;overflow: hidden;text-align: left;background-color: #f0f8ff;}#sk-b7984baf-474d-4ded-9be5-3317a657d6e2 div.sk-toggleable__content pre {margin: 0.2em;color: black;border-radius: 0.25em;background-color: #f0f8ff;}#sk-b7984baf-474d-4ded-9be5-3317a657d6e2 input.sk-toggleable__control:checked~div.sk-toggleable__content {max-height: 200px;max-width: 100%;overflow: auto;}#sk-b7984baf-474d-4ded-9be5-3317a657d6e2 input.sk-toggleable__control:checked~label.sk-toggleable__label-arrow:before {content: \"▾\";}#sk-b7984baf-474d-4ded-9be5-3317a657d6e2 div.sk-estimator input.sk-toggleable__control:checked~label.sk-toggleable__label {background-color: #d4ebff;}#sk-b7984baf-474d-4ded-9be5-3317a657d6e2 div.sk-label input.sk-toggleable__control:checked~label.sk-toggleable__label {background-color: #d4ebff;}#sk-b7984baf-474d-4ded-9be5-3317a657d6e2 input.sk-hidden--visually {border: 0;clip: rect(1px 1px 1px 1px);clip: rect(1px, 1px, 1px, 1px);height: 1px;margin: -1px;overflow: hidden;padding: 0;position: absolute;width: 1px;}#sk-b7984baf-474d-4ded-9be5-3317a657d6e2 div.sk-estimator {font-family: monospace;background-color: #f0f8ff;border: 1px dotted black;border-radius: 0.25em;box-sizing: border-box;margin-bottom: 0.5em;}#sk-b7984baf-474d-4ded-9be5-3317a657d6e2 div.sk-estimator:hover {background-color: #d4ebff;}#sk-b7984baf-474d-4ded-9be5-3317a657d6e2 div.sk-parallel-item::after {content: \"\";width: 100%;border-bottom: 1px solid gray;flex-grow: 1;}#sk-b7984baf-474d-4ded-9be5-3317a657d6e2 div.sk-label:hover label.sk-toggleable__label {background-color: #d4ebff;}#sk-b7984baf-474d-4ded-9be5-3317a657d6e2 div.sk-serial::before {content: \"\";position: absolute;border-left: 1px solid gray;box-sizing: border-box;top: 2em;bottom: 0;left: 50%;}#sk-b7984baf-474d-4ded-9be5-3317a657d6e2 div.sk-serial {display: flex;flex-direction: column;align-items: center;background-color: white;padding-right: 0.2em;padding-left: 0.2em;}#sk-b7984baf-474d-4ded-9be5-3317a657d6e2 div.sk-item {z-index: 1;}#sk-b7984baf-474d-4ded-9be5-3317a657d6e2 div.sk-parallel {display: flex;align-items: stretch;justify-content: center;background-color: white;}#sk-b7984baf-474d-4ded-9be5-3317a657d6e2 div.sk-parallel::before {content: \"\";position: absolute;border-left: 1px solid gray;box-sizing: border-box;top: 2em;bottom: 0;left: 50%;}#sk-b7984baf-474d-4ded-9be5-3317a657d6e2 div.sk-parallel-item {display: flex;flex-direction: column;position: relative;background-color: white;}#sk-b7984baf-474d-4ded-9be5-3317a657d6e2 div.sk-parallel-item:first-child::after {align-self: flex-end;width: 50%;}#sk-b7984baf-474d-4ded-9be5-3317a657d6e2 div.sk-parallel-item:last-child::after {align-self: flex-start;width: 50%;}#sk-b7984baf-474d-4ded-9be5-3317a657d6e2 div.sk-parallel-item:only-child::after {width: 0;}#sk-b7984baf-474d-4ded-9be5-3317a657d6e2 div.sk-dashed-wrapped {border: 1px dashed gray;margin: 0 0.4em 0.5em 0.4em;box-sizing: border-box;padding-bottom: 0.4em;background-color: white;position: relative;}#sk-b7984baf-474d-4ded-9be5-3317a657d6e2 div.sk-label label {font-family: monospace;font-weight: bold;background-color: white;display: inline-block;line-height: 1.2em;}#sk-b7984baf-474d-4ded-9be5-3317a657d6e2 div.sk-label-container {position: relative;z-index: 2;text-align: center;}#sk-b7984baf-474d-4ded-9be5-3317a657d6e2 div.sk-container {/* jupyter's `normalize.less` sets `[hidden] { display: none; }` but bootstrap.min.css set `[hidden] { display: none !important; }` so we also need the `!important` here to be able to override the default hidden behavior on the sphinx rendered scikit-learn.org. See: https://github.com/scikit-learn/scikit-learn/issues/21755 */display: inline-block !important;position: relative;}#sk-b7984baf-474d-4ded-9be5-3317a657d6e2 div.sk-text-repr-fallback {display: none;}</style><div id=\"sk-b7984baf-474d-4ded-9be5-3317a657d6e2\" class=\"sk-top-container\"><div class=\"sk-text-repr-fallback\"><pre>Pipeline(steps=[(&#x27;columntransformer&#x27;,\n",
       "                 ColumnTransformer(transformers=[(&#x27;categorical&#x27;,\n",
       "                                                  Pipeline(steps=[(&#x27;imputation_mean&#x27;,\n",
       "                                                                   SimpleImputer(fill_value=&#x27;missing&#x27;,\n",
       "                                                                                 strategy=&#x27;constant&#x27;)),\n",
       "                                                                  (&#x27;onehot&#x27;,\n",
       "                                                                   OneHotEncoder(handle_unknown=&#x27;ignore&#x27;))]),\n",
       "                                                  Index([&#x27;Gender&#x27;, &#x27;Age&#x27;, &#x27;City_Category&#x27;, &#x27;Stay_In_Current_City_Years&#x27;], dtype=&#x27;object&#x27;)),\n",
       "                                                 (&#x27;numerical&#x27;,\n",
       "                                                  Pipeline(steps=[(&#x27;imputation_mode&#x27;,\n",
       "                                                                   SimpleImputer(strategy=&#x27;most_frequent&#x27;)),\n",
       "                                                                  (&#x27;standard_scaler&#x27;,\n",
       "                                                                   StandardScaler())]),\n",
       "                                                  Index([&#x27;Occupation&#x27;, &#x27;Marital_Status&#x27;, &#x27;Product_Category_1&#x27;,\n",
       "       &#x27;Product_Category_2&#x27;, &#x27;Product_Category_3&#x27;],\n",
       "      dtype=&#x27;object&#x27;))])),\n",
       "                (&#x27;randomforestregressor&#x27;,\n",
       "                 RandomForestRegressor(random_state=0))])</pre><b>Please rerun this cell to show the HTML repr or trust the notebook.</b></div><div class=\"sk-container\" hidden><div class=\"sk-item sk-dashed-wrapped\"><div class=\"sk-label-container\"><div class=\"sk-label sk-toggleable\"><input class=\"sk-toggleable__control sk-hidden--visually\" id=\"825d9cb6-e957-46d9-bb96-1d4b7cfd96a0\" type=\"checkbox\" ><label for=\"825d9cb6-e957-46d9-bb96-1d4b7cfd96a0\" class=\"sk-toggleable__label sk-toggleable__label-arrow\">Pipeline</label><div class=\"sk-toggleable__content\"><pre>Pipeline(steps=[(&#x27;columntransformer&#x27;,\n",
       "                 ColumnTransformer(transformers=[(&#x27;categorical&#x27;,\n",
       "                                                  Pipeline(steps=[(&#x27;imputation_mean&#x27;,\n",
       "                                                                   SimpleImputer(fill_value=&#x27;missing&#x27;,\n",
       "                                                                                 strategy=&#x27;constant&#x27;)),\n",
       "                                                                  (&#x27;onehot&#x27;,\n",
       "                                                                   OneHotEncoder(handle_unknown=&#x27;ignore&#x27;))]),\n",
       "                                                  Index([&#x27;Gender&#x27;, &#x27;Age&#x27;, &#x27;City_Category&#x27;, &#x27;Stay_In_Current_City_Years&#x27;], dtype=&#x27;object&#x27;)),\n",
       "                                                 (&#x27;numerical&#x27;,\n",
       "                                                  Pipeline(steps=[(&#x27;imputation_mode&#x27;,\n",
       "                                                                   SimpleImputer(strategy=&#x27;most_frequent&#x27;)),\n",
       "                                                                  (&#x27;standard_scaler&#x27;,\n",
       "                                                                   StandardScaler())]),\n",
       "                                                  Index([&#x27;Occupation&#x27;, &#x27;Marital_Status&#x27;, &#x27;Product_Category_1&#x27;,\n",
       "       &#x27;Product_Category_2&#x27;, &#x27;Product_Category_3&#x27;],\n",
       "      dtype=&#x27;object&#x27;))])),\n",
       "                (&#x27;randomforestregressor&#x27;,\n",
       "                 RandomForestRegressor(random_state=0))])</pre></div></div></div><div class=\"sk-serial\"><div class=\"sk-item sk-dashed-wrapped\"><div class=\"sk-label-container\"><div class=\"sk-label sk-toggleable\"><input class=\"sk-toggleable__control sk-hidden--visually\" id=\"59ffd758-6f2c-4b6d-90c3-3fcf00fb8363\" type=\"checkbox\" ><label for=\"59ffd758-6f2c-4b6d-90c3-3fcf00fb8363\" class=\"sk-toggleable__label sk-toggleable__label-arrow\">columntransformer: ColumnTransformer</label><div class=\"sk-toggleable__content\"><pre>ColumnTransformer(transformers=[(&#x27;categorical&#x27;,\n",
       "                                 Pipeline(steps=[(&#x27;imputation_mean&#x27;,\n",
       "                                                  SimpleImputer(fill_value=&#x27;missing&#x27;,\n",
       "                                                                strategy=&#x27;constant&#x27;)),\n",
       "                                                 (&#x27;onehot&#x27;,\n",
       "                                                  OneHotEncoder(handle_unknown=&#x27;ignore&#x27;))]),\n",
       "                                 Index([&#x27;Gender&#x27;, &#x27;Age&#x27;, &#x27;City_Category&#x27;, &#x27;Stay_In_Current_City_Years&#x27;], dtype=&#x27;object&#x27;)),\n",
       "                                (&#x27;numerical&#x27;,\n",
       "                                 Pipeline(steps=[(&#x27;imputation_mode&#x27;,\n",
       "                                                  SimpleImputer(strategy=&#x27;most_frequent&#x27;)),\n",
       "                                                 (&#x27;standard_scaler&#x27;,\n",
       "                                                  StandardScaler())]),\n",
       "                                 Index([&#x27;Occupation&#x27;, &#x27;Marital_Status&#x27;, &#x27;Product_Category_1&#x27;,\n",
       "       &#x27;Product_Category_2&#x27;, &#x27;Product_Category_3&#x27;],\n",
       "      dtype=&#x27;object&#x27;))])</pre></div></div></div><div class=\"sk-parallel\"><div class=\"sk-parallel-item\"><div class=\"sk-item\"><div class=\"sk-label-container\"><div class=\"sk-label sk-toggleable\"><input class=\"sk-toggleable__control sk-hidden--visually\" id=\"ac60e18f-a847-41a2-ac1b-0fdbcb57ce4e\" type=\"checkbox\" ><label for=\"ac60e18f-a847-41a2-ac1b-0fdbcb57ce4e\" class=\"sk-toggleable__label sk-toggleable__label-arrow\">categorical</label><div class=\"sk-toggleable__content\"><pre>Index([&#x27;Gender&#x27;, &#x27;Age&#x27;, &#x27;City_Category&#x27;, &#x27;Stay_In_Current_City_Years&#x27;], dtype=&#x27;object&#x27;)</pre></div></div></div><div class=\"sk-serial\"><div class=\"sk-item\"><div class=\"sk-serial\"><div class=\"sk-item\"><div class=\"sk-estimator sk-toggleable\"><input class=\"sk-toggleable__control sk-hidden--visually\" id=\"0d382bf2-46fb-4c25-a3dd-eea351ec5b26\" type=\"checkbox\" ><label for=\"0d382bf2-46fb-4c25-a3dd-eea351ec5b26\" class=\"sk-toggleable__label sk-toggleable__label-arrow\">SimpleImputer</label><div class=\"sk-toggleable__content\"><pre>SimpleImputer(fill_value=&#x27;missing&#x27;, strategy=&#x27;constant&#x27;)</pre></div></div></div><div class=\"sk-item\"><div class=\"sk-estimator sk-toggleable\"><input class=\"sk-toggleable__control sk-hidden--visually\" id=\"44f2656b-fac5-4c43-ac3f-fc9a7d0f2c3a\" type=\"checkbox\" ><label for=\"44f2656b-fac5-4c43-ac3f-fc9a7d0f2c3a\" class=\"sk-toggleable__label sk-toggleable__label-arrow\">OneHotEncoder</label><div class=\"sk-toggleable__content\"><pre>OneHotEncoder(handle_unknown=&#x27;ignore&#x27;)</pre></div></div></div></div></div></div></div></div><div class=\"sk-parallel-item\"><div class=\"sk-item\"><div class=\"sk-label-container\"><div class=\"sk-label sk-toggleable\"><input class=\"sk-toggleable__control sk-hidden--visually\" id=\"8563359d-b484-4ffa-8606-91e362c127df\" type=\"checkbox\" ><label for=\"8563359d-b484-4ffa-8606-91e362c127df\" class=\"sk-toggleable__label sk-toggleable__label-arrow\">numerical</label><div class=\"sk-toggleable__content\"><pre>Index([&#x27;Occupation&#x27;, &#x27;Marital_Status&#x27;, &#x27;Product_Category_1&#x27;,\n",
       "       &#x27;Product_Category_2&#x27;, &#x27;Product_Category_3&#x27;],\n",
       "      dtype=&#x27;object&#x27;)</pre></div></div></div><div class=\"sk-serial\"><div class=\"sk-item\"><div class=\"sk-serial\"><div class=\"sk-item\"><div class=\"sk-estimator sk-toggleable\"><input class=\"sk-toggleable__control sk-hidden--visually\" id=\"ece29656-72ae-4d9f-a9e9-0206637382dd\" type=\"checkbox\" ><label for=\"ece29656-72ae-4d9f-a9e9-0206637382dd\" class=\"sk-toggleable__label sk-toggleable__label-arrow\">SimpleImputer</label><div class=\"sk-toggleable__content\"><pre>SimpleImputer(strategy=&#x27;most_frequent&#x27;)</pre></div></div></div><div class=\"sk-item\"><div class=\"sk-estimator sk-toggleable\"><input class=\"sk-toggleable__control sk-hidden--visually\" id=\"fbef40c5-453f-469e-b497-c7f4083261e9\" type=\"checkbox\" ><label for=\"fbef40c5-453f-469e-b497-c7f4083261e9\" class=\"sk-toggleable__label sk-toggleable__label-arrow\">StandardScaler</label><div class=\"sk-toggleable__content\"><pre>StandardScaler()</pre></div></div></div></div></div></div></div></div></div></div><div class=\"sk-item\"><div class=\"sk-estimator sk-toggleable\"><input class=\"sk-toggleable__control sk-hidden--visually\" id=\"0f666874-e5c8-4b4c-b736-4dca52a13990\" type=\"checkbox\" ><label for=\"0f666874-e5c8-4b4c-b736-4dca52a13990\" class=\"sk-toggleable__label sk-toggleable__label-arrow\">RandomForestRegressor</label><div class=\"sk-toggleable__content\"><pre>RandomForestRegressor(random_state=0)</pre></div></div></div></div></div></div></div>"
      ],
      "text/plain": [
       "Pipeline(steps=[('columntransformer',\n",
       "                 ColumnTransformer(transformers=[('categorical',\n",
       "                                                  Pipeline(steps=[('imputation_mean',\n",
       "                                                                   SimpleImputer(fill_value='missing',\n",
       "                                                                                 strategy='constant')),\n",
       "                                                                  ('onehot',\n",
       "                                                                   OneHotEncoder(handle_unknown='ignore'))]),\n",
       "                                                  Index(['Gender', 'Age', 'City_Category', 'Stay_In_Current_City_Years'], dtype='object')),\n",
       "                                                 ('numerical',\n",
       "                                                  Pipeline(steps=[('imputation_mode',\n",
       "                                                                   SimpleImputer(strategy='most_frequent')),\n",
       "                                                                  ('standard_scaler',\n",
       "                                                                   StandardScaler())]),\n",
       "                                                  Index(['Occupation', 'Marital_Status', 'Product_Category_1',\n",
       "       'Product_Category_2', 'Product_Category_3'],\n",
       "      dtype='object'))])),\n",
       "                ('randomforestregressor',\n",
       "                 RandomForestRegressor(random_state=0))])"
      ]
     },
     "execution_count": 117,
     "metadata": {},
     "output_type": "execute_result"
    }
   ],
   "source": [
    "rf=make_pipeline(preprocessor, RandomForestRegressor(random_state=0))\n",
    "rf"
   ]
  },
  {
   "cell_type": "code",
   "execution_count": 118,
   "id": "a491ef61",
   "metadata": {},
   "outputs": [
    {
     "data": {
      "text/html": [
       "<style>#sk-87cb4a5b-698e-4217-8d7f-f36b361893b6 {color: black;background-color: white;}#sk-87cb4a5b-698e-4217-8d7f-f36b361893b6 pre{padding: 0;}#sk-87cb4a5b-698e-4217-8d7f-f36b361893b6 div.sk-toggleable {background-color: white;}#sk-87cb4a5b-698e-4217-8d7f-f36b361893b6 label.sk-toggleable__label {cursor: pointer;display: block;width: 100%;margin-bottom: 0;padding: 0.3em;box-sizing: border-box;text-align: center;}#sk-87cb4a5b-698e-4217-8d7f-f36b361893b6 label.sk-toggleable__label-arrow:before {content: \"▸\";float: left;margin-right: 0.25em;color: #696969;}#sk-87cb4a5b-698e-4217-8d7f-f36b361893b6 label.sk-toggleable__label-arrow:hover:before {color: black;}#sk-87cb4a5b-698e-4217-8d7f-f36b361893b6 div.sk-estimator:hover label.sk-toggleable__label-arrow:before {color: black;}#sk-87cb4a5b-698e-4217-8d7f-f36b361893b6 div.sk-toggleable__content {max-height: 0;max-width: 0;overflow: hidden;text-align: left;background-color: #f0f8ff;}#sk-87cb4a5b-698e-4217-8d7f-f36b361893b6 div.sk-toggleable__content pre {margin: 0.2em;color: black;border-radius: 0.25em;background-color: #f0f8ff;}#sk-87cb4a5b-698e-4217-8d7f-f36b361893b6 input.sk-toggleable__control:checked~div.sk-toggleable__content {max-height: 200px;max-width: 100%;overflow: auto;}#sk-87cb4a5b-698e-4217-8d7f-f36b361893b6 input.sk-toggleable__control:checked~label.sk-toggleable__label-arrow:before {content: \"▾\";}#sk-87cb4a5b-698e-4217-8d7f-f36b361893b6 div.sk-estimator input.sk-toggleable__control:checked~label.sk-toggleable__label {background-color: #d4ebff;}#sk-87cb4a5b-698e-4217-8d7f-f36b361893b6 div.sk-label input.sk-toggleable__control:checked~label.sk-toggleable__label {background-color: #d4ebff;}#sk-87cb4a5b-698e-4217-8d7f-f36b361893b6 input.sk-hidden--visually {border: 0;clip: rect(1px 1px 1px 1px);clip: rect(1px, 1px, 1px, 1px);height: 1px;margin: -1px;overflow: hidden;padding: 0;position: absolute;width: 1px;}#sk-87cb4a5b-698e-4217-8d7f-f36b361893b6 div.sk-estimator {font-family: monospace;background-color: #f0f8ff;border: 1px dotted black;border-radius: 0.25em;box-sizing: border-box;margin-bottom: 0.5em;}#sk-87cb4a5b-698e-4217-8d7f-f36b361893b6 div.sk-estimator:hover {background-color: #d4ebff;}#sk-87cb4a5b-698e-4217-8d7f-f36b361893b6 div.sk-parallel-item::after {content: \"\";width: 100%;border-bottom: 1px solid gray;flex-grow: 1;}#sk-87cb4a5b-698e-4217-8d7f-f36b361893b6 div.sk-label:hover label.sk-toggleable__label {background-color: #d4ebff;}#sk-87cb4a5b-698e-4217-8d7f-f36b361893b6 div.sk-serial::before {content: \"\";position: absolute;border-left: 1px solid gray;box-sizing: border-box;top: 2em;bottom: 0;left: 50%;}#sk-87cb4a5b-698e-4217-8d7f-f36b361893b6 div.sk-serial {display: flex;flex-direction: column;align-items: center;background-color: white;padding-right: 0.2em;padding-left: 0.2em;}#sk-87cb4a5b-698e-4217-8d7f-f36b361893b6 div.sk-item {z-index: 1;}#sk-87cb4a5b-698e-4217-8d7f-f36b361893b6 div.sk-parallel {display: flex;align-items: stretch;justify-content: center;background-color: white;}#sk-87cb4a5b-698e-4217-8d7f-f36b361893b6 div.sk-parallel::before {content: \"\";position: absolute;border-left: 1px solid gray;box-sizing: border-box;top: 2em;bottom: 0;left: 50%;}#sk-87cb4a5b-698e-4217-8d7f-f36b361893b6 div.sk-parallel-item {display: flex;flex-direction: column;position: relative;background-color: white;}#sk-87cb4a5b-698e-4217-8d7f-f36b361893b6 div.sk-parallel-item:first-child::after {align-self: flex-end;width: 50%;}#sk-87cb4a5b-698e-4217-8d7f-f36b361893b6 div.sk-parallel-item:last-child::after {align-self: flex-start;width: 50%;}#sk-87cb4a5b-698e-4217-8d7f-f36b361893b6 div.sk-parallel-item:only-child::after {width: 0;}#sk-87cb4a5b-698e-4217-8d7f-f36b361893b6 div.sk-dashed-wrapped {border: 1px dashed gray;margin: 0 0.4em 0.5em 0.4em;box-sizing: border-box;padding-bottom: 0.4em;background-color: white;position: relative;}#sk-87cb4a5b-698e-4217-8d7f-f36b361893b6 div.sk-label label {font-family: monospace;font-weight: bold;background-color: white;display: inline-block;line-height: 1.2em;}#sk-87cb4a5b-698e-4217-8d7f-f36b361893b6 div.sk-label-container {position: relative;z-index: 2;text-align: center;}#sk-87cb4a5b-698e-4217-8d7f-f36b361893b6 div.sk-container {/* jupyter's `normalize.less` sets `[hidden] { display: none; }` but bootstrap.min.css set `[hidden] { display: none !important; }` so we also need the `!important` here to be able to override the default hidden behavior on the sphinx rendered scikit-learn.org. See: https://github.com/scikit-learn/scikit-learn/issues/21755 */display: inline-block !important;position: relative;}#sk-87cb4a5b-698e-4217-8d7f-f36b361893b6 div.sk-text-repr-fallback {display: none;}</style><div id=\"sk-87cb4a5b-698e-4217-8d7f-f36b361893b6\" class=\"sk-top-container\"><div class=\"sk-text-repr-fallback\"><pre>Pipeline(steps=[(&#x27;columntransformer&#x27;,\n",
       "                 ColumnTransformer(transformers=[(&#x27;categorical&#x27;,\n",
       "                                                  Pipeline(steps=[(&#x27;imputation_mean&#x27;,\n",
       "                                                                   SimpleImputer(fill_value=&#x27;missing&#x27;,\n",
       "                                                                                 strategy=&#x27;constant&#x27;)),\n",
       "                                                                  (&#x27;onehot&#x27;,\n",
       "                                                                   OneHotEncoder(handle_unknown=&#x27;ignore&#x27;))]),\n",
       "                                                  Index([&#x27;Gender&#x27;, &#x27;Age&#x27;, &#x27;City_Category&#x27;, &#x27;Stay_In_Current_City_Years&#x27;], dtype=&#x27;object&#x27;)),\n",
       "                                                 (&#x27;numerical&#x27;,\n",
       "                                                  Pipeline(steps=[(&#x27;imputation_mode&#x27;,\n",
       "                                                                   SimpleImputer(strategy=&#x27;most_frequent&#x27;)),\n",
       "                                                                  (&#x27;standard_scaler&#x27;,\n",
       "                                                                   StandardScaler())]),\n",
       "                                                  Index([&#x27;Occupation&#x27;, &#x27;Marital_Status&#x27;, &#x27;Product_Category_1&#x27;,\n",
       "       &#x27;Product_Category_2&#x27;, &#x27;Product_Category_3&#x27;],\n",
       "      dtype=&#x27;object&#x27;))])),\n",
       "                (&#x27;randomforestregressor&#x27;,\n",
       "                 RandomForestRegressor(random_state=0))])</pre><b>Please rerun this cell to show the HTML repr or trust the notebook.</b></div><div class=\"sk-container\" hidden><div class=\"sk-item sk-dashed-wrapped\"><div class=\"sk-label-container\"><div class=\"sk-label sk-toggleable\"><input class=\"sk-toggleable__control sk-hidden--visually\" id=\"6345d443-7fe1-410d-b8de-121aea80a15b\" type=\"checkbox\" ><label for=\"6345d443-7fe1-410d-b8de-121aea80a15b\" class=\"sk-toggleable__label sk-toggleable__label-arrow\">Pipeline</label><div class=\"sk-toggleable__content\"><pre>Pipeline(steps=[(&#x27;columntransformer&#x27;,\n",
       "                 ColumnTransformer(transformers=[(&#x27;categorical&#x27;,\n",
       "                                                  Pipeline(steps=[(&#x27;imputation_mean&#x27;,\n",
       "                                                                   SimpleImputer(fill_value=&#x27;missing&#x27;,\n",
       "                                                                                 strategy=&#x27;constant&#x27;)),\n",
       "                                                                  (&#x27;onehot&#x27;,\n",
       "                                                                   OneHotEncoder(handle_unknown=&#x27;ignore&#x27;))]),\n",
       "                                                  Index([&#x27;Gender&#x27;, &#x27;Age&#x27;, &#x27;City_Category&#x27;, &#x27;Stay_In_Current_City_Years&#x27;], dtype=&#x27;object&#x27;)),\n",
       "                                                 (&#x27;numerical&#x27;,\n",
       "                                                  Pipeline(steps=[(&#x27;imputation_mode&#x27;,\n",
       "                                                                   SimpleImputer(strategy=&#x27;most_frequent&#x27;)),\n",
       "                                                                  (&#x27;standard_scaler&#x27;,\n",
       "                                                                   StandardScaler())]),\n",
       "                                                  Index([&#x27;Occupation&#x27;, &#x27;Marital_Status&#x27;, &#x27;Product_Category_1&#x27;,\n",
       "       &#x27;Product_Category_2&#x27;, &#x27;Product_Category_3&#x27;],\n",
       "      dtype=&#x27;object&#x27;))])),\n",
       "                (&#x27;randomforestregressor&#x27;,\n",
       "                 RandomForestRegressor(random_state=0))])</pre></div></div></div><div class=\"sk-serial\"><div class=\"sk-item sk-dashed-wrapped\"><div class=\"sk-label-container\"><div class=\"sk-label sk-toggleable\"><input class=\"sk-toggleable__control sk-hidden--visually\" id=\"a1d40d18-b005-46a6-995a-894a25b20ffb\" type=\"checkbox\" ><label for=\"a1d40d18-b005-46a6-995a-894a25b20ffb\" class=\"sk-toggleable__label sk-toggleable__label-arrow\">columntransformer: ColumnTransformer</label><div class=\"sk-toggleable__content\"><pre>ColumnTransformer(transformers=[(&#x27;categorical&#x27;,\n",
       "                                 Pipeline(steps=[(&#x27;imputation_mean&#x27;,\n",
       "                                                  SimpleImputer(fill_value=&#x27;missing&#x27;,\n",
       "                                                                strategy=&#x27;constant&#x27;)),\n",
       "                                                 (&#x27;onehot&#x27;,\n",
       "                                                  OneHotEncoder(handle_unknown=&#x27;ignore&#x27;))]),\n",
       "                                 Index([&#x27;Gender&#x27;, &#x27;Age&#x27;, &#x27;City_Category&#x27;, &#x27;Stay_In_Current_City_Years&#x27;], dtype=&#x27;object&#x27;)),\n",
       "                                (&#x27;numerical&#x27;,\n",
       "                                 Pipeline(steps=[(&#x27;imputation_mode&#x27;,\n",
       "                                                  SimpleImputer(strategy=&#x27;most_frequent&#x27;)),\n",
       "                                                 (&#x27;standard_scaler&#x27;,\n",
       "                                                  StandardScaler())]),\n",
       "                                 Index([&#x27;Occupation&#x27;, &#x27;Marital_Status&#x27;, &#x27;Product_Category_1&#x27;,\n",
       "       &#x27;Product_Category_2&#x27;, &#x27;Product_Category_3&#x27;],\n",
       "      dtype=&#x27;object&#x27;))])</pre></div></div></div><div class=\"sk-parallel\"><div class=\"sk-parallel-item\"><div class=\"sk-item\"><div class=\"sk-label-container\"><div class=\"sk-label sk-toggleable\"><input class=\"sk-toggleable__control sk-hidden--visually\" id=\"dc020d3c-454a-4740-9982-2fc25a5ccd18\" type=\"checkbox\" ><label for=\"dc020d3c-454a-4740-9982-2fc25a5ccd18\" class=\"sk-toggleable__label sk-toggleable__label-arrow\">categorical</label><div class=\"sk-toggleable__content\"><pre>Index([&#x27;Gender&#x27;, &#x27;Age&#x27;, &#x27;City_Category&#x27;, &#x27;Stay_In_Current_City_Years&#x27;], dtype=&#x27;object&#x27;)</pre></div></div></div><div class=\"sk-serial\"><div class=\"sk-item\"><div class=\"sk-serial\"><div class=\"sk-item\"><div class=\"sk-estimator sk-toggleable\"><input class=\"sk-toggleable__control sk-hidden--visually\" id=\"8c740a3d-206c-4519-a7d1-8e29bb79f415\" type=\"checkbox\" ><label for=\"8c740a3d-206c-4519-a7d1-8e29bb79f415\" class=\"sk-toggleable__label sk-toggleable__label-arrow\">SimpleImputer</label><div class=\"sk-toggleable__content\"><pre>SimpleImputer(fill_value=&#x27;missing&#x27;, strategy=&#x27;constant&#x27;)</pre></div></div></div><div class=\"sk-item\"><div class=\"sk-estimator sk-toggleable\"><input class=\"sk-toggleable__control sk-hidden--visually\" id=\"c2f77b20-4f50-4ea0-9024-9237bee6966e\" type=\"checkbox\" ><label for=\"c2f77b20-4f50-4ea0-9024-9237bee6966e\" class=\"sk-toggleable__label sk-toggleable__label-arrow\">OneHotEncoder</label><div class=\"sk-toggleable__content\"><pre>OneHotEncoder(handle_unknown=&#x27;ignore&#x27;)</pre></div></div></div></div></div></div></div></div><div class=\"sk-parallel-item\"><div class=\"sk-item\"><div class=\"sk-label-container\"><div class=\"sk-label sk-toggleable\"><input class=\"sk-toggleable__control sk-hidden--visually\" id=\"cb560fb0-1f1e-4c9b-81d0-d6d62a78fd3e\" type=\"checkbox\" ><label for=\"cb560fb0-1f1e-4c9b-81d0-d6d62a78fd3e\" class=\"sk-toggleable__label sk-toggleable__label-arrow\">numerical</label><div class=\"sk-toggleable__content\"><pre>Index([&#x27;Occupation&#x27;, &#x27;Marital_Status&#x27;, &#x27;Product_Category_1&#x27;,\n",
       "       &#x27;Product_Category_2&#x27;, &#x27;Product_Category_3&#x27;],\n",
       "      dtype=&#x27;object&#x27;)</pre></div></div></div><div class=\"sk-serial\"><div class=\"sk-item\"><div class=\"sk-serial\"><div class=\"sk-item\"><div class=\"sk-estimator sk-toggleable\"><input class=\"sk-toggleable__control sk-hidden--visually\" id=\"5e53bf21-d016-404a-ab63-e69c097049d7\" type=\"checkbox\" ><label for=\"5e53bf21-d016-404a-ab63-e69c097049d7\" class=\"sk-toggleable__label sk-toggleable__label-arrow\">SimpleImputer</label><div class=\"sk-toggleable__content\"><pre>SimpleImputer(strategy=&#x27;most_frequent&#x27;)</pre></div></div></div><div class=\"sk-item\"><div class=\"sk-estimator sk-toggleable\"><input class=\"sk-toggleable__control sk-hidden--visually\" id=\"6b7a2d31-1534-45a8-95d5-ce48cf0e615a\" type=\"checkbox\" ><label for=\"6b7a2d31-1534-45a8-95d5-ce48cf0e615a\" class=\"sk-toggleable__label sk-toggleable__label-arrow\">StandardScaler</label><div class=\"sk-toggleable__content\"><pre>StandardScaler()</pre></div></div></div></div></div></div></div></div></div></div><div class=\"sk-item\"><div class=\"sk-estimator sk-toggleable\"><input class=\"sk-toggleable__control sk-hidden--visually\" id=\"dcf4f5ef-655b-4e13-a6bb-6f9796d53a31\" type=\"checkbox\" ><label for=\"dcf4f5ef-655b-4e13-a6bb-6f9796d53a31\" class=\"sk-toggleable__label sk-toggleable__label-arrow\">RandomForestRegressor</label><div class=\"sk-toggleable__content\"><pre>RandomForestRegressor(random_state=0)</pre></div></div></div></div></div></div></div>"
      ],
      "text/plain": [
       "Pipeline(steps=[('columntransformer',\n",
       "                 ColumnTransformer(transformers=[('categorical',\n",
       "                                                  Pipeline(steps=[('imputation_mean',\n",
       "                                                                   SimpleImputer(fill_value='missing',\n",
       "                                                                                 strategy='constant')),\n",
       "                                                                  ('onehot',\n",
       "                                                                   OneHotEncoder(handle_unknown='ignore'))]),\n",
       "                                                  Index(['Gender', 'Age', 'City_Category', 'Stay_In_Current_City_Years'], dtype='object')),\n",
       "                                                 ('numerical',\n",
       "                                                  Pipeline(steps=[('imputation_mode',\n",
       "                                                                   SimpleImputer(strategy='most_frequent')),\n",
       "                                                                  ('standard_scaler',\n",
       "                                                                   StandardScaler())]),\n",
       "                                                  Index(['Occupation', 'Marital_Status', 'Product_Category_1',\n",
       "       'Product_Category_2', 'Product_Category_3'],\n",
       "      dtype='object'))])),\n",
       "                ('randomforestregressor',\n",
       "                 RandomForestRegressor(random_state=0))])"
      ]
     },
     "execution_count": 118,
     "metadata": {},
     "output_type": "execute_result"
    }
   ],
   "source": [
    "rf.fit(X_train,y_train)"
   ]
  },
  {
   "cell_type": "code",
   "execution_count": 119,
   "id": "7e763819",
   "metadata": {},
   "outputs": [],
   "source": [
    "y_pred_rf=rf.predict(X_test)"
   ]
  },
  {
   "cell_type": "code",
   "execution_count": 120,
   "id": "111e32d4",
   "metadata": {},
   "outputs": [
    {
     "data": {
      "text/plain": [
       "2222.0603014689486"
      ]
     },
     "execution_count": 120,
     "metadata": {},
     "output_type": "execute_result"
    }
   ],
   "source": [
    "mean_absolute_error(y_test, y_pred_rf)"
   ]
  },
  {
   "cell_type": "code",
   "execution_count": 121,
   "id": "50136e90",
   "metadata": {},
   "outputs": [
    {
     "data": {
      "text/plain": [
       "9313181.371922247"
      ]
     },
     "execution_count": 121,
     "metadata": {},
     "output_type": "execute_result"
    }
   ],
   "source": [
    "mean_squared_error(y_test, y_pred_rf)"
   ]
  },
  {
   "cell_type": "code",
   "execution_count": 122,
   "id": "3e3e562e",
   "metadata": {},
   "outputs": [
    {
     "data": {
      "text/plain": [
       "0.6304626744996233"
      ]
     },
     "execution_count": 122,
     "metadata": {},
     "output_type": "execute_result"
    }
   ],
   "source": [
    "r2_score(y_test, y_pred_rf)"
   ]
  },
  {
   "cell_type": "code",
   "execution_count": 123,
   "id": "16300327",
   "metadata": {},
   "outputs": [
    {
     "name": "stdout",
     "output_type": "stream",
     "text": [
      "RMSE of Random Forest Regressor Model is  3051.7505422170807\n"
     ]
    }
   ],
   "source": [
    "from math import sqrt\n",
    "print(\"RMSE of Random Forest Regressor Model is \",sqrt(mean_squared_error(y_test, y_pred_rf)))"
   ]
  },
  {
   "cell_type": "markdown",
   "id": "563187eb",
   "metadata": {},
   "source": [
    "### XGBoost Regressor"
   ]
  },
  {
   "cell_type": "code",
   "execution_count": 124,
   "id": "229bbf56",
   "metadata": {},
   "outputs": [
    {
     "data": {
      "text/html": [
       "<style>#sk-119d8481-f604-49b0-9ff7-1fcd00c0eaee {color: black;background-color: white;}#sk-119d8481-f604-49b0-9ff7-1fcd00c0eaee pre{padding: 0;}#sk-119d8481-f604-49b0-9ff7-1fcd00c0eaee div.sk-toggleable {background-color: white;}#sk-119d8481-f604-49b0-9ff7-1fcd00c0eaee label.sk-toggleable__label {cursor: pointer;display: block;width: 100%;margin-bottom: 0;padding: 0.3em;box-sizing: border-box;text-align: center;}#sk-119d8481-f604-49b0-9ff7-1fcd00c0eaee label.sk-toggleable__label-arrow:before {content: \"▸\";float: left;margin-right: 0.25em;color: #696969;}#sk-119d8481-f604-49b0-9ff7-1fcd00c0eaee label.sk-toggleable__label-arrow:hover:before {color: black;}#sk-119d8481-f604-49b0-9ff7-1fcd00c0eaee div.sk-estimator:hover label.sk-toggleable__label-arrow:before {color: black;}#sk-119d8481-f604-49b0-9ff7-1fcd00c0eaee div.sk-toggleable__content {max-height: 0;max-width: 0;overflow: hidden;text-align: left;background-color: #f0f8ff;}#sk-119d8481-f604-49b0-9ff7-1fcd00c0eaee div.sk-toggleable__content pre {margin: 0.2em;color: black;border-radius: 0.25em;background-color: #f0f8ff;}#sk-119d8481-f604-49b0-9ff7-1fcd00c0eaee input.sk-toggleable__control:checked~div.sk-toggleable__content {max-height: 200px;max-width: 100%;overflow: auto;}#sk-119d8481-f604-49b0-9ff7-1fcd00c0eaee input.sk-toggleable__control:checked~label.sk-toggleable__label-arrow:before {content: \"▾\";}#sk-119d8481-f604-49b0-9ff7-1fcd00c0eaee div.sk-estimator input.sk-toggleable__control:checked~label.sk-toggleable__label {background-color: #d4ebff;}#sk-119d8481-f604-49b0-9ff7-1fcd00c0eaee div.sk-label input.sk-toggleable__control:checked~label.sk-toggleable__label {background-color: #d4ebff;}#sk-119d8481-f604-49b0-9ff7-1fcd00c0eaee input.sk-hidden--visually {border: 0;clip: rect(1px 1px 1px 1px);clip: rect(1px, 1px, 1px, 1px);height: 1px;margin: -1px;overflow: hidden;padding: 0;position: absolute;width: 1px;}#sk-119d8481-f604-49b0-9ff7-1fcd00c0eaee div.sk-estimator {font-family: monospace;background-color: #f0f8ff;border: 1px dotted black;border-radius: 0.25em;box-sizing: border-box;margin-bottom: 0.5em;}#sk-119d8481-f604-49b0-9ff7-1fcd00c0eaee div.sk-estimator:hover {background-color: #d4ebff;}#sk-119d8481-f604-49b0-9ff7-1fcd00c0eaee div.sk-parallel-item::after {content: \"\";width: 100%;border-bottom: 1px solid gray;flex-grow: 1;}#sk-119d8481-f604-49b0-9ff7-1fcd00c0eaee div.sk-label:hover label.sk-toggleable__label {background-color: #d4ebff;}#sk-119d8481-f604-49b0-9ff7-1fcd00c0eaee div.sk-serial::before {content: \"\";position: absolute;border-left: 1px solid gray;box-sizing: border-box;top: 2em;bottom: 0;left: 50%;}#sk-119d8481-f604-49b0-9ff7-1fcd00c0eaee div.sk-serial {display: flex;flex-direction: column;align-items: center;background-color: white;padding-right: 0.2em;padding-left: 0.2em;}#sk-119d8481-f604-49b0-9ff7-1fcd00c0eaee div.sk-item {z-index: 1;}#sk-119d8481-f604-49b0-9ff7-1fcd00c0eaee div.sk-parallel {display: flex;align-items: stretch;justify-content: center;background-color: white;}#sk-119d8481-f604-49b0-9ff7-1fcd00c0eaee div.sk-parallel::before {content: \"\";position: absolute;border-left: 1px solid gray;box-sizing: border-box;top: 2em;bottom: 0;left: 50%;}#sk-119d8481-f604-49b0-9ff7-1fcd00c0eaee div.sk-parallel-item {display: flex;flex-direction: column;position: relative;background-color: white;}#sk-119d8481-f604-49b0-9ff7-1fcd00c0eaee div.sk-parallel-item:first-child::after {align-self: flex-end;width: 50%;}#sk-119d8481-f604-49b0-9ff7-1fcd00c0eaee div.sk-parallel-item:last-child::after {align-self: flex-start;width: 50%;}#sk-119d8481-f604-49b0-9ff7-1fcd00c0eaee div.sk-parallel-item:only-child::after {width: 0;}#sk-119d8481-f604-49b0-9ff7-1fcd00c0eaee div.sk-dashed-wrapped {border: 1px dashed gray;margin: 0 0.4em 0.5em 0.4em;box-sizing: border-box;padding-bottom: 0.4em;background-color: white;position: relative;}#sk-119d8481-f604-49b0-9ff7-1fcd00c0eaee div.sk-label label {font-family: monospace;font-weight: bold;background-color: white;display: inline-block;line-height: 1.2em;}#sk-119d8481-f604-49b0-9ff7-1fcd00c0eaee div.sk-label-container {position: relative;z-index: 2;text-align: center;}#sk-119d8481-f604-49b0-9ff7-1fcd00c0eaee div.sk-container {/* jupyter's `normalize.less` sets `[hidden] { display: none; }` but bootstrap.min.css set `[hidden] { display: none !important; }` so we also need the `!important` here to be able to override the default hidden behavior on the sphinx rendered scikit-learn.org. See: https://github.com/scikit-learn/scikit-learn/issues/21755 */display: inline-block !important;position: relative;}#sk-119d8481-f604-49b0-9ff7-1fcd00c0eaee div.sk-text-repr-fallback {display: none;}</style><div id=\"sk-119d8481-f604-49b0-9ff7-1fcd00c0eaee\" class=\"sk-top-container\"><div class=\"sk-text-repr-fallback\"><pre>Pipeline(steps=[(&#x27;columntransformer&#x27;,\n",
       "                 ColumnTransformer(transformers=[(&#x27;categorical&#x27;,\n",
       "                                                  Pipeline(steps=[(&#x27;imputation_mean&#x27;,\n",
       "                                                                   SimpleImputer(fill_value=&#x27;missing&#x27;,\n",
       "                                                                                 strategy=&#x27;constant&#x27;)),\n",
       "                                                                  (&#x27;onehot&#x27;,\n",
       "                                                                   OneHotEncoder(handle_unknown=&#x27;ignore&#x27;))]),\n",
       "                                                  Index([&#x27;Gender&#x27;, &#x27;Age&#x27;, &#x27;City_Category&#x27;, &#x27;Stay_In_Current_City_Years&#x27;], dtype=&#x27;object&#x27;)),\n",
       "                                                 (&#x27;numerical&#x27;,\n",
       "                                                  Pipeline(steps=[(&#x27;imputa...\n",
       "                              feature_types=None, gamma=None, gpu_id=None,\n",
       "                              grow_policy=None, importance_type=None,\n",
       "                              interaction_constraints=None, learning_rate=1.0,\n",
       "                              max_bin=None, max_cat_threshold=None,\n",
       "                              max_cat_to_onehot=None, max_delta_step=None,\n",
       "                              max_depth=6, max_leaves=None, min_child_weight=40,\n",
       "                              missing=nan, monotone_constraints=None,\n",
       "                              n_estimators=100, n_jobs=None,\n",
       "                              num_parallel_tree=None, predictor=None,\n",
       "                              random_state=None, ...))])</pre><b>Please rerun this cell to show the HTML repr or trust the notebook.</b></div><div class=\"sk-container\" hidden><div class=\"sk-item sk-dashed-wrapped\"><div class=\"sk-label-container\"><div class=\"sk-label sk-toggleable\"><input class=\"sk-toggleable__control sk-hidden--visually\" id=\"15aa4440-1e5b-4524-8708-8f61e30374d5\" type=\"checkbox\" ><label for=\"15aa4440-1e5b-4524-8708-8f61e30374d5\" class=\"sk-toggleable__label sk-toggleable__label-arrow\">Pipeline</label><div class=\"sk-toggleable__content\"><pre>Pipeline(steps=[(&#x27;columntransformer&#x27;,\n",
       "                 ColumnTransformer(transformers=[(&#x27;categorical&#x27;,\n",
       "                                                  Pipeline(steps=[(&#x27;imputation_mean&#x27;,\n",
       "                                                                   SimpleImputer(fill_value=&#x27;missing&#x27;,\n",
       "                                                                                 strategy=&#x27;constant&#x27;)),\n",
       "                                                                  (&#x27;onehot&#x27;,\n",
       "                                                                   OneHotEncoder(handle_unknown=&#x27;ignore&#x27;))]),\n",
       "                                                  Index([&#x27;Gender&#x27;, &#x27;Age&#x27;, &#x27;City_Category&#x27;, &#x27;Stay_In_Current_City_Years&#x27;], dtype=&#x27;object&#x27;)),\n",
       "                                                 (&#x27;numerical&#x27;,\n",
       "                                                  Pipeline(steps=[(&#x27;imputa...\n",
       "                              feature_types=None, gamma=None, gpu_id=None,\n",
       "                              grow_policy=None, importance_type=None,\n",
       "                              interaction_constraints=None, learning_rate=1.0,\n",
       "                              max_bin=None, max_cat_threshold=None,\n",
       "                              max_cat_to_onehot=None, max_delta_step=None,\n",
       "                              max_depth=6, max_leaves=None, min_child_weight=40,\n",
       "                              missing=nan, monotone_constraints=None,\n",
       "                              n_estimators=100, n_jobs=None,\n",
       "                              num_parallel_tree=None, predictor=None,\n",
       "                              random_state=None, ...))])</pre></div></div></div><div class=\"sk-serial\"><div class=\"sk-item sk-dashed-wrapped\"><div class=\"sk-label-container\"><div class=\"sk-label sk-toggleable\"><input class=\"sk-toggleable__control sk-hidden--visually\" id=\"4e1ef09b-2021-40b6-a5dd-9bc241ab933b\" type=\"checkbox\" ><label for=\"4e1ef09b-2021-40b6-a5dd-9bc241ab933b\" class=\"sk-toggleable__label sk-toggleable__label-arrow\">columntransformer: ColumnTransformer</label><div class=\"sk-toggleable__content\"><pre>ColumnTransformer(transformers=[(&#x27;categorical&#x27;,\n",
       "                                 Pipeline(steps=[(&#x27;imputation_mean&#x27;,\n",
       "                                                  SimpleImputer(fill_value=&#x27;missing&#x27;,\n",
       "                                                                strategy=&#x27;constant&#x27;)),\n",
       "                                                 (&#x27;onehot&#x27;,\n",
       "                                                  OneHotEncoder(handle_unknown=&#x27;ignore&#x27;))]),\n",
       "                                 Index([&#x27;Gender&#x27;, &#x27;Age&#x27;, &#x27;City_Category&#x27;, &#x27;Stay_In_Current_City_Years&#x27;], dtype=&#x27;object&#x27;)),\n",
       "                                (&#x27;numerical&#x27;,\n",
       "                                 Pipeline(steps=[(&#x27;imputation_mode&#x27;,\n",
       "                                                  SimpleImputer(strategy=&#x27;most_frequent&#x27;)),\n",
       "                                                 (&#x27;standard_scaler&#x27;,\n",
       "                                                  StandardScaler())]),\n",
       "                                 Index([&#x27;Occupation&#x27;, &#x27;Marital_Status&#x27;, &#x27;Product_Category_1&#x27;,\n",
       "       &#x27;Product_Category_2&#x27;, &#x27;Product_Category_3&#x27;],\n",
       "      dtype=&#x27;object&#x27;))])</pre></div></div></div><div class=\"sk-parallel\"><div class=\"sk-parallel-item\"><div class=\"sk-item\"><div class=\"sk-label-container\"><div class=\"sk-label sk-toggleable\"><input class=\"sk-toggleable__control sk-hidden--visually\" id=\"bf3f8da3-a8c7-4fb5-8358-342829f04289\" type=\"checkbox\" ><label for=\"bf3f8da3-a8c7-4fb5-8358-342829f04289\" class=\"sk-toggleable__label sk-toggleable__label-arrow\">categorical</label><div class=\"sk-toggleable__content\"><pre>Index([&#x27;Gender&#x27;, &#x27;Age&#x27;, &#x27;City_Category&#x27;, &#x27;Stay_In_Current_City_Years&#x27;], dtype=&#x27;object&#x27;)</pre></div></div></div><div class=\"sk-serial\"><div class=\"sk-item\"><div class=\"sk-serial\"><div class=\"sk-item\"><div class=\"sk-estimator sk-toggleable\"><input class=\"sk-toggleable__control sk-hidden--visually\" id=\"f0c644a0-72c6-416d-bfdb-bc79e18d5665\" type=\"checkbox\" ><label for=\"f0c644a0-72c6-416d-bfdb-bc79e18d5665\" class=\"sk-toggleable__label sk-toggleable__label-arrow\">SimpleImputer</label><div class=\"sk-toggleable__content\"><pre>SimpleImputer(fill_value=&#x27;missing&#x27;, strategy=&#x27;constant&#x27;)</pre></div></div></div><div class=\"sk-item\"><div class=\"sk-estimator sk-toggleable\"><input class=\"sk-toggleable__control sk-hidden--visually\" id=\"bff0662f-8d54-4d03-aa44-26635a0b0f88\" type=\"checkbox\" ><label for=\"bff0662f-8d54-4d03-aa44-26635a0b0f88\" class=\"sk-toggleable__label sk-toggleable__label-arrow\">OneHotEncoder</label><div class=\"sk-toggleable__content\"><pre>OneHotEncoder(handle_unknown=&#x27;ignore&#x27;)</pre></div></div></div></div></div></div></div></div><div class=\"sk-parallel-item\"><div class=\"sk-item\"><div class=\"sk-label-container\"><div class=\"sk-label sk-toggleable\"><input class=\"sk-toggleable__control sk-hidden--visually\" id=\"bbac7c54-2a94-4aec-a4d2-b48551ece447\" type=\"checkbox\" ><label for=\"bbac7c54-2a94-4aec-a4d2-b48551ece447\" class=\"sk-toggleable__label sk-toggleable__label-arrow\">numerical</label><div class=\"sk-toggleable__content\"><pre>Index([&#x27;Occupation&#x27;, &#x27;Marital_Status&#x27;, &#x27;Product_Category_1&#x27;,\n",
       "       &#x27;Product_Category_2&#x27;, &#x27;Product_Category_3&#x27;],\n",
       "      dtype=&#x27;object&#x27;)</pre></div></div></div><div class=\"sk-serial\"><div class=\"sk-item\"><div class=\"sk-serial\"><div class=\"sk-item\"><div class=\"sk-estimator sk-toggleable\"><input class=\"sk-toggleable__control sk-hidden--visually\" id=\"5d864777-a0e6-4472-aed6-68e1349e3bc9\" type=\"checkbox\" ><label for=\"5d864777-a0e6-4472-aed6-68e1349e3bc9\" class=\"sk-toggleable__label sk-toggleable__label-arrow\">SimpleImputer</label><div class=\"sk-toggleable__content\"><pre>SimpleImputer(strategy=&#x27;most_frequent&#x27;)</pre></div></div></div><div class=\"sk-item\"><div class=\"sk-estimator sk-toggleable\"><input class=\"sk-toggleable__control sk-hidden--visually\" id=\"b2180944-62dd-48b1-bbef-5a9260a777f2\" type=\"checkbox\" ><label for=\"b2180944-62dd-48b1-bbef-5a9260a777f2\" class=\"sk-toggleable__label sk-toggleable__label-arrow\">StandardScaler</label><div class=\"sk-toggleable__content\"><pre>StandardScaler()</pre></div></div></div></div></div></div></div></div></div></div><div class=\"sk-item\"><div class=\"sk-estimator sk-toggleable\"><input class=\"sk-toggleable__control sk-hidden--visually\" id=\"43c31a82-c85d-4945-8d1e-5880b2f72dcf\" type=\"checkbox\" ><label for=\"43c31a82-c85d-4945-8d1e-5880b2f72dcf\" class=\"sk-toggleable__label sk-toggleable__label-arrow\">XGBRegressor</label><div class=\"sk-toggleable__content\"><pre>XGBRegressor(base_score=None, booster=None, callbacks=None,\n",
       "             colsample_bylevel=None, colsample_bynode=None,\n",
       "             colsample_bytree=None, early_stopping_rounds=None,\n",
       "             enable_categorical=False, eval_metric=None, feature_types=None,\n",
       "             gamma=None, gpu_id=None, grow_policy=None, importance_type=None,\n",
       "             interaction_constraints=None, learning_rate=1.0, max_bin=None,\n",
       "             max_cat_threshold=None, max_cat_to_onehot=None,\n",
       "             max_delta_step=None, max_depth=6, max_leaves=None,\n",
       "             min_child_weight=40, missing=nan, monotone_constraints=None,\n",
       "             n_estimators=100, n_jobs=None, num_parallel_tree=None,\n",
       "             predictor=None, random_state=None, ...)</pre></div></div></div></div></div></div></div>"
      ],
      "text/plain": [
       "Pipeline(steps=[('columntransformer',\n",
       "                 ColumnTransformer(transformers=[('categorical',\n",
       "                                                  Pipeline(steps=[('imputation_mean',\n",
       "                                                                   SimpleImputer(fill_value='missing',\n",
       "                                                                                 strategy='constant')),\n",
       "                                                                  ('onehot',\n",
       "                                                                   OneHotEncoder(handle_unknown='ignore'))]),\n",
       "                                                  Index(['Gender', 'Age', 'City_Category', 'Stay_In_Current_City_Years'], dtype='object')),\n",
       "                                                 ('numerical',\n",
       "                                                  Pipeline(steps=[('imputa...\n",
       "                              feature_types=None, gamma=None, gpu_id=None,\n",
       "                              grow_policy=None, importance_type=None,\n",
       "                              interaction_constraints=None, learning_rate=1.0,\n",
       "                              max_bin=None, max_cat_threshold=None,\n",
       "                              max_cat_to_onehot=None, max_delta_step=None,\n",
       "                              max_depth=6, max_leaves=None, min_child_weight=40,\n",
       "                              missing=nan, monotone_constraints=None,\n",
       "                              n_estimators=100, n_jobs=None,\n",
       "                              num_parallel_tree=None, predictor=None,\n",
       "                              random_state=None, ...))])"
      ]
     },
     "execution_count": 124,
     "metadata": {},
     "output_type": "execute_result"
    }
   ],
   "source": [
    "xgb=make_pipeline(preprocessor, XGBRegressor(learning_rate=1.0, max_depth=6, min_child_weight=40, seed=0))\n",
    "xgb"
   ]
  },
  {
   "cell_type": "code",
   "execution_count": 125,
   "id": "966851ed",
   "metadata": {},
   "outputs": [],
   "source": [
    "model=xgb.fit(X_train, y_train)"
   ]
  },
  {
   "cell_type": "code",
   "execution_count": 126,
   "id": "cb7b19c4",
   "metadata": {},
   "outputs": [],
   "source": [
    "y_pred_xgb=model.predict(X_test)"
   ]
  },
  {
   "cell_type": "code",
   "execution_count": 127,
   "id": "ff4fef90",
   "metadata": {},
   "outputs": [
    {
     "data": {
      "text/plain": [
       "2154.36370884106"
      ]
     },
     "execution_count": 127,
     "metadata": {},
     "output_type": "execute_result"
    }
   ],
   "source": [
    "mean_absolute_error(y_test, y_pred_xgb)"
   ]
  },
  {
   "cell_type": "code",
   "execution_count": 128,
   "id": "f97a2b25",
   "metadata": {},
   "outputs": [
    {
     "data": {
      "text/plain": [
       "8352447.859165689"
      ]
     },
     "execution_count": 128,
     "metadata": {},
     "output_type": "execute_result"
    }
   ],
   "source": [
    "mean_squared_error(y_test, y_pred_xgb)"
   ]
  },
  {
   "cell_type": "code",
   "execution_count": 129,
   "id": "c757f9d0",
   "metadata": {},
   "outputs": [
    {
     "data": {
      "text/plain": [
       "0.6685835784791153"
      ]
     },
     "execution_count": 129,
     "metadata": {},
     "output_type": "execute_result"
    }
   ],
   "source": [
    "r2_score(y_test, y_pred_xgb)"
   ]
  },
  {
   "cell_type": "code",
   "execution_count": 130,
   "id": "427cddf1",
   "metadata": {},
   "outputs": [
    {
     "name": "stdout",
     "output_type": "stream",
     "text": [
      "RMSE of XGBoost Regressor Model is  2890.0601826200245\n"
     ]
    }
   ],
   "source": [
    "from math import sqrt\n",
    "print(\"RMSE of XGBoost Regressor Model is \",sqrt(mean_squared_error(y_test, y_pred_xgb)))"
   ]
  },
  {
   "cell_type": "code",
   "execution_count": null,
   "id": "f34296a6",
   "metadata": {},
   "outputs": [],
   "source": []
  },
  {
   "cell_type": "markdown",
   "id": "b9fe9f63",
   "metadata": {},
   "source": [
    "The ML algorithm that perform the best was XGBoost Regressor Model with RMSE = 2890"
   ]
  },
  {
   "cell_type": "markdown",
   "id": "c0509c35",
   "metadata": {},
   "source": [
    "## Importing the Test Dataset"
   ]
  },
  {
   "cell_type": "code",
   "execution_count": 131,
   "id": "4cf3b311",
   "metadata": {},
   "outputs": [
    {
     "data": {
      "text/html": [
       "<div>\n",
       "<style scoped>\n",
       "    .dataframe tbody tr th:only-of-type {\n",
       "        vertical-align: middle;\n",
       "    }\n",
       "\n",
       "    .dataframe tbody tr th {\n",
       "        vertical-align: top;\n",
       "    }\n",
       "\n",
       "    .dataframe thead th {\n",
       "        text-align: right;\n",
       "    }\n",
       "</style>\n",
       "<table border=\"1\" class=\"dataframe\">\n",
       "  <thead>\n",
       "    <tr style=\"text-align: right;\">\n",
       "      <th></th>\n",
       "      <th>User_ID</th>\n",
       "      <th>Product_ID</th>\n",
       "      <th>Gender</th>\n",
       "      <th>Age</th>\n",
       "      <th>Occupation</th>\n",
       "      <th>City_Category</th>\n",
       "      <th>Stay_In_Current_City_Years</th>\n",
       "      <th>Marital_Status</th>\n",
       "      <th>Product_Category_1</th>\n",
       "      <th>Product_Category_2</th>\n",
       "      <th>Product_Category_3</th>\n",
       "    </tr>\n",
       "  </thead>\n",
       "  <tbody>\n",
       "    <tr>\n",
       "      <th>0</th>\n",
       "      <td>1000004</td>\n",
       "      <td>P00128942</td>\n",
       "      <td>M</td>\n",
       "      <td>46-50</td>\n",
       "      <td>7</td>\n",
       "      <td>B</td>\n",
       "      <td>2</td>\n",
       "      <td>1</td>\n",
       "      <td>1</td>\n",
       "      <td>11.0</td>\n",
       "      <td>NaN</td>\n",
       "    </tr>\n",
       "    <tr>\n",
       "      <th>1</th>\n",
       "      <td>1000009</td>\n",
       "      <td>P00113442</td>\n",
       "      <td>M</td>\n",
       "      <td>26-35</td>\n",
       "      <td>17</td>\n",
       "      <td>C</td>\n",
       "      <td>0</td>\n",
       "      <td>0</td>\n",
       "      <td>3</td>\n",
       "      <td>5.0</td>\n",
       "      <td>NaN</td>\n",
       "    </tr>\n",
       "    <tr>\n",
       "      <th>2</th>\n",
       "      <td>1000010</td>\n",
       "      <td>P00288442</td>\n",
       "      <td>F</td>\n",
       "      <td>36-45</td>\n",
       "      <td>1</td>\n",
       "      <td>B</td>\n",
       "      <td>4+</td>\n",
       "      <td>1</td>\n",
       "      <td>5</td>\n",
       "      <td>14.0</td>\n",
       "      <td>NaN</td>\n",
       "    </tr>\n",
       "    <tr>\n",
       "      <th>3</th>\n",
       "      <td>1000010</td>\n",
       "      <td>P00145342</td>\n",
       "      <td>F</td>\n",
       "      <td>36-45</td>\n",
       "      <td>1</td>\n",
       "      <td>B</td>\n",
       "      <td>4+</td>\n",
       "      <td>1</td>\n",
       "      <td>4</td>\n",
       "      <td>9.0</td>\n",
       "      <td>NaN</td>\n",
       "    </tr>\n",
       "    <tr>\n",
       "      <th>4</th>\n",
       "      <td>1000011</td>\n",
       "      <td>P00053842</td>\n",
       "      <td>F</td>\n",
       "      <td>26-35</td>\n",
       "      <td>1</td>\n",
       "      <td>C</td>\n",
       "      <td>1</td>\n",
       "      <td>0</td>\n",
       "      <td>4</td>\n",
       "      <td>5.0</td>\n",
       "      <td>12.0</td>\n",
       "    </tr>\n",
       "    <tr>\n",
       "      <th>...</th>\n",
       "      <td>...</td>\n",
       "      <td>...</td>\n",
       "      <td>...</td>\n",
       "      <td>...</td>\n",
       "      <td>...</td>\n",
       "      <td>...</td>\n",
       "      <td>...</td>\n",
       "      <td>...</td>\n",
       "      <td>...</td>\n",
       "      <td>...</td>\n",
       "      <td>...</td>\n",
       "    </tr>\n",
       "    <tr>\n",
       "      <th>233594</th>\n",
       "      <td>1006036</td>\n",
       "      <td>P00118942</td>\n",
       "      <td>F</td>\n",
       "      <td>26-35</td>\n",
       "      <td>15</td>\n",
       "      <td>B</td>\n",
       "      <td>4+</td>\n",
       "      <td>1</td>\n",
       "      <td>8</td>\n",
       "      <td>NaN</td>\n",
       "      <td>NaN</td>\n",
       "    </tr>\n",
       "    <tr>\n",
       "      <th>233595</th>\n",
       "      <td>1006036</td>\n",
       "      <td>P00254642</td>\n",
       "      <td>F</td>\n",
       "      <td>26-35</td>\n",
       "      <td>15</td>\n",
       "      <td>B</td>\n",
       "      <td>4+</td>\n",
       "      <td>1</td>\n",
       "      <td>5</td>\n",
       "      <td>8.0</td>\n",
       "      <td>NaN</td>\n",
       "    </tr>\n",
       "    <tr>\n",
       "      <th>233596</th>\n",
       "      <td>1006036</td>\n",
       "      <td>P00031842</td>\n",
       "      <td>F</td>\n",
       "      <td>26-35</td>\n",
       "      <td>15</td>\n",
       "      <td>B</td>\n",
       "      <td>4+</td>\n",
       "      <td>1</td>\n",
       "      <td>1</td>\n",
       "      <td>5.0</td>\n",
       "      <td>12.0</td>\n",
       "    </tr>\n",
       "    <tr>\n",
       "      <th>233597</th>\n",
       "      <td>1006037</td>\n",
       "      <td>P00124742</td>\n",
       "      <td>F</td>\n",
       "      <td>46-50</td>\n",
       "      <td>1</td>\n",
       "      <td>C</td>\n",
       "      <td>4+</td>\n",
       "      <td>0</td>\n",
       "      <td>10</td>\n",
       "      <td>16.0</td>\n",
       "      <td>NaN</td>\n",
       "    </tr>\n",
       "    <tr>\n",
       "      <th>233598</th>\n",
       "      <td>1006039</td>\n",
       "      <td>P00316642</td>\n",
       "      <td>F</td>\n",
       "      <td>46-50</td>\n",
       "      <td>0</td>\n",
       "      <td>B</td>\n",
       "      <td>4+</td>\n",
       "      <td>1</td>\n",
       "      <td>4</td>\n",
       "      <td>5.0</td>\n",
       "      <td>NaN</td>\n",
       "    </tr>\n",
       "  </tbody>\n",
       "</table>\n",
       "<p>233599 rows × 11 columns</p>\n",
       "</div>"
      ],
      "text/plain": [
       "        User_ID Product_ID Gender    Age  Occupation City_Category  \\\n",
       "0       1000004  P00128942      M  46-50           7             B   \n",
       "1       1000009  P00113442      M  26-35          17             C   \n",
       "2       1000010  P00288442      F  36-45           1             B   \n",
       "3       1000010  P00145342      F  36-45           1             B   \n",
       "4       1000011  P00053842      F  26-35           1             C   \n",
       "...         ...        ...    ...    ...         ...           ...   \n",
       "233594  1006036  P00118942      F  26-35          15             B   \n",
       "233595  1006036  P00254642      F  26-35          15             B   \n",
       "233596  1006036  P00031842      F  26-35          15             B   \n",
       "233597  1006037  P00124742      F  46-50           1             C   \n",
       "233598  1006039  P00316642      F  46-50           0             B   \n",
       "\n",
       "       Stay_In_Current_City_Years  Marital_Status  Product_Category_1  \\\n",
       "0                               2               1                   1   \n",
       "1                               0               0                   3   \n",
       "2                              4+               1                   5   \n",
       "3                              4+               1                   4   \n",
       "4                               1               0                   4   \n",
       "...                           ...             ...                 ...   \n",
       "233594                         4+               1                   8   \n",
       "233595                         4+               1                   5   \n",
       "233596                         4+               1                   1   \n",
       "233597                         4+               0                  10   \n",
       "233598                         4+               1                   4   \n",
       "\n",
       "        Product_Category_2  Product_Category_3  \n",
       "0                     11.0                 NaN  \n",
       "1                      5.0                 NaN  \n",
       "2                     14.0                 NaN  \n",
       "3                      9.0                 NaN  \n",
       "4                      5.0                12.0  \n",
       "...                    ...                 ...  \n",
       "233594                 NaN                 NaN  \n",
       "233595                 8.0                 NaN  \n",
       "233596                 5.0                12.0  \n",
       "233597                16.0                 NaN  \n",
       "233598                 5.0                 NaN  \n",
       "\n",
       "[233599 rows x 11 columns]"
      ]
     },
     "execution_count": 131,
     "metadata": {},
     "output_type": "execute_result"
    }
   ],
   "source": [
    "df_test=pd.read_csv(\"test.csv\")\n",
    "df_test"
   ]
  },
  {
   "cell_type": "code",
   "execution_count": 132,
   "id": "83ea8c6f",
   "metadata": {},
   "outputs": [
    {
     "data": {
      "text/plain": [
       "array([15166.357 , 11198.14  ,  7366.1855, ..., 12855.954 , 20992.107 ,\n",
       "        1308.834 ], dtype=float32)"
      ]
     },
     "execution_count": 132,
     "metadata": {},
     "output_type": "execute_result"
    }
   ],
   "source": [
    "model.predict(df_test)"
   ]
  }
 ],
 "metadata": {
  "kernelspec": {
   "display_name": "Python 3 (ipykernel)",
   "language": "python",
   "name": "python3"
  },
  "language_info": {
   "codemirror_mode": {
    "name": "ipython",
    "version": 3
   },
   "file_extension": ".py",
   "mimetype": "text/x-python",
   "name": "python",
   "nbconvert_exporter": "python",
   "pygments_lexer": "ipython3",
   "version": "3.9.12"
  }
 },
 "nbformat": 4,
 "nbformat_minor": 5
}
